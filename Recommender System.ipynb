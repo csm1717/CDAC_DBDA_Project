{
 "cells": [
  {
   "cell_type": "code",
   "execution_count": 11,
   "id": "d4ee8711",
   "metadata": {},
   "outputs": [],
   "source": [
    "import pymongo\n",
    "import pandas as pd\n",
    "from pymongo import MongoClient"
   ]
  },
  {
   "cell_type": "code",
   "execution_count": 2,
   "id": "d0445acf",
   "metadata": {},
   "outputs": [],
   "source": [
    "import warnings\n",
    "warnings.filterwarnings(\"ignore\")"
   ]
  },
  {
   "cell_type": "code",
   "execution_count": 12,
   "id": "cc1663a8",
   "metadata": {},
   "outputs": [
    {
     "name": "stdout",
     "output_type": "stream",
     "text": [
      "Database(MongoClient(host=['localhost:27017'], document_class=dict, tz_aware=False, connect=True), 'Yelp_Database')\n"
     ]
    }
   ],
   "source": [
    "client = MongoClient()\n",
    "\n",
    "#point the client at mongo URI\n",
    "client = MongoClient('mongodb://localhost:27017')\n",
    "#select database\n",
    "db = client['Yelp_Database']\n",
    "print(db)"
   ]
  },
  {
   "cell_type": "code",
   "execution_count": 13,
   "id": "c39c51f3",
   "metadata": {},
   "outputs": [],
   "source": [
    "import os\n",
    "import re\n",
    "import string\n",
    "\n",
    "import numpy as np\n",
    "import pandas as pd\n",
    "\n",
    "from nltk.tokenize import WordPunctTokenizer\n",
    "from nltk.corpus import stopwords\n",
    "from nltk.stem import SnowballStemmer\n",
    "\n",
    "from sklearn.feature_extraction.text import CountVectorizer"
   ]
  },
  {
   "cell_type": "code",
   "execution_count": 14,
   "id": "3f6979f8",
   "metadata": {},
   "outputs": [
    {
     "name": "stdout",
     "output_type": "stream",
     "text": [
      "Collection(Database(MongoClient(host=['localhost:27017'], document_class=dict, tz_aware=False, connect=True), 'Yelp_Database'), 'recommender_review_joined')\n"
     ]
    }
   ],
   "source": [
    "df_business = db['recommender_review_joined']\n",
    "print(df_business)"
   ]
  },
  {
   "cell_type": "code",
   "execution_count": 15,
   "id": "14268336",
   "metadata": {},
   "outputs": [
    {
     "name": "stdout",
     "output_type": "stream",
     "text": [
      "<pymongo.cursor.Cursor object at 0x7f47bec0eb80>\n"
     ]
    }
   ],
   "source": [
    "cursor = df_business.find()\n",
    "print(cursor)"
   ]
  },
  {
   "cell_type": "code",
   "execution_count": 16,
   "id": "bf859099",
   "metadata": {},
   "outputs": [],
   "source": [
    "def batched(cursor, batch_size):\n",
    "    batch = []\n",
    "    for doc in cursor:\n",
    "        batch.append(doc)\n",
    "        if batch and not len(batch) % batch_size:\n",
    "            yield batch\n",
    "            batch = []\n",
    "\n",
    "    if batch:   # last documents\n",
    "        yield batch\n",
    "\n",
    "df = pd.DataFrame()\n",
    "for batch in batched(cursor, 10000):\n",
    "    df = df.append(batch, ignore_index=True)"
   ]
  },
  {
   "cell_type": "code",
   "execution_count": 17,
   "id": "1045669a",
   "metadata": {},
   "outputs": [],
   "source": [
    "df_business = df"
   ]
  },
  {
   "cell_type": "code",
   "execution_count": 18,
   "id": "139ae4f9",
   "metadata": {},
   "outputs": [
    {
     "data": {
      "text/plain": [
       "0"
      ]
     },
     "execution_count": 18,
     "metadata": {},
     "output_type": "execute_result"
    }
   ],
   "source": [
    "df_business.isna().sum().sum()"
   ]
  },
  {
   "cell_type": "code",
   "execution_count": 19,
   "id": "6cf480b2",
   "metadata": {},
   "outputs": [
    {
     "data": {
      "text/plain": [
       "(792133, 12)"
      ]
     },
     "execution_count": 19,
     "metadata": {},
     "output_type": "execute_result"
    }
   ],
   "source": [
    "df_business.shape"
   ]
  },
  {
   "cell_type": "code",
   "execution_count": 20,
   "id": "0b9f1422",
   "metadata": {},
   "outputs": [
    {
     "data": {
      "text/plain": [
       "Index(['_id', 'business_id', 'categories', 'city', 'is_open', 'name',\n",
       "       'review_count', 'stars', 'state', 'business_id_rev', 'review_id',\n",
       "       'text'],\n",
       "      dtype='object')"
      ]
     },
     "execution_count": 20,
     "metadata": {},
     "output_type": "execute_result"
    }
   ],
   "source": [
    "df_business.columns"
   ]
  },
  {
   "cell_type": "code",
   "execution_count": 21,
   "id": "3ad451f8",
   "metadata": {},
   "outputs": [],
   "source": [
    "df_business = df_business.drop(['_id'], axis = 1)"
   ]
  },
  {
   "cell_type": "code",
   "execution_count": 22,
   "id": "977b1d69",
   "metadata": {},
   "outputs": [
    {
     "data": {
      "text/plain": [
       "8731"
      ]
     },
     "execution_count": 22,
     "metadata": {},
     "output_type": "execute_result"
    }
   ],
   "source": [
    "df_business['business_id'].nunique()"
   ]
  },
  {
   "cell_type": "code",
   "execution_count": 23,
   "id": "0c6ba245",
   "metadata": {},
   "outputs": [
    {
     "data": {
      "text/html": [
       "<div>\n",
       "<style scoped>\n",
       "    .dataframe tbody tr th:only-of-type {\n",
       "        vertical-align: middle;\n",
       "    }\n",
       "\n",
       "    .dataframe tbody tr th {\n",
       "        vertical-align: top;\n",
       "    }\n",
       "\n",
       "    .dataframe thead th {\n",
       "        text-align: right;\n",
       "    }\n",
       "</style>\n",
       "<table border=\"1\" class=\"dataframe\">\n",
       "  <thead>\n",
       "    <tr style=\"text-align: right;\">\n",
       "      <th></th>\n",
       "      <th>business_id</th>\n",
       "      <th>categories</th>\n",
       "      <th>city</th>\n",
       "      <th>is_open</th>\n",
       "      <th>name</th>\n",
       "      <th>review_count</th>\n",
       "      <th>stars</th>\n",
       "      <th>state</th>\n",
       "      <th>business_id_rev</th>\n",
       "      <th>review_id</th>\n",
       "      <th>text</th>\n",
       "    </tr>\n",
       "  </thead>\n",
       "  <tbody>\n",
       "    <tr>\n",
       "      <th>0</th>\n",
       "      <td>-3yc7i3bvTHv1Zig2rXrSg</td>\n",
       "      <td>Nightlife, Bars, Steakhouses, Restaurants</td>\n",
       "      <td>St. Petersburg</td>\n",
       "      <td>0</td>\n",
       "      <td>Max &amp; Sam's Bar and Grill</td>\n",
       "      <td>10</td>\n",
       "      <td>1</td>\n",
       "      <td>FL</td>\n",
       "      <td>-3yc7i3bvTHv1Zig2rXrSg</td>\n",
       "      <td>Bhxzfd6LBZ05mI4Z8WiLDg</td>\n",
       "      <td>I want to start off first by saying that this ...</td>\n",
       "    </tr>\n",
       "    <tr>\n",
       "      <th>1</th>\n",
       "      <td>-3yc7i3bvTHv1Zig2rXrSg</td>\n",
       "      <td>Nightlife, Bars, Steakhouses, Restaurants</td>\n",
       "      <td>St. Petersburg</td>\n",
       "      <td>0</td>\n",
       "      <td>Max &amp; Sam's Bar and Grill</td>\n",
       "      <td>10</td>\n",
       "      <td>1</td>\n",
       "      <td>FL</td>\n",
       "      <td>-3yc7i3bvTHv1Zig2rXrSg</td>\n",
       "      <td>qAGeowfbJXokBr62XGWOhQ</td>\n",
       "      <td>Food was good. The busboy was great. The owner...</td>\n",
       "    </tr>\n",
       "    <tr>\n",
       "      <th>2</th>\n",
       "      <td>-3yc7i3bvTHv1Zig2rXrSg</td>\n",
       "      <td>Nightlife, Bars, Steakhouses, Restaurants</td>\n",
       "      <td>St. Petersburg</td>\n",
       "      <td>0</td>\n",
       "      <td>Max &amp; Sam's Bar and Grill</td>\n",
       "      <td>10</td>\n",
       "      <td>1</td>\n",
       "      <td>FL</td>\n",
       "      <td>-3yc7i3bvTHv1Zig2rXrSg</td>\n",
       "      <td>YgDVUpLYjYabBNkgXCq_kg</td>\n",
       "      <td>So...they lost our reservation, or rather neve...</td>\n",
       "    </tr>\n",
       "    <tr>\n",
       "      <th>3</th>\n",
       "      <td>-3yc7i3bvTHv1Zig2rXrSg</td>\n",
       "      <td>Nightlife, Bars, Steakhouses, Restaurants</td>\n",
       "      <td>St. Petersburg</td>\n",
       "      <td>0</td>\n",
       "      <td>Max &amp; Sam's Bar and Grill</td>\n",
       "      <td>10</td>\n",
       "      <td>4</td>\n",
       "      <td>FL</td>\n",
       "      <td>-3yc7i3bvTHv1Zig2rXrSg</td>\n",
       "      <td>D69OBe_uS9Soaj0eUtNfyA</td>\n",
       "      <td>You like steak?  You will love Max and Sam's. ...</td>\n",
       "    </tr>\n",
       "    <tr>\n",
       "      <th>4</th>\n",
       "      <td>-3yc7i3bvTHv1Zig2rXrSg</td>\n",
       "      <td>Nightlife, Bars, Steakhouses, Restaurants</td>\n",
       "      <td>St. Petersburg</td>\n",
       "      <td>0</td>\n",
       "      <td>Max &amp; Sam's Bar and Grill</td>\n",
       "      <td>10</td>\n",
       "      <td>4</td>\n",
       "      <td>FL</td>\n",
       "      <td>-3yc7i3bvTHv1Zig2rXrSg</td>\n",
       "      <td>2K2GNz70FCLNOWMzRfICMw</td>\n",
       "      <td>Yummy steaks, friendly service, and two bars! ...</td>\n",
       "    </tr>\n",
       "  </tbody>\n",
       "</table>\n",
       "</div>"
      ],
      "text/plain": [
       "              business_id                                 categories  \\\n",
       "0  -3yc7i3bvTHv1Zig2rXrSg  Nightlife, Bars, Steakhouses, Restaurants   \n",
       "1  -3yc7i3bvTHv1Zig2rXrSg  Nightlife, Bars, Steakhouses, Restaurants   \n",
       "2  -3yc7i3bvTHv1Zig2rXrSg  Nightlife, Bars, Steakhouses, Restaurants   \n",
       "3  -3yc7i3bvTHv1Zig2rXrSg  Nightlife, Bars, Steakhouses, Restaurants   \n",
       "4  -3yc7i3bvTHv1Zig2rXrSg  Nightlife, Bars, Steakhouses, Restaurants   \n",
       "\n",
       "             city  is_open                       name  review_count  stars  \\\n",
       "0  St. Petersburg        0  Max & Sam's Bar and Grill            10      1   \n",
       "1  St. Petersburg        0  Max & Sam's Bar and Grill            10      1   \n",
       "2  St. Petersburg        0  Max & Sam's Bar and Grill            10      1   \n",
       "3  St. Petersburg        0  Max & Sam's Bar and Grill            10      4   \n",
       "4  St. Petersburg        0  Max & Sam's Bar and Grill            10      4   \n",
       "\n",
       "  state         business_id_rev               review_id  \\\n",
       "0    FL  -3yc7i3bvTHv1Zig2rXrSg  Bhxzfd6LBZ05mI4Z8WiLDg   \n",
       "1    FL  -3yc7i3bvTHv1Zig2rXrSg  qAGeowfbJXokBr62XGWOhQ   \n",
       "2    FL  -3yc7i3bvTHv1Zig2rXrSg  YgDVUpLYjYabBNkgXCq_kg   \n",
       "3    FL  -3yc7i3bvTHv1Zig2rXrSg  D69OBe_uS9Soaj0eUtNfyA   \n",
       "4    FL  -3yc7i3bvTHv1Zig2rXrSg  2K2GNz70FCLNOWMzRfICMw   \n",
       "\n",
       "                                                text  \n",
       "0  I want to start off first by saying that this ...  \n",
       "1  Food was good. The busboy was great. The owner...  \n",
       "2  So...they lost our reservation, or rather neve...  \n",
       "3  You like steak?  You will love Max and Sam's. ...  \n",
       "4  Yummy steaks, friendly service, and two bars! ...  "
      ]
     },
     "execution_count": 23,
     "metadata": {},
     "output_type": "execute_result"
    }
   ],
   "source": [
    "df_business.head()"
   ]
  },
  {
   "cell_type": "code",
   "execution_count": 24,
   "id": "d3b11407",
   "metadata": {},
   "outputs": [
    {
     "name": "stdout",
     "output_type": "stream",
     "text": [
      "<class 'pandas.core.frame.DataFrame'>\n",
      "RangeIndex: 792133 entries, 0 to 792132\n",
      "Data columns (total 11 columns):\n",
      " #   Column           Non-Null Count   Dtype \n",
      "---  ------           --------------   ----- \n",
      " 0   business_id      792133 non-null  object\n",
      " 1   categories       792133 non-null  object\n",
      " 2   city             792133 non-null  object\n",
      " 3   is_open          792133 non-null  int64 \n",
      " 4   name             792133 non-null  object\n",
      " 5   review_count     792133 non-null  int64 \n",
      " 6   stars            792133 non-null  int64 \n",
      " 7   state            792133 non-null  object\n",
      " 8   business_id_rev  792133 non-null  object\n",
      " 9   review_id        792133 non-null  object\n",
      " 10  text             792133 non-null  object\n",
      "dtypes: int64(3), object(8)\n",
      "memory usage: 66.5+ MB\n"
     ]
    }
   ],
   "source": [
    "df_business.info()"
   ]
  },
  {
   "cell_type": "code",
   "execution_count": 25,
   "id": "1a78031e",
   "metadata": {},
   "outputs": [],
   "source": [
    "def clean_text(text):\n",
    "    ## Remove puncuation\n",
    "    text = text.translate(string.punctuation)\n",
    "    \n",
    "    ## Convert words to lower case and split them\n",
    "    text = text.lower().split()\n",
    "    \n",
    "    ## Remove stop words\n",
    "    stops = set(stopwords.words(\"english\"))\n",
    "    text = [w for w in text if not w in stops and len(w) >= 3]\n",
    "    \n",
    "    text = \" \".join(text)\n",
    "    \n",
    "    # Clean the text\n",
    "    text = re.sub(r\"[^A-Za-z0-9^,!.\\/'+-=]\", \" \", text)\n",
    "    text = re.sub(r\"what's\", \"what is \", text)\n",
    "    text = re.sub(r\"\\'s\", \" \", text)\n",
    "    text = re.sub(r\"\\'ve\", \" have \", text)\n",
    "    text = re.sub(r\"n't\", \" not \", text)\n",
    "    text = re.sub(r\"i'm\", \"i am \", text)\n",
    "    text = re.sub(r\"\\'re\", \" are \", text)\n",
    "    text = re.sub(r\"\\'d\", \" would \", text)\n",
    "    text = re.sub(r\"\\'ll\", \" will \", text)\n",
    "    text = re.sub(r\",\", \" \", text)\n",
    "    text = re.sub(r\"\\.\", \" \", text)\n",
    "    text = re.sub(r\"!\", \" ! \", text)\n",
    "    text = re.sub(r\"\\/\", \" \", text)\n",
    "    text = re.sub(r\"\\^\", \" ^ \", text)\n",
    "    text = re.sub(r\"\\+\", \" + \", text)\n",
    "    text = re.sub(r\"\\-\", \" - \", text)\n",
    "    text = re.sub(r\"\\=\", \" = \", text)\n",
    "    text = re.sub(r\"'\", \" \", text)\n",
    "    text = re.sub(r\"(\\d+)(k)\", r\"\\g<1>000\", text)\n",
    "    text = re.sub(r\":\", \" : \", text)\n",
    "    text = re.sub(r\" e g \", \" eg \", text)\n",
    "    text = re.sub(r\" b g \", \" bg \", text)\n",
    "    text = re.sub(r\" u s \", \" american \", text)\n",
    "    text = re.sub(r\"\\0s\", \"0\", text)\n",
    "    text = re.sub(r\" 9 11 \", \"911\", text)\n",
    "    text = re.sub(r\"e - mail\", \"email\", text)\n",
    "    text = re.sub(r\"j k\", \"jk\", text)\n",
    "    text = re.sub(r\"\\s{2,}\", \" \", text)    \n",
    "    return text"
   ]
  },
  {
   "cell_type": "code",
   "execution_count": 26,
   "id": "7c29da12",
   "metadata": {},
   "outputs": [
    {
     "name": "stdout",
     "output_type": "stream",
     "text": [
      "CPU times: user 2min 3s, sys: 7.55 s, total: 2min 10s\n",
      "Wall time: 2min 10s\n"
     ]
    }
   ],
   "source": [
    "%%time\n",
    "df_business['text'] = df_business['text'].apply(clean_text)"
   ]
  },
  {
   "cell_type": "code",
   "execution_count": 29,
   "id": "3b7104f4",
   "metadata": {},
   "outputs": [],
   "source": [
    "df_business = df_business.loc[df_business.city=='Tampa']"
   ]
  },
  {
   "cell_type": "code",
   "execution_count": 30,
   "id": "e179dd00",
   "metadata": {},
   "outputs": [
    {
     "data": {
      "text/plain": [
       "business_id        303232\n",
       "categories         303232\n",
       "city               303232\n",
       "is_open            303232\n",
       "name               303232\n",
       "review_count       303232\n",
       "stars              303232\n",
       "state              303232\n",
       "business_id_rev    303232\n",
       "review_id          303232\n",
       "text               303232\n",
       "dtype: int64"
      ]
     },
     "execution_count": 30,
     "metadata": {},
     "output_type": "execute_result"
    }
   ],
   "source": [
    "df_business.count()"
   ]
  },
  {
   "cell_type": "code",
   "execution_count": 31,
   "id": "571037e2",
   "metadata": {},
   "outputs": [
    {
     "name": "stdout",
     "output_type": "stream",
     "text": [
      "CPU times: user 10.3 s, sys: 139 ms, total: 10.5 s\n",
      "Wall time: 10.5 s\n"
     ]
    }
   ],
   "source": [
    "%%time\n",
    "vectorizer_reviews = CountVectorizer(min_df = .01,max_df = .99, tokenizer = WordPunctTokenizer().tokenize)\n",
    "vectorized_reviews = vectorizer_reviews.fit_transform(df_business['text'])"
   ]
  },
  {
   "cell_type": "code",
   "execution_count": 32,
   "id": "ae8c8872",
   "metadata": {},
   "outputs": [
    {
     "data": {
      "text/plain": [
       "(303232, 865)"
      ]
     },
     "execution_count": 32,
     "metadata": {},
     "output_type": "execute_result"
    }
   ],
   "source": [
    "vectorized_reviews.shape"
   ]
  },
  {
   "cell_type": "code",
   "execution_count": 82,
   "id": "208c7b4f",
   "metadata": {},
   "outputs": [
    {
     "data": {
      "text/plain": [
       "matrix([[ 0,  1,  0, ...,  0,  0,  0],\n",
       "        [ 1, 12,  0, ...,  1,  0,  0],\n",
       "        [ 0,  0,  0, ...,  0,  0,  0],\n",
       "        ...,\n",
       "        [ 0,  0,  0, ...,  0,  0,  0],\n",
       "        [ 0, 10,  0, ...,  0,  0,  0],\n",
       "        [ 5, 12,  1, ...,  1,  0,  0]])"
      ]
     },
     "execution_count": 82,
     "metadata": {},
     "output_type": "execute_result"
    }
   ],
   "source": [
    "vectorized_reviews.todense()"
   ]
  },
  {
   "cell_type": "code",
   "execution_count": 33,
   "id": "19305f31",
   "metadata": {},
   "outputs": [
    {
     "data": {
      "text/plain": [
       "'! | + | - | 00 | 1 | 10 | 12 | 15 | 2 | 20 | 3 | 30 | 4 | 5 | 50 | 6 | 7 | 8 | : | ; | a | able | about | absolutely | accommodating | across | actually | add | added | addition | afternoon | again | ago | ahead | all | almost | along | already | also | although | always | am | amazing | ambiance | amount | and | another | anyone | anything | anywhere | appetizer | appetizers | are | area | around | arrived | as | ask | asked | ate | atmosphere | attention | attentive | authentic | available | average | avocado | away | awesome | awful | back | bacon | bad | baked | bar | bartender | bartenders | based | basically | bay | bbq | be | beans | beautiful | beef | beer | beers | before | behind | believe | best | better | beyond | big | bill | birthday | bit | bite | bites | black'"
      ]
     },
     "execution_count": 33,
     "metadata": {},
     "output_type": "execute_result"
    }
   ],
   "source": [
    "' | '.join(vectorizer_reviews.get_feature_names_out()[:100]) # only the first 100"
   ]
  },
  {
   "cell_type": "code",
   "execution_count": 34,
   "id": "4dfe24da",
   "metadata": {},
   "outputs": [
    {
     "name": "stdout",
     "output_type": "stream",
     "text": [
      "Collection(Database(MongoClient(host=['localhost:27017'], document_class=dict, tz_aware=False, connect=True), 'Yelp_Database'), 'recommender_business')\n"
     ]
    }
   ],
   "source": [
    "df_business_only = db['recommender_business']\n",
    "print(df_business_only)"
   ]
  },
  {
   "cell_type": "code",
   "execution_count": 35,
   "id": "9ee5d082",
   "metadata": {},
   "outputs": [
    {
     "name": "stdout",
     "output_type": "stream",
     "text": [
      "<pymongo.cursor.Cursor object at 0x7f47a5904b50>\n"
     ]
    }
   ],
   "source": [
    "cursor = df_business_only.find()\n",
    "print(cursor)"
   ]
  },
  {
   "cell_type": "code",
   "execution_count": 36,
   "id": "8d70b3fa",
   "metadata": {},
   "outputs": [],
   "source": [
    "def batched(cursor, batch_size):\n",
    "    batch = []\n",
    "    for doc in cursor:\n",
    "        batch.append(doc)\n",
    "        if batch and not len(batch) % batch_size:\n",
    "            yield batch\n",
    "            batch = []\n",
    "\n",
    "    if batch:   # last documents\n",
    "        yield batch\n",
    "\n",
    "df = pd.DataFrame()\n",
    "for batch in batched(cursor, 10000):\n",
    "    df = df.append(batch, ignore_index=True)"
   ]
  },
  {
   "cell_type": "code",
   "execution_count": 37,
   "id": "7d557954",
   "metadata": {},
   "outputs": [],
   "source": [
    "df_business_only=df"
   ]
  },
  {
   "cell_type": "code",
   "execution_count": 38,
   "id": "0e12bd39",
   "metadata": {
    "scrolled": true
   },
   "outputs": [
    {
     "data": {
      "text/html": [
       "<div>\n",
       "<style scoped>\n",
       "    .dataframe tbody tr th:only-of-type {\n",
       "        vertical-align: middle;\n",
       "    }\n",
       "\n",
       "    .dataframe tbody tr th {\n",
       "        vertical-align: top;\n",
       "    }\n",
       "\n",
       "    .dataframe thead th {\n",
       "        text-align: right;\n",
       "    }\n",
       "</style>\n",
       "<table border=\"1\" class=\"dataframe\">\n",
       "  <thead>\n",
       "    <tr style=\"text-align: right;\">\n",
       "      <th></th>\n",
       "      <th>_id</th>\n",
       "      <th>business_id</th>\n",
       "      <th>categories</th>\n",
       "      <th>city</th>\n",
       "      <th>is_open</th>\n",
       "      <th>name</th>\n",
       "      <th>review_count</th>\n",
       "      <th>stars</th>\n",
       "      <th>state</th>\n",
       "    </tr>\n",
       "  </thead>\n",
       "  <tbody>\n",
       "    <tr>\n",
       "      <th>0</th>\n",
       "      <td>640ba2188e928c352265d533</td>\n",
       "      <td>eEOYSgkmpB90uNA7lDOMRA</td>\n",
       "      <td>Vietnamese, Food, Restaurants, Food Trucks</td>\n",
       "      <td>Tampa Bay</td>\n",
       "      <td>1</td>\n",
       "      <td>Vietnamese Food Truck</td>\n",
       "      <td>10</td>\n",
       "      <td>4.0</td>\n",
       "      <td>FL</td>\n",
       "    </tr>\n",
       "    <tr>\n",
       "      <th>1</th>\n",
       "      <td>640ba2188e928c352265d534</td>\n",
       "      <td>0bPLkL0QhhPO5kt1_EXmNQ</td>\n",
       "      <td>Food, Delis, Italian, Bakeries, Restaurants</td>\n",
       "      <td>Largo</td>\n",
       "      <td>0</td>\n",
       "      <td>Zio's Italian Market</td>\n",
       "      <td>100</td>\n",
       "      <td>4.5</td>\n",
       "      <td>FL</td>\n",
       "    </tr>\n",
       "    <tr>\n",
       "      <th>2</th>\n",
       "      <td>640ba2188e928c352265d535</td>\n",
       "      <td>uI9XODGY_2_ieTE6xJ0myw</td>\n",
       "      <td>Restaurants, American (New), Italian</td>\n",
       "      <td>Tampa</td>\n",
       "      <td>0</td>\n",
       "      <td>Roman Forum</td>\n",
       "      <td>23</td>\n",
       "      <td>4.0</td>\n",
       "      <td>FL</td>\n",
       "    </tr>\n",
       "    <tr>\n",
       "      <th>3</th>\n",
       "      <td>640ba2188e928c352265d536</td>\n",
       "      <td>JgpnXv_0XhV3SfbfB50nxw</td>\n",
       "      <td>Restaurants, Pizza</td>\n",
       "      <td>Tampa</td>\n",
       "      <td>0</td>\n",
       "      <td>Joe's Pizza</td>\n",
       "      <td>35</td>\n",
       "      <td>4.0</td>\n",
       "      <td>FL</td>\n",
       "    </tr>\n",
       "    <tr>\n",
       "      <th>4</th>\n",
       "      <td>640ba2188e928c352265d537</td>\n",
       "      <td>pJfh3Ct8iL58NZa8ta-a5w</td>\n",
       "      <td>Burgers, Sports Bars, Bars, Lounges, Restauran...</td>\n",
       "      <td>Wesley Chapel</td>\n",
       "      <td>1</td>\n",
       "      <td>Top Shelf Sports Lounge</td>\n",
       "      <td>95</td>\n",
       "      <td>4.5</td>\n",
       "      <td>FL</td>\n",
       "    </tr>\n",
       "    <tr>\n",
       "      <th>...</th>\n",
       "      <td>...</td>\n",
       "      <td>...</td>\n",
       "      <td>...</td>\n",
       "      <td>...</td>\n",
       "      <td>...</td>\n",
       "      <td>...</td>\n",
       "      <td>...</td>\n",
       "      <td>...</td>\n",
       "      <td>...</td>\n",
       "    </tr>\n",
       "    <tr>\n",
       "      <th>8726</th>\n",
       "      <td>640ba2188e928c352265f749</td>\n",
       "      <td>Scd-rcsQCn60t1sHHFv-og</td>\n",
       "      <td>Cafes, Restaurants, Breakfast &amp; Brunch, Americ...</td>\n",
       "      <td>St. Petersburg</td>\n",
       "      <td>1</td>\n",
       "      <td>First Watch</td>\n",
       "      <td>183</td>\n",
       "      <td>3.5</td>\n",
       "      <td>FL</td>\n",
       "    </tr>\n",
       "    <tr>\n",
       "      <th>8727</th>\n",
       "      <td>640ba2188e928c352265f74a</td>\n",
       "      <td>8MzF1Tlgz0pOkxmhP5dYzA</td>\n",
       "      <td>American (Traditional), Burgers, Restaurants</td>\n",
       "      <td>St. Petersburg</td>\n",
       "      <td>1</td>\n",
       "      <td>El Cap Restaurant</td>\n",
       "      <td>414</td>\n",
       "      <td>3.5</td>\n",
       "      <td>FL</td>\n",
       "    </tr>\n",
       "    <tr>\n",
       "      <th>8728</th>\n",
       "      <td>640ba2188e928c352265f74b</td>\n",
       "      <td>-bZQH8yjm7ntTyGeLQwh8Q</td>\n",
       "      <td>Sandwiches, Restaurants, Diners</td>\n",
       "      <td>Largo</td>\n",
       "      <td>0</td>\n",
       "      <td>Farmer's Kitchen Restaurant</td>\n",
       "      <td>6</td>\n",
       "      <td>4.0</td>\n",
       "      <td>FL</td>\n",
       "    </tr>\n",
       "    <tr>\n",
       "      <th>8729</th>\n",
       "      <td>640ba2188e928c352265f74c</td>\n",
       "      <td>BIyT7Kr7tMJqlfp4oOOYQg</td>\n",
       "      <td>Breakfast &amp; Brunch, Cafes, Restaurants</td>\n",
       "      <td>Riverview</td>\n",
       "      <td>0</td>\n",
       "      <td>Copper Bell Cafe</td>\n",
       "      <td>49</td>\n",
       "      <td>3.5</td>\n",
       "      <td>FL</td>\n",
       "    </tr>\n",
       "    <tr>\n",
       "      <th>8730</th>\n",
       "      <td>640ba2188e928c352265f74d</td>\n",
       "      <td>esBGrrmuZzSiECyRBoKvvA</td>\n",
       "      <td>Bars, Beer Bar, Nightlife, Wine Bars, Pizza, R...</td>\n",
       "      <td>St. Petersburg</td>\n",
       "      <td>1</td>\n",
       "      <td>Colony Grill - St. Petersburg</td>\n",
       "      <td>38</td>\n",
       "      <td>4.5</td>\n",
       "      <td>FL</td>\n",
       "    </tr>\n",
       "  </tbody>\n",
       "</table>\n",
       "<p>8731 rows × 9 columns</p>\n",
       "</div>"
      ],
      "text/plain": [
       "                           _id             business_id  \\\n",
       "0     640ba2188e928c352265d533  eEOYSgkmpB90uNA7lDOMRA   \n",
       "1     640ba2188e928c352265d534  0bPLkL0QhhPO5kt1_EXmNQ   \n",
       "2     640ba2188e928c352265d535  uI9XODGY_2_ieTE6xJ0myw   \n",
       "3     640ba2188e928c352265d536  JgpnXv_0XhV3SfbfB50nxw   \n",
       "4     640ba2188e928c352265d537  pJfh3Ct8iL58NZa8ta-a5w   \n",
       "...                        ...                     ...   \n",
       "8726  640ba2188e928c352265f749  Scd-rcsQCn60t1sHHFv-og   \n",
       "8727  640ba2188e928c352265f74a  8MzF1Tlgz0pOkxmhP5dYzA   \n",
       "8728  640ba2188e928c352265f74b  -bZQH8yjm7ntTyGeLQwh8Q   \n",
       "8729  640ba2188e928c352265f74c  BIyT7Kr7tMJqlfp4oOOYQg   \n",
       "8730  640ba2188e928c352265f74d  esBGrrmuZzSiECyRBoKvvA   \n",
       "\n",
       "                                             categories            city  \\\n",
       "0            Vietnamese, Food, Restaurants, Food Trucks       Tampa Bay   \n",
       "1           Food, Delis, Italian, Bakeries, Restaurants           Largo   \n",
       "2                  Restaurants, American (New), Italian           Tampa   \n",
       "3                                    Restaurants, Pizza           Tampa   \n",
       "4     Burgers, Sports Bars, Bars, Lounges, Restauran...   Wesley Chapel   \n",
       "...                                                 ...             ...   \n",
       "8726  Cafes, Restaurants, Breakfast & Brunch, Americ...  St. Petersburg   \n",
       "8727       American (Traditional), Burgers, Restaurants  St. Petersburg   \n",
       "8728                    Sandwiches, Restaurants, Diners           Largo   \n",
       "8729             Breakfast & Brunch, Cafes, Restaurants       Riverview   \n",
       "8730  Bars, Beer Bar, Nightlife, Wine Bars, Pizza, R...  St. Petersburg   \n",
       "\n",
       "      is_open                           name  review_count  stars state  \n",
       "0           1          Vietnamese Food Truck            10    4.0    FL  \n",
       "1           0           Zio's Italian Market           100    4.5    FL  \n",
       "2           0                    Roman Forum            23    4.0    FL  \n",
       "3           0                    Joe's Pizza            35    4.0    FL  \n",
       "4           1        Top Shelf Sports Lounge            95    4.5    FL  \n",
       "...       ...                            ...           ...    ...   ...  \n",
       "8726        1                    First Watch           183    3.5    FL  \n",
       "8727        1              El Cap Restaurant           414    3.5    FL  \n",
       "8728        0    Farmer's Kitchen Restaurant             6    4.0    FL  \n",
       "8729        0               Copper Bell Cafe            49    3.5    FL  \n",
       "8730        1  Colony Grill - St. Petersburg            38    4.5    FL  \n",
       "\n",
       "[8731 rows x 9 columns]"
      ]
     },
     "execution_count": 38,
     "metadata": {},
     "output_type": "execute_result"
    }
   ],
   "source": [
    "df_business_only"
   ]
  },
  {
   "cell_type": "code",
   "execution_count": 41,
   "id": "706f8c0e",
   "metadata": {},
   "outputs": [],
   "source": [
    "df_business_only = df_business_only.loc[df_business_only.city=='Tampa']"
   ]
  },
  {
   "cell_type": "code",
   "execution_count": 89,
   "id": "74aa41fc",
   "metadata": {},
   "outputs": [
    {
     "name": "stdout",
     "output_type": "stream",
     "text": [
      "CPU times: user 3.64 ms, sys: 7.2 ms, total: 10.8 ms\n",
      "Wall time: 10.1 ms\n"
     ]
    }
   ],
   "source": [
    "%%time\n",
    "vectorizer_categories = CountVectorizer(min_df = 1, max_df = 1., tokenizer = lambda x: x.split(', '))\n",
    "vectorized_categories = vectorizer_categories.fit_transform(df_business_only['categories'])"
   ]
  },
  {
   "cell_type": "code",
   "execution_count": 92,
   "id": "c2e21428",
   "metadata": {},
   "outputs": [
    {
     "data": {
      "text/plain": [
       "(array([   0,    0,    0, ..., 2959, 2959, 2959], dtype=int32),\n",
       " array([287,   8, 194, ..., 321,  19, 335], dtype=int32))"
      ]
     },
     "execution_count": 92,
     "metadata": {},
     "output_type": "execute_result"
    }
   ],
   "source": [
    "vectorized_categories.nonzero()"
   ]
  },
  {
   "cell_type": "code",
   "execution_count": 91,
   "id": "4bd8facb",
   "metadata": {},
   "outputs": [
    {
     "data": {
      "text/plain": [
       "(2960, 372)"
      ]
     },
     "execution_count": 91,
     "metadata": {},
     "output_type": "execute_result"
    }
   ],
   "source": [
    "vectorized_categories.shape"
   ]
  },
  {
   "cell_type": "code",
   "execution_count": 93,
   "id": "810cf73f",
   "metadata": {},
   "outputs": [
    {
     "data": {
      "text/plain": [
       "\"acai bowls | active life | adult | adult entertainment | afghan | african | airport terminals | airports | american (new) | american (traditional) | amusement parks | appliances | arabic | arcades | argentine | armenian | art galleries | arts & crafts | arts & entertainment | asian fusion | australian | austrian | auto loan providers | auto repair | automotive | bagels | bakeries | bangladeshi | banks & credit unions | bar crawl | barbeque | bars | bartenders | basque | beaches | beauty & spas | bed & breakfast | beer | beer bar | beer gardens | beer tours | belgian | beverage store | bike rentals | boat charters | body shops | books | bookstores | bowling | brasseries | brazilian | breakfast & brunch | breweries | brewpubs | british | bubble tea | buddhist temples | buffets | building supplies | burgers | burmese | bus tours | business law | butcher | cafes | cafeteria | cajun/creole | candy stores | cantonese | car dealers | caribbean | casinos | caterers | champagne bars | cheese shops | cheesesteaks | chicken shop | chicken wings | child care & day care | children's clothing | chinese | churches | cideries | cigar bars | cinema | cocktail bars | coffee & tea | coffee roasteries | colombian | comedy clubs | comfort food | community service/non-profit | contract law | contractors | convenience stores | cooking classes | cooking schools | country clubs | creperies | csa\""
      ]
     },
     "execution_count": 93,
     "metadata": {},
     "output_type": "execute_result"
    }
   ],
   "source": [
    "' | '.join(vectorizer_categories.get_feature_names_out()[:100]) # only the first 100"
   ]
  },
  {
   "cell_type": "code",
   "execution_count": 94,
   "id": "39542ff6",
   "metadata": {},
   "outputs": [
    {
     "data": {
      "text/plain": [
       "array(['0-M3vGd6IveJh77-Bwc8EQ', '0-M3vGd6IveJh77-Bwc8EQ',\n",
       "       '0-M3vGd6IveJh77-Bwc8EQ', ..., 'z_7TZeTXsDH6MmkPHQN8nQ',\n",
       "       'z_7TZeTXsDH6MmkPHQN8nQ', 'z_7TZeTXsDH6MmkPHQN8nQ'], dtype=object)"
      ]
     },
     "execution_count": 94,
     "metadata": {},
     "output_type": "execute_result"
    }
   ],
   "source": [
    "df_business['business_id'].values"
   ]
  },
  {
   "cell_type": "code",
   "execution_count": 95,
   "id": "3ed287a6",
   "metadata": {},
   "outputs": [
    {
     "name": "stdout",
     "output_type": "stream",
     "text": [
      "CPU times: user 7.91 s, sys: 741 ms, total: 8.65 s\n",
      "Wall time: 8.67 s\n"
     ]
    }
   ],
   "source": [
    "%%time\n",
    "from scipy import sparse\n",
    "businessxreview = sparse.csr_matrix(pd.get_dummies(df_business['business_id'].values))"
   ]
  },
  {
   "cell_type": "code",
   "execution_count": 96,
   "id": "efd49bc8",
   "metadata": {},
   "outputs": [
    {
     "name": "stdout",
     "output_type": "stream",
     "text": [
      "restuarants x categories: \t (2960, 372)\n",
      "restuarants x reviews: \t\t (303232, 2960)\n",
      "reviews x words: \t\t (303232, 865)\n"
     ]
    }
   ],
   "source": [
    "print('restuarants x categories: \\t', vectorized_categories.shape) \n",
    "print('restuarants x reviews: \\t\\t' , businessxreview.shape) \n",
    "print('reviews x words: \\t\\t', vectorized_reviews.shape)"
   ]
  },
  {
   "cell_type": "markdown",
   "id": "65d4c617",
   "metadata": {},
   "source": [
    "Now we are ready to choose a seed restaurant and find  other restaurants that might be as good as the seed restaurant. We make sure to choose a restaurant with good number of reviews and ratings."
   ]
  },
  {
   "cell_type": "code",
   "execution_count": 97,
   "id": "314ccfe9",
   "metadata": {},
   "outputs": [
    {
     "data": {
      "text/plain": [
       "Index(['business_id', 'categories', 'city', 'is_open', 'name', 'review_count',\n",
       "       'stars', 'state', 'business_id_rev', 'review_id', 'text'],\n",
       "      dtype='object')"
      ]
     },
     "execution_count": 97,
     "metadata": {},
     "output_type": "execute_result"
    }
   ],
   "source": [
    "# df_business_review = df_business_review.drop([\"_id\"], axis = 1)\n",
    "df_business.columns"
   ]
  },
  {
   "cell_type": "code",
   "execution_count": 98,
   "id": "d186be79",
   "metadata": {},
   "outputs": [
    {
     "data": {
      "text/html": [
       "<div>\n",
       "<style scoped>\n",
       "    .dataframe tbody tr th:only-of-type {\n",
       "        vertical-align: middle;\n",
       "    }\n",
       "\n",
       "    .dataframe tbody tr th {\n",
       "        vertical-align: top;\n",
       "    }\n",
       "\n",
       "    .dataframe thead th {\n",
       "        text-align: right;\n",
       "    }\n",
       "</style>\n",
       "<table border=\"1\" class=\"dataframe\">\n",
       "  <thead>\n",
       "    <tr style=\"text-align: right;\">\n",
       "      <th></th>\n",
       "      <th>business_id</th>\n",
       "      <th>categories</th>\n",
       "      <th>city</th>\n",
       "      <th>is_open</th>\n",
       "      <th>name</th>\n",
       "      <th>review_count</th>\n",
       "      <th>stars</th>\n",
       "      <th>state</th>\n",
       "      <th>business_id_rev</th>\n",
       "      <th>review_id</th>\n",
       "      <th>text</th>\n",
       "    </tr>\n",
       "  </thead>\n",
       "  <tbody>\n",
       "    <tr>\n",
       "      <th>361504</th>\n",
       "      <td>VSpseb6oijtKffRRL_xfgQ</td>\n",
       "      <td>Soup, Restaurants, Cuban, Sandwiches</td>\n",
       "      <td>Tampa</td>\n",
       "      <td>1</td>\n",
       "      <td>The Stone Soup Company</td>\n",
       "      <td>529</td>\n",
       "      <td>4</td>\n",
       "      <td>FL</td>\n",
       "      <td>VSpseb6oijtKffRRL_xfgQ</td>\n",
       "      <td>yxo19YbdtpJtmJrSG3Fr0A</td>\n",
       "      <td>great service cool setting tons menu choices c...</td>\n",
       "    </tr>\n",
       "    <tr>\n",
       "      <th>649714</th>\n",
       "      <td>oRZzKWdyMQld6N_y4UWkAg</td>\n",
       "      <td>Latin American, Restaurants, Peruvian, Seafood</td>\n",
       "      <td>Tampa</td>\n",
       "      <td>1</td>\n",
       "      <td>Terra Sur Cafe</td>\n",
       "      <td>316</td>\n",
       "      <td>4</td>\n",
       "      <td>FL</td>\n",
       "      <td>oRZzKWdyMQld6N_y4UWkAg</td>\n",
       "      <td>oEb2PcSTxYOBWf3MqYuHTA</td>\n",
       "      <td>finally experienced terra sur questionable eat...</td>\n",
       "    </tr>\n",
       "    <tr>\n",
       "      <th>392943</th>\n",
       "      <td>1N9WC6FwF8MSc7BHbIP35A</td>\n",
       "      <td>Desserts, Restaurants, Vegan, Food, Sandwiches...</td>\n",
       "      <td>Tampa</td>\n",
       "      <td>1</td>\n",
       "      <td>Vegan International Co. Kitchen &amp; Market</td>\n",
       "      <td>269</td>\n",
       "      <td>5</td>\n",
       "      <td>FL</td>\n",
       "      <td>1N9WC6FwF8MSc7BHbIP35A</td>\n",
       "      <td>nuYpDMbjGX7emem_L0kLZQ</td>\n",
       "      <td>wow wow wow ! usually restaurants either great...</td>\n",
       "    </tr>\n",
       "    <tr>\n",
       "      <th>642900</th>\n",
       "      <td>SwBhaxfQPbyhsi0QHUAN0A</td>\n",
       "      <td>Food, Hotels, Coffee &amp; Tea, Hotels &amp; Travel, R...</td>\n",
       "      <td>Tampa</td>\n",
       "      <td>1</td>\n",
       "      <td>Seminole Hard Rock Hotel &amp; Casino Tampa</td>\n",
       "      <td>739</td>\n",
       "      <td>1</td>\n",
       "      <td>FL</td>\n",
       "      <td>SwBhaxfQPbyhsi0QHUAN0A</td>\n",
       "      <td>WS9bcQXQiNQUvf5_NQSdlw</td>\n",
       "      <td>1 10 rude staff hotel reservations players clu...</td>\n",
       "    </tr>\n",
       "    <tr>\n",
       "      <th>629783</th>\n",
       "      <td>03dIEDBsDERr6Osmey-udQ</td>\n",
       "      <td>Seafood, Steakhouses, Southern, American (New)...</td>\n",
       "      <td>Tampa</td>\n",
       "      <td>1</td>\n",
       "      <td>Steelbach at Armature Works</td>\n",
       "      <td>727</td>\n",
       "      <td>2</td>\n",
       "      <td>FL</td>\n",
       "      <td>03dIEDBsDERr6Osmey-udQ</td>\n",
       "      <td>vrFbhoZxmlVLf4Ye7vAIrw</td>\n",
       "      <td>restaurant good think is first time went food ...</td>\n",
       "    </tr>\n",
       "    <tr>\n",
       "      <th>399479</th>\n",
       "      <td>7etwdmBaquL2l6NfGaqw0Q</td>\n",
       "      <td>Korean, Sushi Bars, Restaurants</td>\n",
       "      <td>Tampa</td>\n",
       "      <td>0</td>\n",
       "      <td>Han Il Kwan Korean Restaurant</td>\n",
       "      <td>10</td>\n",
       "      <td>5</td>\n",
       "      <td>FL</td>\n",
       "      <td>7etwdmBaquL2l6NfGaqw0Q</td>\n",
       "      <td>WIHZdT9DRIvf-7yPaM9IeQ</td>\n",
       "      <td>eat twice month food excellent especially like...</td>\n",
       "    </tr>\n",
       "    <tr>\n",
       "      <th>600100</th>\n",
       "      <td>BEMSDLPP630Fpdw_QpqLVA</td>\n",
       "      <td>Creperies, Desserts, Breakfast &amp; Brunch, Resta...</td>\n",
       "      <td>Tampa</td>\n",
       "      <td>1</td>\n",
       "      <td>La Creperia Cafe</td>\n",
       "      <td>350</td>\n",
       "      <td>5</td>\n",
       "      <td>FL</td>\n",
       "      <td>BEMSDLPP630Fpdw_QpqLVA</td>\n",
       "      <td>P3oqW2E2L7YTdXSSVaOTgw</td>\n",
       "      <td>get pollo verde panini great !</td>\n",
       "    </tr>\n",
       "  </tbody>\n",
       "</table>\n",
       "</div>"
      ],
      "text/plain": [
       "                   business_id  \\\n",
       "361504  VSpseb6oijtKffRRL_xfgQ   \n",
       "649714  oRZzKWdyMQld6N_y4UWkAg   \n",
       "392943  1N9WC6FwF8MSc7BHbIP35A   \n",
       "642900  SwBhaxfQPbyhsi0QHUAN0A   \n",
       "629783  03dIEDBsDERr6Osmey-udQ   \n",
       "399479  7etwdmBaquL2l6NfGaqw0Q   \n",
       "600100  BEMSDLPP630Fpdw_QpqLVA   \n",
       "\n",
       "                                               categories   city  is_open  \\\n",
       "361504               Soup, Restaurants, Cuban, Sandwiches  Tampa        1   \n",
       "649714     Latin American, Restaurants, Peruvian, Seafood  Tampa        1   \n",
       "392943  Desserts, Restaurants, Vegan, Food, Sandwiches...  Tampa        1   \n",
       "642900  Food, Hotels, Coffee & Tea, Hotels & Travel, R...  Tampa        1   \n",
       "629783  Seafood, Steakhouses, Southern, American (New)...  Tampa        1   \n",
       "399479                    Korean, Sushi Bars, Restaurants  Tampa        0   \n",
       "600100  Creperies, Desserts, Breakfast & Brunch, Resta...  Tampa        1   \n",
       "\n",
       "                                            name  review_count  stars state  \\\n",
       "361504                    The Stone Soup Company           529      4    FL   \n",
       "649714                            Terra Sur Cafe           316      4    FL   \n",
       "392943  Vegan International Co. Kitchen & Market           269      5    FL   \n",
       "642900   Seminole Hard Rock Hotel & Casino Tampa           739      1    FL   \n",
       "629783               Steelbach at Armature Works           727      2    FL   \n",
       "399479             Han Il Kwan Korean Restaurant            10      5    FL   \n",
       "600100                          La Creperia Cafe           350      5    FL   \n",
       "\n",
       "               business_id_rev               review_id  \\\n",
       "361504  VSpseb6oijtKffRRL_xfgQ  yxo19YbdtpJtmJrSG3Fr0A   \n",
       "649714  oRZzKWdyMQld6N_y4UWkAg  oEb2PcSTxYOBWf3MqYuHTA   \n",
       "392943  1N9WC6FwF8MSc7BHbIP35A  nuYpDMbjGX7emem_L0kLZQ   \n",
       "642900  SwBhaxfQPbyhsi0QHUAN0A  WS9bcQXQiNQUvf5_NQSdlw   \n",
       "629783  03dIEDBsDERr6Osmey-udQ  vrFbhoZxmlVLf4Ye7vAIrw   \n",
       "399479  7etwdmBaquL2l6NfGaqw0Q  WIHZdT9DRIvf-7yPaM9IeQ   \n",
       "600100  BEMSDLPP630Fpdw_QpqLVA  P3oqW2E2L7YTdXSSVaOTgw   \n",
       "\n",
       "                                                     text  \n",
       "361504  great service cool setting tons menu choices c...  \n",
       "649714  finally experienced terra sur questionable eat...  \n",
       "392943  wow wow wow ! usually restaurants either great...  \n",
       "642900  1 10 rude staff hotel reservations players clu...  \n",
       "629783  restaurant good think is first time went food ...  \n",
       "399479  eat twice month food excellent especially like...  \n",
       "600100                    get pollo verde panini great !   "
      ]
     },
     "execution_count": 98,
     "metadata": {},
     "output_type": "execute_result"
    }
   ],
   "source": [
    "# to choose a restaurant, just copy the business id and paste it in the next cell\n",
    "# you can always rerun the cell to choose another restuarant. \n",
    "df_business.sample(7)"
   ]
  },
  {
   "cell_type": "code",
   "execution_count": 100,
   "id": "3f0e89aa",
   "metadata": {},
   "outputs": [],
   "source": [
    "business_choose = 'VSpseb6oijtKffRRL_xfgQ' # business_id of desired business"
   ]
  },
  {
   "cell_type": "code",
   "execution_count": 101,
   "id": "c53dcd6e",
   "metadata": {},
   "outputs": [],
   "source": [
    "new_reviews = df_business.loc[df_business['business_id'] == business_choose, 'text']"
   ]
  },
  {
   "cell_type": "code",
   "execution_count": 102,
   "id": "83da3db2",
   "metadata": {},
   "outputs": [
    {
     "name": "stdout",
     "output_type": "stream",
     "text": [
      "really excited try out menu promising however food average got grilled cheese panini potato salad ev\n",
      "found place googling soup boyfriend drove minutes get glad did got special - - italian wedding soup \n",
      "passed stone soup many times walking ybor never tried decided check out waiter awesome friendly atte\n",
      "appropriate various dietary persuasions i have eaten several times never disappointed extra cool poi\n",
      "best grilled cheese town my + boyfriend alway gets real cuban award winner area loves\n",
      "chose try restaurant visited ybor city good yelp reviews inside looked nice ample sitting areas bart\n",
      "found place walking street ybor city like before ! ! ! + i love place ! jessica bartender took care \n",
      "tampa conference looking good cuban sandwich stone soup company popped yelp i am fan book figured wo\n",
      "great atmosphere huge beer selection awesome imports craft beers great sandwiches salads too side di\n",
      "solid stars fish po boy tasty generous size bonus points subversive menu \n",
      "food mediocre chicken soup practically cold bowl came hotter actual soup definitely back food back m\n",
      "went today 1pm eve though plenty open tables asked wait 15m table asked could seat bar since spaces \n",
      "awesome place ! love atmosphere staff music food great fresh flavorful earth place creative menu def\n",
      "bad food worse service went lunch work associates greeted came ask menus several times got vanilla m\n",
      "best thing stone soup staff personable genuine award winning cuban sandwich ok interesting take cut \n",
      "kris brian excellent good food must try mediterranean flatbread gyro meat ! ! ! \n",
      "always looking new places eat found place ybor city pho king really good fianc chili mac looked amaz\n",
      "eclectic grungy charming old - american atmosphere + good food drinks labelled vegetarian gluten fre\n",
      "good food service selection fair prices right center old town tampa neat little area \n",
      "best cuban sandwich ybor ! ! staff always friendly food always point ! ! ! \n",
      "always get order correct everybody awesome attitude makes feel welcomed matter get ! one favorite li\n",
      "much wanted love cuban sandwich arrived big expectations ordered cuban french fries settled big test\n",
      "service 10 + food 10 + + i have truly enjoyed every meal to - go ever taken home stone soup company \n",
      "great place cuban sandwich ! everything else ! empenchilladas fantastic ! even kids mac cheese divin\n",
      "mediocre best chicken souvlaki expecting lighter dish since heart indicator next it heavy left feeli\n",
      "newly arrived 16 - year old german exchange student wanted good cuban sandwich headed ybor city ciga\n",
      "fourth time there kept giving benefit doubt first time good following times nightmare food great ser\n",
      "perfect sandwiches right time ! starving everything good ! waitstaff friendly prices right even used\n",
      "food great service slow i have gone times lunch always hoping better service taken hour every time k\n",
      "nights started shooting shit random guy runs place suggested come left tampa made sure came disappoi\n",
      "great food ! awesome cuban sandwich chicken soup excellent rally enjoyed matzo ball soup friendly se\n",
      "americana thursday ! ! hotdog w chili cheese free lemonade wife kgb borscht soup w cheesy garlic bre\n",
      "jessica amazing server i have ever had ! ! ! ! knowable super personable ! ! ! ! back see her ! ! ! \n",
      "cuban cuban sandwhich festival loved sandwhich dipping sauce serve it many cubans tampa bay area one\n",
      "lived tampa years never cuban found place cuban served jus life get ant better deliciousness explode\n",
      "great little stop way back copper tail brewing pho king soup packed seafood spice - - highly recomme\n",
      "order cuban stop crying minute prep time seriously conversation somebody pass time \n",
      "love new location ! ! ! + we came group dinner saturday night impressed transformation stone soup; d\n",
      "well place bit joke way overpriced usually eat cubans since waiter suggested it since voted best tam\n",
      "hungry ordered lobster chowder appetizer dumplings amazing entire party raved selections thanks ston\n",
      "love place ! reminds little dive restaurants home boston food great price great waitress super nice \n",
      "stone soup company instantly inviting later realized owner approached outside opened door immediatel\n",
      "way food restaurant judged star rating husband really enjoyed friendly service restaurant decor hole\n",
      "ordered real cuban rice beans unimpressive meal good portion size crispy bread however meats really \n",
      "food decent except rotten side order vegetables however service terrible waitress never wrote orders\n",
      "best cuban sandwich ever plus vegan cuban sandwich options well josh absolutely great greeting door \n",
      "real winner today actually jeuben french onion soup ordered cuban sandwich well star show; sort dry \n",
      "lunch delivered amazon prime now delivery fee ordered baked empanada calzone kgb borscht soup chili \n",
      "so find tampa miami find spot cubano rated best city add cuban black beans rice ale awesome ! so goo\n",
      "dined friends saturday afternoon fan cuban sandwich spouse never eaten one could say would want ever\n",
      "food ok service good liked restaurant cute like art walls + i hummus good cousin dumplings said pork\n",
      "discovered place weeks ago coming lot since then sticking soups salads great explored rest menu yet \n",
      "m c hammer would vouch award winning cuban sandwich making shop he would parachute pants say ca not \n",
      "food decent except rotten side order vegetables however service terrible waitress never wrote orders\n",
      "great food service good pretzel bites nacho cheese dipping sauce fried dumplings real cuban fries fr\n",
      "work ybor gotten take times dined family once food good love tomato basil usually get pho king good \n",
      "soups great ordered waited minutes single bowl chicken noodle soup got warm mainly broth left waitin\n",
      "excellent service great food steelers country primantis style sandwich didnt get it prompt return vi\n",
      "came church sunday waitress keri bomb food came fast salad food came fast salad large tomato soup hu\n",
      "tried cuban deb tough pick favorite far average service excellent + + very chill lunch spot even gam\n",
      "still good ! + + loved waiter fun joking around him cuban sandwich recommended ! mainly roasted pork\n",
      "atmosphere = awesome + food = ok + price = expensive lunch that really hurts review price\n",
      "one absolute faves tampa ybor city treasure ! outstanding homemade soups flavorful menu caters every\n",
      "saturday jan 7th wife stopped lunch 12 : 30 ybor fairly crowded ssc customers first clue passed seve\n",
      "mom tampa days surgery short stay got food stone soup company twice get soup pretzels cheese dip fan\n",
      "chilly friday evening busy day normally enjoy sitting outdoors ybor weather said tonight ate inside \n",
      "love stone soup first time came groupon cooking lessons chef ben become regulars love food love rest\n",
      "i am tampa local one staple go - to restaurants want relax friend two low key even old school video \n",
      "cuban sandwich tasted amazing love way presented plate see attached picture care french fries bit so\n",
      "awesome place eat kayla ashley blast gave great customer service exwifes pasta plate different reall\n",
      "loved food - portions generous left another meal ! atmosphere eclectic definitely original service g\n",
      "fine dining surprise give chef raise ! found place only available parking space front it treasure op\n",
      "food alright worst service ive ever seen server forgot ring orders ended bringing food late finally \n",
      "cuban amazing ! granted first one cut perfect amount meat perfect bread perfectly toasted soup chili\n",
      "still hit customer years now new po boy loaded potato soup bacon still fresh friendly fast keep up \n",
      "great lunch spot one best places get nice bowl soup \n",
      "absolutely delicious food fantastic sangria ! cuban sandwich platter best i have ever had owners won\n",
      "bursting flavor 7th ybor ! + + i heard sorts compliments restaurant ran friend said must visit decid\n",
      "great service atmosphere food prices ! even patio rain lovely meal drinks definitely back ! \n",
      "could kiss chef figure speech get it ! yes wait good food i am complaining decor cute spot cozy food\n",
      "happened onto area total accident happy did ! staff hotel turned onto restaurant jennie server told \n",
      "great sammie shop ybor city sidewalk seating wonderful cuban sammie black beans rice \n",
      "arrive 7 : 45pm sat 20 - 30 people upstairs reservations wine given away husband one working knew de\n",
      "stopped lunch place recommended friend ordered fantastic cuban sandwich able look great selection be\n",
      "delicious food every time many times cuban sandwich hands best bread always crisped perfect fries de\n",
      "town miami heard cuban food really good tampa near ybor decided yelp see around decided place really\n",
      "well place sucked would give star restaurant clean forgot sandwich got here taste like anything cous\n",
      "good location soup good part allergy health conscious much menu us \n",
      "come see jessica ! delicious diverse menu little bit everything please anyone vegans vegetarians car\n",
      "even though shop located busy 7th avenue always seems like oasis storm disappear really feel like ge\n",
      "i have never cuban food recommended cuban food stayed florida + + this place came times locals asked\n",
      "great food great service ! gazpacho soup spanish bean soup empanadas delicious restaurant great vibe\n",
      "next door neighbor asked join trying restaurant ybor city lunch and part disappoint all ! + + we dec\n",
      "place delicious food affordable ! potato bacon soup yummiest soup ever tasted basically broccoli che\n",
      "place + potato bacon soup world cuban sandwich best ever tasted sangria perfect service superb + ver\n",
      "thank jessica wonderful afternoon father it pleasure talking getting history great town next time i \n",
      "exciting delicious dining experience pho king soup head shrimp kind comfort food delicious also side\n",
      "work ybor city food delivered bring own cannot leave work lunch unfortunately use delivery lot time \n",
      "love soup usually make home inexpensive i am good it stone soup they are also inexpensive pretty goo\n",
      "blt flatbread tomato basil soup excellent ! wife kgb borscht soup small greek salad salad huge; exce\n",
      "best cuban sandwich town often pair green veggie juice ca not recall name something like immune - su\n",
      "discovered place uber eats literally ordered month finally time today friend went check out sat bar \n",
      "ready customers ! chose location graduation luncheon grandparents said left hope never take again kn\n",
      "met someone lunch made great observation one that important ybor city stone soup close easy parking \n",
      "place heard awards cuban sandwiches i have lot cuban sandwiches years one money + + it crispy outsid\n",
      "quality food rates columbia top 7th avenue never ceases amaze quaint little restaurant compete big b\n",
      "wonderful menu best chicken noodle soup ! ! service super friendly helpful thanks ! \n",
      "ahhhhh ! i am torn ! + + i put aside consumer marketing background screams place lacks consistent tr\n",
      "yum ! looking authentic cuban food place awards line walls original cuban sandwich deservedly earned\n",
      "love concept giving back community stone soup ! friendly staff fun art decor real cuban delicious ! \n",
      "cool place husband came early dinner staying ybor lobster bisque chicken gyro soup good bit salty gy\n",
      "make sure ask staff like things menu greek burger burger made greek meat hamburger meat feta cheese \n",
      "husband toddler visiting parents came ybor city ate here ! best food ever ! must try lobster soup ! \n",
      "seeing pictures soups try place immediately ! little hesitant seeing located heart ybor tried anyway\n",
      "great sandwiches good beer selection friendly service small seemingly hole way hidden treasure \n",
      "eat lunch every time ybor love decor old brick walls inside historic feel greek salad potato salad e\n",
      "business got recommendation hotel great place excellent healthful food experienced well beyond expec\n",
      "probably fear getting death glares food surprises staff may frequent yelp hate people great commenta\n",
      "pick hand rolled cigar next door enjoy amazing cuban sandwich open air 7th ave awesome \n",
      "gr8 salads gr8 cubans juebans deb cant wrong here ! \n",
      "stone soup best kinda like favorite server amanda : o small greek salad huge amazing homemade dressi\n",
      "believe management place gave stars respond like this : + we going sell whole lotta soup customers s\n",
      "girlfriend ended stopping accident day trip florida aquarium turned one best food find surprises i h\n",
      "new location bigger better also well located next orpheum cuban sandwich amazing bartender served sw\n",
      "place pretty cool kinda hidden food good food took minutes come starving expect wait empanadas delig\n",
      "i have several times never disappointed great service awesome food ybor city great break partying hi\n",
      "love pho soup ! : d lets say grandma passed sorry know soup fills void this spot great people great \n",
      "great atmosphere great service great food fianc decided try place walking around ybor glad did waitr\n",
      "tried correct delivery order fault great second order cancelled picked phone instantly hang refused \n",
      "great service jessica not tiffany point french onion best kitchen know serve gyro though i am used m\n",
      "place super cute unique pretty hipster pretentious read pho online stoped dinner work night class pr\n",
      "glad found place championship game tried touristy place first line long came here menu loaded things\n",
      "got tampa saturday recovering bout food - poisoning wanted soup went panera bread got chicken soup a\n",
      "cool sit outside stone soup warm saturday evening main strip ybor city get lot fun people car watchi\n",
      "cuban wonderful tomato basil soup great sangria wonderful owners friendly staff great like sit outsi\n",
      "pretty sure first customer opened little closet - sized space 7th years ago owner offering samples i\n",
      "food good soup tasty ordered makers mark drink charged 2 50 mixer coke told management policy joshua\n",
      "really wanted fan cuban almost luke warm waiting minutes it lack luster best fries horrible soggy un\n",
      "great chili cuban sandwich okay customer service slow seemed irritated wait minutes bill - nothing o\n",
      "fianc getting tattoos ybor needed quick bite eat came plenty vegan options recently went vegan month\n",
      "say disappointed ! walked husband around 11 : 30 - 12 : 00 customer tables dirty clean tables all + \n",
      "first all amazing cuban sandwich tried different soups well loved all waitress think name yolanda fr\n",
      "really bad experience here worst customer service experienced joined yelp write review group waiter \n",
      "love place ! best customer service super friendly staff awesome food great prices gone way times cut\n",
      "great lunch spot much soups ! company recently relocated downtown tampa ybor city stone soup fast be\n",
      "always try stop way ybor city great soup \n",
      "every i am mood chicken soup soul specially hangover situations took family members day wedding much\n",
      "place awesome setting environment music food point wife loved place kids loved food games keep busy \n",
      "work ybor venture food usually embark restaurant best food also best service stone soup consistent q\n",
      "went dinner cheese bread bland bland third beer selection stated menu soups sampler lukewarm best to\n",
      "husband first time customers stepped live music stayed atmosphere delicious food highly recommend 15\n",
      "went counter try order waited minutes eventually told wait waiter someone would soon yet waited minu\n",
      "fantastic place cubans soups pastas awesome love coming here + + this hidden spot great place hang o\n",
      "sad moving larger location clearly taken toll delish soup sandwich shop ! ! several months ago husba\n",
      "got half half soup sandwich chicken noodle soup great oily cuban right size highly recommend \n",
      "came saturday afternoon 1 2 soups certainly mimic seinfeld no soup you ! clarified name restaurant c\n",
      "serve pretty good cuban sandwich version classic rueben pastrami lean \n",
      "favourite cuban sandwich ybor love stop mood great staff amazing new location ! \n",
      "cute place outdoor sidewalk seating deli good cuban cuban restaurant + + we award - winning cuban sa\n",
      "love place best cuban ! tried soups love them ! sangria awesome ! great service friendly would alway\n",
      "great way warm cold days ! highly recommend tomato soup grilled cheese ! also ex - wife pasta amazin\n",
      "best cuban sandwich ever ! mojo dip + was good drink day lol waitresses nice welcoming \n",
      "pretty average fare stone soup company funky little hole - in - the - wall type place lends certain \n",
      "menu awesome many options cuban jewish american italian greek options mention offer malt milkshakes \n",
      "nice surprise find home made empanadas here located near 15th close international gift store + + sto\n",
      "wife enjoyed eating lunch here ! food excellent server friendly helpful great selection craft beers \n",
      "okay one might say like cigars town another cigar shop recommend location good cuban food + + to say\n",
      "great soup sandwiches ! ! ! cuban sandwich crunchy flavorful great dipping sauce ! deb equally delic\n",
      "came norml event casual gathering like minded individuals chowing righteous food learning cuba ! lol\n",
      "loved everything had gazpacho great broccoli cheese soup best ever cuban sandwiches good milkshakes \n",
      "whole experience phenomenal started outstanding server jessica point made feel welcome ! started pot\n",
      "great always great atmosphere great food great drinks ! must ybor city \n",
      "love place ! coming year now food consistently delicious service always great i have hosted squad di\n",
      "tucked worth it ! cuban sandwich black beans rice ! amazing food amazing service jenni amazing red s\n",
      "keep somewhat short unique place lovely location atmosphere food : incredible ! assortment price gre\n",
      "amazing service best cuban sandwich world ! jennie favorite server ! \n",
      "ordered delivery - roasted chicken tenders buffalo sauce french onion soup service fine soup pretty \n",
      "good nice chill restaurant great workers food really good fresh well food took little bit make well \n",
      "cuban amazing cuban bread pizza ! today second time lunch left thinking delicious also french onion \n",
      "ordered cuban sandwich platter fries mac cheese star hubby ordered empanada meal one cuban empanada \n",
      "went birthday celebration close thursdays stayed open 10p request serve us charmingly urban space go\n",
      "eclectic artsy interior limited seating massive menu number winners sure try french onion soup wife \n",
      "rating food alone would give stars soup sandwiches awesome ! however issues dishes and ingredients s\n",
      "stone soup company ybor city great lunch spot 7th couple small tables outside nice days though place\n",
      "came tuesday late afternoon tropical storm colin pretty empty choose booth seat nice air conditioned\n",
      "solid first went staff screwed order gave cold soup eccch second third time good cuban really really\n",
      "boyfriend craving soup salad wanted something panera decided try place out happy did ! soups delicio\n",
      "lobster chowder sangria fantastic order largest servings enjoy nice place sit relax casual atmospher\n",
      "friends said come best cuban sandwich tampa area tell within miles place must stop cuban really beyo\n",
      "brian excellent server food delicious ! ! laid back environment excellent food great prices ! loved \n",
      "got friday lunch rush service slow cuban sandwich pretty killer served primanti bro style meats cuba\n",
      "stopped cuban sandwich disappointed large menu wanting something cuban \n",
      "place absolutely awesome ! ! ! spending time walking 7th avenue heading stone soup saw cuban sandwic\n",
      "went yesterday get food go tampa pride day really busy inside came in since parade still going on pe\n",
      "stone soup already personal favorite tonight part book reading event stone soup excellent job meetin\n",
      "customer services awful + + we restaurant com certificate read exclusions + went decided take kids g\n",
      "trifecta tasty interesting selection great atmosphere ton things menu never disappointed sandwiches \n",
      "really amazing french onion soup cuban served mojo dip ! i have never experienced best service here \n",
      "review comes pretty good meal value received wanted delivery weekend unfortunately parade going coul\n",
      "ordered three cheese broccoli soup would definitely back nothing negative say place walked 7th maybe\n",
      "great food great atmosphere great people ! went cuban sandwich greek salad outstanding + + the servi\n",
      "went today meet friend first time ! loved staff ambiance ! food great prices awesome got ! ! ! ! com\n",
      "years marriage would ask husband could make soup always said no got hooked matza ball soup ! warm we\n",
      "great food wide selection wonderful staff ! ! awesome soup ! nice break ybor chain stuff ! \n",
      "favorite new diner vibe cafe awesome food spanish bean soup chicken panini hot flakey bread tasty to\n",
      "good service cool place large menu food really good cuban loaded potato soup\n",
      "love atmosphere little gem way decorated friendliness staff really nice place stop lunch veggie sand\n",
      "every time come try get new england clam chowder never it pho i am looking forward trying everything\n",
      "nice little spot tucked historic ybor let name misguide you stone soup much offer simply soup person\n",
      "hoping excellent culinary experience coming here server well food eas lackluster ordered no beets bo\n",
      "came last night : food service owner house always recognizes receptive looking forward going often m\n",
      "guy long ash cigars referred disappointed food came quickly server friendly welcoming cuban sandwich\n",
      "cuban sandwich incredible ! think i have ever cuban sandwich before worth remembering however unforg\n",
      "fun restaurant ! funky eclectic decor local artists work adorning walls quirky tabletops cuban sandw\n",
      "freakin good potato broccoli soup girlfriend lobster chowder shared grill cheese sandwich also enjoy\n",
      "think i have ever pleased menu ton vegan vegetarian options prices amazing taste portion waiter nice\n",
      "must stop family visits ! cuban sandwich lives awards ! pleasant staff unique atmosphere ca not make\n",
      "lovely cozy spot pizzazz servers point ready assist moment walk without pushy whole team pleasant ta\n",
      "owney bottomline : great diverse menu nice artsy atmosphere good staff italian antipasta salad fanta\n",
      "friendly waitress excellent food my friend cuban sandwiches black beans waitress says service really\n",
      "tampa parents wanted good cuban sandwich brought stone soup company really enjoyed sandwiches season\n",
      "craving cuban sandwich tampa cuban restaurants plenty yet there really good cuban sandwiches enjoy t\n",
      "good cuban sandwiches really good big salads menu lots options cocktails also yummy ! good quick ser\n",
      "stone soup began one tampa first food trucks become much more quirky little shop diverse menu reads \n",
      "place fantastic ! ! ! food good fulfilling partner potato soup cuban platter always great spot histo\n",
      "visiting michigan finishing semester pleased find awesome restaurant within ybor ! + + everything tr\n",
      "gluten - free winner ! stone soup company hands absolute favorite restaurant ever ! deserve ten star\n",
      "wow ! ! place real deal ! ! everything fresh ! soups taste like homemade everyday ! ! portions huge \n",
      "small place bohemian vibe excellent economical food eat - in take out lunch \n",
      "i have going stone soup company ages part quality average today steak - n - cheese really knocked so\n",
      "highly recommend took daughters lunch ikea trip great food cuban incredible matzo ball soup fabulous\n",
      "i am sure thought good idea turn soup sauce work fact quite gross nothing mean nothing ordered good \n",
      "happened upon spot looking quick lunch fun eclectic spot great food service cuban mojo sauce one one\n",
      "finished trying stone soup name soup name ordered mama chicken soup soup luke warm flavor cuban fine\n",
      "say surprised experience good places eat far ybor + the server nice slow potato soup layer oil top l\n",
      "happened upon bar less stellar experience bar shall named jessica hands best bartender here sidespli\n",
      "restaurant great find ybor city cuban sandwich probably best i have ever had real authentic cuban br\n",
      "stayed ybor decided order delivery begin order arrived late bring drink caesar long hair it pork dis\n",
      "lovely eatery ybor ! menu pretty extensive original offerings made hard choose deal soup sandwich we\n",
      "whoooleee newwww wooooorrrld ! + seriously though since last review like staff actually present work\n",
      "first time checking place out mood soup definitely impressed selection taste josh server great ! \n",
      "i have eyeballing place ybor love homemade soups chicken noodle soup tasty broth tell made scratch c\n",
      "excellent soup sandwich combo great deal great price cheese broccoli soup meal unto itself need regu\n",
      "first thing see walk door stone soup company autographed photo soup nazi know real deal fortunately \n",
      "ybor never never be + + however love takeout coming back way orlando 11am allowed easy parking beati\n",
      "got delivery ca not remark restaurant service + + the cuban good ! good amount meat interesting diff\n",
      "cuban sandwich delightful classic made great authenticity highly recommend choice establishment ! ! \n",
      "bloody mary excellent vodka martini ok + but small pour cuban sandwich great pot stickers good littl\n",
      "decided girlfriend weeks ago rainy day ybor going rays game i am damn glad did opted cuban side frie\n",
      "really nice lunch moo good primanti bros good cuban really nice well troy server top marks\n",
      "ok need update review promised original would back give another shot back twice taking four stars + \n",
      "i am embarrassed call ybor regular never tried place now yummm ! ! wow ! love soup service incredibl\n",
      "place dumb good i have cuban times pretty solid they have awards too feature traditional ingredients\n",
      "according girlfriend jalape o margarita awesome cubans also really good full flavor would recommend \n",
      "couple friends town wanted know wanted meet up told them car could anywhere chose location meet grea\n",
      "great place ! great ownership ! best food long time soup here many yummy things ! fried pickles must\n",
      "bad service today even though lots tables free told waiting list pointing literally outside tables e\n",
      "must eat ybor big menu stays lane take many visits cover soups cuban sand outstanding lasagna differ\n",
      "since florida four seasons one day there better way enjoy cool mornings brunch stop stone soup compa\n",
      "one favorite places hands down + every one works sweet helpful + great vegetarian vegan options way \n",
      "wonderful place lunch ! everything good best item empanadas guava amazing comes hot freshy cooked lo\n",
      "service excellent delicious cuban sandwich lobster bisque love also mexican coke environment eclecti\n",
      "wife come least month we are never disappointed award winning cuban excellent soups great just name \n",
      "ca not believe i have never before located right next orpheum probably passed million times without \n",
      "soon moved tampa wanted find best soup place around came right away made way ybor give try ordered s\n",
      "atmosphere nice love upstairs speakeasy food bit bland + bad great either got cuban sandwich chicken\n",
      "always stop town business great house made sangria soups eclectic delectable ! nice selection sandwi\n",
      "great soup great service went group church alittle bit everything everyone enjoying meals wish bigge\n",
      "going place past three years always enjoyed loved service food everything i have amazing love empana\n",
      "good soup ! great service ! funky decor ! tomato basil soup lobster bisque point ! \n",
      "jessica provided outstanding service breakfast bowl die for ! suggestion put hash browns instead fri\n",
      "soup awesome decor crazy cool funky cold thing need life right now \n",
      "i have miami several times cuban sandwiches florida neighboring states far best one ever had good fr\n",
      "great atmosphere friendly staff eclectic menu great food definitely back soon explore menu \n",
      "stone soup far favorite business establishment ybor customer almost years never bad experience food \n",
      "cuban sandwich delicious ! fries bartender jessica makes best mojito town\n",
      "ordered cuban sandwich place pretty much empty wednesday night food came pretty quickly staff looked\n",
      " updated 7 29 17 + i checked new location dinner today street old location 7th ave 19th 20th st + th\n",
      "waited long time food said cook lost order three got sandwiches dry disappointing highly recommended\n",
      "went establishment daughters shopping recommendation previous patron said great oops not great total\n",
      "favorite bar ybor happens bar restaurant charity speakeasy one ! + + located edge bustling block mak\n",
      "great menu selections great food awesome service recommend ybor chili deb sandwich empanadas also de\n",
      "huge menu filled delicious sounding options hard time choosing went panini amazing back continue exp\n",
      "loved new location great food great atmosphere ! tried several different things excellent becky serv\n",
      "ate yesterday lunch kgb borscht cuban point served fresh hot always treat able eat there \n",
      "vegan empanadas ! order even vegan delicious plus cheap drinks friendly tad slow service tampa class\n",
      "everything amazing ! favorite part work non - profits help feed homeless ! leftover product end week\n",
      "delightful find chilly ruben delightful actually wonderful service perfect must ybor ! \n",
      "pros + the wait staff friendly outgoing towards customers + the restaurant nice interior wonderful a\n",
      "overpriced bowl size cup best borscht unlike borscht soup ever many beets quite watery tasteless wif\n",
      "excellent sandwiches had reuben best had also shared cuban disappoint also tried sangria freshly mad\n",
      "jeuben gyro great went gig around corner great choice probably nice spot lunch \n",
      "place good food prepared fresh service excellent ambiance mix everything outdoor seating heart ybor \n",
      "event 100 people ilya stone soup company team brought goods paninis empanadas rice beans couple type\n",
      "work trip stopped lunch staff nice ordered lunch soup tomato salad caesar special delicious menu man\n",
      "made another fantastic experience ssc ! new location expand food beverage menu outstanding started h\n",
      "lunch ybor city : + pretzel bites cheese appetizer bomb - diggity ! ! ! + crab bisque gee - great ! \n",
      "lucky enough find place looking something else great choice turned be server sam gave personalized s\n",
      "work ybor love walking place lunch total 4 - 5 last months + + the prices reasonable especially qual\n",
      "place could better menu huge looks great service weak place empty took forever to get wrong good plu\n",
      "got cuban sandwich loaded potato soup amazing soup best loaded potato soup ever had surprise cuban o\n",
      "original cuban platter mac cheese bomb dezrey waitress enchanting\n",
      "traveling area wanted pass sandwich hes heard cuban pan con lechon sandwiches amazing + + soo picked\n",
      "must try ! fire ant bloody mary ! entire meal fantastic ! saw staff smiles faces pleasurable experie\n",
      "hate give cuz soups point ! dont order anything else dang meun ! 4times one time service fucking slo\n",
      "claim one best cubans tampa tried ridiculous amount would actually agree really damn good cuban sand\n",
      "got fish chip app hubby got cuban sandwich also got lobster soup taken bill soup bummer cos lobster \n",
      "bad hombre excellent ! recommend place people watching awesome \n",
      "found cute spot definitely excited come back ! mood good cuban sandwich place disappoint service pro\n",
      "stone soup pretty good 3 5 deserving stars new location company suits nicely plenty room cool decor \n",
      "pleasantly surprised tampa natives hard impress comes restuarant ybor city traditional culture food \n",
      "upon arriving tampa area stopped ybor city lunch randomly walked stone soup great lunch good soup fa\n",
      "went stone soup company lunch chorizo soup amazing ! ! ! server jessica simply best i will definitel\n",
      "kristin permanent server friendly attentive owner always smile face ! generate positive atmosphere !\n",
      "reason; place ybor cuban food quite unfortunate course ordered cuban sandwich empanadas tasty yelp d\n",
      "happened searching website listed restaurants tampa awards little gem listed seeing love soup felt r\n",
      "empanada amazing great drinks server super personal casual bite dinner i would definitely come back \n",
      "best cuban sandwich ybor ! great atmosphere jessica waitress phenomenal ! \n",
      "great place socializing cool room tea ! nicely decorated ! nice owner bringing girlfriends birthday \n",
      "ordered delivery website impressed ordered cesear salad chicken well momma chicken noodle soup + + t\n",
      "decent food bad service took hour get food remake it ask water refill etc attentive all second time \n",
      "great place several options people doesnt eat meat service great price good food delicious ! \n",
      "place great ! really cool vibe food incredible great price ! ! ! make sure get soup tomato basil del\n",
      "decided visit ybor city tampa pulled interstate found parking lot walked strip surprised find minima\n",
      "service 10 + food also good although hard consider stars considering ordered + + so wandered place t\n",
      "work ybor whenever get chance sit lunch jobs always first choice food amazing servers always friendl\n",
      "owner excellent place ! future looking bright modifications 2nd floor food wonderful i have chili ph\n",
      "went lunch weekday since work nearby place clean booth comfortable music loud ordered steak sandwich\n",
      "first time eating nothing positive say staff food bad ca not fathom people eat here nothing menu des\n",
      "sat minutes ago took minutes get water table take order i have waiting minutes sandwich old location\n",
      "take hour get order i would give many stars never offered excuse wait long little sympathy would rai\n",
      "nice place eclectic diner cool artwork menu nice variety soups sandwiches salads lobster bisque fres\n",
      "owner sucks think everyone ybor knows went in issue food give single shit places like dont stay busi\n",
      "great sandwich bad service pathetic first took 25 - 30 minutes get order sandwiches time restaurant \n",
      "best best best cuban sandwich ever whole planet one best sandwiches ever find cuban sandwiches dry b\n",
      "order lunch online outside delivery range called offer 10 discount pick up ordered burrito bowl chic\n",
      "cuban empanadas delicious looking sample cuban foods ybor area beef empanada cuban empanadas definit\n",
      "tried first time reviews thoroughly enjoyed it arrived around 12 : 30 thursday lunch seated almost i\n",
      "tonight long time waited finally stopped stone soup company seated right away saturday night little \n",
      "truly surprised dramatic polarization ratings prior reviewers many matched nearly many 2s love hate \n",
      "first time tampa first time eating cuban sandwich intrigued award winning sandwich place advertises \n",
      "love coming here times week food great waitresses awesome never anything live here \n",
      "edit since threatened feel need update experience + + i stand way treated establishment would like n\n",
      "best friends went visit sunday afternoon ambiance really cool plenty seats inside well outside resta\n",
      "ooh boy cuban sandwich + + it right best i have had love way cut length - wise perfect dipping mild \n",
      "waited twenty minutes saturday around pm decently busy place considering area located pretty run dow\n",
      "staff friendly service good may come day food pretty bad fried pickles decent fries came soggy odd s\n",
      "save trip place gamble may good one day horrible next day + + i am highly disappointed i have restau\n",
      "experience bad laughable even upset everything off never return believe hype dig several reviews unf\n",
      "vacation daughter sick husband went get matzo ball soup 18 quart soup one little matzo ball whole th\n",
      "definitely favorite cuban sandwich got last trip tampa ordered regular cuban sandwich voted one best\n",
      "far worst service ever had drinks took minutes serve fianc ordered drink got meals never came never \n",
      "i have told reputable source place great cubans finally got chance try indeed fantastic love citrusy\n",
      "excited finally try restaurant ordered stoney panini big cheese solo took first bite noticed taste p\n",
      "came take around 6pm sunday placed order told would take minutes ordered lobster bisque mac cheese w\n",
      "eating years locations never bad meal soups solid gotten bulk soups dinners house food extremely aff\n",
      "great cuban sando ! super friendly wait staff chill vibe ! menu bit top overwhelming they will give \n",
      "cold florida evening perfect soup weather stopped elected bowl chili disappoint lovely happy service\n",
      "went group town thursday one sitting stairs saw figured would give try since places busy + + our ser\n",
      "placed order online said would ready half hour showed pick mins later to give enough time arrived or\n",
      "good sandwiches slowest depressing service i have had wasted kinds time trying get sandwich made rig\n",
      "alright located ybor find parking walk here menu selection pretty diverse \n",
      "disappointing great meal last time ate march came back again check - in yelp supposed get free sangr\n",
      "let preface fact came high expectations based pictures seen yelp menu restaurant nice good open bar \n",
      "giving based hopes items better place really cute wanted like badly + + with name stone soup company\n",
      "boyfriend live street come eat probably times always satisfied meal service every time today came lu\n",
      "freezing spell florida week winter hungry ! way improv stumbled upon place first thing drew soup ! !\n",
      "favorite place chill eat far food always amazing soups die people welcoming keep great work guys kit\n",
      "omg start got there person front me + they giving hard time + i gave order turn waited awhile order \n",
      "slow get seated slow get served soups pho spanish bean so - so best \n",
      "i have given place chances count mostly boyfriend really likes cuban sandwich every single time i ha\n",
      "food ok service worse convenient decent option would probably get rid upstairs tenant sure trying th\n",
      "ate last night second visit daughter first time wife myself let talk food first daughter cuban great\n",
      "traveled far take outs decided come ybor buy sanitizers tampa bay rum decided pick takeout ybor too \n",
      "reputable tampa area best cuban turns people kidding midnight cuban may best miami style cuban i hav\n",
      "second time ate lunch work nearby eat lot like different ybor establishments first time went lunch t\n",
      "first thing noticed bathroom disgusting atmosphere ok food disappointing borscht cuban empanada bors\n",
      "food phenomenal ! ! husband enjoyed original cuban ! mojo sauce side perfect ! ! enjoyed jueban jewi\n",
      "terrible service ask drink refills ask peppers greek salad ask salad ordered mins ago wheres coffee \n",
      "really excited eating however disappointing took least minutes food arrive soup room temperature eve\n",
      "got cuban white cheddar truffle mac with bacon delicious french onion everything absolutely insane l\n",
      "loved place ! drove ybor city assumed strictly soup place one cigar stores asked clerk could get goo\n",
      "so ! yesterday tampa lunch wanted something different stopped stone soup company reviewing menu onli\n",
      "went second time today + + the first time tried stone soup company called order vegan pho ran noodle\n",
      "monday afternoon stone soup company food truck parked blocks home carrollwood decided stop lunch run\n",
      "ate three years ago great went today wow terrible cuban sandwich two thin sticks barely anything bea\n",
      "first time impressed served wife soup room temperature gotta real goofball serve someone soup hot \n",
      "spending time son alex lunch special 1 2 sandwich po boy soup french onion soup without bread h2o le\n",
      "food pretty good asked nicely possible turn music could enjoy conversation nice sunday afternoon out\n",
      "looking forward trying stone soup reading yelp reviews madeline feeling fantastic wanted soup restau\n",
      "soup good rest menu ok glad tried likely return \n",
      "awesome location quaint hole wall service superb food delectable order soup bowl meal would recommen\n",
      "drawn stone soup saw offered cincinnati style chili disappointed see true cincinnati style regular c\n",
      "stopped recent lunch disappointed cuban sandwich excellent place makes authentic cuban sandwich way \n",
      "food amazing server ryan great ! 10 10 would eat again got shrimp po boy veggie burger cajun slaw\n",
      "came stone soup friend early evening dinner fairly empty heard great things cuban sandwich seated ri\n",
      "first time tampa try cuban sandwich delicious fulfilling fries super good husband fish pro boy also \n",
      "first actual restaurant visit upon arriving state first time excited i am foodie high expectations l\n",
      "great soup ! service beyond amazing tried chicken noodle tomato back try more ! \n",
      "whatever mojo sauce think also pickle juice it ca not stop thinking it comes cuban sandwich memorabl\n",
      "eaten stone soup ybor many times lunch great soup sandwiches salads + kaley server recent visit frie\n",
      "ordered since june prior + to today loved it ! i am sue changed owners chefs menu recipes definitely\n",
      "food excellent love onion soup helpful definitely try soon\n",
      "apparently management like review seems recurring theme critical reviews email received thru yelp : \n",
      "cool vibe friendly service + i dug food ca not say top shelf columbia better cuban sandwiches despit\n",
      "food mediocre literally took minutes get drinks regular beverages - soft drinks service extremely sl\n",
      "i have stone soup dozen times always great food service selection prices i have multiple items menu \n",
      "best cuban tampa ! staff always friendly often order to - go food good dining in ! spot always bring\n",
      "unfortunately service terrible food great shame ! female server tattoos face never came back take or\n",
      "excellent service quality food amazing ! love coming feeling right home eat everytime cuban french o\n",
      "came tampa went stone soup company first time nice restaurant unique cuban sandwich amazing beer che\n",
      "massive menu soups good shrimp boy time phenomenal \n",
      "great meal ! cuban good ! ! really enjoyed heat ! ! food well flavored right amount jalape os really\n",
      "well food great me wife dairy allergy waiter first brought broccoli cheese soup order although immed\n",
      "place awesome cuban ! love bread meats high quality ! lobster bisque awesome too ! potato salad one \n",
      "order stone soup quite frequently since work couple blocks them sometimes order delivery sometimes o\n",
      "party wait food hour two vegan friends brought impossible burger ordered beyond burger menu really u\n",
      "food amazing customer service incredible ! really behind here would highly recommend flan cuban sand\n",
      "horrible experience ! ! ! ! service bad food worse ! 1 2 party felt sick eating sandwiches gave peop\n",
      "loved atmosphere artwork walls beer wine bottle chandeliers cuban seafood pasta delish ! cuban made \n",
      "food : often find place good vegan food also good non - vegan options usually either or well stone s\n",
      "let start saying excited try place menu looked amazing dietary restrictions hence giving stars versu\n",
      "supervisor decided order lunch chilly day florida figured soup would best option interested mama chi\n",
      "so thought spookeasy lounge wandered bar looked menu saw devil old fashioned like guess must it spoo\n",
      "fun atmosphere sara behind bar makes really fun food selection amazing decent amount beer choose fro\n",
      "never bad meal went mothers day covid19 everything always fresh hot ! favorite baked potato soup cub\n",
      "place absolute fire ! ! seafood lobster pasta bowl uh maze ing cannot wait return definitely coming \n",
      "lived tampa entire life truly missing place ! came back town wedding came lunch impressed menu playl\n",
      "i am sitting right i am really quite upset bowl pho bland tasteless literally tastes like water nood\n",
      "excited try place friend recommend me outside establishment looks inviting + + upon entering ambienc\n",
      "actually wear masks came long day work ex - wife pasta bowl blackberry mule pasta bowl hit way would\n",
      "nice place different try town kati great server really like menu catered vegans vegetarians strict v\n",
      "hands down best cuban sandwich ever had ! served mojo dip beyond delicious hands down kindest owner \n",
      "seated quickly service slow least server was pretzel appetizer alright nothing special bfs mac chees\n",
      "yelps big night event decided try new place never before called up placed order drove ybor where loc\n",
      "use yelp gauge restaurants however comment now i have ordered takeout ubereats several times years i\n",
      "killer cuban sandwiches great service good coffee too four times great every time upstairs speakeasy\n",
      "probably one worst restaurants ever had thing decent broccoli soup ordered empanadas cuban sandwich \n",
      "absolutely love place ! hidden gem middle ybor came lunch weekday busy find seats ended getting lunc\n",
      "excited finally try restaurant ordered stoney panini big cheese solo took first bite noticed taste p\n",
      "expected kind deli atmosphere think but charming comfortable little restaurant great soup ! interest\n",
      "wanted place awesome sucked seated right away hour served food misrepresented menu french toast bowl\n",
      "awesome food generous portions great service plan going back real soon lunch super \n",
      "sat minutes ago took minutes get water table take order i have waiting minutes sandwich old location\n",
      "sad take pictures food establishment matter nothing great things say stone soup company ! first went\n",
      "ordered selection soups birthday party order fresh hot ready time friendly helpful staff great menu \n",
      "service stars ! kaley waitress sweet kind ! asked would able sample soup since sure hesitate brought\n",
      "friend walked restaurant greeted someone kitchen area came up seated us gave menu look table decor s\n",
      "pretty decent cuban sandwiches atmosphere cool too staff friendly food came quick ! price point good\n",
      "even rate one star food absolutely disgusting cooked salty waitress friendly though well staff beaut\n",
      "we have never eaten before thought we would give shot ordered via amazon delivery ordered items minu\n",
      "called weeks ago ask reservations assured need any fast forward yesterday 2 18 18 brought guests vis\n",
      "place look like much walk family starving went in + + everything place screams cool booths wall deco\n",
      "first good carry conversation without yelling major plus me know many places think need music blarin\n",
      "jessica amazing making delicious drinks great attitude vibe makes feel good enjoying amazing food dr\n",
      "place recommended via friends went lunch today supporting local establishments greeted nicely sat ta\n",
      "expected soup place menu quite big lots choose impressed - - the guava empanadas bad friend got pita\n",
      "highly recommend anyone area jewbeun sandwich solid friend jason ordered said reminded home also tom\n",
      "two dollar mamosa sunday beef empanada really really well made ! eat empanadas tampa bay would come \n",
      "great place ! ! ! yummy food ! ! ! + very friendly staff heart ybor city + + great menu try lobster \n",
      "ordered lunch office got stoney panini one worst sandwiches i have had bread tough prosciutto gummy \n",
      "weirdest experience here sister went ordered six items two wrong one item even knew wrong took back \n",
      "disappointing ! + + i excited try stone soup new location i have amazon delivery + + the menu huge l\n",
      "i have told reputable source place great cubans finally got chance try indeed fantastic love citrusy\n",
      "got try place food truck ordered cuban sandwich ca not believe place higher rating strictly based cu\n",
      "great lunch stone soup company two days ago consisted delicious greek salad grilled gyro meat creamy\n",
      "great spot great service food comes quick would put cuban top tampa fresh cut fries well try\n",
      "wife lunch stone soup company today definitely coming back wife reuben toasted cuban bread amazing r\n",
      "came lunch slow saturday afternoon seated given water ignored minutes one coming take order left dis\n",
      "lunch today wedding soup 1 2 cuban chart good server jessica even better ! ! \n",
      "great food awesome atmosphere really enjoyed cuban well hummus elizabeth friendly definitely made da\n",
      "friend stopped walking 7th ybor looked smelled really good decided walk in happened one favorite pla\n",
      "said going eat owner reckless comment section went anyway greek salad phenomenal ! fresh crispy ice \n",
      "ridiculous service seated fifteen minutes without acknowledged not even busy another couple seated s\n",
      "worst service long time waited minutes drink lady behind bar might server sure never seeing getting \n",
      "believe hype awards stone soup company received ordered pick - up night wife disappointed + + i got \n",
      "i have stone soup maybe 5 - 6 times never quite star experience sometimes star sometimes never usual\n",
      "cuban great ! ! ! one best i have ever i am tampa native broccoli potato cheddar soup phenomenal ! d\n",
      "sorry ate rather famous restaurant road + + it wrong every way + + we monday lunch crowd yet service\n",
      "came stone soup past weekend one friends first time there plenty times must say first time really en\n",
      "starting cool interior design rocking beach boys music stone soup company definitely place go librar\n",
      "matzah ball soup cold tasteless lobster bisque alcohol cooked terrible cuban ok greek potato salad g\n",
      "ate yesterday lunch kgb borscht cuban point served fresh hot always treat great food great service a\n",
      "i am one write negative reviews going bad experience arrived 8 : 15 place closes ended walking 8 : 5\n",
      "luke warm soup big chunks cooked vegetables cuban even melted cheese \n",
      "maybe bad day food took minutes arrive lunch tables occupied food good soup warm today kids menu bet\n",
      "i have never restaurant allow exchange menu item like it owner would allow switch soup like fine ret\n",
      "descent food great location but need second location accommodate areas tampa heart ybor menu pricing\n",
      "waiter polite food omg ordered come spice honest recommend restaurant ordered tomato soup believe go\n",
      "came reviews stellar however disappointed tried order glass malbec out placed order fried pickles we\n",
      "much yum lord recommended try irish mule cuban sandwich hats waiter ca not remember name gave 4 11 g\n",
      "multiple times food service always amazing two times gone sam waiter friendly knows everything menu \n",
      "great food atmosphere service ! loved food names thing menu fun made experience even better\n",
      "came stone soup company already great day severe dehydration mixed apple juice nothing else morning \n",
      "chicken breast strips completely raw disgusting waited almost minutes raw food wont back let hope ge\n",
      "establishment years fact new location 7th went stone soup friend small get together birthday reserve\n",
      "idea place stars combination delicious cuban food comfort food best around pulled pork rice beans be\n",
      "first time tried soup company got lobster bisque soup broccoli side delicious thing i have ever expe\n",
      "dude place fucking amazing traditional cuban added tomato fries side even take picture cause immedia\n",
      "stone soup company incredible ! tell welcoming customer service long road trip ! french onion soup e\n",
      "soups great think named place like that everything else horrible ordered fish came seasoning taste s\n",
      "tried cuban sandwich 8 served quickly good taste toasty crunchy nice hammy flavor salty first cuban \n",
      "many times recent planned celebration ownership staff ssc fabulous arranged space upstairs worked me\n",
      "avoid place worth dealing poor customer service flies long wait or experienced horribly rude manager\n",
      "idea place stars combination delicious cuban food comfort food best around pulled pork rice beans be\n",
      "quite menu place seem known cubans i have heard ventured recently dinner cuban platter comes side ch\n",
      "great service cool setting tons menu choices care pho king super bowl tastes greasy lack better term\n",
      "went 3 2 17 cubano disappointed ! delicious sandwich employees friendly efficient way could better d\n",
      "love cuban sammie one best ever had chicken tenders krispy kreme donut sundae pizza also yummy ! rea\n",
      "horrible food cold rice beans well done rice still bit hard beans hard well cold ! cuban sandwich co\n",
      " shoulder shrug + + i came summer jeuben jewish spin reuben uses pastrami instead corned beef pretty\n",
      "family really excited try restaurant since pics looked amazing reviews seemed point but after orderi\n",
      "order chicken soup somewhere else sick pieces chicken whole quart 18 ! carrabas place better that gy\n",
      "yelps big night event 4 11 2020 decided try new place never before called up placed order drove ybor\n",
      "gaze son fredrick aquarium entranced algae covered walls - black green static sludge floating specks\n",
      "stopped visit ybor recently decor cool getting three stars beer cold draft beer ordered chili cold o\n",
      "came small lunch empanadas bad hombre + + pros : ambience super cool love upstairs bad hombre pretty\n",
      "lunch weeks ago sunday basically bar serves soup sandwiches enjoy cuban sandwich lot soups menu valu\n",
      "late afternoon february last day gasparilla festivities approached stone soup company restaurant fea\n",
      "best experience here waiter kind clear really cared customers unsettling incident occur one friends \n",
      "quite literally best cuban sandwich land served side mojo pork aus jus like french dip meets cuban s\n",
      "best cuban sandwich i have tried tampa ! ! + i placed delivery order came timely manner allowing enj\n",
      "rather disappointing experience here + + first dying matzo ball soup sad heard chicken noodle matzo \n",
      "seriously for is a casually wonderful nook nice pittsburgh vibe place perfect brought daughter conce\n",
      "tonight dined family stone soup attended family event wonderful time food awesome server hayden poli\n",
      "terrible already reported post mates ordered two items sandwiches came small amounts meat slivers on\n",
      "excited try place since heard good things went sunday late lunch many people there understanding lon\n",
      "urgh really wanted love place arrived took kinda long someone greet offer drinks seated began order \n",
      "soups hot really salty soups warm like hot temperature soups best thing french toast dessert mamas p\n",
      "great menu lobster bisque soup yum ! + had rice noodle dish also yum ! + highly recommend place ! fu\n",
      "amazing dinner stone soup company food amazing reasonably priced service great liked fact order 1 2 \n",
      "would somewhere else ybor soup specialty server said known paninis got chicken soup out matzah opted\n",
      "love stone soups food sandwiches ! one favorite spots ybor love new location well favorite probably \n",
      "first time here yummy food great service thank jessica great service ! lobster bisque cuban boneless\n",
      "stars average food + + - - - - - - - - - + + 3 stars bad thing stars bad star awful alright joint fe\n",
      "lunch stone soup company cold day crowded service good food great ! + they plenty gluten free vegeta\n",
      "visited place late january ! partying 7th avenue started drinking like tomorrow decided stop grab so\n",
      "found establishment searching cubans ybor nephew visiting philly trying cuban list whew lucky picked\n",
      "stone soup company definitely worth eating ybor ! came lunch impressed menu nice selection items wan\n",
      "wanted something light dinner soup ! came across restaurant ybor awesome experience + + the decor ra\n",
      "absolutely delicious ! group several items menu; including soups sandwiches sides everything terrifi\n",
      "really like stone soup company they have got one best cubans i have tampa i have regular cuban bad h\n",
      "cannot get enough place ! glad moved bigger venue think wrong anything menu unfortunately love cuban\n",
      "stone soup company one places leave mind blown surprised seriously mind might get blown away taste b\n",
      "change review recent experience definitely made last time + + the service time great server attentiv\n",
      "great place wife cousin stopped first time love it ! ! ! definitely back food prices really good too\n",
      "first thing come hurry dining experience wait staff seemed bit discombobulated several occasions ser\n",
      "place several years boyfriend decided hit lunch today atmosphere good arrived chalk board stating wa\n",
      "great menu delicious food horrendous service servers slow super inattentive food came cold took minu\n",
      "arrived gulf coast first stop ybor city first destination ybor city stone soup cuban sandwich award \n",
      "get cuban sandwich regret cuban sandwiches pale comparison \n",
      "food good service excellent problem food took close hour come box head back job \n",
      "hungry ikea trip decided check yelp suggestions found place close - by ybor stopped in let bar ambie\n",
      "visiting ybor city decided stop try good cuisine guess caught slow time ones there however food disa\n"
     ]
    }
   ],
   "source": [
    "print('\\n'.join([r[:100] for r in new_reviews.tolist()])) # restaurant reviews"
   ]
  },
  {
   "cell_type": "code",
   "execution_count": 103,
   "id": "b9d64bcd",
   "metadata": {},
   "outputs": [],
   "source": [
    "new_categories = df_business.loc[df_business['business_id'] == business_choose, 'categories']"
   ]
  },
  {
   "cell_type": "code",
   "execution_count": 104,
   "id": "9d68271e",
   "metadata": {},
   "outputs": [
    {
     "data": {
      "text/plain": [
       "{'Soup, Restaurants, Cuban, Sandwiches'}"
      ]
     },
     "execution_count": 104,
     "metadata": {},
     "output_type": "execute_result"
    }
   ],
   "source": [
    "set(new_categories.tolist()) #  restaurant categories"
   ]
  },
  {
   "cell_type": "markdown",
   "id": "c4fd3c64",
   "metadata": {},
   "source": [
    "Here, we compute two sets of distancecs: we compute the correlation distance of the average vectorized reviews to all the reviews, and compute the correlation distance between this category and all other categories. The category trick will be clearer when we see the results."
   ]
  },
  {
   "cell_type": "code",
   "execution_count": 105,
   "id": "b8393a2c",
   "metadata": {},
   "outputs": [
    {
     "data": {
      "text/plain": [
       "(303232, 2960)"
      ]
     },
     "execution_count": 105,
     "metadata": {},
     "output_type": "execute_result"
    }
   ],
   "source": [
    "businessxreview.shape"
   ]
  },
  {
   "cell_type": "code",
   "execution_count": 106,
   "id": "88683d99",
   "metadata": {},
   "outputs": [
    {
     "data": {
      "text/plain": [
       "matrix([[0, 0, 0, ..., 0, 0, 0],\n",
       "        [0, 0, 0, ..., 0, 0, 0],\n",
       "        [0, 0, 0, ..., 0, 0, 0],\n",
       "        ...,\n",
       "        [0, 0, 0, ..., 0, 0, 0],\n",
       "        [0, 0, 0, ..., 0, 0, 0],\n",
       "        [0, 0, 0, ..., 0, 0, 0]], dtype=uint8)"
      ]
     },
     "execution_count": 106,
     "metadata": {},
     "output_type": "execute_result"
    }
   ],
   "source": [
    "businessxreview.todense()"
   ]
  },
  {
   "cell_type": "code",
   "execution_count": 107,
   "id": "6438b597",
   "metadata": {},
   "outputs": [],
   "source": [
    "from scipy.spatial.distance import cdist\n",
    "# find most similar reviews\n",
    "dists1 = cdist(vectorizer_reviews.transform(new_reviews).todense().mean(axis=0), \n",
    "              vectorized_reviews.T.dot(businessxreview).T.todense(), \n",
    "               metric='correlation')\n",
    "# find most similar categories\n",
    "dists2 = cdist(vectorizer_categories.transform(new_categories).todense().mean(axis=0), \n",
    "              vectorized_categories.todense(), \n",
    "               metric='correlation')"
   ]
  },
  {
   "cell_type": "code",
   "execution_count": 108,
   "id": "01c68427",
   "metadata": {},
   "outputs": [
    {
     "data": {
      "text/plain": [
       "(1, 2960)"
      ]
     },
     "execution_count": 108,
     "metadata": {},
     "output_type": "execute_result"
    }
   ],
   "source": [
    "dists1.shape"
   ]
  },
  {
   "cell_type": "code",
   "execution_count": 109,
   "id": "371e642e",
   "metadata": {},
   "outputs": [
    {
     "data": {
      "text/plain": [
       "(1, 2960)"
      ]
     },
     "execution_count": 109,
     "metadata": {},
     "output_type": "execute_result"
    }
   ],
   "source": [
    "dists2.shape"
   ]
  },
  {
   "cell_type": "code",
   "execution_count": 110,
   "id": "0f1ab21d",
   "metadata": {},
   "outputs": [
    {
     "data": {
      "text/plain": [
       "array([[0.71798333, 0.65123603, 0.75815217, ..., 0.75815217, 0.75815217,\n",
       "        0.82261819]])"
      ]
     },
     "execution_count": 110,
     "metadata": {},
     "output_type": "execute_result"
    }
   ],
   "source": [
    "dists2"
   ]
  },
  {
   "cell_type": "markdown",
   "id": "1ad308d8",
   "metadata": {},
   "source": [
    "Now we combine the two sets of distances and take the average of those (we can take other metrics such as min or max, depending on your priority)."
   ]
  },
  {
   "cell_type": "code",
   "execution_count": 111,
   "id": "d6ef2d97",
   "metadata": {},
   "outputs": [],
   "source": [
    "# combine the two vectors in one matrix\n",
    "dists_together = np.vstack([dists1.ravel(), dists2.ravel()]).T"
   ]
  },
  {
   "cell_type": "code",
   "execution_count": 112,
   "id": "51c566ad",
   "metadata": {},
   "outputs": [
    {
     "data": {
      "text/plain": [
       "array([[0.24040151, 0.71798333],\n",
       "       [0.21335687, 0.65123603],\n",
       "       [0.58795558, 0.75815217],\n",
       "       ...,\n",
       "       [0.21650656, 0.75815217],\n",
       "       [0.3820175 , 0.75815217],\n",
       "       [0.24022049, 0.82261819]])"
      ]
     },
     "execution_count": 112,
     "metadata": {},
     "output_type": "execute_result"
    }
   ],
   "source": [
    "dists_together"
   ]
  },
  {
   "cell_type": "code",
   "execution_count": 113,
   "id": "80d07f37",
   "metadata": {},
   "outputs": [],
   "source": [
    "# this is a key cell: how are we going to prioritize ?\n",
    "dists = dists_together.mean(axis=1)"
   ]
  },
  {
   "cell_type": "code",
   "execution_count": 114,
   "id": "0c00882a",
   "metadata": {},
   "outputs": [
    {
     "data": {
      "text/plain": [
       "array([0.47919242, 0.43229645, 0.67305388, ..., 0.48732937, 0.57008484,\n",
       "       0.53141934])"
      ]
     },
     "execution_count": 114,
     "metadata": {},
     "output_type": "execute_result"
    }
   ],
   "source": [
    "dists"
   ]
  },
  {
   "cell_type": "markdown",
   "id": "598402ce",
   "metadata": {},
   "source": [
    "selecting 10 restaurants most similar to the selected restaurant."
   ]
  },
  {
   "cell_type": "code",
   "execution_count": 115,
   "id": "ad2ed226",
   "metadata": {},
   "outputs": [],
   "source": [
    "# select the closest 10\n",
    "closest = dists.argsort().ravel()[:10]"
   ]
  },
  {
   "cell_type": "markdown",
   "id": "611699f1",
   "metadata": {},
   "source": [
    "Selected restaurants display:"
   ]
  },
  {
   "cell_type": "code",
   "execution_count": 118,
   "id": "111a7fb9",
   "metadata": {},
   "outputs": [
    {
     "data": {
      "text/html": [
       "<div>\n",
       "<style scoped>\n",
       "    .dataframe tbody tr th:only-of-type {\n",
       "        vertical-align: middle;\n",
       "    }\n",
       "\n",
       "    .dataframe tbody tr th {\n",
       "        vertical-align: top;\n",
       "    }\n",
       "\n",
       "    .dataframe thead th {\n",
       "        text-align: right;\n",
       "    }\n",
       "</style>\n",
       "<table border=\"1\" class=\"dataframe\">\n",
       "  <thead>\n",
       "    <tr style=\"text-align: right;\">\n",
       "      <th></th>\n",
       "      <th>business_id</th>\n",
       "      <th>categories</th>\n",
       "      <th>name</th>\n",
       "      <th>stars</th>\n",
       "    </tr>\n",
       "  </thead>\n",
       "  <tbody>\n",
       "    <tr>\n",
       "      <th>6048</th>\n",
       "      <td>VSpseb6oijtKffRRL_xfgQ</td>\n",
       "      <td>Soup, Restaurants, Cuban, Sandwiches</td>\n",
       "      <td>The Stone Soup Company</td>\n",
       "      <td>4.0</td>\n",
       "    </tr>\n",
       "  </tbody>\n",
       "</table>\n",
       "</div>"
      ],
      "text/plain": [
       "                 business_id                            categories  \\\n",
       "6048  VSpseb6oijtKffRRL_xfgQ  Soup, Restaurants, Cuban, Sandwiches   \n",
       "\n",
       "                        name  stars  \n",
       "6048  The Stone Soup Company    4.0  "
      ]
     },
     "execution_count": 118,
     "metadata": {},
     "output_type": "execute_result"
    }
   ],
   "source": [
    "df_business_only.loc[df_business_only['business_id']== business_choose, ['business_id', 'categories', 'name', 'stars']]"
   ]
  },
  {
   "cell_type": "markdown",
   "id": "f54e82dd",
   "metadata": {},
   "source": [
    "**Best Matches to the vector of the chosen restaurants :**"
   ]
  },
  {
   "cell_type": "code",
   "execution_count": 119,
   "id": "6ffc19cf",
   "metadata": {},
   "outputs": [
    {
     "data": {
      "text/html": [
       "<div>\n",
       "<style scoped>\n",
       "    .dataframe tbody tr th:only-of-type {\n",
       "        vertical-align: middle;\n",
       "    }\n",
       "\n",
       "    .dataframe tbody tr th {\n",
       "        vertical-align: top;\n",
       "    }\n",
       "\n",
       "    .dataframe thead th {\n",
       "        text-align: right;\n",
       "    }\n",
       "</style>\n",
       "<table border=\"1\" class=\"dataframe\">\n",
       "  <thead>\n",
       "    <tr style=\"text-align: right;\">\n",
       "      <th></th>\n",
       "      <th>business_id</th>\n",
       "      <th>categories</th>\n",
       "      <th>name</th>\n",
       "      <th>stars</th>\n",
       "    </tr>\n",
       "  </thead>\n",
       "  <tbody>\n",
       "    <tr>\n",
       "      <th>2065</th>\n",
       "      <td>Tn_OK04DzbDQij9ZpMlT9Q</td>\n",
       "      <td>Restaurants, Cuban, Sandwiches</td>\n",
       "      <td>The Floridian</td>\n",
       "      <td>3.5</td>\n",
       "    </tr>\n",
       "    <tr>\n",
       "      <th>5031</th>\n",
       "      <td>dk2QvuF2blpv0j7ljFwcaQ</td>\n",
       "      <td>Sandwiches, Restaurants</td>\n",
       "      <td>Sub Port Giant New Jersey Submarine Sandwiches</td>\n",
       "      <td>4.5</td>\n",
       "    </tr>\n",
       "    <tr>\n",
       "      <th>6048</th>\n",
       "      <td>VSpseb6oijtKffRRL_xfgQ</td>\n",
       "      <td>Soup, Restaurants, Cuban, Sandwiches</td>\n",
       "      <td>The Stone Soup Company</td>\n",
       "      <td>4.0</td>\n",
       "    </tr>\n",
       "    <tr>\n",
       "      <th>6506</th>\n",
       "      <td>-SCIBOTjKGJXmeMMPi-uoQ</td>\n",
       "      <td>Spanish, Cuban, Sandwiches, Restaurants</td>\n",
       "      <td>Papi's Cafe</td>\n",
       "      <td>5.0</td>\n",
       "    </tr>\n",
       "    <tr>\n",
       "      <th>6566</th>\n",
       "      <td>pr1-qcxYNoU2iNcRPr3Bfg</td>\n",
       "      <td>Restaurants, Cuban, Sandwiches</td>\n",
       "      <td>Havana Village Sandwich Shop</td>\n",
       "      <td>3.0</td>\n",
       "    </tr>\n",
       "    <tr>\n",
       "      <th>7026</th>\n",
       "      <td>OvEG3xcmO0Vc2WoAvCPUAA</td>\n",
       "      <td>Restaurants, Cuban, Sandwiches</td>\n",
       "      <td>Stadium Cafe</td>\n",
       "      <td>4.0</td>\n",
       "    </tr>\n",
       "    <tr>\n",
       "      <th>7896</th>\n",
       "      <td>wnAEZpQ38XgHElOz4Vd6UQ</td>\n",
       "      <td>Sandwiches, Soup, Restaurants</td>\n",
       "      <td>Gonzo's Sandwich Shop</td>\n",
       "      <td>4.5</td>\n",
       "    </tr>\n",
       "    <tr>\n",
       "      <th>8310</th>\n",
       "      <td>lgop6Pbyvk1qi8CLclQEeg</td>\n",
       "      <td>Restaurants, Sandwiches</td>\n",
       "      <td>Sun's Cafe</td>\n",
       "      <td>4.5</td>\n",
       "    </tr>\n",
       "    <tr>\n",
       "      <th>8465</th>\n",
       "      <td>pP3QrwJowWoYsVc6zfsW0g</td>\n",
       "      <td>Cuban, Restaurants</td>\n",
       "      <td>Versalles</td>\n",
       "      <td>2.0</td>\n",
       "    </tr>\n",
       "    <tr>\n",
       "      <th>8674</th>\n",
       "      <td>OAXfyHD2TUE0CRnvLPhjrQ</td>\n",
       "      <td>Restaurants, Cuban</td>\n",
       "      <td>Havana 86</td>\n",
       "      <td>4.0</td>\n",
       "    </tr>\n",
       "  </tbody>\n",
       "</table>\n",
       "</div>"
      ],
      "text/plain": [
       "                 business_id                               categories  \\\n",
       "2065  Tn_OK04DzbDQij9ZpMlT9Q           Restaurants, Cuban, Sandwiches   \n",
       "5031  dk2QvuF2blpv0j7ljFwcaQ                  Sandwiches, Restaurants   \n",
       "6048  VSpseb6oijtKffRRL_xfgQ     Soup, Restaurants, Cuban, Sandwiches   \n",
       "6506  -SCIBOTjKGJXmeMMPi-uoQ  Spanish, Cuban, Sandwiches, Restaurants   \n",
       "6566  pr1-qcxYNoU2iNcRPr3Bfg           Restaurants, Cuban, Sandwiches   \n",
       "7026  OvEG3xcmO0Vc2WoAvCPUAA           Restaurants, Cuban, Sandwiches   \n",
       "7896  wnAEZpQ38XgHElOz4Vd6UQ            Sandwiches, Soup, Restaurants   \n",
       "8310  lgop6Pbyvk1qi8CLclQEeg                  Restaurants, Sandwiches   \n",
       "8465  pP3QrwJowWoYsVc6zfsW0g                       Cuban, Restaurants   \n",
       "8674  OAXfyHD2TUE0CRnvLPhjrQ                       Restaurants, Cuban   \n",
       "\n",
       "                                                name  stars  \n",
       "2065                                   The Floridian    3.5  \n",
       "5031  Sub Port Giant New Jersey Submarine Sandwiches    4.5  \n",
       "6048                          The Stone Soup Company    4.0  \n",
       "6506                                     Papi's Cafe    5.0  \n",
       "6566                    Havana Village Sandwich Shop    3.0  \n",
       "7026                                    Stadium Cafe    4.0  \n",
       "7896                           Gonzo's Sandwich Shop    4.5  \n",
       "8310                                      Sun's Cafe    4.5  \n",
       "8465                                       Versalles    2.0  \n",
       "8674                                       Havana 86    4.0  "
      ]
     },
     "execution_count": 119,
     "metadata": {},
     "output_type": "execute_result"
    }
   ],
   "source": [
    "df_business_only.loc[df_business_only['business_id'].isin(df_business_only['business_id'].iloc[closest]), ['business_id', 'categories', 'name', 'stars']]"
   ]
  },
  {
   "cell_type": "markdown",
   "id": "06e42b0e",
   "metadata": {},
   "source": [
    "## Exporting models and sparse matrices for deployment:"
   ]
  },
  {
   "cell_type": "code",
   "execution_count": 121,
   "id": "58cf7197",
   "metadata": {},
   "outputs": [],
   "source": [
    "import scipy"
   ]
  },
  {
   "cell_type": "code",
   "execution_count": 122,
   "id": "f7d895de",
   "metadata": {},
   "outputs": [],
   "source": [
    "scipy.sparse.save_npz('businessxreview.npz', businessxreview, compressed=True)"
   ]
  },
  {
   "cell_type": "code",
   "execution_count": 123,
   "id": "a0447bb2",
   "metadata": {},
   "outputs": [],
   "source": [
    "scipy.sparse.save_npz('vectorized_reviews.npz', vectorized_reviews, compressed=True)"
   ]
  },
  {
   "cell_type": "code",
   "execution_count": 125,
   "id": "eda8d37b",
   "metadata": {},
   "outputs": [],
   "source": [
    "scipy.sparse.save_npz('vectorized_categories.npz', vectorized_categories, compressed=True)"
   ]
  },
  {
   "cell_type": "code",
   "execution_count": 126,
   "id": "141a8e09",
   "metadata": {},
   "outputs": [],
   "source": [
    "df_business.to_csv('df_business.csv',index=False)"
   ]
  },
  {
   "cell_type": "code",
   "execution_count": 127,
   "id": "8d3046a3",
   "metadata": {},
   "outputs": [],
   "source": [
    "df_business_only.to_csv('df_business_only.csv',index=False)"
   ]
  },
  {
   "cell_type": "code",
   "execution_count": 129,
   "id": "ff7ae70f",
   "metadata": {},
   "outputs": [
    {
     "data": {
      "text/plain": [
       "['vectorizer_reviews.pkl']"
      ]
     },
     "execution_count": 129,
     "metadata": {},
     "output_type": "execute_result"
    }
   ],
   "source": [
    "import joblib\n",
    "\n",
    "# example for saving python object as pkl\n",
    "joblib.dump(vectorizer_reviews, \"vectorizer_reviews.pkl\")"
   ]
  }
 ],
 "metadata": {
  "kernelspec": {
   "display_name": "Python 3 (ipykernel)",
   "language": "python",
   "name": "python3"
  },
  "language_info": {
   "codemirror_mode": {
    "name": "ipython",
    "version": 3
   },
   "file_extension": ".py",
   "mimetype": "text/x-python",
   "name": "python",
   "nbconvert_exporter": "python",
   "pygments_lexer": "ipython3",
   "version": "3.9.13"
  }
 },
 "nbformat": 4,
 "nbformat_minor": 5
}
