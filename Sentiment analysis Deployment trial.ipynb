{
 "cells": [
  {
   "cell_type": "code",
   "execution_count": 1,
   "id": "5638369e",
   "metadata": {},
   "outputs": [],
   "source": [
    "# IMPORTING ALL THE NECESSARY LIBRARIES AND PACKAGES\n",
    "import pandas as pd\n",
    "import numpy as np\n",
    "import matplotlib.pyplot as plt\n",
    "import seaborn as sns\n",
    "import nltk\n",
    "from nltk.corpus import stopwords\n",
    "import string\n",
    "import math\n",
    "from sklearn.feature_extraction.text import CountVectorizer\n",
    "\n",
    "from sklearn.model_selection import train_test_split, cross_val_score\n",
    "from sklearn.metrics import classification_report\n",
    "from sklearn.metrics import confusion_matrix, accuracy_score, roc_auc_score, roc_curve\n",
    "#from sklearn.grid_search import GridSearchCV\n",
    "%matplotlib inline\n"
   ]
  },
  {
   "cell_type": "code",
   "execution_count": 2,
   "id": "31efc49b",
   "metadata": {},
   "outputs": [],
   "source": [
    "import pandas as pd\n",
    "from sklearn import metrics\n",
    "from sklearn.ensemble import GradientBoostingClassifier\n",
    "from sklearn.discriminant_analysis import LinearDiscriminantAnalysis\n",
    "from sklearn.neighbors import KNeighborsClassifier\n",
    "from sklearn.naive_bayes import GaussianNB\n",
    "from sklearn.linear_model import LogisticRegression\n",
    "from sklearn.ensemble import RandomForestClassifier\n",
    "from xgboost import XGBClassifier"
   ]
  },
  {
   "cell_type": "code",
   "execution_count": 3,
   "id": "17dd6bb3",
   "metadata": {},
   "outputs": [],
   "source": [
    "import pymongo\n",
    "import pandas as pd\n",
    "from pymongo import MongoClient"
   ]
  },
  {
   "cell_type": "code",
   "execution_count": 4,
   "id": "1bc107e5",
   "metadata": {},
   "outputs": [
    {
     "name": "stdout",
     "output_type": "stream",
     "text": [
      "Database(MongoClient(host=['localhost:27017'], document_class=dict, tz_aware=False, connect=True), 'Project')\n"
     ]
    }
   ],
   "source": [
    "client = MongoClient()\n",
    "\n",
    "#point the client at mongo URI\n",
    "client = MongoClient('mongodb://localhost:27017')\n",
    "#select database\n",
    "db = client['Project']\n",
    "print(db)"
   ]
  },
  {
   "cell_type": "code",
   "execution_count": 5,
   "id": "3070d9a0",
   "metadata": {},
   "outputs": [
    {
     "name": "stdout",
     "output_type": "stream",
     "text": [
      "Collection(Database(MongoClient(host=['localhost:27017'], document_class=dict, tz_aware=False, connect=True), 'Project'), 'business_joined')\n"
     ]
    }
   ],
   "source": [
    "#select the collection within the database\n",
    "business_joined = db['business_joined']\n",
    "print(business_joined)"
   ]
  },
  {
   "cell_type": "code",
   "execution_count": 6,
   "id": "92f111c1",
   "metadata": {},
   "outputs": [
    {
     "name": "stdout",
     "output_type": "stream",
     "text": [
      "<pymongo.cursor.Cursor object at 0x000001CD55A6A6D0>\n"
     ]
    }
   ],
   "source": [
    "cursor = business_joined.find()\n",
    "print(cursor)"
   ]
  },
  {
   "cell_type": "code",
   "execution_count": 7,
   "id": "19ee3374",
   "metadata": {},
   "outputs": [],
   "source": [
    "import warnings\n",
    "warnings.filterwarnings(\"ignore\")\n",
    "def batched(cursor, batch_size):\n",
    "    batch = []\n",
    "    for doc in cursor:\n",
    "        batch.append(doc)\n",
    "        if batch and not len(batch) % batch_size:\n",
    "            yield batch\n",
    "            batch = []\n",
    "\n",
    "    if batch:   # last documents\n",
    "        yield batch\n",
    "\n",
    "df = pd.DataFrame()\n",
    "for batch in batched(cursor, 10000):\n",
    "    df = df.append(batch, ignore_index=True)"
   ]
  },
  {
   "cell_type": "code",
   "execution_count": 8,
   "id": "cff68387",
   "metadata": {},
   "outputs": [],
   "source": [
    "restaurants_reviews = df"
   ]
  },
  {
   "cell_type": "code",
   "execution_count": 9,
   "id": "f0cb4770",
   "metadata": {},
   "outputs": [
    {
     "name": "stdout",
     "output_type": "stream",
     "text": [
      "Index(['_id', 'address', 'business_id', 'city', 'is_open', 'latitude',\n",
      "       'longitude', 'name', 'postal_code', 'review_count', 'restaurant_stars',\n",
      "       'state', 'DogsAllowed', 'RestaurantsTakeOut', 'HappyHour',\n",
      "       'OutdoorSeating', 'GoodForKids', 'HasTV', 'RestaurantsReservations',\n",
      "       'WheelchairAccessible', 'RestaurantsPriceRange', 'Wifi', 'Noiselevel',\n",
      "       'Alcohol', 'DriveThru', 'Categories', 'cool', 'date', 'funny',\n",
      "       'review_id', 'stars', 'text', 'useful'],\n",
      "      dtype='object')\n"
     ]
    }
   ],
   "source": [
    "print(restaurants_reviews.columns)"
   ]
  },
  {
   "cell_type": "code",
   "execution_count": 10,
   "id": "54a4ebf2",
   "metadata": {},
   "outputs": [
    {
     "data": {
      "text/html": [
       "<div>\n",
       "<style scoped>\n",
       "    .dataframe tbody tr th:only-of-type {\n",
       "        vertical-align: middle;\n",
       "    }\n",
       "\n",
       "    .dataframe tbody tr th {\n",
       "        vertical-align: top;\n",
       "    }\n",
       "\n",
       "    .dataframe thead th {\n",
       "        text-align: right;\n",
       "    }\n",
       "</style>\n",
       "<table border=\"1\" class=\"dataframe\">\n",
       "  <thead>\n",
       "    <tr style=\"text-align: right;\">\n",
       "      <th></th>\n",
       "      <th>_id</th>\n",
       "      <th>address</th>\n",
       "      <th>business_id</th>\n",
       "      <th>city</th>\n",
       "      <th>is_open</th>\n",
       "      <th>latitude</th>\n",
       "      <th>longitude</th>\n",
       "      <th>name</th>\n",
       "      <th>postal_code</th>\n",
       "      <th>review_count</th>\n",
       "      <th>...</th>\n",
       "      <th>Alcohol</th>\n",
       "      <th>DriveThru</th>\n",
       "      <th>Categories</th>\n",
       "      <th>cool</th>\n",
       "      <th>date</th>\n",
       "      <th>funny</th>\n",
       "      <th>review_id</th>\n",
       "      <th>stars</th>\n",
       "      <th>text</th>\n",
       "      <th>useful</th>\n",
       "    </tr>\n",
       "  </thead>\n",
       "  <tbody>\n",
       "    <tr>\n",
       "      <th>0</th>\n",
       "      <td>63fe89f0d60a9a69b84f365a</td>\n",
       "      <td>2001 Piazza Ave, Ste 100</td>\n",
       "      <td>-I8rPwW2mH-pxMeyk22f7g</td>\n",
       "      <td>Wesley Chapel</td>\n",
       "      <td>0</td>\n",
       "      <td>28.189038</td>\n",
       "      <td>-82.347692</td>\n",
       "      <td>Pagelli's Italiano</td>\n",
       "      <td>33543</td>\n",
       "      <td>13</td>\n",
       "      <td>...</td>\n",
       "      <td>full_bar</td>\n",
       "      <td>False</td>\n",
       "      <td>Italian</td>\n",
       "      <td>2</td>\n",
       "      <td>2012-06-26 18:31:16</td>\n",
       "      <td>1</td>\n",
       "      <td>Mgw2Tzea5quFVwBQL1OFYA</td>\n",
       "      <td>4</td>\n",
       "      <td>I think its funny when people bitch that there...</td>\n",
       "      <td>3</td>\n",
       "    </tr>\n",
       "    <tr>\n",
       "      <th>1</th>\n",
       "      <td>63fe89f0d60a9a69b84f365b</td>\n",
       "      <td>2001 Piazza Ave, Ste 100</td>\n",
       "      <td>-I8rPwW2mH-pxMeyk22f7g</td>\n",
       "      <td>Wesley Chapel</td>\n",
       "      <td>0</td>\n",
       "      <td>28.189038</td>\n",
       "      <td>-82.347692</td>\n",
       "      <td>Pagelli's Italiano</td>\n",
       "      <td>33543</td>\n",
       "      <td>13</td>\n",
       "      <td>...</td>\n",
       "      <td>full_bar</td>\n",
       "      <td>False</td>\n",
       "      <td>Italian</td>\n",
       "      <td>1</td>\n",
       "      <td>2011-12-02 14:05:58</td>\n",
       "      <td>1</td>\n",
       "      <td>8sOaDBSRKSMvvgd-FF7-cQ</td>\n",
       "      <td>3</td>\n",
       "      <td>My wife and I just had our second child, and w...</td>\n",
       "      <td>3</td>\n",
       "    </tr>\n",
       "    <tr>\n",
       "      <th>2</th>\n",
       "      <td>63fe89f0d60a9a69b84f365c</td>\n",
       "      <td>2001 Piazza Ave, Ste 100</td>\n",
       "      <td>-I8rPwW2mH-pxMeyk22f7g</td>\n",
       "      <td>Wesley Chapel</td>\n",
       "      <td>0</td>\n",
       "      <td>28.189038</td>\n",
       "      <td>-82.347692</td>\n",
       "      <td>Pagelli's Italiano</td>\n",
       "      <td>33543</td>\n",
       "      <td>13</td>\n",
       "      <td>...</td>\n",
       "      <td>full_bar</td>\n",
       "      <td>False</td>\n",
       "      <td>Italian</td>\n",
       "      <td>0</td>\n",
       "      <td>2011-04-26 03:15:09</td>\n",
       "      <td>0</td>\n",
       "      <td>a00WNmUzoFv4jlJ7qHsnbQ</td>\n",
       "      <td>4</td>\n",
       "      <td>I eat at pagelli's italiano for the first time...</td>\n",
       "      <td>0</td>\n",
       "    </tr>\n",
       "    <tr>\n",
       "      <th>3</th>\n",
       "      <td>63fe89f0d60a9a69b84f365d</td>\n",
       "      <td>2001 Piazza Ave, Ste 100</td>\n",
       "      <td>-I8rPwW2mH-pxMeyk22f7g</td>\n",
       "      <td>Wesley Chapel</td>\n",
       "      <td>0</td>\n",
       "      <td>28.189038</td>\n",
       "      <td>-82.347692</td>\n",
       "      <td>Pagelli's Italiano</td>\n",
       "      <td>33543</td>\n",
       "      <td>13</td>\n",
       "      <td>...</td>\n",
       "      <td>full_bar</td>\n",
       "      <td>False</td>\n",
       "      <td>Italian</td>\n",
       "      <td>0</td>\n",
       "      <td>2011-10-02 02:20:39</td>\n",
       "      <td>0</td>\n",
       "      <td>BZXl-NZ2zkah2Q_7E6RDkg</td>\n",
       "      <td>4</td>\n",
       "      <td>Went here for the early dinner special before ...</td>\n",
       "      <td>0</td>\n",
       "    </tr>\n",
       "    <tr>\n",
       "      <th>4</th>\n",
       "      <td>63fe89f0d60a9a69b84f365e</td>\n",
       "      <td>2001 Piazza Ave, Ste 100</td>\n",
       "      <td>-I8rPwW2mH-pxMeyk22f7g</td>\n",
       "      <td>Wesley Chapel</td>\n",
       "      <td>0</td>\n",
       "      <td>28.189038</td>\n",
       "      <td>-82.347692</td>\n",
       "      <td>Pagelli's Italiano</td>\n",
       "      <td>33543</td>\n",
       "      <td>13</td>\n",
       "      <td>...</td>\n",
       "      <td>full_bar</td>\n",
       "      <td>False</td>\n",
       "      <td>Italian</td>\n",
       "      <td>0</td>\n",
       "      <td>2011-11-06 00:51:34</td>\n",
       "      <td>0</td>\n",
       "      <td>nAeVYBEmx1Xf5EXxRo1fKA</td>\n",
       "      <td>1</td>\n",
       "      <td>Went for dinner, and never even got our food. ...</td>\n",
       "      <td>2</td>\n",
       "    </tr>\n",
       "  </tbody>\n",
       "</table>\n",
       "<p>5 rows × 33 columns</p>\n",
       "</div>"
      ],
      "text/plain": [
       "                        _id                   address             business_id  \\\n",
       "0  63fe89f0d60a9a69b84f365a  2001 Piazza Ave, Ste 100  -I8rPwW2mH-pxMeyk22f7g   \n",
       "1  63fe89f0d60a9a69b84f365b  2001 Piazza Ave, Ste 100  -I8rPwW2mH-pxMeyk22f7g   \n",
       "2  63fe89f0d60a9a69b84f365c  2001 Piazza Ave, Ste 100  -I8rPwW2mH-pxMeyk22f7g   \n",
       "3  63fe89f0d60a9a69b84f365d  2001 Piazza Ave, Ste 100  -I8rPwW2mH-pxMeyk22f7g   \n",
       "4  63fe89f0d60a9a69b84f365e  2001 Piazza Ave, Ste 100  -I8rPwW2mH-pxMeyk22f7g   \n",
       "\n",
       "            city  is_open   latitude  longitude                name  \\\n",
       "0  Wesley Chapel        0  28.189038 -82.347692  Pagelli's Italiano   \n",
       "1  Wesley Chapel        0  28.189038 -82.347692  Pagelli's Italiano   \n",
       "2  Wesley Chapel        0  28.189038 -82.347692  Pagelli's Italiano   \n",
       "3  Wesley Chapel        0  28.189038 -82.347692  Pagelli's Italiano   \n",
       "4  Wesley Chapel        0  28.189038 -82.347692  Pagelli's Italiano   \n",
       "\n",
       "  postal_code  review_count  ...   Alcohol DriveThru Categories cool  \\\n",
       "0       33543            13  ...  full_bar     False    Italian    2   \n",
       "1       33543            13  ...  full_bar     False    Italian    1   \n",
       "2       33543            13  ...  full_bar     False    Italian    0   \n",
       "3       33543            13  ...  full_bar     False    Italian    0   \n",
       "4       33543            13  ...  full_bar     False    Italian    0   \n",
       "\n",
       "                  date funny               review_id stars  \\\n",
       "0  2012-06-26 18:31:16     1  Mgw2Tzea5quFVwBQL1OFYA     4   \n",
       "1  2011-12-02 14:05:58     1  8sOaDBSRKSMvvgd-FF7-cQ     3   \n",
       "2  2011-04-26 03:15:09     0  a00WNmUzoFv4jlJ7qHsnbQ     4   \n",
       "3  2011-10-02 02:20:39     0  BZXl-NZ2zkah2Q_7E6RDkg     4   \n",
       "4  2011-11-06 00:51:34     0  nAeVYBEmx1Xf5EXxRo1fKA     1   \n",
       "\n",
       "                                                text useful  \n",
       "0  I think its funny when people bitch that there...      3  \n",
       "1  My wife and I just had our second child, and w...      3  \n",
       "2  I eat at pagelli's italiano for the first time...      0  \n",
       "3  Went here for the early dinner special before ...      0  \n",
       "4  Went for dinner, and never even got our food. ...      2  \n",
       "\n",
       "[5 rows x 33 columns]"
      ]
     },
     "execution_count": 10,
     "metadata": {},
     "output_type": "execute_result"
    }
   ],
   "source": [
    "restaurants_reviews.head()"
   ]
  },
  {
   "cell_type": "code",
   "execution_count": 11,
   "id": "823dfb28",
   "metadata": {},
   "outputs": [
    {
     "name": "stdout",
     "output_type": "stream",
     "text": [
      "Shape of the dataset:\n",
      "(497887, 33)\n"
     ]
    }
   ],
   "source": [
    "# SHAPE OF THE DATASET\n",
    "print(\"Shape of the dataset:\")\n",
    "print(restaurants_reviews.shape)"
   ]
  },
  {
   "cell_type": "code",
   "execution_count": 12,
   "id": "3dbf5e8e",
   "metadata": {},
   "outputs": [
    {
     "data": {
      "text/html": [
       "<div>\n",
       "<style scoped>\n",
       "    .dataframe tbody tr th:only-of-type {\n",
       "        vertical-align: middle;\n",
       "    }\n",
       "\n",
       "    .dataframe tbody tr th {\n",
       "        vertical-align: top;\n",
       "    }\n",
       "\n",
       "    .dataframe thead th {\n",
       "        text-align: right;\n",
       "    }\n",
       "</style>\n",
       "<table border=\"1\" class=\"dataframe\">\n",
       "  <thead>\n",
       "    <tr style=\"text-align: right;\">\n",
       "      <th></th>\n",
       "      <th>_id</th>\n",
       "      <th>address</th>\n",
       "      <th>business_id</th>\n",
       "      <th>city</th>\n",
       "      <th>is_open</th>\n",
       "      <th>latitude</th>\n",
       "      <th>longitude</th>\n",
       "      <th>name</th>\n",
       "      <th>postal_code</th>\n",
       "      <th>review_count</th>\n",
       "      <th>...</th>\n",
       "      <th>DriveThru</th>\n",
       "      <th>Categories</th>\n",
       "      <th>cool</th>\n",
       "      <th>date</th>\n",
       "      <th>funny</th>\n",
       "      <th>review_id</th>\n",
       "      <th>stars</th>\n",
       "      <th>text</th>\n",
       "      <th>useful</th>\n",
       "      <th>length</th>\n",
       "    </tr>\n",
       "  </thead>\n",
       "  <tbody>\n",
       "    <tr>\n",
       "      <th>0</th>\n",
       "      <td>63fe89f0d60a9a69b84f365a</td>\n",
       "      <td>2001 Piazza Ave, Ste 100</td>\n",
       "      <td>-I8rPwW2mH-pxMeyk22f7g</td>\n",
       "      <td>Wesley Chapel</td>\n",
       "      <td>0</td>\n",
       "      <td>28.189038</td>\n",
       "      <td>-82.347692</td>\n",
       "      <td>Pagelli's Italiano</td>\n",
       "      <td>33543</td>\n",
       "      <td>13</td>\n",
       "      <td>...</td>\n",
       "      <td>False</td>\n",
       "      <td>Italian</td>\n",
       "      <td>2</td>\n",
       "      <td>2012-06-26 18:31:16</td>\n",
       "      <td>1</td>\n",
       "      <td>Mgw2Tzea5quFVwBQL1OFYA</td>\n",
       "      <td>4</td>\n",
       "      <td>I think its funny when people bitch that there...</td>\n",
       "      <td>3</td>\n",
       "      <td>984</td>\n",
       "    </tr>\n",
       "    <tr>\n",
       "      <th>1</th>\n",
       "      <td>63fe89f0d60a9a69b84f365b</td>\n",
       "      <td>2001 Piazza Ave, Ste 100</td>\n",
       "      <td>-I8rPwW2mH-pxMeyk22f7g</td>\n",
       "      <td>Wesley Chapel</td>\n",
       "      <td>0</td>\n",
       "      <td>28.189038</td>\n",
       "      <td>-82.347692</td>\n",
       "      <td>Pagelli's Italiano</td>\n",
       "      <td>33543</td>\n",
       "      <td>13</td>\n",
       "      <td>...</td>\n",
       "      <td>False</td>\n",
       "      <td>Italian</td>\n",
       "      <td>1</td>\n",
       "      <td>2011-12-02 14:05:58</td>\n",
       "      <td>1</td>\n",
       "      <td>8sOaDBSRKSMvvgd-FF7-cQ</td>\n",
       "      <td>3</td>\n",
       "      <td>My wife and I just had our second child, and w...</td>\n",
       "      <td>3</td>\n",
       "      <td>3870</td>\n",
       "    </tr>\n",
       "    <tr>\n",
       "      <th>2</th>\n",
       "      <td>63fe89f0d60a9a69b84f365c</td>\n",
       "      <td>2001 Piazza Ave, Ste 100</td>\n",
       "      <td>-I8rPwW2mH-pxMeyk22f7g</td>\n",
       "      <td>Wesley Chapel</td>\n",
       "      <td>0</td>\n",
       "      <td>28.189038</td>\n",
       "      <td>-82.347692</td>\n",
       "      <td>Pagelli's Italiano</td>\n",
       "      <td>33543</td>\n",
       "      <td>13</td>\n",
       "      <td>...</td>\n",
       "      <td>False</td>\n",
       "      <td>Italian</td>\n",
       "      <td>0</td>\n",
       "      <td>2011-04-26 03:15:09</td>\n",
       "      <td>0</td>\n",
       "      <td>a00WNmUzoFv4jlJ7qHsnbQ</td>\n",
       "      <td>4</td>\n",
       "      <td>I eat at pagelli's italiano for the first time...</td>\n",
       "      <td>0</td>\n",
       "      <td>127</td>\n",
       "    </tr>\n",
       "    <tr>\n",
       "      <th>3</th>\n",
       "      <td>63fe89f0d60a9a69b84f365d</td>\n",
       "      <td>2001 Piazza Ave, Ste 100</td>\n",
       "      <td>-I8rPwW2mH-pxMeyk22f7g</td>\n",
       "      <td>Wesley Chapel</td>\n",
       "      <td>0</td>\n",
       "      <td>28.189038</td>\n",
       "      <td>-82.347692</td>\n",
       "      <td>Pagelli's Italiano</td>\n",
       "      <td>33543</td>\n",
       "      <td>13</td>\n",
       "      <td>...</td>\n",
       "      <td>False</td>\n",
       "      <td>Italian</td>\n",
       "      <td>0</td>\n",
       "      <td>2011-10-02 02:20:39</td>\n",
       "      <td>0</td>\n",
       "      <td>BZXl-NZ2zkah2Q_7E6RDkg</td>\n",
       "      <td>4</td>\n",
       "      <td>Went here for the early dinner special before ...</td>\n",
       "      <td>0</td>\n",
       "      <td>526</td>\n",
       "    </tr>\n",
       "    <tr>\n",
       "      <th>4</th>\n",
       "      <td>63fe89f0d60a9a69b84f365e</td>\n",
       "      <td>2001 Piazza Ave, Ste 100</td>\n",
       "      <td>-I8rPwW2mH-pxMeyk22f7g</td>\n",
       "      <td>Wesley Chapel</td>\n",
       "      <td>0</td>\n",
       "      <td>28.189038</td>\n",
       "      <td>-82.347692</td>\n",
       "      <td>Pagelli's Italiano</td>\n",
       "      <td>33543</td>\n",
       "      <td>13</td>\n",
       "      <td>...</td>\n",
       "      <td>False</td>\n",
       "      <td>Italian</td>\n",
       "      <td>0</td>\n",
       "      <td>2011-11-06 00:51:34</td>\n",
       "      <td>0</td>\n",
       "      <td>nAeVYBEmx1Xf5EXxRo1fKA</td>\n",
       "      <td>1</td>\n",
       "      <td>Went for dinner, and never even got our food. ...</td>\n",
       "      <td>2</td>\n",
       "      <td>168</td>\n",
       "    </tr>\n",
       "  </tbody>\n",
       "</table>\n",
       "<p>5 rows × 34 columns</p>\n",
       "</div>"
      ],
      "text/plain": [
       "                        _id                   address             business_id  \\\n",
       "0  63fe89f0d60a9a69b84f365a  2001 Piazza Ave, Ste 100  -I8rPwW2mH-pxMeyk22f7g   \n",
       "1  63fe89f0d60a9a69b84f365b  2001 Piazza Ave, Ste 100  -I8rPwW2mH-pxMeyk22f7g   \n",
       "2  63fe89f0d60a9a69b84f365c  2001 Piazza Ave, Ste 100  -I8rPwW2mH-pxMeyk22f7g   \n",
       "3  63fe89f0d60a9a69b84f365d  2001 Piazza Ave, Ste 100  -I8rPwW2mH-pxMeyk22f7g   \n",
       "4  63fe89f0d60a9a69b84f365e  2001 Piazza Ave, Ste 100  -I8rPwW2mH-pxMeyk22f7g   \n",
       "\n",
       "            city  is_open   latitude  longitude                name  \\\n",
       "0  Wesley Chapel        0  28.189038 -82.347692  Pagelli's Italiano   \n",
       "1  Wesley Chapel        0  28.189038 -82.347692  Pagelli's Italiano   \n",
       "2  Wesley Chapel        0  28.189038 -82.347692  Pagelli's Italiano   \n",
       "3  Wesley Chapel        0  28.189038 -82.347692  Pagelli's Italiano   \n",
       "4  Wesley Chapel        0  28.189038 -82.347692  Pagelli's Italiano   \n",
       "\n",
       "  postal_code  review_count  ...  DriveThru Categories cool  \\\n",
       "0       33543            13  ...      False    Italian    2   \n",
       "1       33543            13  ...      False    Italian    1   \n",
       "2       33543            13  ...      False    Italian    0   \n",
       "3       33543            13  ...      False    Italian    0   \n",
       "4       33543            13  ...      False    Italian    0   \n",
       "\n",
       "                  date funny               review_id stars  \\\n",
       "0  2012-06-26 18:31:16     1  Mgw2Tzea5quFVwBQL1OFYA     4   \n",
       "1  2011-12-02 14:05:58     1  8sOaDBSRKSMvvgd-FF7-cQ     3   \n",
       "2  2011-04-26 03:15:09     0  a00WNmUzoFv4jlJ7qHsnbQ     4   \n",
       "3  2011-10-02 02:20:39     0  BZXl-NZ2zkah2Q_7E6RDkg     4   \n",
       "4  2011-11-06 00:51:34     0  nAeVYBEmx1Xf5EXxRo1fKA     1   \n",
       "\n",
       "                                                text useful length  \n",
       "0  I think its funny when people bitch that there...      3    984  \n",
       "1  My wife and I just had our second child, and w...      3   3870  \n",
       "2  I eat at pagelli's italiano for the first time...      0    127  \n",
       "3  Went here for the early dinner special before ...      0    526  \n",
       "4  Went for dinner, and never even got our food. ...      2    168  \n",
       "\n",
       "[5 rows x 34 columns]"
      ]
     },
     "execution_count": 12,
     "metadata": {},
     "output_type": "execute_result"
    }
   ],
   "source": [
    "# #CREATING A NEW COLUMN IN THE DATASET FOR THE NUMBER OF WORDS IN THE REVIEW\n",
    "restaurants_reviews['length'] = restaurants_reviews['text'].apply(len)\n",
    "restaurants_reviews.head()"
   ]
  },
  {
   "cell_type": "markdown",
   "id": "d4ea4951",
   "metadata": {},
   "source": [
    "# (4). Visualization:\n",
    "Let us now visualize the if there is any correlation between stars and the length of the review."
   ]
  },
  {
   "cell_type": "code",
   "execution_count": 13,
   "id": "b51066fe",
   "metadata": {},
   "outputs": [
    {
     "data": {
      "text/plain": [
       "<seaborn.axisgrid.FacetGrid at 0x1cd16c0b340>"
      ]
     },
     "execution_count": 13,
     "metadata": {},
     "output_type": "execute_result"
    },
    {
     "data": {
      "text/plain": [
       "<Figure size 2000x500 with 0 Axes>"
      ]
     },
     "metadata": {},
     "output_type": "display_data"
    },
    {
     "data": {
      "image/png": "[encoded data removed]",
      "text/plain": [
       "<Figure size 1500x300 with 5 Axes>"
      ]
     },
     "metadata": {},
     "output_type": "display_data"
    }
   ],
   "source": [
    "# COMPARING TEXT LENGTH TO STARS\n",
    "plt.figure(figsize=(20,5)) # figsize=(width,height)\n",
    "graph = sns.FacetGrid(data=restaurants_reviews,col='stars')\n",
    "# sns.FacetGrid(data= Dataset_name,col=col_name which contains categorical value)\n",
    "# FacetGrid object using the seaborn library, which allows \n",
    "# us to plot multiple graphs side by side based on a categorical variable\n",
    "graph.map(plt.hist,'length',bins=50,color='Green')"
   ]
  },
  {
   "cell_type": "code",
   "execution_count": 14,
   "id": "b2c56e8a",
   "metadata": {},
   "outputs": [],
   "source": [
    "# counting the no of reviews by stars given\n",
    "df1 = pd.DataFrame(restaurants_reviews['stars'].value_counts()).reset_index().sort_values(by='index')"
   ]
  },
  {
   "cell_type": "code",
   "execution_count": 15,
   "id": "69660e5c",
   "metadata": {},
   "outputs": [
    {
     "data": {
      "text/html": [
       "<div>\n",
       "<style scoped>\n",
       "    .dataframe tbody tr th:only-of-type {\n",
       "        vertical-align: middle;\n",
       "    }\n",
       "\n",
       "    .dataframe tbody tr th {\n",
       "        vertical-align: top;\n",
       "    }\n",
       "\n",
       "    .dataframe thead th {\n",
       "        text-align: right;\n",
       "    }\n",
       "</style>\n",
       "<table border=\"1\" class=\"dataframe\">\n",
       "  <thead>\n",
       "    <tr style=\"text-align: right;\">\n",
       "      <th></th>\n",
       "      <th>stars</th>\n",
       "    </tr>\n",
       "    <tr>\n",
       "      <th>index</th>\n",
       "      <th></th>\n",
       "    </tr>\n",
       "  </thead>\n",
       "  <tbody>\n",
       "    <tr>\n",
       "      <th>1</th>\n",
       "      <td>61678</td>\n",
       "    </tr>\n",
       "    <tr>\n",
       "      <th>2</th>\n",
       "      <td>41602</td>\n",
       "    </tr>\n",
       "    <tr>\n",
       "      <th>3</th>\n",
       "      <td>54053</td>\n",
       "    </tr>\n",
       "    <tr>\n",
       "      <th>4</th>\n",
       "      <td>110611</td>\n",
       "    </tr>\n",
       "    <tr>\n",
       "      <th>5</th>\n",
       "      <td>229943</td>\n",
       "    </tr>\n",
       "  </tbody>\n",
       "</table>\n",
       "</div>"
      ],
      "text/plain": [
       "        stars\n",
       "index        \n",
       "1       61678\n",
       "2       41602\n",
       "3       54053\n",
       "4      110611\n",
       "5      229943"
      ]
     },
     "execution_count": 15,
     "metadata": {},
     "output_type": "execute_result"
    }
   ],
   "source": [
    "df2= df1.set_index(\"index\")\n",
    "df2"
   ]
  },
  {
   "cell_type": "code",
   "execution_count": 16,
   "id": "d65864a0",
   "metadata": {},
   "outputs": [
    {
     "data": {
      "image/png": "[encoded data removed]",
      "text/plain": [
       "<Figure size 600x600 with 1 Axes>"
      ]
     },
     "metadata": {},
     "output_type": "display_data"
    }
   ],
   "source": [
    "import numpy as np\n",
    "labels = [\"1-star\", \"2-star\", \"3-star\", \"4-star\",\"5-star\"]\n",
    "fig, ax = plt.subplots(figsize=(6, 6))\n",
    "\n",
    "# Get four different grey colors.\n",
    "cmap = plt.get_cmap('Greys')\n",
    "colors = list(cmap(np.linspace(0.25, 0.75, len(df2))))\n",
    "# Swap in a bright blue for the Lacrosse color.\n",
    "colors[0] = 'dodgerblue'\n",
    "\n",
    "# You could also just manually assign colors very easily.\n",
    "# colors = ['purple', 'black', 'pink', 'aqua']\n",
    "\n",
    "patches, texts, pcts = ax.pie(\n",
    "    df2['stars'], labels=labels, autopct='%.1f%%',\n",
    "    wedgeprops={'linewidth': 3.0, 'edgecolor': 'white'},\n",
    "    textprops={'size': 'x-large'},\n",
    "    startangle=90,\n",
    "    colors=colors,\n",
    "    # \"Explode\" the Lacrosse wedge to highlight it.\n",
    "    explode=(0.1,0, 0, 0, 0))\n",
    "\n",
    "for i, patch in enumerate(patches):\n",
    "  # You could also do something like this if you want to assign colors\n",
    "  # by some rule or by value.\n",
    "  # if texts[i].get_text() == 'Lacrosse':\n",
    "  #   patch.set_facecolor('dodgerblue')\n",
    "  texts[i].set_color(patch.get_facecolor())\n",
    "plt.setp(pcts, color='white')\n",
    "plt.setp(texts, fontweight=600)\n",
    "ax.set_title('Star Rating', fontsize=18)\n",
    "plt.tight_layout()\n",
    "\n",
    "# This is a code snippet in Python using the matplotlib library for data visualization. \n",
    "# It creates a pie chart to display the distribution of star ratings in a dataset.\n",
    "\n",
    "# The 'labels' list contains the names of the different star ratings. The figure size is set to 6 units (width) by 6 units \n",
    "# (height). The 'get_cmap' function is used to get a grayscale color map from matplotlib, and then a list of colors is \n",
    "# generated by taking equally spaced values from the grayscale color map and adjusting the brightness to make them more \n",
    "# distinguishable.\n",
    "\n",
    "# The 'ax.pie' function creates the pie chart by passing in the values from the 'stars' column of the 'df2' dataset, \n",
    "# the labels, and the percentage format for the autopct argument. The 'wedgeprops' argument specifies the properties\n",
    "# for the edges of each pie wedge, such as the line width and color. The 'textprops' argument sets the font size for\n",
    "# the labels on the pie chart. The 'startangle' argument specifies the starting angle for the first pie wedge, which\n",
    "# is set to 90 degrees (the \"north\" position).\n",
    "\n",
    "# The 'explode' argument is used to \"explode\" the first wedge of the pie chart by a small amount, \n",
    "# which makes it stand out from the others. The 'patches', 'texts', and 'pcts' variables store the objects returned by\n",
    "# the 'ax.pie' function, which are used to set the colors for each wedge and adjust the font weight and color for the \n",
    "# labels and percentages.\n",
    "\n",
    "# Finally, the 'ax.set_title' function sets the title for the pie chart, and 'plt.tight_layout' ensures that\n",
    "# the plot is properly spaced and fits within the figure size. Overall, this code generates a visually appealing\n",
    "# pie chart that effectively displays the distribution of star ratings in a dataset.\n",
    "\n",
    "#matplotlib pie chart with explode and custom colors"
   ]
  },
  {
   "cell_type": "code",
   "execution_count": 17,
   "id": "8a9e2058",
   "metadata": {},
   "outputs": [
    {
     "data": {
      "text/html": [
       "<div>\n",
       "<style scoped>\n",
       "    .dataframe tbody tr th:only-of-type {\n",
       "        vertical-align: middle;\n",
       "    }\n",
       "\n",
       "    .dataframe tbody tr th {\n",
       "        vertical-align: top;\n",
       "    }\n",
       "\n",
       "    .dataframe thead th {\n",
       "        text-align: right;\n",
       "    }\n",
       "</style>\n",
       "<table border=\"1\" class=\"dataframe\">\n",
       "  <thead>\n",
       "    <tr style=\"text-align: right;\">\n",
       "      <th></th>\n",
       "      <th>stars</th>\n",
       "      <th>useful</th>\n",
       "      <th>funny</th>\n",
       "      <th>cool</th>\n",
       "      <th>length</th>\n",
       "    </tr>\n",
       "  </thead>\n",
       "  <tbody>\n",
       "    <tr>\n",
       "      <th>stars</th>\n",
       "      <td>1.000000</td>\n",
       "      <td>-0.025019</td>\n",
       "      <td>-0.038354</td>\n",
       "      <td>0.051946</td>\n",
       "      <td>-0.179627</td>\n",
       "    </tr>\n",
       "    <tr>\n",
       "      <th>useful</th>\n",
       "      <td>-0.025019</td>\n",
       "      <td>1.000000</td>\n",
       "      <td>0.817878</td>\n",
       "      <td>0.884925</td>\n",
       "      <td>0.255985</td>\n",
       "    </tr>\n",
       "    <tr>\n",
       "      <th>funny</th>\n",
       "      <td>-0.038354</td>\n",
       "      <td>0.817878</td>\n",
       "      <td>1.000000</td>\n",
       "      <td>0.869569</td>\n",
       "      <td>0.190020</td>\n",
       "    </tr>\n",
       "    <tr>\n",
       "      <th>cool</th>\n",
       "      <td>0.051946</td>\n",
       "      <td>0.884925</td>\n",
       "      <td>0.869569</td>\n",
       "      <td>1.000000</td>\n",
       "      <td>0.181002</td>\n",
       "    </tr>\n",
       "    <tr>\n",
       "      <th>length</th>\n",
       "      <td>-0.179627</td>\n",
       "      <td>0.255985</td>\n",
       "      <td>0.190020</td>\n",
       "      <td>0.181002</td>\n",
       "      <td>1.000000</td>\n",
       "    </tr>\n",
       "  </tbody>\n",
       "</table>\n",
       "</div>"
      ],
      "text/plain": [
       "           stars    useful     funny      cool    length\n",
       "stars   1.000000 -0.025019 -0.038354  0.051946 -0.179627\n",
       "useful -0.025019  1.000000  0.817878  0.884925  0.255985\n",
       "funny  -0.038354  0.817878  1.000000  0.869569  0.190020\n",
       "cool    0.051946  0.884925  0.869569  1.000000  0.181002\n",
       "length -0.179627  0.255985  0.190020  0.181002  1.000000"
      ]
     },
     "execution_count": 17,
     "metadata": {},
     "output_type": "execute_result"
    }
   ],
   "source": [
    "# FINDING THE CORRELATION BETWEEN THE VOTE COLUMNS\n",
    "df_num=restaurants_reviews[['stars', 'useful',\n",
    "       'funny', 'cool', 'length']]\n",
    "df_num.corr()\n"
   ]
  },
  {
   "cell_type": "code",
   "execution_count": 18,
   "id": "ebe60a14",
   "metadata": {},
   "outputs": [
    {
     "data": {
      "text/plain": [
       "1    340554\n",
       "0    103280\n",
       "Name: Target, dtype: int64"
      ]
     },
     "execution_count": 18,
     "metadata": {},
     "output_type": "execute_result"
    }
   ],
   "source": [
    "# Create new column \"Target\" that stored 0's or 1's. 0 being Negative, 1 being Positive\n",
    "restaurants_reviews['Target'] = ''\n",
    "restaurants_reviews.loc[restaurants_reviews.stars >=3.5, 'Target'] = '1'\n",
    "restaurants_reviews.loc[restaurants_reviews.stars==3,'Target'] = '3'\n",
    "restaurants_reviews.loc[restaurants_reviews.stars <=2.5, 'Target'] = '0'\n",
    "\n",
    "restaurants_reviews.drop(restaurants_reviews.loc[restaurants_reviews['Target']=='3'].index,axis=0,inplace=True)\n",
    "restaurants_reviews.Target.value_counts()"
   ]
  },
  {
   "cell_type": "code",
   "execution_count": 19,
   "id": "836a2233",
   "metadata": {},
   "outputs": [
    {
     "data": {
      "text/plain": [
       "0    i think its funny when people bitch that there...\n",
       "2    i eat at pagelli's italiano for the first time...\n",
       "3    went here for the early dinner special before ...\n",
       "4    went for dinner and never even got our food  t...\n",
       "6    the fettuccine alfredo is fantastic at pagelli...\n",
       "Name: removed_punct_text, dtype: object"
      ]
     },
     "execution_count": 19,
     "metadata": {},
     "output_type": "execute_result"
    }
   ],
   "source": [
    "# convert text to lower case\n",
    "\n",
    "restaurants_reviews.text = restaurants_reviews.text.str.lower()\n",
    "\n",
    "## remove unnecessary punctuation(we can remove by string.punctuation)\n",
    "restaurants_reviews['removed_punct_text']= restaurants_reviews.text.str.replace('\\n',''). \\\n",
    "                                          str.replace('[!\"#$%&\\()*+,-./:;<=>?@[\\\\]^_`{|}~]','').str.replace('[0-9]*[+-:]*[0-9]+', '')\n",
    "\n",
    "restaurants_reviews['removed_punct_text'].head()"
   ]
  },
  {
   "cell_type": "code",
   "execution_count": 20,
   "id": "b1f2fed1",
   "metadata": {},
   "outputs": [],
   "source": [
    "# selecting 2 column from dataframe and storing them in nwe dataframe\n",
    "df_final = restaurants_reviews[['removed_punct_text','Target']]\n",
    "df_final = df_final.reset_index()"
   ]
  },
  {
   "cell_type": "code",
   "execution_count": 21,
   "id": "73376a3b",
   "metadata": {},
   "outputs": [
    {
     "data": {
      "text/html": [
       "<div>\n",
       "<style scoped>\n",
       "    .dataframe tbody tr th:only-of-type {\n",
       "        vertical-align: middle;\n",
       "    }\n",
       "\n",
       "    .dataframe tbody tr th {\n",
       "        vertical-align: top;\n",
       "    }\n",
       "\n",
       "    .dataframe thead th {\n",
       "        text-align: right;\n",
       "    }\n",
       "</style>\n",
       "<table border=\"1\" class=\"dataframe\">\n",
       "  <thead>\n",
       "    <tr style=\"text-align: right;\">\n",
       "      <th></th>\n",
       "      <th>rem</th>\n",
       "      <th>removed_punct_text</th>\n",
       "      <th>Target</th>\n",
       "    </tr>\n",
       "  </thead>\n",
       "  <tbody>\n",
       "    <tr>\n",
       "      <th>0</th>\n",
       "      <td>0</td>\n",
       "      <td>i think its funny when people bitch that there...</td>\n",
       "      <td>1</td>\n",
       "    </tr>\n",
       "    <tr>\n",
       "      <th>1</th>\n",
       "      <td>2</td>\n",
       "      <td>i eat at pagelli's italiano for the first time...</td>\n",
       "      <td>1</td>\n",
       "    </tr>\n",
       "    <tr>\n",
       "      <th>2</th>\n",
       "      <td>3</td>\n",
       "      <td>went here for the early dinner special before ...</td>\n",
       "      <td>1</td>\n",
       "    </tr>\n",
       "    <tr>\n",
       "      <th>3</th>\n",
       "      <td>4</td>\n",
       "      <td>went for dinner and never even got our food  t...</td>\n",
       "      <td>0</td>\n",
       "    </tr>\n",
       "    <tr>\n",
       "      <th>4</th>\n",
       "      <td>6</td>\n",
       "      <td>the fettuccine alfredo is fantastic at pagelli...</td>\n",
       "      <td>1</td>\n",
       "    </tr>\n",
       "    <tr>\n",
       "      <th>...</th>\n",
       "      <td>...</td>\n",
       "      <td>...</td>\n",
       "      <td>...</td>\n",
       "    </tr>\n",
       "    <tr>\n",
       "      <th>443829</th>\n",
       "      <td>497879</td>\n",
       "      <td>i drive by this everyday so i decided to try i...</td>\n",
       "      <td>0</td>\n",
       "    </tr>\n",
       "    <tr>\n",
       "      <th>443830</th>\n",
       "      <td>497880</td>\n",
       "      <td>last night a friend and l went to gyros on th ...</td>\n",
       "      <td>0</td>\n",
       "    </tr>\n",
       "    <tr>\n",
       "      <th>443831</th>\n",
       "      <td>497881</td>\n",
       "      <td>as expensive as they are i was hoping for a gr...</td>\n",
       "      <td>0</td>\n",
       "    </tr>\n",
       "    <tr>\n",
       "      <th>443832</th>\n",
       "      <td>497882</td>\n",
       "      <td>ok my gyro was loaded with meat and it was coo...</td>\n",
       "      <td>1</td>\n",
       "    </tr>\n",
       "    <tr>\n",
       "      <th>443833</th>\n",
       "      <td>497883</td>\n",
       "      <td>worst customer service i've ever encountered m...</td>\n",
       "      <td>0</td>\n",
       "    </tr>\n",
       "  </tbody>\n",
       "</table>\n",
       "<p>443834 rows × 3 columns</p>\n",
       "</div>"
      ],
      "text/plain": [
       "           rem                                 removed_punct_text Target\n",
       "0            0  i think its funny when people bitch that there...      1\n",
       "1            2  i eat at pagelli's italiano for the first time...      1\n",
       "2            3  went here for the early dinner special before ...      1\n",
       "3            4  went for dinner and never even got our food  t...      0\n",
       "4            6  the fettuccine alfredo is fantastic at pagelli...      1\n",
       "...        ...                                                ...    ...\n",
       "443829  497879  i drive by this everyday so i decided to try i...      0\n",
       "443830  497880  last night a friend and l went to gyros on th ...      0\n",
       "443831  497881  as expensive as they are i was hoping for a gr...      0\n",
       "443832  497882  ok my gyro was loaded with meat and it was coo...      1\n",
       "443833  497883  worst customer service i've ever encountered m...      0\n",
       "\n",
       "[443834 rows x 3 columns]"
      ]
     },
     "execution_count": 21,
     "metadata": {},
     "output_type": "execute_result"
    }
   ],
   "source": [
    "# renaming the column name \n",
    "df_final.rename(columns = {'index':'rem'}, inplace = True)\n",
    "df_final"
   ]
  },
  {
   "cell_type": "code",
   "execution_count": 22,
   "id": "ce700d2c",
   "metadata": {},
   "outputs": [],
   "source": [
    "df_final.drop('rem',axis=1,inplace=True)"
   ]
  },
  {
   "cell_type": "code",
   "execution_count": 23,
   "id": "01cff01b",
   "metadata": {},
   "outputs": [],
   "source": [
    "# converting datatype of target column to integer\n",
    "df_final.Target = df_final.Target.astype('int')"
   ]
  },
  {
   "cell_type": "code",
   "execution_count": 24,
   "id": "02af7ec1",
   "metadata": {},
   "outputs": [
    {
     "data": {
      "text/plain": [
       "Index(['removed_punct_text', 'Target'], dtype='object')"
      ]
     },
     "execution_count": 24,
     "metadata": {},
     "output_type": "execute_result"
    }
   ],
   "source": [
    "df_final.columns"
   ]
  },
  {
   "cell_type": "code",
   "execution_count": 25,
   "id": "0d0cc537",
   "metadata": {
    "scrolled": true
   },
   "outputs": [
    {
     "data": {
      "text/html": [
       "<div>\n",
       "<style scoped>\n",
       "    .dataframe tbody tr th:only-of-type {\n",
       "        vertical-align: middle;\n",
       "    }\n",
       "\n",
       "    .dataframe tbody tr th {\n",
       "        vertical-align: top;\n",
       "    }\n",
       "\n",
       "    .dataframe thead th {\n",
       "        text-align: right;\n",
       "    }\n",
       "</style>\n",
       "<table border=\"1\" class=\"dataframe\">\n",
       "  <thead>\n",
       "    <tr style=\"text-align: right;\">\n",
       "      <th></th>\n",
       "      <th>removed_punct_text</th>\n",
       "      <th>Target</th>\n",
       "    </tr>\n",
       "  </thead>\n",
       "  <tbody>\n",
       "    <tr>\n",
       "      <th>0</th>\n",
       "      <td>i think its funny when people bitch that there...</td>\n",
       "      <td>1</td>\n",
       "    </tr>\n",
       "    <tr>\n",
       "      <th>1</th>\n",
       "      <td>i eat at pagelli's italiano for the first time...</td>\n",
       "      <td>1</td>\n",
       "    </tr>\n",
       "    <tr>\n",
       "      <th>2</th>\n",
       "      <td>went here for the early dinner special before ...</td>\n",
       "      <td>1</td>\n",
       "    </tr>\n",
       "    <tr>\n",
       "      <th>3</th>\n",
       "      <td>went for dinner and never even got our food  t...</td>\n",
       "      <td>0</td>\n",
       "    </tr>\n",
       "    <tr>\n",
       "      <th>4</th>\n",
       "      <td>the fettuccine alfredo is fantastic at pagelli...</td>\n",
       "      <td>1</td>\n",
       "    </tr>\n",
       "  </tbody>\n",
       "</table>\n",
       "</div>"
      ],
      "text/plain": [
       "                                  removed_punct_text  Target\n",
       "0  i think its funny when people bitch that there...       1\n",
       "1  i eat at pagelli's italiano for the first time...       1\n",
       "2  went here for the early dinner special before ...       1\n",
       "3  went for dinner and never even got our food  t...       0\n",
       "4  the fettuccine alfredo is fantastic at pagelli...       1"
      ]
     },
     "execution_count": 25,
     "metadata": {},
     "output_type": "execute_result"
    }
   ],
   "source": [
    "df_final.head()"
   ]
  },
  {
   "cell_type": "code",
   "execution_count": 26,
   "id": "00b17869",
   "metadata": {},
   "outputs": [],
   "source": [
    "# converting datatype of Target column to 'int'\n",
    "df_final.Target = df_final.Target.astype('int')"
   ]
  },
  {
   "cell_type": "code",
   "execution_count": 30,
   "id": "9fb1b284",
   "metadata": {},
   "outputs": [
    {
     "data": {
      "text/plain": [
       "1    340554\n",
       "0    103280\n",
       "Name: Target, dtype: int64"
      ]
     },
     "execution_count": 30,
     "metadata": {},
     "output_type": "execute_result"
    }
   ],
   "source": [
    "# counting + and - reviews seperately\n",
    "df_final.Target.value_counts()"
   ]
  },
  {
   "cell_type": "code",
   "execution_count": 31,
   "id": "3d388b05",
   "metadata": {},
   "outputs": [
    {
     "data": {
      "text/html": [
       "<div>\n",
       "<style scoped>\n",
       "    .dataframe tbody tr th:only-of-type {\n",
       "        vertical-align: middle;\n",
       "    }\n",
       "\n",
       "    .dataframe tbody tr th {\n",
       "        vertical-align: top;\n",
       "    }\n",
       "\n",
       "    .dataframe thead th {\n",
       "        text-align: right;\n",
       "    }\n",
       "</style>\n",
       "<table border=\"1\" class=\"dataframe\">\n",
       "  <thead>\n",
       "    <tr style=\"text-align: right;\">\n",
       "      <th></th>\n",
       "      <th>removed_punct_text</th>\n",
       "      <th>Target</th>\n",
       "    </tr>\n",
       "  </thead>\n",
       "  <tbody>\n",
       "    <tr>\n",
       "      <th>0</th>\n",
       "      <td>my favorite brunch place in tampa perfect vari...</td>\n",
       "      <td>1</td>\n",
       "    </tr>\n",
       "    <tr>\n",
       "      <th>1</th>\n",
       "      <td>i had the enchiladas with green sauce and whit...</td>\n",
       "      <td>1</td>\n",
       "    </tr>\n",
       "    <tr>\n",
       "      <th>2</th>\n",
       "      <td>one word gazpacho finally it is back and hopef...</td>\n",
       "      <td>1</td>\n",
       "    </tr>\n",
       "    <tr>\n",
       "      <th>3</th>\n",
       "      <td>short of one minor incident that was handled p...</td>\n",
       "      <td>1</td>\n",
       "    </tr>\n",
       "    <tr>\n",
       "      <th>4</th>\n",
       "      <td>great food and great service  we can't wait to...</td>\n",
       "      <td>1</td>\n",
       "    </tr>\n",
       "  </tbody>\n",
       "</table>\n",
       "</div>"
      ],
      "text/plain": [
       "                                  removed_punct_text  Target\n",
       "0  my favorite brunch place in tampa perfect vari...       1\n",
       "1  i had the enchiladas with green sauce and whit...       1\n",
       "2  one word gazpacho finally it is back and hopef...       1\n",
       "3  short of one minor incident that was handled p...       1\n",
       "4  great food and great service  we can't wait to...       1"
      ]
     },
     "execution_count": 31,
     "metadata": {},
     "output_type": "execute_result"
    }
   ],
   "source": [
    "temp=df_final.sample(100000)\n",
    "temp=temp.reset_index()\n",
    "temp=temp.rename(columns={'index':'rem'})\n",
    "temp.drop('rem',axis=1,inplace=True)\n",
    "temp.head()"
   ]
  },
  {
   "cell_type": "code",
   "execution_count": 34,
   "id": "787c3344",
   "metadata": {},
   "outputs": [
    {
     "name": "stderr",
     "output_type": "stream",
     "text": [
      "[nltk_data] Downloading package stopwords to\n",
      "[nltk_data]     C:\\Users\\SOURABH_JAMDADE\\AppData\\Roaming\\nltk_data...\n",
      "[nltk_data]   Package stopwords is already up-to-date!\n"
     ]
    }
   ],
   "source": [
    "# Cleaning the texts\n",
    "# we have to do this for all three dataset \n",
    "# this is for dataset1\n",
    "# It just for model comaparision\n",
    "import re\n",
    "import nltk\n",
    "nltk.download('stopwords')\n",
    "from nltk.corpus import stopwords\n",
    "stops = stopwords.words('english')\n",
    "\n",
    "from nltk.stem.porter import PorterStemmer\n",
    "corpus1 = []\n",
    "for i in range(0, temp.shape[0]):\n",
    "    review = temp['removed_punct_text'][i]\n",
    "    review = review.lower()\n",
    "    review = review.split()\n",
    "    ps = PorterStemmer()\n",
    "    review = [ps.stem(word) for word in review if not word in set(stops)]\n",
    "    review = ' '.join(review)\n",
    "    corpus1.append(review)"
   ]
  },
  {
   "cell_type": "code",
   "execution_count": 36,
   "id": "c37d3421",
   "metadata": {},
   "outputs": [],
   "source": [
    "from sklearn.feature_extraction.text import TfidfVectorizer\n",
    "cv = TfidfVectorizer(max_features = 3000)\n",
    "X = cv.fit_transform(corpus1).toarray()\n",
    "#X = pd.DataFrame(X,columns=cv.get_feature_names_out())\n",
    "y = temp.iloc[:, 1]"
   ]
  },
  {
   "cell_type": "code",
   "execution_count": 41,
   "id": "12881179",
   "metadata": {},
   "outputs": [],
   "source": [
    "# Splitting the dataset into the Training set and Test set\n",
    "from sklearn.model_selection import train_test_split\n",
    "X_train, X_test, y_train, y_test = train_test_split(X, y, \n",
    "                                                    test_size = 0.20, \n",
    "                                                    random_state = 2023,\n",
    "                                                    stratify=y)"
   ]
  },
  {
   "cell_type": "markdown",
   "id": "4ef57d5c",
   "metadata": {},
   "source": [
    "# Applying Verious Machine Learning Modules"
   ]
  },
  {
   "cell_type": "markdown",
   "id": "a030146d",
   "metadata": {},
   "source": [
    "## 1.GaussianNB"
   ]
  },
  {
   "cell_type": "code",
   "execution_count": 38,
   "id": "874cfa8c",
   "metadata": {},
   "outputs": [],
   "source": [
    "import pandas as pd\n",
    "from sklearn.model_selection import train_test_split\n",
    "from sklearn.model_selection import StratifiedKFold, cross_val_score\n",
    "from sklearn.naive_bayes import GaussianNB\n",
    "from sklearn.metrics import confusion_matrix\n",
    "from sklearn.metrics import accuracy_score\n",
    "from sklearn.metrics import roc_auc_score\n",
    "from sklearn.metrics import log_loss\n",
    "import os"
   ]
  },
  {
   "cell_type": "code",
   "execution_count": 42,
   "id": "d4e21da9",
   "metadata": {},
   "outputs": [
    {
     "name": "stdout",
     "output_type": "stream",
     "text": [
      "0.9026697263047845\n",
      "[[ 4074   556]\n",
      " [ 2343 13027]]\n",
      "0.85505\n"
     ]
    }
   ],
   "source": [
    "nb = GaussianNB()\n",
    "nb.fit(X_train, y_train) # Aprior Probs get calculated\n",
    "y_pred_prob = nb.predict_proba(X_test)[:,1]\n",
    "print(roc_auc_score(y_test, y_pred_prob))\n",
    "\n",
    "y_pred = nb.predict(X_test)\n",
    "print(confusion_matrix(y_test, y_pred))\n",
    "print(accuracy_score(y_test, y_pred))"
   ]
  },
  {
   "cell_type": "code",
   "execution_count": 33,
   "id": "db50feb8",
   "metadata": {},
   "outputs": [],
   "source": [
    "# X=temp.removed_punct_text\n",
    "# y=temp.Target"
   ]
  },
  {
   "cell_type": "code",
   "execution_count": 32,
   "id": "d3ece19a",
   "metadata": {},
   "outputs": [
    {
     "data": {
      "text/html": [
       "<div>\n",
       "<style scoped>\n",
       "    .dataframe tbody tr th:only-of-type {\n",
       "        vertical-align: middle;\n",
       "    }\n",
       "\n",
       "    .dataframe tbody tr th {\n",
       "        vertical-align: top;\n",
       "    }\n",
       "\n",
       "    .dataframe thead th {\n",
       "        text-align: right;\n",
       "    }\n",
       "</style>\n",
       "<table border=\"1\" class=\"dataframe\">\n",
       "  <thead>\n",
       "    <tr style=\"text-align: right;\">\n",
       "      <th></th>\n",
       "      <th>removed_punct_text</th>\n",
       "      <th>Target</th>\n",
       "    </tr>\n",
       "  </thead>\n",
       "  <tbody>\n",
       "    <tr>\n",
       "      <th>0</th>\n",
       "      <td>i had the best breakfast  ever my husband goes...</td>\n",
       "      <td>1</td>\n",
       "    </tr>\n",
       "    <tr>\n",
       "      <th>1</th>\n",
       "      <td>amazing food even better service lamarl was on...</td>\n",
       "      <td>1</td>\n",
       "    </tr>\n",
       "    <tr>\n",
       "      <th>2</th>\n",
       "      <td>wowwhat a fabulous new addition to the area we...</td>\n",
       "      <td>1</td>\n",
       "    </tr>\n",
       "    <tr>\n",
       "      <th>3</th>\n",
       "      <td>this place was excellent everything from the g...</td>\n",
       "      <td>1</td>\n",
       "    </tr>\n",
       "    <tr>\n",
       "      <th>4</th>\n",
       "      <td>just had the pulled chicken burritoit was huge...</td>\n",
       "      <td>1</td>\n",
       "    </tr>\n",
       "  </tbody>\n",
       "</table>\n",
       "</div>"
      ],
      "text/plain": [
       "                                  removed_punct_text  Target\n",
       "0  i had the best breakfast  ever my husband goes...       1\n",
       "1  amazing food even better service lamarl was on...       1\n",
       "2  wowwhat a fabulous new addition to the area we...       1\n",
       "3  this place was excellent everything from the g...       1\n",
       "4  just had the pulled chicken burritoit was huge...       1"
      ]
     },
     "execution_count": 32,
     "metadata": {},
     "output_type": "execute_result"
    }
   ],
   "source": [
    "validation=df_final.sample(10000)\n",
    "validation=validation.reset_index()\n",
    "validation=validation.rename(columns={'index':'rem'})\n",
    "validation.drop('rem',axis=1,inplace=True)\n",
    "validation.head()"
   ]
  },
  {
   "cell_type": "code",
   "execution_count": 44,
   "id": "328fbdda",
   "metadata": {},
   "outputs": [
    {
     "name": "stderr",
     "output_type": "stream",
     "text": [
      "[nltk_data] Downloading package stopwords to\n",
      "[nltk_data]     C:\\Users\\SOURABH_JAMDADE\\AppData\\Roaming\\nltk_data...\n",
      "[nltk_data]   Package stopwords is already up-to-date!\n"
     ]
    }
   ],
   "source": [
    "\n",
    "# Cleaning the texts\n",
    "# we have to do this for all three dataset \n",
    "# this is for dataset1\n",
    "# It just for model comaparision\n",
    "import re\n",
    "import nltk\n",
    "nltk.download('stopwords')\n",
    "from nltk.corpus import stopwords\n",
    "stops = stopwords.words('english')\n",
    "from nltk.stem.porter import PorterStemmer\n",
    "corpus2 = []\n",
    "for i in range(0, validation.shape[0]):\n",
    "    review = validation['removed_punct_text'][i]\n",
    "    review = review.lower()\n",
    "    review = review.split()\n",
    "    ps = PorterStemmer()\n",
    "    review = [ps.stem(word) for word in review if not word in set(stops)]\n",
    "    review = ' '.join(review)\n",
    "    corpus2.append(review)"
   ]
  },
  {
   "cell_type": "code",
   "execution_count": 47,
   "id": "2b5710ee",
   "metadata": {},
   "outputs": [],
   "source": [
    "from sklearn.feature_extraction.text import TfidfVectorizer\n",
    "cv = TfidfVectorizer(max_features = 4000)\n",
    "X_val = cv.fit_transform(corpus2).toarray()\n",
    "#X = pd.DataFrame(X,columns=cv.get_feature_names_out())\n",
    "y_val = validation.iloc[:, 1]"
   ]
  },
  {
   "cell_type": "markdown",
   "id": "afe78b20",
   "metadata": {},
   "source": [
    "## Testing of GaussianNB"
   ]
  },
  {
   "cell_type": "code",
   "execution_count": 48,
   "id": "648be628",
   "metadata": {},
   "outputs": [
    {
     "name": "stdout",
     "output_type": "stream",
     "text": [
      "0.58116111520338\n",
      "[[ 991 1320]\n",
      " [2089 5600]]\n",
      "0.6591\n"
     ]
    }
   ],
   "source": [
    "y_pred_prob = nb.predict_proba(X_val)[:,1]\n",
    "print(roc_auc_score(y_val, y_pred_prob))\n",
    "\n",
    "y_pred = nb.predict(X_val)\n",
    "print(confusion_matrix(y_val, y_pred))\n",
    "print(accuracy_score(y_val, y_pred))"
   ]
  },
  {
   "cell_type": "markdown",
   "id": "fda4edea",
   "metadata": {},
   "source": [
    "### Pickeling the Machine learning Model"
   ]
  },
  {
   "cell_type": "code",
   "execution_count": 73,
   "id": "6fe5e401",
   "metadata": {},
   "outputs": [],
   "source": [
    "# save the trained logistic regression model to a file\n",
    "with open('GaussianNB_March7.pkl', 'wb') as file:\n",
    "    pickle.dump(nb, file)"
   ]
  },
  {
   "cell_type": "markdown",
   "id": "762ea36d",
   "metadata": {},
   "source": [
    "## 2.Random Forest"
   ]
  },
  {
   "cell_type": "code",
   "execution_count": 51,
   "id": "0baa1be6",
   "metadata": {},
   "outputs": [],
   "source": [
    "# Random_Forest for dataset1:\n",
    "# Fitting any algo to the Training set\n",
    "from sklearn.ensemble import RandomForestClassifier\n",
    "classifier = RandomForestClassifier(random_state=2022,n_estimators=25)\n",
    "classifier.fit(X_train, y_train)\n",
    "\n",
    "# Predicting the Test set results\n",
    "y_pred = classifier.predict(X_test)\n",
    "### Predicted Probabilities\n",
    "y_pred_prob = classifier.predict_proba(X_test)[:,1]"
   ]
  },
  {
   "cell_type": "code",
   "execution_count": 52,
   "id": "d439b820",
   "metadata": {},
   "outputs": [
    {
     "name": "stdout",
     "output_type": "stream",
     "text": [
      "[[ 3453  1177]\n",
      " [  314 15056]]\n",
      "              precision    recall  f1-score   support\n",
      "\n",
      "           0       0.92      0.75      0.82      4630\n",
      "           1       0.93      0.98      0.95     15370\n",
      "\n",
      "    accuracy                           0.93     20000\n",
      "   macro avg       0.92      0.86      0.89     20000\n",
      "weighted avg       0.92      0.93      0.92     20000\n",
      "\n",
      "0.92545\n",
      "0.9704233092712375\n"
     ]
    }
   ],
   "source": [
    "# Making the Confusion Matrix\n",
    "from sklearn.metrics import confusion_matrix, classification_report,accuracy_score,roc_auc_score\n",
    "print(confusion_matrix(y_test, y_pred))\n",
    "\n",
    "print(classification_report(y_test, y_pred))\n",
    "\n",
    "print(accuracy_score(y_test, y_pred))\n",
    "\n",
    "print(roc_auc_score(y_test, y_pred_prob))"
   ]
  },
  {
   "cell_type": "markdown",
   "id": "8c91db24",
   "metadata": {},
   "source": [
    "### Pickeling the Machine learning Model"
   ]
  },
  {
   "cell_type": "code",
   "execution_count": 72,
   "id": "a450fc05",
   "metadata": {},
   "outputs": [],
   "source": [
    "# save the trained logistic regression model to a file\n",
    "with open('RandomForest_March7.pkl', 'wb') as file:\n",
    "    pickle.dump(classifier, file)"
   ]
  },
  {
   "cell_type": "code",
   "execution_count": 53,
   "id": "1397aa05",
   "metadata": {},
   "outputs": [
    {
     "name": "stdout",
     "output_type": "stream",
     "text": [
      "0.6668896357584345\n",
      "[[1237 1074]\n",
      " [2430 5259]]\n",
      "0.6496\n"
     ]
    }
   ],
   "source": [
    "y_pred_prob = classifier.predict_proba(X_val)[:,1]\n",
    "print(roc_auc_score(y_val, y_pred_prob))\n",
    "\n",
    "y_pred = classifier.predict(X_val)\n",
    "print(confusion_matrix(y_val, y_pred))\n",
    "print(accuracy_score(y_val, y_pred))"
   ]
  },
  {
   "cell_type": "markdown",
   "id": "222c09d8",
   "metadata": {},
   "source": [
    "## 3.XG BOOST "
   ]
  },
  {
   "cell_type": "code",
   "execution_count": 54,
   "id": "e25a4bfa",
   "metadata": {},
   "outputs": [],
   "source": [
    "from xgboost import XGBClassifier\n",
    "from sklearn.metrics import confusion_matrix, classification_report,accuracy_score,roc_auc_score"
   ]
  },
  {
   "cell_type": "code",
   "execution_count": 56,
   "id": "129ed853",
   "metadata": {},
   "outputs": [],
   "source": [
    "## XG\n",
    "from xgboost import XGBClassifier\n",
    "XGB_model = XGBClassifier(random_state=2023)\n",
    "XGB_model.fit(X_train, y_train)\n",
    "\n",
    "XGB_model = XGBClassifier(random_state=2023)\n",
    "XGB_model.fit(X_train, y_train)\n",
    "\n",
    "# Predicting the Test set results\n",
    "y_pred_xgb = XGB_model.predict(X_test)\n",
    "### Predicted Probabilities\n",
    "y_pred_prob_xgb = XGB_model.predict_proba(X_test)[:,1]\n",
    "\n"
   ]
  },
  {
   "cell_type": "code",
   "execution_count": 57,
   "id": "0648b4e3",
   "metadata": {},
   "outputs": [
    {
     "name": "stdout",
     "output_type": "stream",
     "text": [
      "[[ 3864   766]\n",
      " [  350 15020]]\n",
      "              precision    recall  f1-score   support\n",
      "\n",
      "           0       0.92      0.83      0.87      4630\n",
      "           1       0.95      0.98      0.96     15370\n",
      "\n",
      "    accuracy                           0.94     20000\n",
      "   macro avg       0.93      0.91      0.92     20000\n",
      "weighted avg       0.94      0.94      0.94     20000\n",
      "\n",
      "0.9442\n",
      "0.9812942592439059\n"
     ]
    }
   ],
   "source": [
    "# Making the Confusion Matrix\n",
    "from sklearn.metrics import confusion_matrix, classification_report,accuracy_score,roc_auc_score\n",
    "print(confusion_matrix(y_test, y_pred_xgb))\n",
    "\n",
    "print(classification_report(y_test, y_pred_xgb))\n",
    "\n",
    "print(accuracy_score(y_test, y_pred_xgb))\n",
    "\n",
    "print(roc_auc_score(y_test, y_pred_prob_xgb))"
   ]
  },
  {
   "cell_type": "markdown",
   "id": "45a6ae32",
   "metadata": {},
   "source": [
    "### Pickeling the Machine learning Model"
   ]
  },
  {
   "cell_type": "code",
   "execution_count": 71,
   "id": "abab2ffc",
   "metadata": {},
   "outputs": [],
   "source": [
    "# save the trained logistic regression model to a file\n",
    "with open('XGB_model_March7.pkl', 'wb') as file:\n",
    "    pickle.dump(XGB_model, file)"
   ]
  },
  {
   "cell_type": "markdown",
   "id": "3baade3f",
   "metadata": {},
   "source": [
    "### Test Dataset of XGBoost"
   ]
  },
  {
   "cell_type": "code",
   "execution_count": 59,
   "id": "b4fdeb68",
   "metadata": {},
   "outputs": [
    {
     "name": "stdout",
     "output_type": "stream",
     "text": [
      "0.7010136145647777\n",
      "[[1305 1006]\n",
      " [2053 5636]]\n",
      "0.6941\n"
     ]
    }
   ],
   "source": [
    "y_pred_prob = XGB_model.predict_proba(X_val)[:,1]\n",
    "print(roc_auc_score(y_val, y_pred_prob))\n",
    "\n",
    "y_pred = XGB_model.predict(X_val)\n",
    "print(confusion_matrix(y_val, y_pred))\n",
    "print(accuracy_score(y_val, y_pred))"
   ]
  },
  {
   "cell_type": "markdown",
   "id": "3fc7e7cb",
   "metadata": {},
   "source": [
    "## 4.Light GBM "
   ]
  },
  {
   "cell_type": "code",
   "execution_count": 61,
   "id": "e83fc3e0",
   "metadata": {},
   "outputs": [
    {
     "name": "stdout",
     "output_type": "stream",
     "text": [
      "[[ 3863   767]\n",
      " [  385 14985]]\n",
      "              precision    recall  f1-score   support\n",
      "\n",
      "           0       0.91      0.83      0.87      4630\n",
      "           1       0.95      0.97      0.96     15370\n",
      "\n",
      "    accuracy                           0.94     20000\n",
      "   macro avg       0.93      0.90      0.92     20000\n",
      "weighted avg       0.94      0.94      0.94     20000\n",
      "\n",
      "0.9424\n",
      "0.981796801994292\n"
     ]
    }
   ],
   "source": [
    "## for dataset3\n",
    "## lightgbm\n",
    "\n",
    "from lightgbm import LGBMClassifier\n",
    "lgbm=LGBMClassifier(random_state=2023)\n",
    "lgbm.fit(X_train, y_train)\n",
    "# Predicting the Test set results\n",
    "y_pred_lgbm = lgbm.predict(X_test)\n",
    "### Predicted Probabilities\n",
    "y_pred_prob_lgbm = lgbm.predict_proba(X_test)[:,1]\n",
    "\n",
    "# Making the Confusion Matrix\n",
    "from sklearn.metrics import confusion_matrix, classification_report,accuracy_score,roc_auc_score\n",
    "print(confusion_matrix(y_test, y_pred_lgbm))\n",
    "\n",
    "print(classification_report(y_test, y_pred_lgbm))\n",
    "\n",
    "print(accuracy_score(y_test, y_pred_lgbm))\n",
    "\n",
    "print(roc_auc_score(y_test, y_pred_prob_lgbm))\n"
   ]
  },
  {
   "cell_type": "markdown",
   "id": "89b56184",
   "metadata": {},
   "source": [
    "### Test Dataset for Light GBM "
   ]
  },
  {
   "cell_type": "code",
   "execution_count": 66,
   "id": "03cbd28a",
   "metadata": {},
   "outputs": [
    {
     "name": "stdout",
     "output_type": "stream",
     "text": [
      "0.6989450444218923\n",
      "[[1357  954]\n",
      " [2265 5424]]\n",
      "0.6781\n"
     ]
    }
   ],
   "source": [
    "y_pred_prob = lgbm.predict_proba(X_val)[:,1]\n",
    "print(roc_auc_score(y_val, y_pred_prob))\n",
    "\n",
    "y_pred = lgbm.predict(X_val)\n",
    "print(confusion_matrix(y_val, y_pred))\n",
    "print(accuracy_score(y_val, y_pred))"
   ]
  },
  {
   "cell_type": "markdown",
   "id": "f48abe3d",
   "metadata": {},
   "source": [
    "### Pickeling the Machine learning Model"
   ]
  },
  {
   "cell_type": "code",
   "execution_count": 68,
   "id": "274be58b",
   "metadata": {},
   "outputs": [],
   "source": [
    "import pickle"
   ]
  },
  {
   "cell_type": "code",
   "execution_count": 69,
   "id": "a6a3c4d3",
   "metadata": {},
   "outputs": [],
   "source": [
    "# save the trained logistic regression model to a file\n",
    "with open('lgbm_March7.pkl', 'wb') as file:\n",
    "    pickle.dump(lgbm, file)"
   ]
  },
  {
   "cell_type": "markdown",
   "id": "fbf03ed9",
   "metadata": {},
   "source": [
    "## 5.Support Vector Machine"
   ]
  },
  {
   "cell_type": "code",
   "execution_count": 67,
   "id": "273f65b4",
   "metadata": {},
   "outputs": [
    {
     "ename": "AttributeError",
     "evalue": "predict_proba is not available when  probability=False",
     "output_type": "error",
     "traceback": [
      "\u001b[1;31m---------------------------------------------------------------------------\u001b[0m",
      "\u001b[1;31mAttributeError\u001b[0m                            Traceback (most recent call last)",
      "\u001b[1;32m~\\AppData\\Local\\Temp\\ipykernel_5532\\17370186.py\u001b[0m in \u001b[0;36m<module>\u001b[1;34m\u001b[0m\n\u001b[0;32m      7\u001b[0m \u001b[0my_pred\u001b[0m \u001b[1;33m=\u001b[0m \u001b[0msvm\u001b[0m\u001b[1;33m.\u001b[0m\u001b[0mpredict\u001b[0m\u001b[1;33m(\u001b[0m\u001b[0mX_test\u001b[0m\u001b[1;33m)\u001b[0m\u001b[1;33m\u001b[0m\u001b[1;33m\u001b[0m\u001b[0m\n\u001b[0;32m      8\u001b[0m \u001b[1;31m### Predicted Probabilities\u001b[0m\u001b[1;33m\u001b[0m\u001b[1;33m\u001b[0m\u001b[0m\n\u001b[1;32m----> 9\u001b[1;33m \u001b[0my_pred_prob\u001b[0m \u001b[1;33m=\u001b[0m \u001b[0msvm\u001b[0m\u001b[1;33m.\u001b[0m\u001b[0mpredict_proba\u001b[0m\u001b[1;33m(\u001b[0m\u001b[0mX_test2\u001b[0m\u001b[1;33m)\u001b[0m\u001b[1;33m[\u001b[0m\u001b[1;33m:\u001b[0m\u001b[1;33m,\u001b[0m\u001b[1;36m1\u001b[0m\u001b[1;33m]\u001b[0m\u001b[1;33m\u001b[0m\u001b[1;33m\u001b[0m\u001b[0m\n\u001b[0m\u001b[0;32m     10\u001b[0m \u001b[1;33m\u001b[0m\u001b[0m\n\u001b[0;32m     11\u001b[0m \u001b[1;31m# Making the Confusion Matrix\u001b[0m\u001b[1;33m\u001b[0m\u001b[1;33m\u001b[0m\u001b[0m\n",
      "\u001b[1;32m~\\anaconda3\\lib\\site-packages\\sklearn\\utils\\metaestimators.py\u001b[0m in \u001b[0;36m__get__\u001b[1;34m(self, obj, owner)\u001b[0m\n\u001b[0;32m    107\u001b[0m             \u001b[1;31m# delegate only on instances, not the classes.\u001b[0m\u001b[1;33m\u001b[0m\u001b[1;33m\u001b[0m\u001b[0m\n\u001b[0;32m    108\u001b[0m             \u001b[1;31m# this is to allow access to the docstrings.\u001b[0m\u001b[1;33m\u001b[0m\u001b[1;33m\u001b[0m\u001b[0m\n\u001b[1;32m--> 109\u001b[1;33m             \u001b[1;32mif\u001b[0m \u001b[1;32mnot\u001b[0m \u001b[0mself\u001b[0m\u001b[1;33m.\u001b[0m\u001b[0mcheck\u001b[0m\u001b[1;33m(\u001b[0m\u001b[0mobj\u001b[0m\u001b[1;33m)\u001b[0m\u001b[1;33m:\u001b[0m\u001b[1;33m\u001b[0m\u001b[1;33m\u001b[0m\u001b[0m\n\u001b[0m\u001b[0;32m    110\u001b[0m                 \u001b[1;32mraise\u001b[0m \u001b[0mattr_err\u001b[0m\u001b[1;33m\u001b[0m\u001b[1;33m\u001b[0m\u001b[0m\n\u001b[0;32m    111\u001b[0m \u001b[1;33m\u001b[0m\u001b[0m\n",
      "\u001b[1;32m~\\anaconda3\\lib\\site-packages\\sklearn\\svm\\_base.py\u001b[0m in \u001b[0;36m_check_proba\u001b[1;34m(self)\u001b[0m\n\u001b[0;32m    798\u001b[0m     \u001b[1;32mdef\u001b[0m \u001b[0m_check_proba\u001b[0m\u001b[1;33m(\u001b[0m\u001b[0mself\u001b[0m\u001b[1;33m)\u001b[0m\u001b[1;33m:\u001b[0m\u001b[1;33m\u001b[0m\u001b[1;33m\u001b[0m\u001b[0m\n\u001b[0;32m    799\u001b[0m         \u001b[1;32mif\u001b[0m \u001b[1;32mnot\u001b[0m \u001b[0mself\u001b[0m\u001b[1;33m.\u001b[0m\u001b[0mprobability\u001b[0m\u001b[1;33m:\u001b[0m\u001b[1;33m\u001b[0m\u001b[1;33m\u001b[0m\u001b[0m\n\u001b[1;32m--> 800\u001b[1;33m             raise AttributeError(\n\u001b[0m\u001b[0;32m    801\u001b[0m                 \u001b[1;34m\"predict_proba is not available when  probability=False\"\u001b[0m\u001b[1;33m\u001b[0m\u001b[1;33m\u001b[0m\u001b[0m\n\u001b[0;32m    802\u001b[0m             )\n",
      "\u001b[1;31mAttributeError\u001b[0m: predict_proba is not available when  probability=False"
     ]
    }
   ],
   "source": [
    "## SVM For dataset1\n",
    "## SVM\n",
    "from sklearn.svm import SVC\n",
    "svm = SVC(kernel='linear',C=2,probability=True, random_state=2023)\n",
    "svm.fit(X_train, y_train)\n",
    "# Predicting the Test set results\n",
    "y_pred = svm.predict(X_test)\n",
    "### Predicted Probabilities\n",
    "y_pred_prob = svm.predict_proba(X_test2)[:,1]\n",
    "\n",
    "# Making the Confusion Matrix\n",
    "from sklearn.metrics import confusion_matrix, classification_report,accuracy_score,roc_auc_score\n",
    "confusion_matrix(y_test, y_pred)\n",
    "print(classification_report(y_test, y_pred))\n",
    "print(accuracy_score(y_test, y_pred))\n",
    "print(roc_auc_score(y_test, y_pred_prob))"
   ]
  },
  {
   "cell_type": "markdown",
   "id": "ded4628c",
   "metadata": {},
   "source": [
    "### Test Dataset"
   ]
  },
  {
   "cell_type": "code",
   "execution_count": 65,
   "id": "e29e5458",
   "metadata": {},
   "outputs": [
    {
     "name": "stdout",
     "output_type": "stream",
     "text": [
      "0.7010136145647777\n",
      "[[1305 1006]\n",
      " [2053 5636]]\n",
      "0.6941\n"
     ]
    }
   ],
   "source": [
    "y_pred_prob = svm.predict_proba(X_val)[:,1]\n",
    "print(roc_auc_score(y_val, y_pred_prob))\n",
    "\n",
    "y_pred = svm.predict(X_val)\n",
    "print(confusion_matrix(y_val, y_pred))\n",
    "print(accuracy_score(y_val, y_pred))"
   ]
  },
  {
   "cell_type": "markdown",
   "id": "72352ecd",
   "metadata": {},
   "source": [
    "### Pickeling the Machine learning Model"
   ]
  },
  {
   "cell_type": "code",
   "execution_count": null,
   "id": "a99a243a",
   "metadata": {},
   "outputs": [],
   "source": [
    "import pickle"
   ]
  },
  {
   "cell_type": "code",
   "execution_count": null,
   "id": "67c7faf1",
   "metadata": {},
   "outputs": [],
   "source": [
    "# save the trained logistic regression model to a file\n",
    "with open('lr_model.pkl', 'wb') as file:\n",
    "    pickle.dump(lr, file)"
   ]
  },
  {
   "cell_type": "markdown",
   "id": "2e164607",
   "metadata": {},
   "source": [
    "# Creating Word Cloud for Positive and Negative Sentiment"
   ]
  },
  {
   "cell_type": "code",
   "execution_count": 74,
   "id": "323caad1",
   "metadata": {},
   "outputs": [],
   "source": [
    "df_final.Target = df_final.Target.astype('int')"
   ]
  },
  {
   "cell_type": "code",
   "execution_count": 75,
   "id": "5860e771",
   "metadata": {},
   "outputs": [],
   "source": [
    "pos = pd.DataFrame(df_final[df_final['Target']==1]['removed_punct_text'])\n",
    "neg = pd.DataFrame(df_final[df_final['Target']==0]['removed_punct_text'])"
   ]
  },
  {
   "cell_type": "code",
   "execution_count": 76,
   "id": "2f1a0141",
   "metadata": {},
   "outputs": [
    {
     "data": {
      "text/html": [
       "<div>\n",
       "<style scoped>\n",
       "    .dataframe tbody tr th:only-of-type {\n",
       "        vertical-align: middle;\n",
       "    }\n",
       "\n",
       "    .dataframe tbody tr th {\n",
       "        vertical-align: top;\n",
       "    }\n",
       "\n",
       "    .dataframe thead th {\n",
       "        text-align: right;\n",
       "    }\n",
       "</style>\n",
       "<table border=\"1\" class=\"dataframe\">\n",
       "  <thead>\n",
       "    <tr style=\"text-align: right;\">\n",
       "      <th></th>\n",
       "      <th>removed_punct_text</th>\n",
       "    </tr>\n",
       "  </thead>\n",
       "  <tbody>\n",
       "    <tr>\n",
       "      <th>0</th>\n",
       "      <td>i think its funny when people bitch that there...</td>\n",
       "    </tr>\n",
       "    <tr>\n",
       "      <th>1</th>\n",
       "      <td>i eat at pagelli's italiano for the first time...</td>\n",
       "    </tr>\n",
       "    <tr>\n",
       "      <th>2</th>\n",
       "      <td>went here for the early dinner special before ...</td>\n",
       "    </tr>\n",
       "    <tr>\n",
       "      <th>4</th>\n",
       "      <td>the fettuccine alfredo is fantastic at pagelli...</td>\n",
       "    </tr>\n",
       "    <tr>\n",
       "      <th>7</th>\n",
       "      <td>pagellis is by far one of my favorite places t...</td>\n",
       "    </tr>\n",
       "  </tbody>\n",
       "</table>\n",
       "</div>"
      ],
      "text/plain": [
       "                                  removed_punct_text\n",
       "0  i think its funny when people bitch that there...\n",
       "1  i eat at pagelli's italiano for the first time...\n",
       "2  went here for the early dinner special before ...\n",
       "4  the fettuccine alfredo is fantastic at pagelli...\n",
       "7  pagellis is by far one of my favorite places t..."
      ]
     },
     "execution_count": 76,
     "metadata": {},
     "output_type": "execute_result"
    }
   ],
   "source": [
    "pos.head(5)"
   ]
  },
  {
   "cell_type": "code",
   "execution_count": 77,
   "id": "470d1101",
   "metadata": {},
   "outputs": [],
   "source": [
    "pos = pos.reset_index().drop('index',axis=1)\n",
    "neg = neg.reset_index().drop('index',axis=1)"
   ]
  },
  {
   "cell_type": "code",
   "execution_count": 78,
   "id": "9fc70376",
   "metadata": {},
   "outputs": [],
   "source": [
    "# Import the necessary modules from the Natural Language Toolkit library\n",
    "import nltk\n",
    "from nltk.tokenize import word_tokenize\n",
    "from nltk.corpus import stopwords"
   ]
  },
  {
   "cell_type": "code",
   "execution_count": 79,
   "id": "ac336163",
   "metadata": {},
   "outputs": [
    {
     "name": "stdout",
     "output_type": "stream",
     "text": [
      "['i', 'me', 'my', 'myself', 'we', 'our', 'ours', 'ourselves', 'you', \"you're\", \"you've\", \"you'll\", \"you'd\", 'your', 'yours', 'yourself', 'yourselves', 'he', 'him', 'his', 'himself', 'she', \"she's\", 'her', 'hers', 'herself', 'it', \"it's\", 'its', 'itself', 'they', 'them', 'their', 'theirs', 'themselves', 'what', 'which', 'who', 'whom', 'this', 'that', \"that'll\", 'these', 'those', 'am', 'is', 'are', 'was', 'were', 'be', 'been', 'being', 'have', 'has', 'had', 'having', 'do', 'does', 'did', 'doing', 'a', 'an', 'the', 'and', 'but', 'if', 'or', 'because', 'as', 'until', 'while', 'of', 'at', 'by', 'for', 'with', 'about', 'against', 'between', 'into', 'through', 'during', 'before', 'after', 'above', 'below', 'to', 'from', 'up', 'down', 'in', 'out', 'on', 'off', 'over', 'under', 'again', 'further', 'then', 'once', 'here', 'there', 'when', 'where', 'why', 'how', 'all', 'any', 'both', 'each', 'few', 'more', 'most', 'other', 'some', 'such', 'no', 'nor', 'not', 'only', 'own', 'same', 'so', 'than', 'too', 'very', 's', 't', 'can', 'will', 'just', 'don', \"don't\", 'should', \"should've\", 'now', 'd', 'll', 'm', 'o', 're', 've', 'y', 'ain', 'aren', \"aren't\", 'couldn', \"couldn't\", 'didn', \"didn't\", 'doesn', \"doesn't\", 'hadn', \"hadn't\", 'hasn', \"hasn't\", 'haven', \"haven't\", 'isn', \"isn't\", 'ma', 'mightn', \"mightn't\", 'mustn', \"mustn't\", 'needn', \"needn't\", 'shan', \"shan't\", 'shouldn', \"shouldn't\", 'wasn', \"wasn't\", 'weren', \"weren't\", 'won', \"won't\", 'wouldn', \"wouldn't\"]\n"
     ]
    }
   ],
   "source": [
    "# Print the list of stopwords in the English language\n",
    "print(stopwords.words('english'))\n",
    "\n",
    "# Assign the list of English stopwords to the variable 'stops'\n",
    "stops = stopwords.words('english')"
   ]
  },
  {
   "cell_type": "code",
   "execution_count": 80,
   "id": "5bd3cb0e",
   "metadata": {},
   "outputs": [],
   "source": [
    "# Define lists of uninformative or unnecessary words for text analysis \n",
    "unuseful_positive_words = ['place','restaurants','make','really','service','definitely']\n",
    "\n",
    "unuseful_negative_words =  ['food','asked','two','minute','place','got','said','salad','back',\\\n",
    "                            'customer','nice','menu','made','great',\\\n",
    "                            'came','restaurant','better','sauce','want','good','took','eat']\n",
    "unuseful_words = unuseful_positive_words + unuseful_negative_words"
   ]
  },
  {
   "cell_type": "markdown",
   "id": "27829f78",
   "metadata": {},
   "source": [
    "## Creating corpus for positive sentiments"
   ]
  },
  {
   "cell_type": "code",
   "execution_count": 81,
   "id": "2b7299ab",
   "metadata": {},
   "outputs": [],
   "source": [
    "pos_corpus = []  # Initialize an empty list to store the processed text data\n",
    "\n",
    "# Loop over each row in the positive reviews dataset\n",
    "for i in range(0, pos.shape[0]):\n",
    "    \n",
    "    text = (pos['removed_punct_text'][i])  # Get the text of the i-th review\n",
    "    \n",
    "    text = text.lower()  # Convert all text to lowercase for consistency\n",
    "    \n",
    "    text = text.split()  # Split the text into a list of individual words\n",
    "    \n",
    "    text = [word for word in text if not word in set(stops)]  # Remove stopwords from the text\n",
    "    \n",
    "    text = [word for word in text if not word in unuseful_positive_words]  # Remove unuseful positive words from the text\n",
    "    \n",
    "    text = ' '.join(text)  # Join the words back together into a single string\n",
    "    \n",
    "    pos_corpus.append(text)  # Add the processed text to the corpus list"
   ]
  },
  {
   "cell_type": "code",
   "execution_count": 82,
   "id": "d5d3d0e5",
   "metadata": {},
   "outputs": [],
   "source": [
    "# Converting the Corpus into string format\n",
    "pos_corp_str = str(pos_corpus)"
   ]
  },
  {
   "cell_type": "code",
   "execution_count": 83,
   "id": "c25bc50c",
   "metadata": {},
   "outputs": [],
   "source": [
    "from wordcloud import WordCloud,ImageColorGenerator\n",
    "from os import path\n",
    "from PIL import Image"
   ]
  },
  {
   "cell_type": "code",
   "execution_count": 84,
   "id": "5fd692ed",
   "metadata": {},
   "outputs": [],
   "source": [
    "def similar_color_func(word=None, font_size=None,\n",
    "                       position=None, orientation=None,\n",
    "                       font_path=None, random_state=None):\n",
    "    h = 10 # 0 - 360\n",
    "    s = 100 # 0 - 100\n",
    "    l = np.random.randint(30, 70) # 0 - 100\n",
    "    return \"hsl({}, {}%, {}%)\".format(h, s, l)"
   ]
  },
  {
   "cell_type": "code",
   "execution_count": 85,
   "id": "425d8267",
   "metadata": {},
   "outputs": [],
   "source": [
    "def similar_color_func2(word=None, font_size=None,\n",
    "                       position=None, orientation=None,\n",
    "                       font_path=None, random_state=None):\n",
    "    h = 110 # 0 - 360\n",
    "    s = 100  # 0 - 100\n",
    "    l = np.random.randint(30, 70) # 0 - 100\n",
    "    return \"hsl({}, {}%, {}%)\".format(h, s, l)  "
   ]
  },
  {
   "cell_type": "code",
   "execution_count": 86,
   "id": "b3f573f7",
   "metadata": {},
   "outputs": [
    {
     "data": {
      "image/png": "[encoded data removed]",
      "text/plain": [
       "<Figure size 2000x700 with 1 Axes>"
      ]
     },
     "metadata": {},
     "output_type": "display_data"
    }
   ],
   "source": [
    "pos_mask = np.array(Image.open(\"florida.jpg\"))\n",
    "colors = ImageColorGenerator(pos_mask)\n",
    "text_pos = pos_corp_str\n",
    "\n",
    "# Create a word cloud image\n",
    "wc_pos = WordCloud(max_words=100, mask=pos_mask,\n",
    "                   contour_width=10, background_color=\"black\",contour_color='black',\n",
    "                   collocations=False)\n",
    "wc_pos.generate(text_pos)\n",
    "wc_pos.recolor(color_func=similar_color_func2)\n",
    "# Generate a wordcloud\n",
    "\n",
    "\n",
    "plt.figure(figsize=(20,7))\n",
    "plt.imshow(wc_pos, interpolation='bilinear')\n",
    "plt.axis(\"off\")\n",
    "plt.show()"
   ]
  },
  {
   "cell_type": "markdown",
   "id": "84ae3c1e",
   "metadata": {},
   "source": [
    "## Creating corpus for negative sentiments"
   ]
  },
  {
   "cell_type": "code",
   "execution_count": 87,
   "id": "79c878da",
   "metadata": {},
   "outputs": [],
   "source": [
    "neg_corpus = []\n",
    "for i in range(0, neg.shape[0]):\n",
    "    text= (neg['removed_punct_text'][i])\n",
    "    text = text.lower()\n",
    "    text= text.split()\n",
    "    text= [word for word in text if not word in set(stops)]\n",
    "    text=[word for word in text if not word in unuseful_negative_words]\n",
    "    text = ' '.join(text)\n",
    "    neg_corpus.append(text)"
   ]
  },
  {
   "cell_type": "code",
   "execution_count": 88,
   "id": "35646b51",
   "metadata": {},
   "outputs": [],
   "source": [
    "neg_corp_str = str(neg_corpus)\n"
   ]
  },
  {
   "cell_type": "code",
   "execution_count": 89,
   "id": "956a4598",
   "metadata": {},
   "outputs": [
    {
     "data": {
      "image/png": "[encoded data removed]",
      "text/plain": [
       "<Figure size 2000x700 with 1 Axes>"
      ]
     },
     "metadata": {},
     "output_type": "display_data"
    }
   ],
   "source": [
    "neg_mask = np.array(Image.open(\"florida.jpg\"))\n",
    "colors = ImageColorGenerator(neg_mask)\n",
    "text_neg = neg_corp_str\n",
    "\n",
    "# Create a word cloud image\n",
    "wc_pos = WordCloud(width = 3000, height = 2000, max_words=100, mask=neg_mask,\n",
    "                   contour_width=10, background_color=\"black\",contour_color='black',collocations=False)\n",
    "\n",
    "# Generate a wordcloud\n",
    "wc_pos.generate(text_neg)\n",
    "wc_pos.recolor(color_func=similar_color_func)\n",
    "plt.figure(figsize=(20,7))\n",
    "plt.imshow(wc_pos, interpolation='bilinear')\n",
    "plt.axis(\"off\")\n",
    "plt.show()"
   ]
  },
  {
   "cell_type": "code",
   "execution_count": 101,
   "id": "74b156e8",
   "metadata": {},
   "outputs": [],
   "source": [
    "def clean(temp):\n",
    "    corpus1 = []\n",
    "    for i in range(0, temp.shape[0]):\n",
    "        review = temp['text'][i]\n",
    "        review = review.lower()\n",
    "        review = review.split()\n",
    "        ps = PorterStemmer()\n",
    "        review = [ps.stem(word) for word in review if not word in set(stops)]\n",
    "        review = ' '.join(review)\n",
    "        corpus1.append(review)\n",
    "        \n",
    "    cv = TfidfVectorizer(max_features = 30)\n",
    "    X = cv.fit_transform(corpus1).toarray()\n",
    "    return X"
   ]
  },
  {
   "cell_type": "code",
   "execution_count": 112,
   "id": "b2d23be9",
   "metadata": {},
   "outputs": [],
   "source": [
    "bad_reviews='Racist people work here. This man raised his voice at me when i politely asked why my wife was not asked to be put on the waitlist although she wAs first in line than he i saw him politely ask a white group of people even though they were late. Just because the owner is mexican doesnt mean you are not racist. It is blatant that he was rude to me and when i asked him if he skipped my wife cause she was asian he instead of saying no kicked me out. And continue to be polite to white people.'"
   ]
  },
  {
   "cell_type": "code",
   "execution_count": 113,
   "id": "01edf3b2",
   "metadata": {},
   "outputs": [
    {
     "data": {
      "text/html": [
       "<div>\n",
       "<style scoped>\n",
       "    .dataframe tbody tr th:only-of-type {\n",
       "        vertical-align: middle;\n",
       "    }\n",
       "\n",
       "    .dataframe tbody tr th {\n",
       "        vertical-align: top;\n",
       "    }\n",
       "\n",
       "    .dataframe thead th {\n",
       "        text-align: right;\n",
       "    }\n",
       "</style>\n",
       "<table border=\"1\" class=\"dataframe\">\n",
       "  <thead>\n",
       "    <tr style=\"text-align: right;\">\n",
       "      <th></th>\n",
       "      <th>text</th>\n",
       "    </tr>\n",
       "  </thead>\n",
       "  <tbody>\n",
       "    <tr>\n",
       "      <th>0</th>\n",
       "      <td>Racist people work here. This man raised his v...</td>\n",
       "    </tr>\n",
       "  </tbody>\n",
       "</table>\n",
       "</div>"
      ],
      "text/plain": [
       "                                                text\n",
       "0  Racist people work here. This man raised his v..."
      ]
     },
     "execution_count": 113,
     "metadata": {},
     "output_type": "execute_result"
    }
   ],
   "source": [
    "df_bad_reviews=pd.DataFrame([bad_reviews],columns=['text'])\n",
    "df_bad_reviews"
   ]
  },
  {
   "cell_type": "code",
   "execution_count": 114,
   "id": "c6f20759",
   "metadata": {},
   "outputs": [
    {
     "ename": "ValueError",
     "evalue": "Number of features of the model must match the input. Model n_features_ is 3000 and input n_features is 30",
     "output_type": "error",
     "traceback": [
      "\u001b[1;31m---------------------------------------------------------------------------\u001b[0m",
      "\u001b[1;31mValueError\u001b[0m                                Traceback (most recent call last)",
      "\u001b[1;32m~\\AppData\\Local\\Temp\\ipykernel_5532\\2687061093.py\u001b[0m in \u001b[0;36m<module>\u001b[1;34m\u001b[0m\n\u001b[1;32m----> 1\u001b[1;33m \u001b[0mpred_1\u001b[0m\u001b[1;33m=\u001b[0m\u001b[0mlgbm\u001b[0m\u001b[1;33m.\u001b[0m\u001b[0mpredict\u001b[0m\u001b[1;33m(\u001b[0m\u001b[0mclean\u001b[0m\u001b[1;33m(\u001b[0m\u001b[0mdf_bad_reviews\u001b[0m\u001b[1;33m)\u001b[0m\u001b[1;33m)\u001b[0m\u001b[1;33m\u001b[0m\u001b[1;33m\u001b[0m\u001b[0m\n\u001b[0m\u001b[0;32m      2\u001b[0m \u001b[0mpred_1\u001b[0m\u001b[1;33m\u001b[0m\u001b[1;33m\u001b[0m\u001b[0m\n",
      "\u001b[1;32m~\\anaconda3\\lib\\site-packages\\lightgbm\\sklearn.py\u001b[0m in \u001b[0;36mpredict\u001b[1;34m(self, X, raw_score, start_iteration, num_iteration, pred_leaf, pred_contrib, **kwargs)\u001b[0m\n\u001b[0;32m    982\u001b[0m                 pred_leaf=False, pred_contrib=False, **kwargs):\n\u001b[0;32m    983\u001b[0m         \u001b[1;34m\"\"\"Docstring is inherited from the LGBMModel.\"\"\"\u001b[0m\u001b[1;33m\u001b[0m\u001b[1;33m\u001b[0m\u001b[0m\n\u001b[1;32m--> 984\u001b[1;33m         result = self.predict_proba(X, raw_score, start_iteration, num_iteration,\n\u001b[0m\u001b[0;32m    985\u001b[0m                                     pred_leaf, pred_contrib, **kwargs)\n\u001b[0;32m    986\u001b[0m         \u001b[1;32mif\u001b[0m \u001b[0mcallable\u001b[0m\u001b[1;33m(\u001b[0m\u001b[0mself\u001b[0m\u001b[1;33m.\u001b[0m\u001b[0m_objective\u001b[0m\u001b[1;33m)\u001b[0m \u001b[1;32mor\u001b[0m \u001b[0mraw_score\u001b[0m \u001b[1;32mor\u001b[0m \u001b[0mpred_leaf\u001b[0m \u001b[1;32mor\u001b[0m \u001b[0mpred_contrib\u001b[0m\u001b[1;33m:\u001b[0m\u001b[1;33m\u001b[0m\u001b[1;33m\u001b[0m\u001b[0m\n",
      "\u001b[1;32m~\\anaconda3\\lib\\site-packages\\lightgbm\\sklearn.py\u001b[0m in \u001b[0;36mpredict_proba\u001b[1;34m(self, X, raw_score, start_iteration, num_iteration, pred_leaf, pred_contrib, **kwargs)\u001b[0m\n\u001b[0;32m    995\u001b[0m                       pred_leaf=False, pred_contrib=False, **kwargs):\n\u001b[0;32m    996\u001b[0m         \u001b[1;34m\"\"\"Docstring is set after definition, using a template.\"\"\"\u001b[0m\u001b[1;33m\u001b[0m\u001b[1;33m\u001b[0m\u001b[0m\n\u001b[1;32m--> 997\u001b[1;33m         \u001b[0mresult\u001b[0m \u001b[1;33m=\u001b[0m \u001b[0msuper\u001b[0m\u001b[1;33m(\u001b[0m\u001b[1;33m)\u001b[0m\u001b[1;33m.\u001b[0m\u001b[0mpredict\u001b[0m\u001b[1;33m(\u001b[0m\u001b[0mX\u001b[0m\u001b[1;33m,\u001b[0m \u001b[0mraw_score\u001b[0m\u001b[1;33m,\u001b[0m \u001b[0mstart_iteration\u001b[0m\u001b[1;33m,\u001b[0m \u001b[0mnum_iteration\u001b[0m\u001b[1;33m,\u001b[0m \u001b[0mpred_leaf\u001b[0m\u001b[1;33m,\u001b[0m \u001b[0mpred_contrib\u001b[0m\u001b[1;33m,\u001b[0m \u001b[1;33m**\u001b[0m\u001b[0mkwargs\u001b[0m\u001b[1;33m)\u001b[0m\u001b[1;33m\u001b[0m\u001b[1;33m\u001b[0m\u001b[0m\n\u001b[0m\u001b[0;32m    998\u001b[0m         \u001b[1;32mif\u001b[0m \u001b[0mcallable\u001b[0m\u001b[1;33m(\u001b[0m\u001b[0mself\u001b[0m\u001b[1;33m.\u001b[0m\u001b[0m_objective\u001b[0m\u001b[1;33m)\u001b[0m \u001b[1;32mand\u001b[0m \u001b[1;32mnot\u001b[0m \u001b[1;33m(\u001b[0m\u001b[0mraw_score\u001b[0m \u001b[1;32mor\u001b[0m \u001b[0mpred_leaf\u001b[0m \u001b[1;32mor\u001b[0m \u001b[0mpred_contrib\u001b[0m\u001b[1;33m)\u001b[0m\u001b[1;33m:\u001b[0m\u001b[1;33m\u001b[0m\u001b[1;33m\u001b[0m\u001b[0m\n\u001b[0;32m    999\u001b[0m             _log_warning(\"Cannot compute class probabilities or labels \"\n",
      "\u001b[1;32m~\\anaconda3\\lib\\site-packages\\lightgbm\\sklearn.py\u001b[0m in \u001b[0;36mpredict\u001b[1;34m(self, X, raw_score, start_iteration, num_iteration, pred_leaf, pred_contrib, **kwargs)\u001b[0m\n\u001b[0;32m    798\u001b[0m         \u001b[0mn_features\u001b[0m \u001b[1;33m=\u001b[0m \u001b[0mX\u001b[0m\u001b[1;33m.\u001b[0m\u001b[0mshape\u001b[0m\u001b[1;33m[\u001b[0m\u001b[1;36m1\u001b[0m\u001b[1;33m]\u001b[0m\u001b[1;33m\u001b[0m\u001b[1;33m\u001b[0m\u001b[0m\n\u001b[0;32m    799\u001b[0m         \u001b[1;32mif\u001b[0m \u001b[0mself\u001b[0m\u001b[1;33m.\u001b[0m\u001b[0m_n_features\u001b[0m \u001b[1;33m!=\u001b[0m \u001b[0mn_features\u001b[0m\u001b[1;33m:\u001b[0m\u001b[1;33m\u001b[0m\u001b[1;33m\u001b[0m\u001b[0m\n\u001b[1;32m--> 800\u001b[1;33m             raise ValueError(\"Number of features of the model must \"\n\u001b[0m\u001b[0;32m    801\u001b[0m                              \u001b[1;34mf\"match the input. Model n_features_ is {self._n_features} and \"\u001b[0m\u001b[1;33m\u001b[0m\u001b[1;33m\u001b[0m\u001b[0m\n\u001b[0;32m    802\u001b[0m                              f\"input n_features is {n_features}\")\n",
      "\u001b[1;31mValueError\u001b[0m: Number of features of the model must match the input. Model n_features_ is 3000 and input n_features is 30"
     ]
    }
   ],
   "source": [
    "pred_1=lgbm.predict(clean(df_bad_reviews))\n",
    "pred_1"
   ]
  },
  {
   "cell_type": "code",
   "execution_count": 109,
   "id": "0be7ae32",
   "metadata": {},
   "outputs": [
    {
     "data": {
      "text/plain": [
       "array([[0.12403473, 0.12403473, 0.49613894, 0.12403473, 0.12403473,\n",
       "        0.12403473, 0.12403473, 0.12403473, 0.12403473, 0.12403473,\n",
       "        0.12403473, 0.12403473, 0.12403473, 0.12403473, 0.12403473,\n",
       "        0.24806947, 0.12403473, 0.3721042 , 0.12403473, 0.24806947,\n",
       "        0.12403473, 0.12403473, 0.12403473, 0.12403473, 0.12403473,\n",
       "        0.12403473, 0.12403473, 0.12403473, 0.24806947, 0.24806947]])"
      ]
     },
     "execution_count": 109,
     "metadata": {},
     "output_type": "execute_result"
    }
   ],
   "source": [
    "clean(df_bad_reviews)"
   ]
  },
  {
   "cell_type": "code",
   "execution_count": 1,
   "id": "36042bc9",
   "metadata": {},
   "outputs": [
    {
     "name": "stdout",
     "output_type": "stream",
     "text": [
      "Collecting textblob\n",
      "  Using cached textblob-0.17.1-py2.py3-none-any.whl (636 kB)\n",
      "Requirement already satisfied: nltk>=3.1 in c:\\users\\sourabh_jamdade\\anaconda3\\lib\\site-packages (from textblob) (3.7)\n",
      "Requirement already satisfied: tqdm in c:\\users\\sourabh_jamdade\\anaconda3\\lib\\site-packages (from nltk>=3.1->textblob) (4.64.1)\n",
      "Requirement already satisfied: joblib in c:\\users\\sourabh_jamdade\\anaconda3\\lib\\site-packages (from nltk>=3.1->textblob) (1.1.1)\n",
      "Requirement already satisfied: regex>=2021.8.3 in c:\\users\\sourabh_jamdade\\anaconda3\\lib\\site-packages (from nltk>=3.1->textblob) (2022.7.9)\n",
      "Requirement already satisfied: click in c:\\users\\sourabh_jamdade\\anaconda3\\lib\\site-packages (from nltk>=3.1->textblob) (8.0.4)\n",
      "Requirement already satisfied: colorama in c:\\users\\sourabh_jamdade\\anaconda3\\lib\\site-packages (from click->nltk>=3.1->textblob) (0.4.5)\n",
      "Installing collected packages: textblob\n",
      "Successfully installed textblob-0.17.1\n"
     ]
    }
   ],
   "source": [
    "!pip install -U textblob\n",
    "python -m textblob.download_corpora"
   ]
  },
  {
   "cell_type": "code",
   "execution_count": 3,
   "id": "241ee411",
   "metadata": {},
   "outputs": [
    {
     "name": "stdout",
     "output_type": "stream",
     "text": [
      "Collecting cleantext\n",
      "  Downloading cleantext-1.1.4-py3-none-any.whl (4.9 kB)\n",
      "Requirement already satisfied: nltk in c:\\users\\sourabh_jamdade\\anaconda3\\lib\\site-packages (from cleantext) (3.7)\n",
      "Requirement already satisfied: joblib in c:\\users\\sourabh_jamdade\\anaconda3\\lib\\site-packages (from nltk->cleantext) (1.1.1)\n",
      "Requirement already satisfied: regex>=2021.8.3 in c:\\users\\sourabh_jamdade\\anaconda3\\lib\\site-packages (from nltk->cleantext) (2022.7.9)\n",
      "Requirement already satisfied: tqdm in c:\\users\\sourabh_jamdade\\anaconda3\\lib\\site-packages (from nltk->cleantext) (4.64.1)\n",
      "Requirement already satisfied: click in c:\\users\\sourabh_jamdade\\anaconda3\\lib\\site-packages (from nltk->cleantext) (8.0.4)\n",
      "Requirement already satisfied: colorama in c:\\users\\sourabh_jamdade\\anaconda3\\lib\\site-packages (from click->nltk->cleantext) (0.4.5)\n",
      "Installing collected packages: cleantext\n",
      "Successfully installed cleantext-1.1.4\n"
     ]
    }
   ],
   "source": [
    "!pip install cleantext"
   ]
  },
  {
   "cell_type": "code",
   "execution_count": null,
   "id": "82c14c7c",
   "metadata": {},
   "outputs": [],
   "source": []
  },
  {
   "cell_type": "code",
   "execution_count": 4,
   "id": "19544b0b",
   "metadata": {},
   "outputs": [
    {
     "name": "stderr",
     "output_type": "stream",
     "text": [
      "2023-03-08 00:54:37.777 \n",
      "  \u001b[33m\u001b[1mWarning:\u001b[0m to view this Streamlit app on a browser, run it with the following\n",
      "  command:\n",
      "\n",
      "    streamlit run C:\\Users\\SOURABH_JAMDADE\\anaconda3\\lib\\site-packages\\ipykernel_launcher.py [ARGUMENTS]\n"
     ]
    }
   ],
   "source": [
    "from textblob import TextBlob\n",
    "import pandas as pd\n",
    "import streamlit as st\n",
    "import cleantext\n",
    "\n",
    "\n",
    "st.header('Sentiment Analysis')\n",
    "with st.expander('Analyze Text'):\n",
    "    text = st.text_input('Text here: ')\n",
    "    if text:\n",
    "        blob = TextBlob(text)\n",
    "        st.write('Polarity: ', round(blob.sentiment.polarity,2))\n",
    "        st.write('Subjectivity: ', round(blob.sentiment.subjectivity,2))\n",
    "\n",
    "\n",
    "    pre = st.text_input('Clean Text: ')\n",
    "    if pre:\n",
    "        st.write(cleantext.clean(pre, clean_all= False, extra_spaces=True ,\n",
    "                                 stopwords=True ,lowercase=True ,numbers=True , punct=True))\n",
    "\n",
    "with st.expander('Analyze CSV'):\n",
    "    upl = st.file_uploader('Upload file')\n",
    "\n",
    "    def score(x):\n",
    "        blob1 = TextBlob(x)\n",
    "        return blob1.sentiment.polarity\n",
    "\n",
    "#\n",
    "    def analyze(x):\n",
    "        if x >= 0.5:\n",
    "            return 'Positive'\n",
    "        elif x <= -0.5:\n",
    "            return 'Negative'\n",
    "        else:\n",
    "            return 'Neutral'\n",
    "\n",
    "#\n",
    "    if upl:\n",
    "        df = pd.read_excel(upl)\n",
    "        del df['Unnamed: 0']\n",
    "        df['score'] = df['tweets'].apply(score)\n",
    "        df['analysis'] = df['score'].apply(analyze)\n",
    "        st.write(df.head(10))\n",
    "\n",
    "        @st.cache\n",
    "        def convert_df(df):\n",
    "            # IMPORTANT: Cache the conversion to prevent computation on every rerun\n",
    "            return df.to_csv().encode('utf-8')\n",
    "\n",
    "        csv = convert_df(df)\n",
    "\n",
    "        st.download_button(\n",
    "            label=\"Download data as CSV\",\n",
    "            data=csv,\n",
    "            file_name='sentiment.csv',\n",
    "            mime='text/csv',\n",
    "        )\n"
   ]
  },
  {
   "cell_type": "code",
   "execution_count": 5,
   "id": "04b8ec69",
   "metadata": {},
   "outputs": [
    {
     "ename": "SyntaxError",
     "evalue": "invalid syntax (3019974370.py, line 1)",
     "output_type": "error",
     "traceback": [
      "\u001b[1;36m  File \u001b[1;32m\"C:\\Users\\SOURABH_JAMDADE\\AppData\\Local\\Temp\\ipykernel_9468\\3019974370.py\"\u001b[1;36m, line \u001b[1;32m1\u001b[0m\n\u001b[1;33m    streamlit run C:\\Users\\SOURABH_JAMDADE\\anaconda3\\lib\\site-packages\\ipykernel_launcher.py\u001b[0m\n\u001b[1;37m              ^\u001b[0m\n\u001b[1;31mSyntaxError\u001b[0m\u001b[1;31m:\u001b[0m invalid syntax\n"
     ]
    }
   ],
   "source": [
    "streamlit run C:\\Users\\SOURABH_JAMDADE\\anaconda3\\lib\\site-packages\\ipykernel_launcher.py"
   ]
  }
 ],
 "metadata": {
  "kernelspec": {
   "display_name": "Python 3 (ipykernel)",
   "language": "python",
   "name": "python3"
  },
  "language_info": {
   "codemirror_mode": {
    "name": "ipython",
    "version": 3
   },
   "file_extension": ".py",
   "mimetype": "text/x-python",
   "name": "python",
   "nbconvert_exporter": "python",
   "pygments_lexer": "ipython3",
   "version": "3.9.15"
  }
 },
 "nbformat": 4,
 "nbformat_minor": 5
}
