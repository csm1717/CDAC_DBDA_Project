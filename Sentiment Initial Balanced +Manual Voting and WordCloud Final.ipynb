{
 "cells": [
  {
   "cell_type": "code",
   "execution_count": 1,
   "id": "8464395e",
   "metadata": {},
   "outputs": [],
   "source": [
    "# IMPORTING ALL THE NECESSARY LIBRARIES AND PACKAGES\n",
    "import pandas as pd\n",
    "import numpy as np\n",
    "import matplotlib.pyplot as plt\n",
    "import seaborn as sns\n",
    "import nltk\n",
    "from nltk.corpus import stopwords\n",
    "import string\n",
    "import math\n",
    "from sklearn.feature_extraction.text import CountVectorizer\n",
    "from sklearn.model_selection import train_test_split, cross_val_score\n",
    "from sklearn.metrics import classification_report\n",
    "from sklearn.metrics import confusion_matrix, accuracy_score, roc_auc_score, roc_curve\n",
    "#from sklearn.grid_search import GridSearchCV\n",
    "%matplotlib inline\n"
   ]
  },
  {
   "cell_type": "code",
   "execution_count": 2,
   "id": "e37e7e83",
   "metadata": {},
   "outputs": [],
   "source": [
    "import pandas as pd\n",
    "from sklearn import metrics\n",
    "from sklearn.ensemble import GradientBoostingClassifier\n",
    "from sklearn.discriminant_analysis import LinearDiscriminantAnalysis\n",
    "from sklearn.neighbors import KNeighborsClassifier\n",
    "from sklearn.naive_bayes import GaussianNB\n",
    "from sklearn.linear_model import LogisticRegression\n",
    "from sklearn.ensemble import RandomForestClassifier\n",
    "from xgboost import XGBClassifier"
   ]
  },
  {
   "cell_type": "code",
   "execution_count": 2,
   "id": "cef57f3e",
   "metadata": {},
   "outputs": [
    {
     "name": "stdout",
     "output_type": "stream",
     "text": [
      "Collecting pymongo\n",
      "  Downloading pymongo-4.3.3-cp39-cp39-win_amd64.whl (382 kB)\n",
      "     ------------------------------------ 382.5/382.5 kB 384.2 kB/s eta 0:00:00\n",
      "Collecting dnspython<3.0.0,>=1.16.0\n",
      "  Downloading dnspython-2.3.0-py3-none-any.whl (283 kB)\n",
      "     -------------------------------------- 283.7/283.7 kB 2.5 MB/s eta 0:00:00\n",
      "Installing collected packages: dnspython, pymongo\n",
      "Successfully installed dnspython-2.3.0 pymongo-4.3.3\n"
     ]
    }
   ],
   "source": [
    "!pip install pymongo"
   ]
  },
  {
   "cell_type": "code",
   "execution_count": 3,
   "id": "a52f5443",
   "metadata": {},
   "outputs": [],
   "source": [
    "import pymongo\n",
    "import pandas as pd\n",
    "from pymongo import MongoClient"
   ]
  },
  {
   "cell_type": "code",
   "execution_count": 4,
   "id": "b3e87d78",
   "metadata": {},
   "outputs": [
    {
     "name": "stdout",
     "output_type": "stream",
     "text": [
      "Database(MongoClient(host=['localhost:27017'], document_class=dict, tz_aware=False, connect=True), 'Project')\n"
     ]
    }
   ],
   "source": [
    "client = MongoClient()\n",
    "\n",
    "#point the client at mongo URI\n",
    "client = MongoClient('mongodb://localhost:27017')\n",
    "#select database\n",
    "db = client['Project']\n",
    "print(db)"
   ]
  },
  {
   "cell_type": "code",
   "execution_count": 5,
   "id": "a13409a4",
   "metadata": {},
   "outputs": [
    {
     "name": "stdout",
     "output_type": "stream",
     "text": [
      "Collection(Database(MongoClient(host=['localhost:27017'], document_class=dict, tz_aware=False, connect=True), 'Project'), 'business_joined')\n"
     ]
    }
   ],
   "source": [
    "#select the collection within the database\n",
    "business_joined = db['business_joined']\n",
    "print(business_joined)"
   ]
  },
  {
   "cell_type": "code",
   "execution_count": 6,
   "id": "8556029f",
   "metadata": {},
   "outputs": [
    {
     "name": "stdout",
     "output_type": "stream",
     "text": [
      "<pymongo.cursor.Cursor object at 0x000002BEAD8C8D90>\n"
     ]
    }
   ],
   "source": [
    "cursor = business_joined.find()\n",
    "print(cursor)"
   ]
  },
  {
   "cell_type": "markdown",
   "id": "d7746eba",
   "metadata": {},
   "source": [
    "## Reading the data from mongodb(local host) in btaches"
   ]
  },
  {
   "cell_type": "code",
   "execution_count": 7,
   "id": "a9a7f2e6",
   "metadata": {},
   "outputs": [],
   "source": [
    "import warnings\n",
    "warnings.filterwarnings(\"ignore\")\n",
    "def batched(cursor, batch_size):\n",
    "    batch = []\n",
    "    for doc in cursor:\n",
    "        batch.append(doc)\n",
    "        if batch and not len(batch) % batch_size:\n",
    "            yield batch\n",
    "            batch = []\n",
    "\n",
    "    if batch:   # last documents\n",
    "        yield batch\n",
    "\n",
    "df = pd.DataFrame()\n",
    "for batch in batched(cursor, 10000):\n",
    "    df = df.append(batch, ignore_index=True)"
   ]
  },
  {
   "cell_type": "code",
   "execution_count": 8,
   "id": "c91b405e",
   "metadata": {},
   "outputs": [],
   "source": [
    "restaurants_reviews = df"
   ]
  },
  {
   "cell_type": "code",
   "execution_count": 9,
   "id": "195bfc8f",
   "metadata": {},
   "outputs": [
    {
     "name": "stdout",
     "output_type": "stream",
     "text": [
      "Index(['_id', 'address', 'business_id', 'city', 'is_open', 'latitude',\n",
      "       'longitude', 'name', 'postal_code', 'review_count', 'restaurant_stars',\n",
      "       'state', 'DogsAllowed', 'RestaurantsTakeOut', 'HappyHour',\n",
      "       'OutdoorSeating', 'GoodForKids', 'HasTV', 'RestaurantsReservations',\n",
      "       'WheelchairAccessible', 'RestaurantsPriceRange', 'Wifi', 'Noiselevel',\n",
      "       'Alcohol', 'DriveThru', 'Categories', 'cool', 'date', 'funny',\n",
      "       'review_id', 'stars', 'text', 'useful'],\n",
      "      dtype='object')\n"
     ]
    }
   ],
   "source": [
    "print(restaurants_reviews.columns)"
   ]
  },
  {
   "cell_type": "code",
   "execution_count": 10,
   "id": "43363c28",
   "metadata": {},
   "outputs": [
    {
     "data": {
      "text/html": [
       "<div>\n",
       "<style scoped>\n",
       "    .dataframe tbody tr th:only-of-type {\n",
       "        vertical-align: middle;\n",
       "    }\n",
       "\n",
       "    .dataframe tbody tr th {\n",
       "        vertical-align: top;\n",
       "    }\n",
       "\n",
       "    .dataframe thead th {\n",
       "        text-align: right;\n",
       "    }\n",
       "</style>\n",
       "<table border=\"1\" class=\"dataframe\">\n",
       "  <thead>\n",
       "    <tr style=\"text-align: right;\">\n",
       "      <th></th>\n",
       "      <th>_id</th>\n",
       "      <th>address</th>\n",
       "      <th>business_id</th>\n",
       "      <th>city</th>\n",
       "      <th>is_open</th>\n",
       "      <th>latitude</th>\n",
       "      <th>longitude</th>\n",
       "      <th>name</th>\n",
       "      <th>postal_code</th>\n",
       "      <th>review_count</th>\n",
       "      <th>...</th>\n",
       "      <th>Alcohol</th>\n",
       "      <th>DriveThru</th>\n",
       "      <th>Categories</th>\n",
       "      <th>cool</th>\n",
       "      <th>date</th>\n",
       "      <th>funny</th>\n",
       "      <th>review_id</th>\n",
       "      <th>stars</th>\n",
       "      <th>text</th>\n",
       "      <th>useful</th>\n",
       "    </tr>\n",
       "  </thead>\n",
       "  <tbody>\n",
       "    <tr>\n",
       "      <th>0</th>\n",
       "      <td>63fe89f0d60a9a69b84f365a</td>\n",
       "      <td>2001 Piazza Ave, Ste 100</td>\n",
       "      <td>-I8rPwW2mH-pxMeyk22f7g</td>\n",
       "      <td>Wesley Chapel</td>\n",
       "      <td>0</td>\n",
       "      <td>28.189038</td>\n",
       "      <td>-82.347692</td>\n",
       "      <td>Pagelli's Italiano</td>\n",
       "      <td>33543</td>\n",
       "      <td>13</td>\n",
       "      <td>...</td>\n",
       "      <td>full_bar</td>\n",
       "      <td>False</td>\n",
       "      <td>Italian</td>\n",
       "      <td>2</td>\n",
       "      <td>2012-06-26 18:31:16</td>\n",
       "      <td>1</td>\n",
       "      <td>Mgw2Tzea5quFVwBQL1OFYA</td>\n",
       "      <td>4</td>\n",
       "      <td>I think its funny when people bitch that there...</td>\n",
       "      <td>3</td>\n",
       "    </tr>\n",
       "    <tr>\n",
       "      <th>1</th>\n",
       "      <td>63fe89f0d60a9a69b84f365b</td>\n",
       "      <td>2001 Piazza Ave, Ste 100</td>\n",
       "      <td>-I8rPwW2mH-pxMeyk22f7g</td>\n",
       "      <td>Wesley Chapel</td>\n",
       "      <td>0</td>\n",
       "      <td>28.189038</td>\n",
       "      <td>-82.347692</td>\n",
       "      <td>Pagelli's Italiano</td>\n",
       "      <td>33543</td>\n",
       "      <td>13</td>\n",
       "      <td>...</td>\n",
       "      <td>full_bar</td>\n",
       "      <td>False</td>\n",
       "      <td>Italian</td>\n",
       "      <td>1</td>\n",
       "      <td>2011-12-02 14:05:58</td>\n",
       "      <td>1</td>\n",
       "      <td>8sOaDBSRKSMvvgd-FF7-cQ</td>\n",
       "      <td>3</td>\n",
       "      <td>My wife and I just had our second child, and w...</td>\n",
       "      <td>3</td>\n",
       "    </tr>\n",
       "    <tr>\n",
       "      <th>2</th>\n",
       "      <td>63fe89f0d60a9a69b84f365c</td>\n",
       "      <td>2001 Piazza Ave, Ste 100</td>\n",
       "      <td>-I8rPwW2mH-pxMeyk22f7g</td>\n",
       "      <td>Wesley Chapel</td>\n",
       "      <td>0</td>\n",
       "      <td>28.189038</td>\n",
       "      <td>-82.347692</td>\n",
       "      <td>Pagelli's Italiano</td>\n",
       "      <td>33543</td>\n",
       "      <td>13</td>\n",
       "      <td>...</td>\n",
       "      <td>full_bar</td>\n",
       "      <td>False</td>\n",
       "      <td>Italian</td>\n",
       "      <td>0</td>\n",
       "      <td>2011-04-26 03:15:09</td>\n",
       "      <td>0</td>\n",
       "      <td>a00WNmUzoFv4jlJ7qHsnbQ</td>\n",
       "      <td>4</td>\n",
       "      <td>I eat at pagelli's italiano for the first time...</td>\n",
       "      <td>0</td>\n",
       "    </tr>\n",
       "    <tr>\n",
       "      <th>3</th>\n",
       "      <td>63fe89f0d60a9a69b84f365d</td>\n",
       "      <td>2001 Piazza Ave, Ste 100</td>\n",
       "      <td>-I8rPwW2mH-pxMeyk22f7g</td>\n",
       "      <td>Wesley Chapel</td>\n",
       "      <td>0</td>\n",
       "      <td>28.189038</td>\n",
       "      <td>-82.347692</td>\n",
       "      <td>Pagelli's Italiano</td>\n",
       "      <td>33543</td>\n",
       "      <td>13</td>\n",
       "      <td>...</td>\n",
       "      <td>full_bar</td>\n",
       "      <td>False</td>\n",
       "      <td>Italian</td>\n",
       "      <td>0</td>\n",
       "      <td>2011-10-02 02:20:39</td>\n",
       "      <td>0</td>\n",
       "      <td>BZXl-NZ2zkah2Q_7E6RDkg</td>\n",
       "      <td>4</td>\n",
       "      <td>Went here for the early dinner special before ...</td>\n",
       "      <td>0</td>\n",
       "    </tr>\n",
       "    <tr>\n",
       "      <th>4</th>\n",
       "      <td>63fe89f0d60a9a69b84f365e</td>\n",
       "      <td>2001 Piazza Ave, Ste 100</td>\n",
       "      <td>-I8rPwW2mH-pxMeyk22f7g</td>\n",
       "      <td>Wesley Chapel</td>\n",
       "      <td>0</td>\n",
       "      <td>28.189038</td>\n",
       "      <td>-82.347692</td>\n",
       "      <td>Pagelli's Italiano</td>\n",
       "      <td>33543</td>\n",
       "      <td>13</td>\n",
       "      <td>...</td>\n",
       "      <td>full_bar</td>\n",
       "      <td>False</td>\n",
       "      <td>Italian</td>\n",
       "      <td>0</td>\n",
       "      <td>2011-11-06 00:51:34</td>\n",
       "      <td>0</td>\n",
       "      <td>nAeVYBEmx1Xf5EXxRo1fKA</td>\n",
       "      <td>1</td>\n",
       "      <td>Went for dinner, and never even got our food. ...</td>\n",
       "      <td>2</td>\n",
       "    </tr>\n",
       "  </tbody>\n",
       "</table>\n",
       "<p>5 rows × 33 columns</p>\n",
       "</div>"
      ],
      "text/plain": [
       "                        _id                   address             business_id  \\\n",
       "0  63fe89f0d60a9a69b84f365a  2001 Piazza Ave, Ste 100  -I8rPwW2mH-pxMeyk22f7g   \n",
       "1  63fe89f0d60a9a69b84f365b  2001 Piazza Ave, Ste 100  -I8rPwW2mH-pxMeyk22f7g   \n",
       "2  63fe89f0d60a9a69b84f365c  2001 Piazza Ave, Ste 100  -I8rPwW2mH-pxMeyk22f7g   \n",
       "3  63fe89f0d60a9a69b84f365d  2001 Piazza Ave, Ste 100  -I8rPwW2mH-pxMeyk22f7g   \n",
       "4  63fe89f0d60a9a69b84f365e  2001 Piazza Ave, Ste 100  -I8rPwW2mH-pxMeyk22f7g   \n",
       "\n",
       "            city  is_open   latitude  longitude                name  \\\n",
       "0  Wesley Chapel        0  28.189038 -82.347692  Pagelli's Italiano   \n",
       "1  Wesley Chapel        0  28.189038 -82.347692  Pagelli's Italiano   \n",
       "2  Wesley Chapel        0  28.189038 -82.347692  Pagelli's Italiano   \n",
       "3  Wesley Chapel        0  28.189038 -82.347692  Pagelli's Italiano   \n",
       "4  Wesley Chapel        0  28.189038 -82.347692  Pagelli's Italiano   \n",
       "\n",
       "  postal_code  review_count  ...   Alcohol DriveThru Categories cool  \\\n",
       "0       33543            13  ...  full_bar     False    Italian    2   \n",
       "1       33543            13  ...  full_bar     False    Italian    1   \n",
       "2       33543            13  ...  full_bar     False    Italian    0   \n",
       "3       33543            13  ...  full_bar     False    Italian    0   \n",
       "4       33543            13  ...  full_bar     False    Italian    0   \n",
       "\n",
       "                  date funny               review_id stars  \\\n",
       "0  2012-06-26 18:31:16     1  Mgw2Tzea5quFVwBQL1OFYA     4   \n",
       "1  2011-12-02 14:05:58     1  8sOaDBSRKSMvvgd-FF7-cQ     3   \n",
       "2  2011-04-26 03:15:09     0  a00WNmUzoFv4jlJ7qHsnbQ     4   \n",
       "3  2011-10-02 02:20:39     0  BZXl-NZ2zkah2Q_7E6RDkg     4   \n",
       "4  2011-11-06 00:51:34     0  nAeVYBEmx1Xf5EXxRo1fKA     1   \n",
       "\n",
       "                                                text useful  \n",
       "0  I think its funny when people bitch that there...      3  \n",
       "1  My wife and I just had our second child, and w...      3  \n",
       "2  I eat at pagelli's italiano for the first time...      0  \n",
       "3  Went here for the early dinner special before ...      0  \n",
       "4  Went for dinner, and never even got our food. ...      2  \n",
       "\n",
       "[5 rows x 33 columns]"
      ]
     },
     "execution_count": 10,
     "metadata": {},
     "output_type": "execute_result"
    }
   ],
   "source": [
    "restaurants_reviews.head()"
   ]
  },
  {
   "cell_type": "code",
   "execution_count": 11,
   "id": "6360537f",
   "metadata": {},
   "outputs": [
    {
     "name": "stdout",
     "output_type": "stream",
     "text": [
      "Shape of the dataset:\n",
      "(497887, 33)\n"
     ]
    }
   ],
   "source": [
    "# SHAPE OF THE DATASET\n",
    "print(\"Shape of the dataset:\")\n",
    "print(restaurants_reviews.shape)"
   ]
  },
  {
   "cell_type": "code",
   "execution_count": 12,
   "id": "a67b3524",
   "metadata": {},
   "outputs": [
    {
     "data": {
      "text/html": [
       "<div>\n",
       "<style scoped>\n",
       "    .dataframe tbody tr th:only-of-type {\n",
       "        vertical-align: middle;\n",
       "    }\n",
       "\n",
       "    .dataframe tbody tr th {\n",
       "        vertical-align: top;\n",
       "    }\n",
       "\n",
       "    .dataframe thead th {\n",
       "        text-align: right;\n",
       "    }\n",
       "</style>\n",
       "<table border=\"1\" class=\"dataframe\">\n",
       "  <thead>\n",
       "    <tr style=\"text-align: right;\">\n",
       "      <th></th>\n",
       "      <th>_id</th>\n",
       "      <th>address</th>\n",
       "      <th>business_id</th>\n",
       "      <th>city</th>\n",
       "      <th>is_open</th>\n",
       "      <th>latitude</th>\n",
       "      <th>longitude</th>\n",
       "      <th>name</th>\n",
       "      <th>postal_code</th>\n",
       "      <th>review_count</th>\n",
       "      <th>...</th>\n",
       "      <th>DriveThru</th>\n",
       "      <th>Categories</th>\n",
       "      <th>cool</th>\n",
       "      <th>date</th>\n",
       "      <th>funny</th>\n",
       "      <th>review_id</th>\n",
       "      <th>stars</th>\n",
       "      <th>text</th>\n",
       "      <th>useful</th>\n",
       "      <th>length</th>\n",
       "    </tr>\n",
       "  </thead>\n",
       "  <tbody>\n",
       "    <tr>\n",
       "      <th>0</th>\n",
       "      <td>63fe89f0d60a9a69b84f365a</td>\n",
       "      <td>2001 Piazza Ave, Ste 100</td>\n",
       "      <td>-I8rPwW2mH-pxMeyk22f7g</td>\n",
       "      <td>Wesley Chapel</td>\n",
       "      <td>0</td>\n",
       "      <td>28.189038</td>\n",
       "      <td>-82.347692</td>\n",
       "      <td>Pagelli's Italiano</td>\n",
       "      <td>33543</td>\n",
       "      <td>13</td>\n",
       "      <td>...</td>\n",
       "      <td>False</td>\n",
       "      <td>Italian</td>\n",
       "      <td>2</td>\n",
       "      <td>2012-06-26 18:31:16</td>\n",
       "      <td>1</td>\n",
       "      <td>Mgw2Tzea5quFVwBQL1OFYA</td>\n",
       "      <td>4</td>\n",
       "      <td>I think its funny when people bitch that there...</td>\n",
       "      <td>3</td>\n",
       "      <td>984</td>\n",
       "    </tr>\n",
       "    <tr>\n",
       "      <th>1</th>\n",
       "      <td>63fe89f0d60a9a69b84f365b</td>\n",
       "      <td>2001 Piazza Ave, Ste 100</td>\n",
       "      <td>-I8rPwW2mH-pxMeyk22f7g</td>\n",
       "      <td>Wesley Chapel</td>\n",
       "      <td>0</td>\n",
       "      <td>28.189038</td>\n",
       "      <td>-82.347692</td>\n",
       "      <td>Pagelli's Italiano</td>\n",
       "      <td>33543</td>\n",
       "      <td>13</td>\n",
       "      <td>...</td>\n",
       "      <td>False</td>\n",
       "      <td>Italian</td>\n",
       "      <td>1</td>\n",
       "      <td>2011-12-02 14:05:58</td>\n",
       "      <td>1</td>\n",
       "      <td>8sOaDBSRKSMvvgd-FF7-cQ</td>\n",
       "      <td>3</td>\n",
       "      <td>My wife and I just had our second child, and w...</td>\n",
       "      <td>3</td>\n",
       "      <td>3870</td>\n",
       "    </tr>\n",
       "    <tr>\n",
       "      <th>2</th>\n",
       "      <td>63fe89f0d60a9a69b84f365c</td>\n",
       "      <td>2001 Piazza Ave, Ste 100</td>\n",
       "      <td>-I8rPwW2mH-pxMeyk22f7g</td>\n",
       "      <td>Wesley Chapel</td>\n",
       "      <td>0</td>\n",
       "      <td>28.189038</td>\n",
       "      <td>-82.347692</td>\n",
       "      <td>Pagelli's Italiano</td>\n",
       "      <td>33543</td>\n",
       "      <td>13</td>\n",
       "      <td>...</td>\n",
       "      <td>False</td>\n",
       "      <td>Italian</td>\n",
       "      <td>0</td>\n",
       "      <td>2011-04-26 03:15:09</td>\n",
       "      <td>0</td>\n",
       "      <td>a00WNmUzoFv4jlJ7qHsnbQ</td>\n",
       "      <td>4</td>\n",
       "      <td>I eat at pagelli's italiano for the first time...</td>\n",
       "      <td>0</td>\n",
       "      <td>127</td>\n",
       "    </tr>\n",
       "    <tr>\n",
       "      <th>3</th>\n",
       "      <td>63fe89f0d60a9a69b84f365d</td>\n",
       "      <td>2001 Piazza Ave, Ste 100</td>\n",
       "      <td>-I8rPwW2mH-pxMeyk22f7g</td>\n",
       "      <td>Wesley Chapel</td>\n",
       "      <td>0</td>\n",
       "      <td>28.189038</td>\n",
       "      <td>-82.347692</td>\n",
       "      <td>Pagelli's Italiano</td>\n",
       "      <td>33543</td>\n",
       "      <td>13</td>\n",
       "      <td>...</td>\n",
       "      <td>False</td>\n",
       "      <td>Italian</td>\n",
       "      <td>0</td>\n",
       "      <td>2011-10-02 02:20:39</td>\n",
       "      <td>0</td>\n",
       "      <td>BZXl-NZ2zkah2Q_7E6RDkg</td>\n",
       "      <td>4</td>\n",
       "      <td>Went here for the early dinner special before ...</td>\n",
       "      <td>0</td>\n",
       "      <td>526</td>\n",
       "    </tr>\n",
       "    <tr>\n",
       "      <th>4</th>\n",
       "      <td>63fe89f0d60a9a69b84f365e</td>\n",
       "      <td>2001 Piazza Ave, Ste 100</td>\n",
       "      <td>-I8rPwW2mH-pxMeyk22f7g</td>\n",
       "      <td>Wesley Chapel</td>\n",
       "      <td>0</td>\n",
       "      <td>28.189038</td>\n",
       "      <td>-82.347692</td>\n",
       "      <td>Pagelli's Italiano</td>\n",
       "      <td>33543</td>\n",
       "      <td>13</td>\n",
       "      <td>...</td>\n",
       "      <td>False</td>\n",
       "      <td>Italian</td>\n",
       "      <td>0</td>\n",
       "      <td>2011-11-06 00:51:34</td>\n",
       "      <td>0</td>\n",
       "      <td>nAeVYBEmx1Xf5EXxRo1fKA</td>\n",
       "      <td>1</td>\n",
       "      <td>Went for dinner, and never even got our food. ...</td>\n",
       "      <td>2</td>\n",
       "      <td>168</td>\n",
       "    </tr>\n",
       "  </tbody>\n",
       "</table>\n",
       "<p>5 rows × 34 columns</p>\n",
       "</div>"
      ],
      "text/plain": [
       "                        _id                   address             business_id  \\\n",
       "0  63fe89f0d60a9a69b84f365a  2001 Piazza Ave, Ste 100  -I8rPwW2mH-pxMeyk22f7g   \n",
       "1  63fe89f0d60a9a69b84f365b  2001 Piazza Ave, Ste 100  -I8rPwW2mH-pxMeyk22f7g   \n",
       "2  63fe89f0d60a9a69b84f365c  2001 Piazza Ave, Ste 100  -I8rPwW2mH-pxMeyk22f7g   \n",
       "3  63fe89f0d60a9a69b84f365d  2001 Piazza Ave, Ste 100  -I8rPwW2mH-pxMeyk22f7g   \n",
       "4  63fe89f0d60a9a69b84f365e  2001 Piazza Ave, Ste 100  -I8rPwW2mH-pxMeyk22f7g   \n",
       "\n",
       "            city  is_open   latitude  longitude                name  \\\n",
       "0  Wesley Chapel        0  28.189038 -82.347692  Pagelli's Italiano   \n",
       "1  Wesley Chapel        0  28.189038 -82.347692  Pagelli's Italiano   \n",
       "2  Wesley Chapel        0  28.189038 -82.347692  Pagelli's Italiano   \n",
       "3  Wesley Chapel        0  28.189038 -82.347692  Pagelli's Italiano   \n",
       "4  Wesley Chapel        0  28.189038 -82.347692  Pagelli's Italiano   \n",
       "\n",
       "  postal_code  review_count  ...  DriveThru Categories cool  \\\n",
       "0       33543            13  ...      False    Italian    2   \n",
       "1       33543            13  ...      False    Italian    1   \n",
       "2       33543            13  ...      False    Italian    0   \n",
       "3       33543            13  ...      False    Italian    0   \n",
       "4       33543            13  ...      False    Italian    0   \n",
       "\n",
       "                  date funny               review_id stars  \\\n",
       "0  2012-06-26 18:31:16     1  Mgw2Tzea5quFVwBQL1OFYA     4   \n",
       "1  2011-12-02 14:05:58     1  8sOaDBSRKSMvvgd-FF7-cQ     3   \n",
       "2  2011-04-26 03:15:09     0  a00WNmUzoFv4jlJ7qHsnbQ     4   \n",
       "3  2011-10-02 02:20:39     0  BZXl-NZ2zkah2Q_7E6RDkg     4   \n",
       "4  2011-11-06 00:51:34     0  nAeVYBEmx1Xf5EXxRo1fKA     1   \n",
       "\n",
       "                                                text useful length  \n",
       "0  I think its funny when people bitch that there...      3    984  \n",
       "1  My wife and I just had our second child, and w...      3   3870  \n",
       "2  I eat at pagelli's italiano for the first time...      0    127  \n",
       "3  Went here for the early dinner special before ...      0    526  \n",
       "4  Went for dinner, and never even got our food. ...      2    168  \n",
       "\n",
       "[5 rows x 34 columns]"
      ]
     },
     "execution_count": 12,
     "metadata": {},
     "output_type": "execute_result"
    }
   ],
   "source": [
    "restaurants_reviews['length'] = restaurants_reviews['text'].apply(len)\n",
    "restaurants_reviews.head()"
   ]
  },
  {
   "cell_type": "code",
   "execution_count": 13,
   "id": "5de03cf6",
   "metadata": {},
   "outputs": [
    {
     "data": {
      "text/plain": [
       "<seaborn.axisgrid.FacetGrid at 0x2beada0f3a0>"
      ]
     },
     "execution_count": 13,
     "metadata": {},
     "output_type": "execute_result"
    },
    {
     "data": {
      "text/plain": [
       "<Figure size 2000x500 with 0 Axes>"
      ]
     },
     "metadata": {},
     "output_type": "display_data"
    },
    {
     "data": {
      "image/png": "[encoded data removed]",
      "text/plain": [
       "<Figure size 1500x300 with 5 Axes>"
      ]
     },
     "metadata": {},
     "output_type": "display_data"
    }
   ],
   "source": [
    "# COMPARING TEXT LENGTH TO STARS\n",
    "plt.figure(figsize=(20,5))\n",
    "graph = sns.FacetGrid(data=restaurants_reviews,col='stars')\n",
    "graph.map(plt.hist,'length',bins=50,color='Green')"
   ]
  },
  {
   "cell_type": "code",
   "execution_count": 14,
   "id": "3b46667b",
   "metadata": {},
   "outputs": [],
   "source": [
    "df1 = pd.DataFrame(restaurants_reviews['stars'].value_counts()).reset_index().sort_values(by='index')"
   ]
  },
  {
   "cell_type": "code",
   "execution_count": 15,
   "id": "77ed0788",
   "metadata": {},
   "outputs": [
    {
     "data": {
      "text/html": [
       "<div>\n",
       "<style scoped>\n",
       "    .dataframe tbody tr th:only-of-type {\n",
       "        vertical-align: middle;\n",
       "    }\n",
       "\n",
       "    .dataframe tbody tr th {\n",
       "        vertical-align: top;\n",
       "    }\n",
       "\n",
       "    .dataframe thead th {\n",
       "        text-align: right;\n",
       "    }\n",
       "</style>\n",
       "<table border=\"1\" class=\"dataframe\">\n",
       "  <thead>\n",
       "    <tr style=\"text-align: right;\">\n",
       "      <th></th>\n",
       "      <th>stars</th>\n",
       "    </tr>\n",
       "    <tr>\n",
       "      <th>index</th>\n",
       "      <th></th>\n",
       "    </tr>\n",
       "  </thead>\n",
       "  <tbody>\n",
       "    <tr>\n",
       "      <th>1</th>\n",
       "      <td>61678</td>\n",
       "    </tr>\n",
       "    <tr>\n",
       "      <th>2</th>\n",
       "      <td>41602</td>\n",
       "    </tr>\n",
       "    <tr>\n",
       "      <th>3</th>\n",
       "      <td>54053</td>\n",
       "    </tr>\n",
       "    <tr>\n",
       "      <th>4</th>\n",
       "      <td>110611</td>\n",
       "    </tr>\n",
       "    <tr>\n",
       "      <th>5</th>\n",
       "      <td>229943</td>\n",
       "    </tr>\n",
       "  </tbody>\n",
       "</table>\n",
       "</div>"
      ],
      "text/plain": [
       "        stars\n",
       "index        \n",
       "1       61678\n",
       "2       41602\n",
       "3       54053\n",
       "4      110611\n",
       "5      229943"
      ]
     },
     "execution_count": 15,
     "metadata": {},
     "output_type": "execute_result"
    }
   ],
   "source": [
    "df2= df1.set_index(\"index\")\n",
    "df2"
   ]
  },
  {
   "cell_type": "code",
   "execution_count": 16,
   "id": "49ec242a",
   "metadata": {},
   "outputs": [
    {
     "data": {
      "image/png": "[encoded data removed]",
      "text/plain": [
       "<Figure size 600x600 with 1 Axes>"
      ]
     },
     "metadata": {},
     "output_type": "display_data"
    }
   ],
   "source": [
    "import numpy as np\n",
    "labels = [\"1-star\", \"2-star\", \"3-star\", \"4-star\",\"5-star\"]\n",
    "fig, ax = plt.subplots(figsize=(6, 6))\n",
    "\n",
    "# Get four different grey colors.\n",
    "cmap = plt.get_cmap('Greys')\n",
    "colors = list(cmap(np.linspace(0.25, 0.75, len(df2))))\n",
    "# Swap in a bright blue for the Lacrosse color.\n",
    "colors[0] = 'dodgerblue'\n",
    "\n",
    "# You could also just manually assign colors very easily.\n",
    "# colors = ['purple', 'black', 'pink', 'aqua']\n",
    "\n",
    "patches, texts, pcts = ax.pie(\n",
    "    df2['stars'], labels=labels, autopct='%.1f%%',\n",
    "    wedgeprops={'linewidth': 3.0, 'edgecolor': 'white'},\n",
    "    textprops={'size': 'x-large'},\n",
    "    startangle=90,\n",
    "    colors=colors,\n",
    "    # \"Explode\" the Lacrosse wedge to highlight it.\n",
    "    explode=(0.1,0, 0, 0, 0))\n",
    "\n",
    "for i, patch in enumerate(patches):\n",
    "  # You could also do something like this if you want to assign colors\n",
    "  # by some rule or by value.\n",
    "  # if texts[i].get_text() == 'Lacrosse':\n",
    "  #   patch.set_facecolor('dodgerblue')\n",
    "  texts[i].set_color(patch.get_facecolor())\n",
    "plt.setp(pcts, color='white')\n",
    "plt.setp(texts, fontweight=600)\n",
    "ax.set_title('Star Rating', fontsize=18)\n",
    "plt.tight_layout()\n",
    "\n",
    "#matplotlib pie chart with explode and custom colors"
   ]
  },
  {
   "cell_type": "code",
   "execution_count": 17,
   "id": "6c85b36a",
   "metadata": {},
   "outputs": [
    {
     "data": {
      "text/html": [
       "<div>\n",
       "<style scoped>\n",
       "    .dataframe tbody tr th:only-of-type {\n",
       "        vertical-align: middle;\n",
       "    }\n",
       "\n",
       "    .dataframe tbody tr th {\n",
       "        vertical-align: top;\n",
       "    }\n",
       "\n",
       "    .dataframe thead th {\n",
       "        text-align: right;\n",
       "    }\n",
       "</style>\n",
       "<table border=\"1\" class=\"dataframe\">\n",
       "  <thead>\n",
       "    <tr style=\"text-align: right;\">\n",
       "      <th></th>\n",
       "      <th>stars</th>\n",
       "      <th>useful</th>\n",
       "      <th>funny</th>\n",
       "      <th>cool</th>\n",
       "      <th>length</th>\n",
       "    </tr>\n",
       "  </thead>\n",
       "  <tbody>\n",
       "    <tr>\n",
       "      <th>stars</th>\n",
       "      <td>1.000000</td>\n",
       "      <td>-0.025019</td>\n",
       "      <td>-0.038354</td>\n",
       "      <td>0.051946</td>\n",
       "      <td>-0.179627</td>\n",
       "    </tr>\n",
       "    <tr>\n",
       "      <th>useful</th>\n",
       "      <td>-0.025019</td>\n",
       "      <td>1.000000</td>\n",
       "      <td>0.817878</td>\n",
       "      <td>0.884925</td>\n",
       "      <td>0.255985</td>\n",
       "    </tr>\n",
       "    <tr>\n",
       "      <th>funny</th>\n",
       "      <td>-0.038354</td>\n",
       "      <td>0.817878</td>\n",
       "      <td>1.000000</td>\n",
       "      <td>0.869569</td>\n",
       "      <td>0.190020</td>\n",
       "    </tr>\n",
       "    <tr>\n",
       "      <th>cool</th>\n",
       "      <td>0.051946</td>\n",
       "      <td>0.884925</td>\n",
       "      <td>0.869569</td>\n",
       "      <td>1.000000</td>\n",
       "      <td>0.181002</td>\n",
       "    </tr>\n",
       "    <tr>\n",
       "      <th>length</th>\n",
       "      <td>-0.179627</td>\n",
       "      <td>0.255985</td>\n",
       "      <td>0.190020</td>\n",
       "      <td>0.181002</td>\n",
       "      <td>1.000000</td>\n",
       "    </tr>\n",
       "  </tbody>\n",
       "</table>\n",
       "</div>"
      ],
      "text/plain": [
       "           stars    useful     funny      cool    length\n",
       "stars   1.000000 -0.025019 -0.038354  0.051946 -0.179627\n",
       "useful -0.025019  1.000000  0.817878  0.884925  0.255985\n",
       "funny  -0.038354  0.817878  1.000000  0.869569  0.190020\n",
       "cool    0.051946  0.884925  0.869569  1.000000  0.181002\n",
       "length -0.179627  0.255985  0.190020  0.181002  1.000000"
      ]
     },
     "execution_count": 17,
     "metadata": {},
     "output_type": "execute_result"
    }
   ],
   "source": [
    "# FINDING THE CORRELATION BETWEEN THE VOTE COLUMNS\n",
    "df_num=restaurants_reviews[['stars', 'useful',\n",
    "       'funny', 'cool', 'length']]\n",
    "df_num.corr()\n"
   ]
  },
  {
   "cell_type": "markdown",
   "id": "b95962fb",
   "metadata": {},
   "source": [
    "Thus, we can see that there is strong positive correlation between:\n",
    "* Cool and Useful\n",
    "* Cool and Funny"
   ]
  },
  {
   "cell_type": "code",
   "execution_count": 18,
   "id": "8b56cb1f",
   "metadata": {},
   "outputs": [
    {
     "data": {
      "text/plain": [
       "1    340554\n",
       "0    103280\n",
       "Name: Target, dtype: int64"
      ]
     },
     "execution_count": 18,
     "metadata": {},
     "output_type": "execute_result"
    }
   ],
   "source": [
    "# Create new column \"Target\" that stored 0's or 1's. 0 being Negative, 1 being Positive\n",
    "restaurants_reviews['Target'] = ''\n",
    "restaurants_reviews.loc[restaurants_reviews.stars >=3.5, 'Target'] = '1'\n",
    "restaurants_reviews.loc[restaurants_reviews.stars==3,'Target'] = '3'\n",
    "restaurants_reviews.loc[restaurants_reviews.stars <=2.5, 'Target'] = '0'\n",
    "\n",
    "restaurants_reviews.drop(restaurants_reviews.loc[restaurants_reviews['Target']=='3'].index,axis=0,inplace=True)\n",
    "restaurants_reviews.Target.value_counts()"
   ]
  },
  {
   "cell_type": "markdown",
   "id": "698fac36",
   "metadata": {},
   "source": [
    "### Here we are Converting the text to Lowercase and removing the unnecessary punctuation"
   ]
  },
  {
   "cell_type": "code",
   "execution_count": 19,
   "id": "3600ee20",
   "metadata": {},
   "outputs": [
    {
     "data": {
      "text/plain": [
       "0    i think its funny when people bitch that there...\n",
       "2    i eat at pagelli's italiano for the first time...\n",
       "3    went here for the early dinner special before ...\n",
       "4    went for dinner and never even got our food  t...\n",
       "6    the fettuccine alfredo is fantastic at pagelli...\n",
       "Name: removed_punct_text, dtype: object"
      ]
     },
     "execution_count": 19,
     "metadata": {},
     "output_type": "execute_result"
    }
   ],
   "source": [
    "# convert text to lower case\n",
    "\n",
    "restaurants_reviews.text = restaurants_reviews.text.str.lower()\n",
    "\n",
    "## remove unnecessary punctuation\n",
    "restaurants_reviews['removed_punct_text']= restaurants_reviews.text.str.replace('\\n',''). \\\n",
    "                                          str.replace('[!\"#$%&\\()*+,-./:;<=>?@[\\\\]^_`{|}~]','').str.replace('[0-9]*[+-:]*[0-9]+', '')\n",
    "\n",
    "restaurants_reviews['removed_punct_text'].head()"
   ]
  },
  {
   "cell_type": "code",
   "execution_count": 20,
   "id": "c6b3bccd",
   "metadata": {},
   "outputs": [],
   "source": [
    "df_final = restaurants_reviews[['removed_punct_text','Target']]\n",
    "df_final = df_final.reset_index()"
   ]
  },
  {
   "cell_type": "code",
   "execution_count": 21,
   "id": "2e63c83e",
   "metadata": {},
   "outputs": [
    {
     "data": {
      "text/html": [
       "<div>\n",
       "<style scoped>\n",
       "    .dataframe tbody tr th:only-of-type {\n",
       "        vertical-align: middle;\n",
       "    }\n",
       "\n",
       "    .dataframe tbody tr th {\n",
       "        vertical-align: top;\n",
       "    }\n",
       "\n",
       "    .dataframe thead th {\n",
       "        text-align: right;\n",
       "    }\n",
       "</style>\n",
       "<table border=\"1\" class=\"dataframe\">\n",
       "  <thead>\n",
       "    <tr style=\"text-align: right;\">\n",
       "      <th></th>\n",
       "      <th>rem</th>\n",
       "      <th>removed_punct_text</th>\n",
       "      <th>Target</th>\n",
       "    </tr>\n",
       "  </thead>\n",
       "  <tbody>\n",
       "    <tr>\n",
       "      <th>0</th>\n",
       "      <td>0</td>\n",
       "      <td>i think its funny when people bitch that there...</td>\n",
       "      <td>1</td>\n",
       "    </tr>\n",
       "    <tr>\n",
       "      <th>1</th>\n",
       "      <td>2</td>\n",
       "      <td>i eat at pagelli's italiano for the first time...</td>\n",
       "      <td>1</td>\n",
       "    </tr>\n",
       "    <tr>\n",
       "      <th>2</th>\n",
       "      <td>3</td>\n",
       "      <td>went here for the early dinner special before ...</td>\n",
       "      <td>1</td>\n",
       "    </tr>\n",
       "    <tr>\n",
       "      <th>3</th>\n",
       "      <td>4</td>\n",
       "      <td>went for dinner and never even got our food  t...</td>\n",
       "      <td>0</td>\n",
       "    </tr>\n",
       "    <tr>\n",
       "      <th>4</th>\n",
       "      <td>6</td>\n",
       "      <td>the fettuccine alfredo is fantastic at pagelli...</td>\n",
       "      <td>1</td>\n",
       "    </tr>\n",
       "    <tr>\n",
       "      <th>...</th>\n",
       "      <td>...</td>\n",
       "      <td>...</td>\n",
       "      <td>...</td>\n",
       "    </tr>\n",
       "    <tr>\n",
       "      <th>443829</th>\n",
       "      <td>497879</td>\n",
       "      <td>i drive by this everyday so i decided to try i...</td>\n",
       "      <td>0</td>\n",
       "    </tr>\n",
       "    <tr>\n",
       "      <th>443830</th>\n",
       "      <td>497880</td>\n",
       "      <td>last night a friend and l went to gyros on th ...</td>\n",
       "      <td>0</td>\n",
       "    </tr>\n",
       "    <tr>\n",
       "      <th>443831</th>\n",
       "      <td>497881</td>\n",
       "      <td>as expensive as they are i was hoping for a gr...</td>\n",
       "      <td>0</td>\n",
       "    </tr>\n",
       "    <tr>\n",
       "      <th>443832</th>\n",
       "      <td>497882</td>\n",
       "      <td>ok my gyro was loaded with meat and it was coo...</td>\n",
       "      <td>1</td>\n",
       "    </tr>\n",
       "    <tr>\n",
       "      <th>443833</th>\n",
       "      <td>497883</td>\n",
       "      <td>worst customer service i've ever encountered m...</td>\n",
       "      <td>0</td>\n",
       "    </tr>\n",
       "  </tbody>\n",
       "</table>\n",
       "<p>443834 rows × 3 columns</p>\n",
       "</div>"
      ],
      "text/plain": [
       "           rem                                 removed_punct_text Target\n",
       "0            0  i think its funny when people bitch that there...      1\n",
       "1            2  i eat at pagelli's italiano for the first time...      1\n",
       "2            3  went here for the early dinner special before ...      1\n",
       "3            4  went for dinner and never even got our food  t...      0\n",
       "4            6  the fettuccine alfredo is fantastic at pagelli...      1\n",
       "...        ...                                                ...    ...\n",
       "443829  497879  i drive by this everyday so i decided to try i...      0\n",
       "443830  497880  last night a friend and l went to gyros on th ...      0\n",
       "443831  497881  as expensive as they are i was hoping for a gr...      0\n",
       "443832  497882  ok my gyro was loaded with meat and it was coo...      1\n",
       "443833  497883  worst customer service i've ever encountered m...      0\n",
       "\n",
       "[443834 rows x 3 columns]"
      ]
     },
     "execution_count": 21,
     "metadata": {},
     "output_type": "execute_result"
    }
   ],
   "source": [
    "df_final.rename(columns = {'index':'rem'}, inplace = True)\n",
    "df_final"
   ]
  },
  {
   "cell_type": "code",
   "execution_count": 22,
   "id": "c129920c",
   "metadata": {},
   "outputs": [],
   "source": [
    "df_final.drop('rem',axis=1,inplace=True)"
   ]
  },
  {
   "cell_type": "code",
   "execution_count": 23,
   "id": "16116061",
   "metadata": {},
   "outputs": [],
   "source": [
    "df_final.Target = df_final.Target.astype('int')"
   ]
  },
  {
   "cell_type": "code",
   "execution_count": 24,
   "id": "be62a299",
   "metadata": {},
   "outputs": [
    {
     "data": {
      "text/plain": [
       "Index(['removed_punct_text', 'Target'], dtype='object')"
      ]
     },
     "execution_count": 24,
     "metadata": {},
     "output_type": "execute_result"
    }
   ],
   "source": [
    "df_final.columns"
   ]
  },
  {
   "cell_type": "code",
   "execution_count": 25,
   "id": "94260821",
   "metadata": {},
   "outputs": [
    {
     "data": {
      "text/html": [
       "<div>\n",
       "<style scoped>\n",
       "    .dataframe tbody tr th:only-of-type {\n",
       "        vertical-align: middle;\n",
       "    }\n",
       "\n",
       "    .dataframe tbody tr th {\n",
       "        vertical-align: top;\n",
       "    }\n",
       "\n",
       "    .dataframe thead th {\n",
       "        text-align: right;\n",
       "    }\n",
       "</style>\n",
       "<table border=\"1\" class=\"dataframe\">\n",
       "  <thead>\n",
       "    <tr style=\"text-align: right;\">\n",
       "      <th></th>\n",
       "      <th>removed_punct_text</th>\n",
       "      <th>Target</th>\n",
       "    </tr>\n",
       "  </thead>\n",
       "  <tbody>\n",
       "    <tr>\n",
       "      <th>0</th>\n",
       "      <td>i think its funny when people bitch that there...</td>\n",
       "      <td>1</td>\n",
       "    </tr>\n",
       "    <tr>\n",
       "      <th>1</th>\n",
       "      <td>i eat at pagelli's italiano for the first time...</td>\n",
       "      <td>1</td>\n",
       "    </tr>\n",
       "    <tr>\n",
       "      <th>2</th>\n",
       "      <td>went here for the early dinner special before ...</td>\n",
       "      <td>1</td>\n",
       "    </tr>\n",
       "    <tr>\n",
       "      <th>3</th>\n",
       "      <td>went for dinner and never even got our food  t...</td>\n",
       "      <td>0</td>\n",
       "    </tr>\n",
       "    <tr>\n",
       "      <th>4</th>\n",
       "      <td>the fettuccine alfredo is fantastic at pagelli...</td>\n",
       "      <td>1</td>\n",
       "    </tr>\n",
       "  </tbody>\n",
       "</table>\n",
       "</div>"
      ],
      "text/plain": [
       "                                  removed_punct_text  Target\n",
       "0  i think its funny when people bitch that there...       1\n",
       "1  i eat at pagelli's italiano for the first time...       1\n",
       "2  went here for the early dinner special before ...       1\n",
       "3  went for dinner and never even got our food  t...       0\n",
       "4  the fettuccine alfredo is fantastic at pagelli...       1"
      ]
     },
     "execution_count": 25,
     "metadata": {},
     "output_type": "execute_result"
    }
   ],
   "source": [
    "df_final.head()"
   ]
  },
  {
   "cell_type": "code",
   "execution_count": 26,
   "id": "74bb4000",
   "metadata": {},
   "outputs": [
    {
     "data": {
      "text/html": [
       "<div>\n",
       "<style scoped>\n",
       "    .dataframe tbody tr th:only-of-type {\n",
       "        vertical-align: middle;\n",
       "    }\n",
       "\n",
       "    .dataframe tbody tr th {\n",
       "        vertical-align: top;\n",
       "    }\n",
       "\n",
       "    .dataframe thead th {\n",
       "        text-align: right;\n",
       "    }\n",
       "</style>\n",
       "<table border=\"1\" class=\"dataframe\">\n",
       "  <thead>\n",
       "    <tr style=\"text-align: right;\">\n",
       "      <th></th>\n",
       "      <th>removed_punct_text</th>\n",
       "      <th>Target</th>\n",
       "    </tr>\n",
       "  </thead>\n",
       "  <tbody>\n",
       "    <tr>\n",
       "      <th>443829</th>\n",
       "      <td>i drive by this everyday so i decided to try i...</td>\n",
       "      <td>0</td>\n",
       "    </tr>\n",
       "    <tr>\n",
       "      <th>443830</th>\n",
       "      <td>last night a friend and l went to gyros on th ...</td>\n",
       "      <td>0</td>\n",
       "    </tr>\n",
       "    <tr>\n",
       "      <th>443831</th>\n",
       "      <td>as expensive as they are i was hoping for a gr...</td>\n",
       "      <td>0</td>\n",
       "    </tr>\n",
       "    <tr>\n",
       "      <th>443832</th>\n",
       "      <td>ok my gyro was loaded with meat and it was coo...</td>\n",
       "      <td>1</td>\n",
       "    </tr>\n",
       "    <tr>\n",
       "      <th>443833</th>\n",
       "      <td>worst customer service i've ever encountered m...</td>\n",
       "      <td>0</td>\n",
       "    </tr>\n",
       "  </tbody>\n",
       "</table>\n",
       "</div>"
      ],
      "text/plain": [
       "                                       removed_punct_text  Target\n",
       "443829  i drive by this everyday so i decided to try i...       0\n",
       "443830  last night a friend and l went to gyros on th ...       0\n",
       "443831  as expensive as they are i was hoping for a gr...       0\n",
       "443832  ok my gyro was loaded with meat and it was coo...       1\n",
       "443833  worst customer service i've ever encountered m...       0"
      ]
     },
     "execution_count": 26,
     "metadata": {},
     "output_type": "execute_result"
    }
   ],
   "source": [
    "df_final.tail()"
   ]
  },
  {
   "cell_type": "markdown",
   "id": "87d316bf",
   "metadata": {},
   "source": [
    "## For Creating the Word Cloud"
   ]
  },
  {
   "cell_type": "code",
   "execution_count": 27,
   "id": "42faec81",
   "metadata": {},
   "outputs": [],
   "source": [
    "df_final.Target = df_final.Target.astype('int')"
   ]
  },
  {
   "cell_type": "code",
   "execution_count": 28,
   "id": "07ee6d64",
   "metadata": {},
   "outputs": [],
   "source": [
    "pos = pd.DataFrame(df_final[df_final['Target']==1]['removed_punct_text'])\n",
    "neg = pd.DataFrame(df_final[df_final['Target']==0]['removed_punct_text'])"
   ]
  },
  {
   "cell_type": "code",
   "execution_count": 29,
   "id": "da45a45d",
   "metadata": {},
   "outputs": [
    {
     "data": {
      "text/html": [
       "<div>\n",
       "<style scoped>\n",
       "    .dataframe tbody tr th:only-of-type {\n",
       "        vertical-align: middle;\n",
       "    }\n",
       "\n",
       "    .dataframe tbody tr th {\n",
       "        vertical-align: top;\n",
       "    }\n",
       "\n",
       "    .dataframe thead th {\n",
       "        text-align: right;\n",
       "    }\n",
       "</style>\n",
       "<table border=\"1\" class=\"dataframe\">\n",
       "  <thead>\n",
       "    <tr style=\"text-align: right;\">\n",
       "      <th></th>\n",
       "      <th>removed_punct_text</th>\n",
       "    </tr>\n",
       "  </thead>\n",
       "  <tbody>\n",
       "    <tr>\n",
       "      <th>0</th>\n",
       "      <td>i think its funny when people bitch that there...</td>\n",
       "    </tr>\n",
       "    <tr>\n",
       "      <th>1</th>\n",
       "      <td>i eat at pagelli's italiano for the first time...</td>\n",
       "    </tr>\n",
       "    <tr>\n",
       "      <th>2</th>\n",
       "      <td>went here for the early dinner special before ...</td>\n",
       "    </tr>\n",
       "    <tr>\n",
       "      <th>4</th>\n",
       "      <td>the fettuccine alfredo is fantastic at pagelli...</td>\n",
       "    </tr>\n",
       "    <tr>\n",
       "      <th>7</th>\n",
       "      <td>pagellis is by far one of my favorite places t...</td>\n",
       "    </tr>\n",
       "  </tbody>\n",
       "</table>\n",
       "</div>"
      ],
      "text/plain": [
       "                                  removed_punct_text\n",
       "0  i think its funny when people bitch that there...\n",
       "1  i eat at pagelli's italiano for the first time...\n",
       "2  went here for the early dinner special before ...\n",
       "4  the fettuccine alfredo is fantastic at pagelli...\n",
       "7  pagellis is by far one of my favorite places t..."
      ]
     },
     "execution_count": 29,
     "metadata": {},
     "output_type": "execute_result"
    }
   ],
   "source": [
    "pos.head(5)"
   ]
  },
  {
   "cell_type": "code",
   "execution_count": 30,
   "id": "99e23783",
   "metadata": {},
   "outputs": [
    {
     "data": {
      "text/html": [
       "<div>\n",
       "<style scoped>\n",
       "    .dataframe tbody tr th:only-of-type {\n",
       "        vertical-align: middle;\n",
       "    }\n",
       "\n",
       "    .dataframe tbody tr th {\n",
       "        vertical-align: top;\n",
       "    }\n",
       "\n",
       "    .dataframe thead th {\n",
       "        text-align: right;\n",
       "    }\n",
       "</style>\n",
       "<table border=\"1\" class=\"dataframe\">\n",
       "  <thead>\n",
       "    <tr style=\"text-align: right;\">\n",
       "      <th></th>\n",
       "      <th>removed_punct_text</th>\n",
       "    </tr>\n",
       "  </thead>\n",
       "  <tbody>\n",
       "    <tr>\n",
       "      <th>3</th>\n",
       "      <td>went for dinner and never even got our food  t...</td>\n",
       "    </tr>\n",
       "    <tr>\n",
       "      <th>5</th>\n",
       "      <td>i dont know what happened but they changed han...</td>\n",
       "    </tr>\n",
       "    <tr>\n",
       "      <th>6</th>\n",
       "      <td>you get no cell signal whatsoever here and no ...</td>\n",
       "    </tr>\n",
       "    <tr>\n",
       "      <th>8</th>\n",
       "      <td>i went here last night with my fiance for dinn...</td>\n",
       "    </tr>\n",
       "    <tr>\n",
       "      <th>9</th>\n",
       "      <td>always on the search for good italian cuisine ...</td>\n",
       "    </tr>\n",
       "  </tbody>\n",
       "</table>\n",
       "</div>"
      ],
      "text/plain": [
       "                                  removed_punct_text\n",
       "3  went for dinner and never even got our food  t...\n",
       "5  i dont know what happened but they changed han...\n",
       "6  you get no cell signal whatsoever here and no ...\n",
       "8  i went here last night with my fiance for dinn...\n",
       "9  always on the search for good italian cuisine ..."
      ]
     },
     "execution_count": 30,
     "metadata": {},
     "output_type": "execute_result"
    }
   ],
   "source": [
    "neg.head(5)"
   ]
  },
  {
   "cell_type": "code",
   "execution_count": 31,
   "id": "bb2f0f1e",
   "metadata": {},
   "outputs": [],
   "source": [
    "pos = pos.reset_index().drop('index',axis=1)\n",
    "neg = neg.reset_index().drop('index',axis=1)"
   ]
  },
  {
   "cell_type": "code",
   "execution_count": 32,
   "id": "db2daf55",
   "metadata": {},
   "outputs": [],
   "source": [
    "# Import the necessary modules from the Natural Language Toolkit library\n",
    "import nltk\n",
    "from nltk.tokenize import word_tokenize\n",
    "from nltk.corpus import stopwords"
   ]
  },
  {
   "cell_type": "code",
   "execution_count": 33,
   "id": "c892575c",
   "metadata": {},
   "outputs": [
    {
     "name": "stdout",
     "output_type": "stream",
     "text": [
      "['i', 'me', 'my', 'myself', 'we', 'our', 'ours', 'ourselves', 'you', \"you're\", \"you've\", \"you'll\", \"you'd\", 'your', 'yours', 'yourself', 'yourselves', 'he', 'him', 'his', 'himself', 'she', \"she's\", 'her', 'hers', 'herself', 'it', \"it's\", 'its', 'itself', 'they', 'them', 'their', 'theirs', 'themselves', 'what', 'which', 'who', 'whom', 'this', 'that', \"that'll\", 'these', 'those', 'am', 'is', 'are', 'was', 'were', 'be', 'been', 'being', 'have', 'has', 'had', 'having', 'do', 'does', 'did', 'doing', 'a', 'an', 'the', 'and', 'but', 'if', 'or', 'because', 'as', 'until', 'while', 'of', 'at', 'by', 'for', 'with', 'about', 'against', 'between', 'into', 'through', 'during', 'before', 'after', 'above', 'below', 'to', 'from', 'up', 'down', 'in', 'out', 'on', 'off', 'over', 'under', 'again', 'further', 'then', 'once', 'here', 'there', 'when', 'where', 'why', 'how', 'all', 'any', 'both', 'each', 'few', 'more', 'most', 'other', 'some', 'such', 'no', 'nor', 'not', 'only', 'own', 'same', 'so', 'than', 'too', 'very', 's', 't', 'can', 'will', 'just', 'don', \"don't\", 'should', \"should've\", 'now', 'd', 'll', 'm', 'o', 're', 've', 'y', 'ain', 'aren', \"aren't\", 'couldn', \"couldn't\", 'didn', \"didn't\", 'doesn', \"doesn't\", 'hadn', \"hadn't\", 'hasn', \"hasn't\", 'haven', \"haven't\", 'isn', \"isn't\", 'ma', 'mightn', \"mightn't\", 'mustn', \"mustn't\", 'needn', \"needn't\", 'shan', \"shan't\", 'shouldn', \"shouldn't\", 'wasn', \"wasn't\", 'weren', \"weren't\", 'won', \"won't\", 'wouldn', \"wouldn't\"]\n"
     ]
    }
   ],
   "source": [
    "# Print the list of stopwords in the English language\n",
    "print(stopwords.words('english'))\n",
    "\n",
    "# Assign the list of English stopwords to the variable 'stops'\n",
    "stops = stopwords.words('english')"
   ]
  },
  {
   "cell_type": "code",
   "execution_count": 34,
   "id": "f209ff2a",
   "metadata": {},
   "outputs": [],
   "source": [
    "# Define lists of uninformative or unnecessary words for text analysis \n",
    "unuseful_positive_words = ['place','restaurants','make','really','service','definitely']\n",
    "\n",
    "unuseful_negative_words =  ['food','asked','two','minute','place','got','said','salad','back',\\\n",
    "                            'customer','nice','menu','made','great',\\\n",
    "                            'came','restaurant','better','sauce','want','good','took','eat']\n",
    "unuseful_words = unuseful_positive_words + unuseful_negative_words"
   ]
  },
  {
   "cell_type": "markdown",
   "id": "9e3731c1",
   "metadata": {},
   "source": [
    "## Creating corpus for positive sentiments"
   ]
  },
  {
   "cell_type": "code",
   "execution_count": 35,
   "id": "d1c7b5dc",
   "metadata": {},
   "outputs": [],
   "source": [
    "pos_corpus = []  # Initialize an empty list to store the processed text data\n",
    "\n",
    "# Loop over each row in the positive reviews dataset\n",
    "for i in range(0, pos.shape[0]):\n",
    "    \n",
    "    text = (pos['removed_punct_text'][i])  # Get the text of the i-th review\n",
    "    \n",
    "    text = text.lower()  # Convert all text to lowercase for consistency\n",
    "    \n",
    "    text = text.split()  # Split the text into a list of individual words\n",
    "    \n",
    "    text = [word for word in text if not word in set(stops)]  # Remove stopwords from the text\n",
    "    \n",
    "    text = [word for word in text if not word in unuseful_positive_words]  # Remove unuseful positive words from the text\n",
    "    \n",
    "    text = ' '.join(text)  # Join the words back together into a single string\n",
    "    \n",
    "    pos_corpus.append(text)  # Add the processed text to the corpus list"
   ]
  },
  {
   "cell_type": "code",
   "execution_count": 36,
   "id": "e7d0c03d",
   "metadata": {},
   "outputs": [],
   "source": [
    "# Converting the Corpus into string format\n",
    "pos_corp_str = str(pos_corpus)\n"
   ]
  },
  {
   "cell_type": "code",
   "execution_count": 42,
   "id": "901d168b",
   "metadata": {},
   "outputs": [
    {
     "name": "stdout",
     "output_type": "stream",
     "text": [
      "Collecting wordcloud\n",
      "  Downloading wordcloud-1.8.2.2-cp39-cp39-win_amd64.whl (153 kB)\n",
      "     ------------------------------------ 153.1/153.1 kB 607.8 kB/s eta 0:00:00\n",
      "Requirement already satisfied: pillow in c:\\users\\sourabh_jamdade\\anaconda3\\lib\\site-packages (from wordcloud) (9.2.0)\n",
      "Requirement already satisfied: matplotlib in c:\\users\\sourabh_jamdade\\anaconda3\\lib\\site-packages (from wordcloud) (3.5.3)\n",
      "Requirement already satisfied: numpy>=1.6.1 in c:\\users\\sourabh_jamdade\\anaconda3\\lib\\site-packages (from wordcloud) (1.21.5)\n",
      "Requirement already satisfied: cycler>=0.10 in c:\\users\\sourabh_jamdade\\anaconda3\\lib\\site-packages (from matplotlib->wordcloud) (0.11.0)\n",
      "Requirement already satisfied: packaging>=20.0 in c:\\users\\sourabh_jamdade\\anaconda3\\lib\\site-packages (from matplotlib->wordcloud) (21.3)\n",
      "Requirement already satisfied: pyparsing>=2.2.1 in c:\\users\\sourabh_jamdade\\anaconda3\\lib\\site-packages (from matplotlib->wordcloud) (3.0.9)\n",
      "Requirement already satisfied: fonttools>=4.22.0 in c:\\users\\sourabh_jamdade\\anaconda3\\lib\\site-packages (from matplotlib->wordcloud) (4.25.0)\n",
      "Requirement already satisfied: python-dateutil>=2.7 in c:\\users\\sourabh_jamdade\\anaconda3\\lib\\site-packages (from matplotlib->wordcloud) (2.8.2)\n",
      "Requirement already satisfied: kiwisolver>=1.0.1 in c:\\users\\sourabh_jamdade\\anaconda3\\lib\\site-packages (from matplotlib->wordcloud) (1.4.2)\n",
      "Requirement already satisfied: six>=1.5 in c:\\users\\sourabh_jamdade\\anaconda3\\lib\\site-packages (from python-dateutil>=2.7->matplotlib->wordcloud) (1.16.0)\n",
      "Installing collected packages: wordcloud\n",
      "Successfully installed wordcloud-1.8.2.2\n"
     ]
    }
   ],
   "source": [
    "!pip install wordcloud"
   ]
  },
  {
   "cell_type": "code",
   "execution_count": 37,
   "id": "1d1cb456",
   "metadata": {},
   "outputs": [],
   "source": [
    "from wordcloud import WordCloud,ImageColorGenerator\n",
    "from os import path\n",
    "from PIL import Image"
   ]
  },
  {
   "cell_type": "code",
   "execution_count": 38,
   "id": "f293b461",
   "metadata": {},
   "outputs": [],
   "source": [
    "def similar_color_func(word=None, font_size=None,\n",
    "                       position=None, orientation=None,\n",
    "                       font_path=None, random_state=None):\n",
    "    h = 10 # 0 - 360\n",
    "    s = 100 # 0 - 100\n",
    "    l = np.random.randint(30, 70) # 0 - 100\n",
    "    return \"hsl({}, {}%, {}%)\".format(h, s, l)"
   ]
  },
  {
   "cell_type": "code",
   "execution_count": 39,
   "id": "418b6821",
   "metadata": {},
   "outputs": [],
   "source": [
    "def similar_color_func2(word=None, font_size=None,\n",
    "                       position=None, orientation=None,\n",
    "                       font_path=None, random_state=None):\n",
    "    h = 110 # 0 - 360\n",
    "    s = 100  # 0 - 100\n",
    "    l = np.random.randint(30, 70) # 0 - 100\n",
    "    return \"hsl({}, {}%, {}%)\".format(h, s, l)  "
   ]
  },
  {
   "cell_type": "code",
   "execution_count": 40,
   "id": "bf00f4b8",
   "metadata": {},
   "outputs": [
    {
     "data": {
      "image/png": "[encoded data removed]",
      "text/plain": [
       "<Figure size 2000x700 with 1 Axes>"
      ]
     },
     "metadata": {},
     "output_type": "display_data"
    }
   ],
   "source": [
    "pos_mask = np.array(Image.open(\"florida.jpg\"))\n",
    "colors = ImageColorGenerator(pos_mask)\n",
    "text_pos = pos_corp_str\n",
    "\n",
    "# Create a word cloud image\n",
    "wc_pos = WordCloud(max_words=100, mask=pos_mask,\n",
    "                   contour_width=10, background_color=\"black\",contour_color='black',\n",
    "                   collocations=False)\n",
    "wc_pos.generate(text_pos)\n",
    "wc_pos.recolor(color_func=similar_color_func2)\n",
    "# Generate a wordcloud\n",
    "\n",
    "\n",
    "plt.figure(figsize=(20,7))\n",
    "plt.imshow(wc_pos, interpolation='bilinear')\n",
    "plt.axis(\"off\")\n",
    "plt.show()"
   ]
  },
  {
   "cell_type": "markdown",
   "id": "8145ce94",
   "metadata": {},
   "source": [
    "## Creating corpus for negative sentiments"
   ]
  },
  {
   "cell_type": "code",
   "execution_count": 41,
   "id": "2124ef5c",
   "metadata": {},
   "outputs": [],
   "source": [
    "neg_corpus = []\n",
    "for i in range(0, neg.shape[0]):\n",
    "    text= (neg['removed_punct_text'][i])\n",
    "    text = text.lower()\n",
    "    text= text.split()\n",
    "    text= [word for word in text if not word in set(stops)]\n",
    "    text=[word for word in text if not word in unuseful_negative_words]\n",
    "    text = ' '.join(text)\n",
    "    neg_corpus.append(text)"
   ]
  },
  {
   "cell_type": "code",
   "execution_count": 42,
   "id": "78b2769d",
   "metadata": {},
   "outputs": [],
   "source": [
    "neg_corp_str = str(neg_corpus)\n"
   ]
  },
  {
   "cell_type": "code",
   "execution_count": 43,
   "id": "29bf67d4",
   "metadata": {},
   "outputs": [
    {
     "data": {
      "image/png": "[encoded data removed]",
      "text/plain": [
       "<Figure size 2000x700 with 1 Axes>"
      ]
     },
     "metadata": {},
     "output_type": "display_data"
    }
   ],
   "source": [
    "neg_mask = np.array(Image.open(\"florida.jpg\"))\n",
    "colors = ImageColorGenerator(neg_mask)\n",
    "text_neg = neg_corp_str\n",
    "\n",
    "# Create a word cloud image\n",
    "wc_pos = WordCloud(width = 3000, height = 2000, max_words=100, mask=neg_mask,\n",
    "                   contour_width=10, background_color=\"black\",contour_color='black',collocations=False)\n",
    "\n",
    "# Generate a wordcloud\n",
    "wc_pos.generate(text_neg)\n",
    "wc_pos.recolor(color_func=similar_color_func)\n",
    "plt.figure(figsize=(20,7))\n",
    "plt.imshow(wc_pos, interpolation='bilinear')\n",
    "plt.axis(\"off\")\n",
    "plt.show()"
   ]
  },
  {
   "cell_type": "code",
   "execution_count": 44,
   "id": "3f3d022d",
   "metadata": {},
   "outputs": [
    {
     "data": {
      "text/plain": [
       "(443834, 2)"
      ]
     },
     "execution_count": 44,
     "metadata": {},
     "output_type": "execute_result"
    }
   ],
   "source": [
    "df_final.shape"
   ]
  },
  {
   "cell_type": "markdown",
   "id": "25b7b206",
   "metadata": {},
   "source": [
    "## Splitting Dataset into three equal parts and  shuffling the dataset"
   ]
  },
  {
   "cell_type": "code",
   "execution_count": 45,
   "id": "0f221840",
   "metadata": {},
   "outputs": [],
   "source": [
    "df_filter = df_final[df_final['Target'] ==1]\n",
    "num_rows = len(df_filter)\n",
    "subset_size = num_rows // 3\n",
    "df_subset_1 = df_filter.iloc[:subset_size]\n",
    "df_subset_2 = df_filter.iloc[subset_size:2*subset_size]\n",
    "df_subset_3 = df_filter.iloc[2*subset_size:]"
   ]
  },
  {
   "cell_type": "code",
   "execution_count": 46,
   "id": "f0bd90e0",
   "metadata": {},
   "outputs": [
    {
     "data": {
      "text/html": [
       "<div>\n",
       "<style scoped>\n",
       "    .dataframe tbody tr th:only-of-type {\n",
       "        vertical-align: middle;\n",
       "    }\n",
       "\n",
       "    .dataframe tbody tr th {\n",
       "        vertical-align: top;\n",
       "    }\n",
       "\n",
       "    .dataframe thead th {\n",
       "        text-align: right;\n",
       "    }\n",
       "</style>\n",
       "<table border=\"1\" class=\"dataframe\">\n",
       "  <thead>\n",
       "    <tr style=\"text-align: right;\">\n",
       "      <th></th>\n",
       "      <th>removed_punct_text</th>\n",
       "      <th>Target</th>\n",
       "    </tr>\n",
       "  </thead>\n",
       "  <tbody>\n",
       "    <tr>\n",
       "      <th>0</th>\n",
       "      <td>i think its funny when people bitch that there...</td>\n",
       "      <td>1</td>\n",
       "    </tr>\n",
       "    <tr>\n",
       "      <th>1</th>\n",
       "      <td>i eat at pagelli's italiano for the first time...</td>\n",
       "      <td>1</td>\n",
       "    </tr>\n",
       "    <tr>\n",
       "      <th>2</th>\n",
       "      <td>went here for the early dinner special before ...</td>\n",
       "      <td>1</td>\n",
       "    </tr>\n",
       "    <tr>\n",
       "      <th>4</th>\n",
       "      <td>the fettuccine alfredo is fantastic at pagelli...</td>\n",
       "      <td>1</td>\n",
       "    </tr>\n",
       "    <tr>\n",
       "      <th>7</th>\n",
       "      <td>pagellis is by far one of my favorite places t...</td>\n",
       "      <td>1</td>\n",
       "    </tr>\n",
       "    <tr>\n",
       "      <th>...</th>\n",
       "      <td>...</td>\n",
       "      <td>...</td>\n",
       "    </tr>\n",
       "    <tr>\n",
       "      <th>149359</th>\n",
       "      <td>the food and service are always spot on here i...</td>\n",
       "      <td>1</td>\n",
       "    </tr>\n",
       "    <tr>\n",
       "      <th>149360</th>\n",
       "      <td>great food very fresh and tasty service is fas...</td>\n",
       "      <td>1</td>\n",
       "    </tr>\n",
       "    <tr>\n",
       "      <th>149361</th>\n",
       "      <td>this place was great i had the chicken parm wi...</td>\n",
       "      <td>1</td>\n",
       "    </tr>\n",
       "    <tr>\n",
       "      <th>149362</th>\n",
       "      <td>tried take out from here the other day and it ...</td>\n",
       "      <td>1</td>\n",
       "    </tr>\n",
       "    <tr>\n",
       "      <th>149363</th>\n",
       "      <td>great italian spot lots of offerings and all d...</td>\n",
       "      <td>1</td>\n",
       "    </tr>\n",
       "  </tbody>\n",
       "</table>\n",
       "<p>113518 rows × 2 columns</p>\n",
       "</div>"
      ],
      "text/plain": [
       "                                       removed_punct_text  Target\n",
       "0       i think its funny when people bitch that there...       1\n",
       "1       i eat at pagelli's italiano for the first time...       1\n",
       "2       went here for the early dinner special before ...       1\n",
       "4       the fettuccine alfredo is fantastic at pagelli...       1\n",
       "7       pagellis is by far one of my favorite places t...       1\n",
       "...                                                   ...     ...\n",
       "149359  the food and service are always spot on here i...       1\n",
       "149360  great food very fresh and tasty service is fas...       1\n",
       "149361  this place was great i had the chicken parm wi...       1\n",
       "149362  tried take out from here the other day and it ...       1\n",
       "149363  great italian spot lots of offerings and all d...       1\n",
       "\n",
       "[113518 rows x 2 columns]"
      ]
     },
     "execution_count": 46,
     "metadata": {},
     "output_type": "execute_result"
    }
   ],
   "source": [
    "df_subset_1"
   ]
  },
  {
   "cell_type": "code",
   "execution_count": 47,
   "id": "758e5d01",
   "metadata": {},
   "outputs": [],
   "source": [
    "df_neg=df_final[df_final['Target']==0].sample(100000)"
   ]
  },
  {
   "cell_type": "code",
   "execution_count": 48,
   "id": "2e578527",
   "metadata": {},
   "outputs": [
    {
     "data": {
      "text/html": [
       "<div>\n",
       "<style scoped>\n",
       "    .dataframe tbody tr th:only-of-type {\n",
       "        vertical-align: middle;\n",
       "    }\n",
       "\n",
       "    .dataframe tbody tr th {\n",
       "        vertical-align: top;\n",
       "    }\n",
       "\n",
       "    .dataframe thead th {\n",
       "        text-align: right;\n",
       "    }\n",
       "</style>\n",
       "<table border=\"1\" class=\"dataframe\">\n",
       "  <thead>\n",
       "    <tr style=\"text-align: right;\">\n",
       "      <th></th>\n",
       "      <th>removed_punct_text</th>\n",
       "      <th>Target</th>\n",
       "    </tr>\n",
       "  </thead>\n",
       "  <tbody>\n",
       "    <tr>\n",
       "      <th>114620</th>\n",
       "      <td>attention vegns do not eat here i ordered the ...</td>\n",
       "      <td>0</td>\n",
       "    </tr>\n",
       "    <tr>\n",
       "      <th>191125</th>\n",
       "      <td>typical diner atmosphere seated quickly friend...</td>\n",
       "      <td>0</td>\n",
       "    </tr>\n",
       "    <tr>\n",
       "      <th>40335</th>\n",
       "      <td>wanted to watch the world cup final today with...</td>\n",
       "      <td>0</td>\n",
       "    </tr>\n",
       "    <tr>\n",
       "      <th>347288</th>\n",
       "      <td>have not been to mi casa in a year or so  i or...</td>\n",
       "      <td>0</td>\n",
       "    </tr>\n",
       "    <tr>\n",
       "      <th>47096</th>\n",
       "      <td>poor atmosphere poor service unwelcoming and u...</td>\n",
       "      <td>0</td>\n",
       "    </tr>\n",
       "    <tr>\n",
       "      <th>...</th>\n",
       "      <td>...</td>\n",
       "      <td>...</td>\n",
       "    </tr>\n",
       "    <tr>\n",
       "      <th>154618</th>\n",
       "      <td>eh not impressed no ac in this place with only...</td>\n",
       "      <td>0</td>\n",
       "    </tr>\n",
       "    <tr>\n",
       "      <th>346779</th>\n",
       "      <td>avoid if you are on lunch hour they have no co...</td>\n",
       "      <td>0</td>\n",
       "    </tr>\n",
       "    <tr>\n",
       "      <th>61152</th>\n",
       "      <td>may be the worst dining experience we have had...</td>\n",
       "      <td>0</td>\n",
       "    </tr>\n",
       "    <tr>\n",
       "      <th>127543</th>\n",
       "      <td>how did this place get stars  granted we are c...</td>\n",
       "      <td>0</td>\n",
       "    </tr>\n",
       "    <tr>\n",
       "      <th>350829</th>\n",
       "      <td>food here is alright but the service really su...</td>\n",
       "      <td>0</td>\n",
       "    </tr>\n",
       "  </tbody>\n",
       "</table>\n",
       "<p>100000 rows × 2 columns</p>\n",
       "</div>"
      ],
      "text/plain": [
       "                                       removed_punct_text  Target\n",
       "114620  attention vegns do not eat here i ordered the ...       0\n",
       "191125  typical diner atmosphere seated quickly friend...       0\n",
       "40335   wanted to watch the world cup final today with...       0\n",
       "347288  have not been to mi casa in a year or so  i or...       0\n",
       "47096   poor atmosphere poor service unwelcoming and u...       0\n",
       "...                                                   ...     ...\n",
       "154618  eh not impressed no ac in this place with only...       0\n",
       "346779  avoid if you are on lunch hour they have no co...       0\n",
       "61152   may be the worst dining experience we have had...       0\n",
       "127543  how did this place get stars  granted we are c...       0\n",
       "350829  food here is alright but the service really su...       0\n",
       "\n",
       "[100000 rows x 2 columns]"
      ]
     },
     "execution_count": 48,
     "metadata": {},
     "output_type": "execute_result"
    }
   ],
   "source": [
    "df_neg"
   ]
  },
  {
   "cell_type": "code",
   "execution_count": 49,
   "id": "b3d831ff",
   "metadata": {},
   "outputs": [],
   "source": [
    "df_join1=pd.concat([df_subset_1,df_neg],axis=0)\n",
    "df_join2=pd.concat([df_subset_2,df_neg],axis=0)\n",
    "df_join3=pd.concat([df_subset_3,df_neg],axis=0)\n"
   ]
  },
  {
   "cell_type": "code",
   "execution_count": 50,
   "id": "7cec888d",
   "metadata": {},
   "outputs": [],
   "source": [
    "df_join1=df_join1.sample(frac=1)"
   ]
  },
  {
   "cell_type": "code",
   "execution_count": 51,
   "id": "d4501686",
   "metadata": {},
   "outputs": [],
   "source": [
    "df_join2=df_join1.sample(frac=1)"
   ]
  },
  {
   "cell_type": "code",
   "execution_count": 52,
   "id": "b456cd05",
   "metadata": {},
   "outputs": [],
   "source": [
    "df_join3=df_join1.sample(frac=1)"
   ]
  },
  {
   "cell_type": "code",
   "execution_count": 53,
   "id": "f91873bb",
   "metadata": {},
   "outputs": [
    {
     "data": {
      "text/plain": [
       "(213518, 2)"
      ]
     },
     "execution_count": 53,
     "metadata": {},
     "output_type": "execute_result"
    }
   ],
   "source": [
    "df_join1.shape"
   ]
  },
  {
   "cell_type": "code",
   "execution_count": 54,
   "id": "91653085",
   "metadata": {},
   "outputs": [
    {
     "data": {
      "text/plain": [
       "(213518, 2)"
      ]
     },
     "execution_count": 54,
     "metadata": {},
     "output_type": "execute_result"
    }
   ],
   "source": [
    "df_join2.shape"
   ]
  },
  {
   "cell_type": "code",
   "execution_count": 55,
   "id": "8703134b",
   "metadata": {},
   "outputs": [
    {
     "data": {
      "text/plain": [
       "(213518, 2)"
      ]
     },
     "execution_count": 55,
     "metadata": {},
     "output_type": "execute_result"
    }
   ],
   "source": [
    "df_join3.shape"
   ]
  },
  {
   "cell_type": "code",
   "execution_count": 56,
   "id": "47693fdf",
   "metadata": {},
   "outputs": [
    {
     "data": {
      "text/html": [
       "<div>\n",
       "<style scoped>\n",
       "    .dataframe tbody tr th:only-of-type {\n",
       "        vertical-align: middle;\n",
       "    }\n",
       "\n",
       "    .dataframe tbody tr th {\n",
       "        vertical-align: top;\n",
       "    }\n",
       "\n",
       "    .dataframe thead th {\n",
       "        text-align: right;\n",
       "    }\n",
       "</style>\n",
       "<table border=\"1\" class=\"dataframe\">\n",
       "  <thead>\n",
       "    <tr style=\"text-align: right;\">\n",
       "      <th></th>\n",
       "      <th>removed_punct_text</th>\n",
       "      <th>Target</th>\n",
       "    </tr>\n",
       "  </thead>\n",
       "  <tbody>\n",
       "    <tr>\n",
       "      <th>121935</th>\n",
       "      <td>thoroughly impressed so much i thought about t...</td>\n",
       "      <td>1</td>\n",
       "    </tr>\n",
       "    <tr>\n",
       "      <th>141250</th>\n",
       "      <td>the staff was very friendly and the food was v...</td>\n",
       "      <td>1</td>\n",
       "    </tr>\n",
       "    <tr>\n",
       "      <th>31311</th>\n",
       "      <td>excellent indian restaurant order spicy only i...</td>\n",
       "      <td>1</td>\n",
       "    </tr>\n",
       "    <tr>\n",
       "      <th>90413</th>\n",
       "      <td>the food is amazing   tomatillo salsa is amazi...</td>\n",
       "      <td>1</td>\n",
       "    </tr>\n",
       "    <tr>\n",
       "      <th>23690</th>\n",
       "      <td>waitress was awful no personality no lights ov...</td>\n",
       "      <td>0</td>\n",
       "    </tr>\n",
       "    <tr>\n",
       "      <th>...</th>\n",
       "      <td>...</td>\n",
       "      <td>...</td>\n",
       "    </tr>\n",
       "    <tr>\n",
       "      <th>89907</th>\n",
       "      <td>let me begin by saying how happy i am that dat...</td>\n",
       "      <td>1</td>\n",
       "    </tr>\n",
       "    <tr>\n",
       "      <th>18153</th>\n",
       "      <td>great ambiance the place isn't that big but th...</td>\n",
       "      <td>1</td>\n",
       "    </tr>\n",
       "    <tr>\n",
       "      <th>53374</th>\n",
       "      <td>ok this is an update from my last review now t...</td>\n",
       "      <td>1</td>\n",
       "    </tr>\n",
       "    <tr>\n",
       "      <th>121467</th>\n",
       "      <td>noticed the name had changed very recently fro...</td>\n",
       "      <td>0</td>\n",
       "    </tr>\n",
       "    <tr>\n",
       "      <th>2451</th>\n",
       "      <td>nice little mom and pop shop  i don't quite un...</td>\n",
       "      <td>1</td>\n",
       "    </tr>\n",
       "  </tbody>\n",
       "</table>\n",
       "<p>213518 rows × 2 columns</p>\n",
       "</div>"
      ],
      "text/plain": [
       "                                       removed_punct_text  Target\n",
       "121935  thoroughly impressed so much i thought about t...       1\n",
       "141250  the staff was very friendly and the food was v...       1\n",
       "31311   excellent indian restaurant order spicy only i...       1\n",
       "90413   the food is amazing   tomatillo salsa is amazi...       1\n",
       "23690   waitress was awful no personality no lights ov...       0\n",
       "...                                                   ...     ...\n",
       "89907   let me begin by saying how happy i am that dat...       1\n",
       "18153   great ambiance the place isn't that big but th...       1\n",
       "53374   ok this is an update from my last review now t...       1\n",
       "121467  noticed the name had changed very recently fro...       0\n",
       "2451    nice little mom and pop shop  i don't quite un...       1\n",
       "\n",
       "[213518 rows x 2 columns]"
      ]
     },
     "execution_count": 56,
     "metadata": {},
     "output_type": "execute_result"
    }
   ],
   "source": [
    "df_join2"
   ]
  },
  {
   "cell_type": "code",
   "execution_count": 57,
   "id": "a7a45d69",
   "metadata": {},
   "outputs": [
    {
     "data": {
      "text/html": [
       "<div>\n",
       "<style scoped>\n",
       "    .dataframe tbody tr th:only-of-type {\n",
       "        vertical-align: middle;\n",
       "    }\n",
       "\n",
       "    .dataframe tbody tr th {\n",
       "        vertical-align: top;\n",
       "    }\n",
       "\n",
       "    .dataframe thead th {\n",
       "        text-align: right;\n",
       "    }\n",
       "</style>\n",
       "<table border=\"1\" class=\"dataframe\">\n",
       "  <thead>\n",
       "    <tr style=\"text-align: right;\">\n",
       "      <th></th>\n",
       "      <th>removed_punct_text</th>\n",
       "      <th>Target</th>\n",
       "    </tr>\n",
       "  </thead>\n",
       "  <tbody>\n",
       "    <tr>\n",
       "      <th>86020</th>\n",
       "      <td>pricey for poor quality and value my chicken c...</td>\n",
       "      <td>0</td>\n",
       "    </tr>\n",
       "    <tr>\n",
       "      <th>81562</th>\n",
       "      <td>cask has all the hallmarks of a great place bu...</td>\n",
       "      <td>0</td>\n",
       "    </tr>\n",
       "    <tr>\n",
       "      <th>70980</th>\n",
       "      <td>i am always on the hunt for a place with good ...</td>\n",
       "      <td>1</td>\n",
       "    </tr>\n",
       "    <tr>\n",
       "      <th>139595</th>\n",
       "      <td>dollars for a domestic draft beer kiss my a t...</td>\n",
       "      <td>0</td>\n",
       "    </tr>\n",
       "    <tr>\n",
       "      <th>135016</th>\n",
       "      <td>they have delicious lasagna service was  very ...</td>\n",
       "      <td>1</td>\n",
       "    </tr>\n",
       "    <tr>\n",
       "      <th>...</th>\n",
       "      <td>...</td>\n",
       "      <td>...</td>\n",
       "    </tr>\n",
       "    <tr>\n",
       "      <th>122497</th>\n",
       "      <td>this was the restaurant at our hotel and we ca...</td>\n",
       "      <td>1</td>\n",
       "    </tr>\n",
       "    <tr>\n",
       "      <th>23331</th>\n",
       "      <td>best italian restaurant in st pete beautiful a...</td>\n",
       "      <td>1</td>\n",
       "    </tr>\n",
       "    <tr>\n",
       "      <th>334606</th>\n",
       "      <td>really people  get your italian on  the staff ...</td>\n",
       "      <td>0</td>\n",
       "    </tr>\n",
       "    <tr>\n",
       "      <th>18460</th>\n",
       "      <td>this place is amazing i went there and had som...</td>\n",
       "      <td>1</td>\n",
       "    </tr>\n",
       "    <tr>\n",
       "      <th>269933</th>\n",
       "      <td>this place used to be great i stop by often af...</td>\n",
       "      <td>0</td>\n",
       "    </tr>\n",
       "  </tbody>\n",
       "</table>\n",
       "<p>213518 rows × 2 columns</p>\n",
       "</div>"
      ],
      "text/plain": [
       "                                       removed_punct_text  Target\n",
       "86020   pricey for poor quality and value my chicken c...       0\n",
       "81562   cask has all the hallmarks of a great place bu...       0\n",
       "70980   i am always on the hunt for a place with good ...       1\n",
       "139595   dollars for a domestic draft beer kiss my a t...       0\n",
       "135016  they have delicious lasagna service was  very ...       1\n",
       "...                                                   ...     ...\n",
       "122497  this was the restaurant at our hotel and we ca...       1\n",
       "23331   best italian restaurant in st pete beautiful a...       1\n",
       "334606  really people  get your italian on  the staff ...       0\n",
       "18460   this place is amazing i went there and had som...       1\n",
       "269933  this place used to be great i stop by often af...       0\n",
       "\n",
       "[213518 rows x 2 columns]"
      ]
     },
     "execution_count": 57,
     "metadata": {},
     "output_type": "execute_result"
    }
   ],
   "source": [
    "df_join1"
   ]
  },
  {
   "cell_type": "code",
   "execution_count": 58,
   "id": "31d6b1a3",
   "metadata": {},
   "outputs": [],
   "source": [
    "df_join1 = df_join1.reset_index()\n",
    "df_join2 = df_join2.reset_index()\n",
    "df_join3 = df_join3.reset_index()"
   ]
  },
  {
   "cell_type": "code",
   "execution_count": 59,
   "id": "0217c71e",
   "metadata": {},
   "outputs": [
    {
     "data": {
      "text/html": [
       "<div>\n",
       "<style scoped>\n",
       "    .dataframe tbody tr th:only-of-type {\n",
       "        vertical-align: middle;\n",
       "    }\n",
       "\n",
       "    .dataframe tbody tr th {\n",
       "        vertical-align: top;\n",
       "    }\n",
       "\n",
       "    .dataframe thead th {\n",
       "        text-align: right;\n",
       "    }\n",
       "</style>\n",
       "<table border=\"1\" class=\"dataframe\">\n",
       "  <thead>\n",
       "    <tr style=\"text-align: right;\">\n",
       "      <th></th>\n",
       "      <th>index</th>\n",
       "      <th>removed_punct_text</th>\n",
       "      <th>Target</th>\n",
       "    </tr>\n",
       "  </thead>\n",
       "  <tbody>\n",
       "    <tr>\n",
       "      <th>0</th>\n",
       "      <td>86020</td>\n",
       "      <td>pricey for poor quality and value my chicken c...</td>\n",
       "      <td>0</td>\n",
       "    </tr>\n",
       "    <tr>\n",
       "      <th>1</th>\n",
       "      <td>81562</td>\n",
       "      <td>cask has all the hallmarks of a great place bu...</td>\n",
       "      <td>0</td>\n",
       "    </tr>\n",
       "    <tr>\n",
       "      <th>2</th>\n",
       "      <td>70980</td>\n",
       "      <td>i am always on the hunt for a place with good ...</td>\n",
       "      <td>1</td>\n",
       "    </tr>\n",
       "    <tr>\n",
       "      <th>3</th>\n",
       "      <td>139595</td>\n",
       "      <td>dollars for a domestic draft beer kiss my a t...</td>\n",
       "      <td>0</td>\n",
       "    </tr>\n",
       "    <tr>\n",
       "      <th>4</th>\n",
       "      <td>135016</td>\n",
       "      <td>they have delicious lasagna service was  very ...</td>\n",
       "      <td>1</td>\n",
       "    </tr>\n",
       "    <tr>\n",
       "      <th>...</th>\n",
       "      <td>...</td>\n",
       "      <td>...</td>\n",
       "      <td>...</td>\n",
       "    </tr>\n",
       "    <tr>\n",
       "      <th>213513</th>\n",
       "      <td>122497</td>\n",
       "      <td>this was the restaurant at our hotel and we ca...</td>\n",
       "      <td>1</td>\n",
       "    </tr>\n",
       "    <tr>\n",
       "      <th>213514</th>\n",
       "      <td>23331</td>\n",
       "      <td>best italian restaurant in st pete beautiful a...</td>\n",
       "      <td>1</td>\n",
       "    </tr>\n",
       "    <tr>\n",
       "      <th>213515</th>\n",
       "      <td>334606</td>\n",
       "      <td>really people  get your italian on  the staff ...</td>\n",
       "      <td>0</td>\n",
       "    </tr>\n",
       "    <tr>\n",
       "      <th>213516</th>\n",
       "      <td>18460</td>\n",
       "      <td>this place is amazing i went there and had som...</td>\n",
       "      <td>1</td>\n",
       "    </tr>\n",
       "    <tr>\n",
       "      <th>213517</th>\n",
       "      <td>269933</td>\n",
       "      <td>this place used to be great i stop by often af...</td>\n",
       "      <td>0</td>\n",
       "    </tr>\n",
       "  </tbody>\n",
       "</table>\n",
       "<p>213518 rows × 3 columns</p>\n",
       "</div>"
      ],
      "text/plain": [
       "         index                                 removed_punct_text  Target\n",
       "0        86020  pricey for poor quality and value my chicken c...       0\n",
       "1        81562  cask has all the hallmarks of a great place bu...       0\n",
       "2        70980  i am always on the hunt for a place with good ...       1\n",
       "3       139595   dollars for a domestic draft beer kiss my a t...       0\n",
       "4       135016  they have delicious lasagna service was  very ...       1\n",
       "...        ...                                                ...     ...\n",
       "213513  122497  this was the restaurant at our hotel and we ca...       1\n",
       "213514   23331  best italian restaurant in st pete beautiful a...       1\n",
       "213515  334606  really people  get your italian on  the staff ...       0\n",
       "213516   18460  this place is amazing i went there and had som...       1\n",
       "213517  269933  this place used to be great i stop by often af...       0\n",
       "\n",
       "[213518 rows x 3 columns]"
      ]
     },
     "execution_count": 59,
     "metadata": {},
     "output_type": "execute_result"
    }
   ],
   "source": [
    "df_join1"
   ]
  },
  {
   "cell_type": "code",
   "execution_count": 60,
   "id": "de862b1e",
   "metadata": {},
   "outputs": [
    {
     "data": {
      "text/html": [
       "<div>\n",
       "<style scoped>\n",
       "    .dataframe tbody tr th:only-of-type {\n",
       "        vertical-align: middle;\n",
       "    }\n",
       "\n",
       "    .dataframe tbody tr th {\n",
       "        vertical-align: top;\n",
       "    }\n",
       "\n",
       "    .dataframe thead th {\n",
       "        text-align: right;\n",
       "    }\n",
       "</style>\n",
       "<table border=\"1\" class=\"dataframe\">\n",
       "  <thead>\n",
       "    <tr style=\"text-align: right;\">\n",
       "      <th></th>\n",
       "      <th>removed_punct_text</th>\n",
       "      <th>Target</th>\n",
       "    </tr>\n",
       "  </thead>\n",
       "  <tbody>\n",
       "    <tr>\n",
       "      <th>0</th>\n",
       "      <td>pricey for poor quality and value my chicken c...</td>\n",
       "      <td>0</td>\n",
       "    </tr>\n",
       "    <tr>\n",
       "      <th>1</th>\n",
       "      <td>cask has all the hallmarks of a great place bu...</td>\n",
       "      <td>0</td>\n",
       "    </tr>\n",
       "    <tr>\n",
       "      <th>2</th>\n",
       "      <td>i am always on the hunt for a place with good ...</td>\n",
       "      <td>1</td>\n",
       "    </tr>\n",
       "    <tr>\n",
       "      <th>3</th>\n",
       "      <td>dollars for a domestic draft beer kiss my a t...</td>\n",
       "      <td>0</td>\n",
       "    </tr>\n",
       "    <tr>\n",
       "      <th>4</th>\n",
       "      <td>they have delicious lasagna service was  very ...</td>\n",
       "      <td>1</td>\n",
       "    </tr>\n",
       "    <tr>\n",
       "      <th>...</th>\n",
       "      <td>...</td>\n",
       "      <td>...</td>\n",
       "    </tr>\n",
       "    <tr>\n",
       "      <th>213513</th>\n",
       "      <td>this was the restaurant at our hotel and we ca...</td>\n",
       "      <td>1</td>\n",
       "    </tr>\n",
       "    <tr>\n",
       "      <th>213514</th>\n",
       "      <td>best italian restaurant in st pete beautiful a...</td>\n",
       "      <td>1</td>\n",
       "    </tr>\n",
       "    <tr>\n",
       "      <th>213515</th>\n",
       "      <td>really people  get your italian on  the staff ...</td>\n",
       "      <td>0</td>\n",
       "    </tr>\n",
       "    <tr>\n",
       "      <th>213516</th>\n",
       "      <td>this place is amazing i went there and had som...</td>\n",
       "      <td>1</td>\n",
       "    </tr>\n",
       "    <tr>\n",
       "      <th>213517</th>\n",
       "      <td>this place used to be great i stop by often af...</td>\n",
       "      <td>0</td>\n",
       "    </tr>\n",
       "  </tbody>\n",
       "</table>\n",
       "<p>213518 rows × 2 columns</p>\n",
       "</div>"
      ],
      "text/plain": [
       "                                       removed_punct_text  Target\n",
       "0       pricey for poor quality and value my chicken c...       0\n",
       "1       cask has all the hallmarks of a great place bu...       0\n",
       "2       i am always on the hunt for a place with good ...       1\n",
       "3        dollars for a domestic draft beer kiss my a t...       0\n",
       "4       they have delicious lasagna service was  very ...       1\n",
       "...                                                   ...     ...\n",
       "213513  this was the restaurant at our hotel and we ca...       1\n",
       "213514  best italian restaurant in st pete beautiful a...       1\n",
       "213515  really people  get your italian on  the staff ...       0\n",
       "213516  this place is amazing i went there and had som...       1\n",
       "213517  this place used to be great i stop by often af...       0\n",
       "\n",
       "[213518 rows x 2 columns]"
      ]
     },
     "execution_count": 60,
     "metadata": {},
     "output_type": "execute_result"
    }
   ],
   "source": [
    "df_join1.drop('index',axis=1, inplace=True)\n",
    "df_join1"
   ]
  },
  {
   "cell_type": "code",
   "execution_count": 61,
   "id": "78b2b733",
   "metadata": {},
   "outputs": [
    {
     "data": {
      "text/html": [
       "<div>\n",
       "<style scoped>\n",
       "    .dataframe tbody tr th:only-of-type {\n",
       "        vertical-align: middle;\n",
       "    }\n",
       "\n",
       "    .dataframe tbody tr th {\n",
       "        vertical-align: top;\n",
       "    }\n",
       "\n",
       "    .dataframe thead th {\n",
       "        text-align: right;\n",
       "    }\n",
       "</style>\n",
       "<table border=\"1\" class=\"dataframe\">\n",
       "  <thead>\n",
       "    <tr style=\"text-align: right;\">\n",
       "      <th></th>\n",
       "      <th>removed_punct_text</th>\n",
       "      <th>Target</th>\n",
       "    </tr>\n",
       "  </thead>\n",
       "  <tbody>\n",
       "    <tr>\n",
       "      <th>0</th>\n",
       "      <td>thoroughly impressed so much i thought about t...</td>\n",
       "      <td>1</td>\n",
       "    </tr>\n",
       "    <tr>\n",
       "      <th>1</th>\n",
       "      <td>the staff was very friendly and the food was v...</td>\n",
       "      <td>1</td>\n",
       "    </tr>\n",
       "    <tr>\n",
       "      <th>2</th>\n",
       "      <td>excellent indian restaurant order spicy only i...</td>\n",
       "      <td>1</td>\n",
       "    </tr>\n",
       "    <tr>\n",
       "      <th>3</th>\n",
       "      <td>the food is amazing   tomatillo salsa is amazi...</td>\n",
       "      <td>1</td>\n",
       "    </tr>\n",
       "    <tr>\n",
       "      <th>4</th>\n",
       "      <td>waitress was awful no personality no lights ov...</td>\n",
       "      <td>0</td>\n",
       "    </tr>\n",
       "    <tr>\n",
       "      <th>...</th>\n",
       "      <td>...</td>\n",
       "      <td>...</td>\n",
       "    </tr>\n",
       "    <tr>\n",
       "      <th>213513</th>\n",
       "      <td>let me begin by saying how happy i am that dat...</td>\n",
       "      <td>1</td>\n",
       "    </tr>\n",
       "    <tr>\n",
       "      <th>213514</th>\n",
       "      <td>great ambiance the place isn't that big but th...</td>\n",
       "      <td>1</td>\n",
       "    </tr>\n",
       "    <tr>\n",
       "      <th>213515</th>\n",
       "      <td>ok this is an update from my last review now t...</td>\n",
       "      <td>1</td>\n",
       "    </tr>\n",
       "    <tr>\n",
       "      <th>213516</th>\n",
       "      <td>noticed the name had changed very recently fro...</td>\n",
       "      <td>0</td>\n",
       "    </tr>\n",
       "    <tr>\n",
       "      <th>213517</th>\n",
       "      <td>nice little mom and pop shop  i don't quite un...</td>\n",
       "      <td>1</td>\n",
       "    </tr>\n",
       "  </tbody>\n",
       "</table>\n",
       "<p>213518 rows × 2 columns</p>\n",
       "</div>"
      ],
      "text/plain": [
       "                                       removed_punct_text  Target\n",
       "0       thoroughly impressed so much i thought about t...       1\n",
       "1       the staff was very friendly and the food was v...       1\n",
       "2       excellent indian restaurant order spicy only i...       1\n",
       "3       the food is amazing   tomatillo salsa is amazi...       1\n",
       "4       waitress was awful no personality no lights ov...       0\n",
       "...                                                   ...     ...\n",
       "213513  let me begin by saying how happy i am that dat...       1\n",
       "213514  great ambiance the place isn't that big but th...       1\n",
       "213515  ok this is an update from my last review now t...       1\n",
       "213516  noticed the name had changed very recently fro...       0\n",
       "213517  nice little mom and pop shop  i don't quite un...       1\n",
       "\n",
       "[213518 rows x 2 columns]"
      ]
     },
     "execution_count": 61,
     "metadata": {},
     "output_type": "execute_result"
    }
   ],
   "source": [
    "df_join2.drop('index',axis=1, inplace=True)\n",
    "df_join2"
   ]
  },
  {
   "cell_type": "code",
   "execution_count": 62,
   "id": "03f00cbc",
   "metadata": {},
   "outputs": [
    {
     "data": {
      "text/html": [
       "<div>\n",
       "<style scoped>\n",
       "    .dataframe tbody tr th:only-of-type {\n",
       "        vertical-align: middle;\n",
       "    }\n",
       "\n",
       "    .dataframe tbody tr th {\n",
       "        vertical-align: top;\n",
       "    }\n",
       "\n",
       "    .dataframe thead th {\n",
       "        text-align: right;\n",
       "    }\n",
       "</style>\n",
       "<table border=\"1\" class=\"dataframe\">\n",
       "  <thead>\n",
       "    <tr style=\"text-align: right;\">\n",
       "      <th></th>\n",
       "      <th>removed_punct_text</th>\n",
       "      <th>Target</th>\n",
       "    </tr>\n",
       "  </thead>\n",
       "  <tbody>\n",
       "    <tr>\n",
       "      <th>0</th>\n",
       "      <td>if you've been wanting authentic exceptional i...</td>\n",
       "      <td>1</td>\n",
       "    </tr>\n",
       "    <tr>\n",
       "      <th>1</th>\n",
       "      <td>i have been to this location multiple times ev...</td>\n",
       "      <td>1</td>\n",
       "    </tr>\n",
       "    <tr>\n",
       "      <th>2</th>\n",
       "      <td>so after we decided to order uber eats from be...</td>\n",
       "      <td>0</td>\n",
       "    </tr>\n",
       "    <tr>\n",
       "      <th>3</th>\n",
       "      <td>starsfor me i have to say that the last time ...</td>\n",
       "      <td>1</td>\n",
       "    </tr>\n",
       "    <tr>\n",
       "      <th>4</th>\n",
       "      <td>don't be fooled by its noncommercialism or lac...</td>\n",
       "      <td>1</td>\n",
       "    </tr>\n",
       "    <tr>\n",
       "      <th>...</th>\n",
       "      <td>...</td>\n",
       "      <td>...</td>\n",
       "    </tr>\n",
       "    <tr>\n",
       "      <th>213513</th>\n",
       "      <td>went there for a romantic lunch and left disgu...</td>\n",
       "      <td>0</td>\n",
       "    </tr>\n",
       "    <tr>\n",
       "      <th>213514</th>\n",
       "      <td>amazing pizza went in for lunch today and orde...</td>\n",
       "      <td>1</td>\n",
       "    </tr>\n",
       "    <tr>\n",
       "      <th>213515</th>\n",
       "      <td>horribly inconsistent we drove an hour from wi...</td>\n",
       "      <td>0</td>\n",
       "    </tr>\n",
       "    <tr>\n",
       "      <th>213516</th>\n",
       "      <td>this place had a really cool look but can't sa...</td>\n",
       "      <td>0</td>\n",
       "    </tr>\n",
       "    <tr>\n",
       "      <th>213517</th>\n",
       "      <td>this place is a joke especially the restaurant...</td>\n",
       "      <td>0</td>\n",
       "    </tr>\n",
       "  </tbody>\n",
       "</table>\n",
       "<p>213518 rows × 2 columns</p>\n",
       "</div>"
      ],
      "text/plain": [
       "                                       removed_punct_text  Target\n",
       "0       if you've been wanting authentic exceptional i...       1\n",
       "1       i have been to this location multiple times ev...       1\n",
       "2       so after we decided to order uber eats from be...       0\n",
       "3        starsfor me i have to say that the last time ...       1\n",
       "4       don't be fooled by its noncommercialism or lac...       1\n",
       "...                                                   ...     ...\n",
       "213513  went there for a romantic lunch and left disgu...       0\n",
       "213514  amazing pizza went in for lunch today and orde...       1\n",
       "213515  horribly inconsistent we drove an hour from wi...       0\n",
       "213516  this place had a really cool look but can't sa...       0\n",
       "213517  this place is a joke especially the restaurant...       0\n",
       "\n",
       "[213518 rows x 2 columns]"
      ]
     },
     "execution_count": 62,
     "metadata": {},
     "output_type": "execute_result"
    }
   ],
   "source": [
    "df_join3.drop('index',axis=1, inplace=True)\n",
    "df_join3"
   ]
  },
  {
   "cell_type": "code",
   "execution_count": 63,
   "id": "02c71bff",
   "metadata": {},
   "outputs": [
    {
     "name": "stderr",
     "output_type": "stream",
     "text": [
      "[nltk_data] Downloading package stopwords to\n",
      "[nltk_data]     C:\\Users\\SOURABH_JAMDADE\\AppData\\Roaming\\nltk_data...\n",
      "[nltk_data]   Package stopwords is already up-to-date!\n"
     ]
    }
   ],
   "source": [
    "# Cleaning the texts\n",
    "# we have to do this for all three dataset \n",
    "# this is for dataset1\n",
    "# It just for model comaparision\n",
    "import re\n",
    "import nltk\n",
    "nltk.download('stopwords')\n",
    "from nltk.corpus import stopwords\n",
    "stops = stopwords.words('english')\n",
    "\n",
    "from nltk.stem.porter import PorterStemmer\n",
    "corpus1 = []\n",
    "for i in range(0, df_join1.shape[0]):\n",
    "    review = df_join1['removed_punct_text'][i]\n",
    "    review = review.lower()\n",
    "    review = review.split()\n",
    "    ps = PorterStemmer()\n",
    "    review = [ps.stem(word) for word in review if not word in set(stops)]\n",
    "    review = ' '.join(review)\n",
    "    corpus1.append(review)"
   ]
  },
  {
   "cell_type": "markdown",
   "id": "2314b33d",
   "metadata": {},
   "source": [
    "# Testing"
   ]
  },
  {
   "cell_type": "code",
   "execution_count": 128,
   "id": "2e43707d",
   "metadata": {},
   "outputs": [
    {
     "name": "stderr",
     "output_type": "stream",
     "text": [
      "[nltk_data] Downloading package stopwords to\n",
      "[nltk_data]     C:\\Users\\SOURABH_JAMDADE\\AppData\\Roaming\\nltk_data...\n",
      "[nltk_data]   Package stopwords is already up-to-date!\n"
     ]
    }
   ],
   "source": [
    "## only for testing purpose \n",
    "import re\n",
    "import nltk\n",
    "nltk.download('stopwords')\n",
    "from nltk.corpus import stopwords\n",
    "stops = stopwords.words('english')\n",
    "\n",
    "from nltk.stem.porter import PorterStemmer\n",
    "corpus4 = []\n",
    "for i in range(0, df_join1.shape[0]):\n",
    "    review = df_join1['removed_punct_text'][i]\n",
    "    review = review.lower()\n",
    "    review = review.strip()\n",
    "    review = review.split()\n",
    "    ps = PorterStemmer()\n",
    "    review = [ps.stem(word) for word in review if not word in set(stops)]\n",
    "    review = ' '.join(review)\n",
    "    corpus4.append(review)"
   ]
  },
  {
   "cell_type": "code",
   "execution_count": 129,
   "id": "349df08f",
   "metadata": {},
   "outputs": [
    {
     "ename": "MemoryError",
     "evalue": "Unable to allocate 4.77 GiB for an array with shape (213518, 3000) and data type float64",
     "output_type": "error",
     "traceback": [
      "\u001b[1;31m---------------------------------------------------------------------------\u001b[0m",
      "\u001b[1;31mMemoryError\u001b[0m                               Traceback (most recent call last)",
      "\u001b[1;32m~\\AppData\\Local\\Temp\\ipykernel_2776\\2679346778.py\u001b[0m in \u001b[0;36m<module>\u001b[1;34m\u001b[0m\n\u001b[0;32m      1\u001b[0m \u001b[1;32mfrom\u001b[0m \u001b[0msklearn\u001b[0m\u001b[1;33m.\u001b[0m\u001b[0mfeature_extraction\u001b[0m\u001b[1;33m.\u001b[0m\u001b[0mtext\u001b[0m \u001b[1;32mimport\u001b[0m \u001b[0mTfidfVectorizer\u001b[0m\u001b[1;33m\u001b[0m\u001b[1;33m\u001b[0m\u001b[0m\n\u001b[0;32m      2\u001b[0m \u001b[0mcv\u001b[0m \u001b[1;33m=\u001b[0m \u001b[0mTfidfVectorizer\u001b[0m\u001b[1;33m(\u001b[0m\u001b[0mmax_features\u001b[0m \u001b[1;33m=\u001b[0m \u001b[1;36m3000\u001b[0m\u001b[1;33m)\u001b[0m\u001b[1;33m\u001b[0m\u001b[1;33m\u001b[0m\u001b[0m\n\u001b[1;32m----> 3\u001b[1;33m \u001b[0mX4\u001b[0m \u001b[1;33m=\u001b[0m \u001b[0mcv\u001b[0m\u001b[1;33m.\u001b[0m\u001b[0mfit_transform\u001b[0m\u001b[1;33m(\u001b[0m\u001b[0mcorpus4\u001b[0m\u001b[1;33m)\u001b[0m\u001b[1;33m.\u001b[0m\u001b[0mtoarray\u001b[0m\u001b[1;33m(\u001b[0m\u001b[1;33m)\u001b[0m\u001b[1;33m\u001b[0m\u001b[1;33m\u001b[0m\u001b[0m\n\u001b[0m\u001b[0;32m      4\u001b[0m \u001b[1;31m#X = pd.DataFrame(X,columns=cv.get_feature_names_out())\u001b[0m\u001b[1;33m\u001b[0m\u001b[1;33m\u001b[0m\u001b[0m\n\u001b[0;32m      5\u001b[0m \u001b[0my4\u001b[0m \u001b[1;33m=\u001b[0m \u001b[0mdf_join1\u001b[0m\u001b[1;33m.\u001b[0m\u001b[0miloc\u001b[0m\u001b[1;33m[\u001b[0m\u001b[1;33m:\u001b[0m\u001b[1;33m,\u001b[0m \u001b[1;36m1\u001b[0m\u001b[1;33m]\u001b[0m\u001b[1;33m\u001b[0m\u001b[1;33m\u001b[0m\u001b[0m\n",
      "\u001b[1;32m~\\anaconda3\\lib\\site-packages\\scipy\\sparse\\_compressed.py\u001b[0m in \u001b[0;36mtoarray\u001b[1;34m(self, order, out)\u001b[0m\n\u001b[0;32m   1049\u001b[0m         \u001b[1;32mif\u001b[0m \u001b[0mout\u001b[0m \u001b[1;32mis\u001b[0m \u001b[1;32mNone\u001b[0m \u001b[1;32mand\u001b[0m \u001b[0morder\u001b[0m \u001b[1;32mis\u001b[0m \u001b[1;32mNone\u001b[0m\u001b[1;33m:\u001b[0m\u001b[1;33m\u001b[0m\u001b[1;33m\u001b[0m\u001b[0m\n\u001b[0;32m   1050\u001b[0m             \u001b[0morder\u001b[0m \u001b[1;33m=\u001b[0m \u001b[0mself\u001b[0m\u001b[1;33m.\u001b[0m\u001b[0m_swap\u001b[0m\u001b[1;33m(\u001b[0m\u001b[1;34m'cf'\u001b[0m\u001b[1;33m)\u001b[0m\u001b[1;33m[\u001b[0m\u001b[1;36m0\u001b[0m\u001b[1;33m]\u001b[0m\u001b[1;33m\u001b[0m\u001b[1;33m\u001b[0m\u001b[0m\n\u001b[1;32m-> 1051\u001b[1;33m         \u001b[0mout\u001b[0m \u001b[1;33m=\u001b[0m \u001b[0mself\u001b[0m\u001b[1;33m.\u001b[0m\u001b[0m_process_toarray_args\u001b[0m\u001b[1;33m(\u001b[0m\u001b[0morder\u001b[0m\u001b[1;33m,\u001b[0m \u001b[0mout\u001b[0m\u001b[1;33m)\u001b[0m\u001b[1;33m\u001b[0m\u001b[1;33m\u001b[0m\u001b[0m\n\u001b[0m\u001b[0;32m   1052\u001b[0m         \u001b[1;32mif\u001b[0m \u001b[1;32mnot\u001b[0m \u001b[1;33m(\u001b[0m\u001b[0mout\u001b[0m\u001b[1;33m.\u001b[0m\u001b[0mflags\u001b[0m\u001b[1;33m.\u001b[0m\u001b[0mc_contiguous\u001b[0m \u001b[1;32mor\u001b[0m \u001b[0mout\u001b[0m\u001b[1;33m.\u001b[0m\u001b[0mflags\u001b[0m\u001b[1;33m.\u001b[0m\u001b[0mf_contiguous\u001b[0m\u001b[1;33m)\u001b[0m\u001b[1;33m:\u001b[0m\u001b[1;33m\u001b[0m\u001b[1;33m\u001b[0m\u001b[0m\n\u001b[0;32m   1053\u001b[0m             \u001b[1;32mraise\u001b[0m \u001b[0mValueError\u001b[0m\u001b[1;33m(\u001b[0m\u001b[1;34m'Output array must be C or F contiguous'\u001b[0m\u001b[1;33m)\u001b[0m\u001b[1;33m\u001b[0m\u001b[1;33m\u001b[0m\u001b[0m\n",
      "\u001b[1;32m~\\anaconda3\\lib\\site-packages\\scipy\\sparse\\_base.py\u001b[0m in \u001b[0;36m_process_toarray_args\u001b[1;34m(self, order, out)\u001b[0m\n\u001b[0;32m   1296\u001b[0m             \u001b[1;32mreturn\u001b[0m \u001b[0mout\u001b[0m\u001b[1;33m\u001b[0m\u001b[1;33m\u001b[0m\u001b[0m\n\u001b[0;32m   1297\u001b[0m         \u001b[1;32melse\u001b[0m\u001b[1;33m:\u001b[0m\u001b[1;33m\u001b[0m\u001b[1;33m\u001b[0m\u001b[0m\n\u001b[1;32m-> 1298\u001b[1;33m             \u001b[1;32mreturn\u001b[0m \u001b[0mnp\u001b[0m\u001b[1;33m.\u001b[0m\u001b[0mzeros\u001b[0m\u001b[1;33m(\u001b[0m\u001b[0mself\u001b[0m\u001b[1;33m.\u001b[0m\u001b[0mshape\u001b[0m\u001b[1;33m,\u001b[0m \u001b[0mdtype\u001b[0m\u001b[1;33m=\u001b[0m\u001b[0mself\u001b[0m\u001b[1;33m.\u001b[0m\u001b[0mdtype\u001b[0m\u001b[1;33m,\u001b[0m \u001b[0morder\u001b[0m\u001b[1;33m=\u001b[0m\u001b[0morder\u001b[0m\u001b[1;33m)\u001b[0m\u001b[1;33m\u001b[0m\u001b[1;33m\u001b[0m\u001b[0m\n\u001b[0m\u001b[0;32m   1299\u001b[0m \u001b[1;33m\u001b[0m\u001b[0m\n\u001b[0;32m   1300\u001b[0m \u001b[1;33m\u001b[0m\u001b[0m\n",
      "\u001b[1;31mMemoryError\u001b[0m: Unable to allocate 4.77 GiB for an array with shape (213518, 3000) and data type float64"
     ]
    }
   ],
   "source": [
    "# from sklearn.feature_extraction.text import TfidfVectorizer\n",
    "# cv = TfidfVectorizer(max_features = 3000)\n",
    "# X4 = cv.fit_transform(corpus4).toarray()\n",
    "# #X = pd.DataFrame(X,columns=cv.get_feature_names_out())\n",
    "# y4 = df_join1.iloc[:, 1]\n"
   ]
  },
  {
   "cell_type": "code",
   "execution_count": null,
   "id": "25c73f98",
   "metadata": {},
   "outputs": [],
   "source": [
    "# # Splitting the dataset into the Training set and Test set\n",
    "# from sklearn.model_selection import train_test_split\n",
    "# X_train4, X_test4, y_train4, y_test4 = train_test_split(X4, y4, \n",
    "#                                                     test_size = 0.20, \n",
    "#                                                     random_state = 2023,\n",
    "#                                                     stratify=y1)"
   ]
  },
  {
   "cell_type": "code",
   "execution_count": null,
   "id": "25c90707",
   "metadata": {},
   "outputs": [],
   "source": []
  },
  {
   "cell_type": "code",
   "execution_count": null,
   "id": "1de055a0",
   "metadata": {},
   "outputs": [],
   "source": []
  },
  {
   "cell_type": "code",
   "execution_count": null,
   "id": "045f92ba",
   "metadata": {},
   "outputs": [],
   "source": []
  },
  {
   "cell_type": "markdown",
   "id": "d9363fed",
   "metadata": {},
   "source": [
    "# Testing "
   ]
  },
  {
   "cell_type": "code",
   "execution_count": 64,
   "id": "94da2af6",
   "metadata": {},
   "outputs": [
    {
     "name": "stderr",
     "output_type": "stream",
     "text": [
      "[nltk_data] Downloading package stopwords to\n",
      "[nltk_data]     C:\\Users\\SOURABH_JAMDADE\\AppData\\Roaming\\nltk_data...\n",
      "[nltk_data]   Package stopwords is already up-to-date!\n"
     ]
    }
   ],
   "source": [
    "# Cleaning the texts\n",
    "# we have to do this for all three dataset \n",
    "# this is for dataset2\n",
    "# It just for model comaparision\n",
    "import re\n",
    "import nltk\n",
    "nltk.download('stopwords')\n",
    "from nltk.corpus import stopwords\n",
    "stops = stopwords.words('english')\n",
    "\n",
    "from nltk.stem.porter import PorterStemmer\n",
    "corpus2 = []\n",
    "for i in range(0, df_join2.shape[0]):\n",
    "    review = df_join2['removed_punct_text'][i]\n",
    "    review = review.lower()\n",
    "    review = review.split()\n",
    "    ps = PorterStemmer()\n",
    "    review = [ps.stem(word) for word in review if not word in set(stops)]\n",
    "    review = ' '.join(review)\n",
    "    corpus2.append(review)"
   ]
  },
  {
   "cell_type": "code",
   "execution_count": 65,
   "id": "4258fa0e",
   "metadata": {},
   "outputs": [
    {
     "name": "stderr",
     "output_type": "stream",
     "text": [
      "[nltk_data] Downloading package stopwords to\n",
      "[nltk_data]     C:\\Users\\SOURABH_JAMDADE\\AppData\\Roaming\\nltk_data...\n",
      "[nltk_data]   Package stopwords is already up-to-date!\n"
     ]
    }
   ],
   "source": [
    "# Cleaning the texts\n",
    "# we have to do this for all three dataset \n",
    "# this is for dataset3\n",
    "# It just for model comaparision\n",
    "import re\n",
    "import nltk\n",
    "nltk.download('stopwords')\n",
    "from nltk.corpus import stopwords\n",
    "stops = stopwords.words('english')\n",
    "\n",
    "from nltk.stem.porter import PorterStemmer\n",
    "corpus3 = []\n",
    "for i in range(0, df_join3.shape[0]):\n",
    "    review = df_join3['removed_punct_text'][i]\n",
    "    review = review.lower()\n",
    "    review = review.split()\n",
    "    ps = PorterStemmer()\n",
    "    review = [ps.stem(word) for word in review if not word in set(stops)]\n",
    "    review = ' '.join(review)\n",
    "    corpus3.append(review)"
   ]
  },
  {
   "cell_type": "code",
   "execution_count": 66,
   "id": "25e49ec9",
   "metadata": {},
   "outputs": [],
   "source": [
    "from sklearn.feature_extraction.text import TfidfVectorizer\n",
    "cv = TfidfVectorizer(max_features = 3000)\n",
    "X1 = cv.fit_transform(corpus1).toarray()\n",
    "#X = pd.DataFrame(X,columns=cv.get_feature_names_out())\n",
    "y1 = df_join1.iloc[:, 1]\n"
   ]
  },
  {
   "cell_type": "code",
   "execution_count": 67,
   "id": "3b674ce2",
   "metadata": {},
   "outputs": [],
   "source": [
    "# Splitting the dataset into the Training set and Test set\n",
    "from sklearn.model_selection import train_test_split\n",
    "X_train1, X_test1, y_train1, y_test1 = train_test_split(X1, y1, \n",
    "                                                    test_size = 0.20, \n",
    "                                                    random_state = 2023,\n",
    "                                                    stratify=y1)"
   ]
  },
  {
   "cell_type": "code",
   "execution_count": 68,
   "id": "7b4cdbe9",
   "metadata": {},
   "outputs": [],
   "source": [
    "from sklearn.feature_extraction.text import TfidfVectorizer\n",
    "cv = TfidfVectorizer(max_features = 3000)\n",
    "X2 = cv.fit_transform(corpus2).toarray()\n",
    "#X = pd.DataFrame(X,columns=cv.get_feature_names_out())\n",
    "y2= df_join2.iloc[:, 1]\n",
    "\n",
    "\n"
   ]
  },
  {
   "cell_type": "code",
   "execution_count": 69,
   "id": "dd3d5ed6",
   "metadata": {},
   "outputs": [],
   "source": [
    "# Splitting the dataset into the Training set and Test set\n",
    "from sklearn.model_selection import train_test_split\n",
    "X_train2, X_test2, y_train2, y_test2 = train_test_split(X2, y2, \n",
    "                                                    test_size = 0.20, \n",
    "                                                    random_state = 2023,\n",
    "                                                    stratify=y2)"
   ]
  },
  {
   "cell_type": "code",
   "execution_count": 70,
   "id": "72de8125",
   "metadata": {},
   "outputs": [],
   "source": [
    "from sklearn.feature_extraction.text import TfidfVectorizer\n",
    "cv = TfidfVectorizer(max_features = 3000)\n",
    "X3 = cv.fit_transform(corpus3).toarray()\n",
    "#X = pd.DataFrame(X,columns=cv.get_feature_names_out())\n",
    "y3 = df_join3.iloc[:, 1]\n",
    "\n",
    "\n"
   ]
  },
  {
   "cell_type": "code",
   "execution_count": 71,
   "id": "9f53c07f",
   "metadata": {},
   "outputs": [],
   "source": [
    "# Splitting the dataset into the Training set and Test set\n",
    "from sklearn.model_selection import train_test_split\n",
    "X_train3, X_test3, y_train3, y_test3 = train_test_split(X3, y3, \n",
    "                                                    test_size = 0.20, \n",
    "                                                    random_state = 2023,\n",
    "                                                    stratify=y3)"
   ]
  },
  {
   "cell_type": "markdown",
   "id": "03ef4389",
   "metadata": {},
   "source": [
    "## Random_Forest"
   ]
  },
  {
   "cell_type": "code",
   "execution_count": 72,
   "id": "e32617bd",
   "metadata": {},
   "outputs": [
    {
     "name": "stdout",
     "output_type": "stream",
     "text": [
      "              precision    recall  f1-score   support\n",
      "\n",
      "           0       0.91      0.91      0.91     20000\n",
      "           1       0.92      0.92      0.92     22704\n",
      "\n",
      "    accuracy                           0.92     42704\n",
      "   macro avg       0.92      0.92      0.92     42704\n",
      "weighted avg       0.92      0.92      0.92     42704\n",
      "\n",
      "0.9175018733608092\n",
      "0.972993050784003\n"
     ]
    }
   ],
   "source": [
    "# Random_Forest for dataset1:\n",
    "# Fitting any algo to the Training set\n",
    "from sklearn.ensemble import RandomForestClassifier\n",
    "classifier = RandomForestClassifier(random_state=2022,n_estimators=25)\n",
    "classifier.fit(X_train1, y_train1)\n",
    "\n",
    "# Predicting the Test set results\n",
    "y_pred_rf = classifier.predict(X_test1)\n",
    "### Predicted Probabilities\n",
    "y_pred_prob_rf = classifier.predict_proba(X_test1)[:,1]\n",
    "\n",
    "# Making the Confusion Matrix\n",
    "from sklearn.metrics import confusion_matrix, classification_report,accuracy_score,roc_auc_score\n",
    "confusion_matrix(y_test1, y_pred_rf)\n",
    "\n",
    "print(classification_report(y_test1, y_pred_rf))\n",
    "\n",
    "print(accuracy_score(y_test1, y_pred_rf))\n",
    "\n",
    "print(roc_auc_score(y_test1, y_pred_prob_rf))"
   ]
  },
  {
   "cell_type": "code",
   "execution_count": 78,
   "id": "c158092f",
   "metadata": {},
   "outputs": [],
   "source": [
    "# save the trained logistic regression model to a file\n",
    "with open('rf_model.pkl', 'wb') as file:\n",
    "    pickle.dump(classifier, file)\n"
   ]
  },
  {
   "cell_type": "markdown",
   "id": "ccf1bd2e",
   "metadata": {},
   "source": [
    "## XGboost"
   ]
  },
  {
   "cell_type": "code",
   "execution_count": 73,
   "id": "6f4dfde1",
   "metadata": {},
   "outputs": [],
   "source": [
    "from xgboost import XGBClassifier"
   ]
  },
  {
   "cell_type": "code",
   "execution_count": 74,
   "id": "24e79e73",
   "metadata": {},
   "outputs": [],
   "source": [
    "from sklearn.metrics import confusion_matrix, classification_report,accuracy_score,roc_auc_score\n"
   ]
  },
  {
   "cell_type": "raw",
   "id": "d3f51202",
   "metadata": {},
   "source": [
    "## For dataset2\n",
    "## XG\n",
    "from xgboost import XGBClassifier\n",
    "XGB_model = XGBClassifier(random_state=2023)\n",
    "XGB_model.fit(X_train3, y_train3)\n",
    "\n",
    "XGB_model = XGBClassifier(random_state=2023)\n",
    "XGB_model.fit(X_train3, y_train3)\n",
    "\n",
    "# Predicting the Test set results\n",
    "y_pred_xgb = XGB_model.predict(X_test3)\n",
    "### Predicted Probabilities\n",
    "y_pred_prob_xgb = XGB_model.predict_proba(X_test3)[:,1]\n",
    "\n",
    "# Making the Confusion Matrix\n",
    "confusion_matrix(y_test3, y_pred)\n",
    "\n"
   ]
  },
  {
   "cell_type": "code",
   "execution_count": 75,
   "id": "ad832f55",
   "metadata": {},
   "outputs": [
    {
     "name": "stdout",
     "output_type": "stream",
     "text": [
      "Accuracy: 0.916822780067441\n",
      "Confusion matrix: [[18238  1762]\n",
      " [ 1790 20914]]\n",
      "ROC AUC score: 0.9738378347427765\n"
     ]
    }
   ],
   "source": [
    "# Define the batch size\n",
    "batch_size = 20000\n",
    "\n",
    "# Train the XGBoost model in batches\n",
    "XGB_model = XGBClassifier(random_state=2023)\n",
    "\n",
    "for i in range(0, len(X_train3), batch_size):\n",
    "    X_batch = X_train3[i:i+batch_size]\n",
    "    y_batch = y_train3[i:i+batch_size]\n",
    "    \n",
    "    # Fit the XGBoost model on the current batch\n",
    "    XGB_model.fit(X_batch, y_batch)\n",
    "\n",
    "# Make predictions on the test set in batches\n",
    "y_pred_all = []\n",
    "y_pred_prob_all = []\n",
    "\n",
    "for i in range(0, len(X_test3), batch_size):\n",
    "    X_batch = X_test3[i:i+batch_size]\n",
    "    y_pred_batch = XGB_model.predict(X_batch)\n",
    "    y_pred_prob_batch = XGB_model.predict_proba(X_batch)[:, 1]\n",
    "    y_pred_all.extend(y_pred_batch)\n",
    "    y_pred_prob_all.extend(y_pred_prob_batch)\n",
    "\n",
    "# Calculate the final accuracy score, confusion matrix, and ROC AUC score\n",
    "accuracy = accuracy_score(y_test3, y_pred_all)\n",
    "cm = confusion_matrix(y_test3, y_pred_all)\n",
    "roc_auc = roc_auc_score(y_test3, y_pred_prob_all)\n",
    "\n",
    "print('Accuracy:', accuracy)\n",
    "print('Confusion matrix:', cm)\n",
    "print('ROC AUC score:', roc_auc)"
   ]
  },
  {
   "cell_type": "code",
   "execution_count": 82,
   "id": "864ba56b",
   "metadata": {},
   "outputs": [],
   "source": [
    "# save the trained XGBoost model to a file\n",
    "with open('xgb_model.pkl', 'wb') as file:\n",
    "    pickle.dump(XGB_model, file)\n"
   ]
  },
  {
   "cell_type": "markdown",
   "id": "5ea89b1a",
   "metadata": {},
   "source": [
    "## LightGBM"
   ]
  },
  {
   "cell_type": "code",
   "execution_count": 76,
   "id": "4441d8a3",
   "metadata": {},
   "outputs": [
    {
     "data": {
      "text/plain": [
       "array([[18351,  1649],\n",
       "       [ 1411, 21293]], dtype=int64)"
      ]
     },
     "execution_count": 76,
     "metadata": {},
     "output_type": "execute_result"
    }
   ],
   "source": [
    "## for dataset3\n",
    "## lightgbm\n",
    "\n",
    "from lightgbm import LGBMClassifier\n",
    "lgbm=LGBMClassifier(random_state=2023)\n",
    "lgbm.fit(X_train3, y_train3)\n",
    "# Predicting the Test set results\n",
    "y_pred_lgbm = lgbm.predict(X_test3)\n",
    "### Predicted Probabilities\n",
    "y_pred_prob_lgbm = lgbm.predict_proba(X_test3)[:,1]\n",
    "\n",
    "# Making the Confusion Matrix\n",
    "from sklearn.metrics import confusion_matrix, classification_report,accuracy_score,roc_auc_score\n",
    "confusion_matrix(y_test3, y_pred_lgbm)\n"
   ]
  },
  {
   "cell_type": "code",
   "execution_count": 77,
   "id": "930382d9",
   "metadata": {},
   "outputs": [
    {
     "name": "stdout",
     "output_type": "stream",
     "text": [
      "              precision    recall  f1-score   support\n",
      "\n",
      "           0       0.93      0.92      0.92     20000\n",
      "           1       0.93      0.94      0.93     22704\n",
      "\n",
      "    accuracy                           0.93     42704\n",
      "   macro avg       0.93      0.93      0.93     42704\n",
      "weighted avg       0.93      0.93      0.93     42704\n",
      "\n",
      "0.928343949044586\n",
      "0.9812144545014094\n"
     ]
    }
   ],
   "source": [
    "print(classification_report(y_test3, y_pred_lgbm))\n",
    "print(accuracy_score(y_test3, y_pred_lgbm))\n",
    "print(roc_auc_score(y_test3, y_pred_prob_lgbm))"
   ]
  },
  {
   "cell_type": "code",
   "execution_count": 85,
   "id": "a243993f",
   "metadata": {},
   "outputs": [],
   "source": [
    "# save the trained XGBoost model to a file\n",
    "with open('lgbm_model.pkl', 'wb') as file:\n",
    "    pickle.dump(lgbm, file)"
   ]
  },
  {
   "cell_type": "markdown",
   "id": "066bdfaf",
   "metadata": {},
   "source": [
    "## Support Vector Machine"
   ]
  },
  {
   "cell_type": "raw",
   "id": "4222013c",
   "metadata": {},
   "source": [
    "## SVM For dataset1\n",
    "## SVM\n",
    "from sklearn.svm import SVC\n",
    "svm = SVC(kernel='linear',C=2 ,random_state=2023)\n",
    "svm.fit(X_train2, y_train2)\n",
    "# Predicting the Test set results\n",
    "y_pred = svm.predict(X_test2)\n",
    "### Predicted Probabilities\n",
    "y_pred_prob = svm.predict_proba(X_test2)[:,1]\n",
    "\n",
    "# Making the Confusion Matrix\n",
    "from sklearn.metrics import confusion_matrix, classification_report,accuracy_score,roc_auc_score\n",
    "confusion_matrix(y_test2, y_pred)\n",
    "print(classification_report(y_test3, y_pred))\n",
    "print(accuracy_score(y_test3, y_pred))\n",
    "print(roc_auc_score(y_test3, y_pred_prob))"
   ]
  },
  {
   "cell_type": "code",
   "execution_count": 86,
   "id": "1bf6e0c4",
   "metadata": {},
   "outputs": [],
   "source": [
    "from sklearn.svm import SVC\n",
    "from sklearn.metrics import accuracy_score, confusion_matrix, classification_report, roc_auc_score"
   ]
  },
  {
   "cell_type": "code",
   "execution_count": 87,
   "id": "c96a52b4",
   "metadata": {},
   "outputs": [
    {
     "ename": "KeyboardInterrupt",
     "evalue": "",
     "output_type": "error",
     "traceback": [
      "\u001b[1;31m---------------------------------------------------------------------------\u001b[0m",
      "\u001b[1;31mKeyboardInterrupt\u001b[0m                         Traceback (most recent call last)",
      "\u001b[1;32m~\\AppData\\Local\\Temp\\ipykernel_2532\\4093802591.py\u001b[0m in \u001b[0;36m<module>\u001b[1;34m\u001b[0m\n\u001b[0;32m     10\u001b[0m \u001b[1;33m\u001b[0m\u001b[0m\n\u001b[0;32m     11\u001b[0m     \u001b[1;31m# Fit the SVM model on the current batch\u001b[0m\u001b[1;33m\u001b[0m\u001b[1;33m\u001b[0m\u001b[0m\n\u001b[1;32m---> 12\u001b[1;33m     \u001b[0msvm\u001b[0m\u001b[1;33m.\u001b[0m\u001b[0mfit\u001b[0m\u001b[1;33m(\u001b[0m\u001b[0mX_batch\u001b[0m\u001b[1;33m,\u001b[0m \u001b[0my_batch\u001b[0m\u001b[1;33m)\u001b[0m\u001b[1;33m\u001b[0m\u001b[1;33m\u001b[0m\u001b[0m\n\u001b[0m\u001b[0;32m     13\u001b[0m \u001b[1;33m\u001b[0m\u001b[0m\n\u001b[0;32m     14\u001b[0m \u001b[1;31m# Make predictions on the test set in batches\u001b[0m\u001b[1;33m\u001b[0m\u001b[1;33m\u001b[0m\u001b[0m\n",
      "\u001b[1;32m~\\anaconda3\\lib\\site-packages\\sklearn\\svm\\_base.py\u001b[0m in \u001b[0;36mfit\u001b[1;34m(self, X, y, sample_weight)\u001b[0m\n\u001b[0;32m    253\u001b[0m \u001b[1;33m\u001b[0m\u001b[0m\n\u001b[0;32m    254\u001b[0m         \u001b[0mseed\u001b[0m \u001b[1;33m=\u001b[0m \u001b[0mrnd\u001b[0m\u001b[1;33m.\u001b[0m\u001b[0mrandint\u001b[0m\u001b[1;33m(\u001b[0m\u001b[0mnp\u001b[0m\u001b[1;33m.\u001b[0m\u001b[0miinfo\u001b[0m\u001b[1;33m(\u001b[0m\u001b[1;34m\"i\"\u001b[0m\u001b[1;33m)\u001b[0m\u001b[1;33m.\u001b[0m\u001b[0mmax\u001b[0m\u001b[1;33m)\u001b[0m\u001b[1;33m\u001b[0m\u001b[1;33m\u001b[0m\u001b[0m\n\u001b[1;32m--> 255\u001b[1;33m         \u001b[0mfit\u001b[0m\u001b[1;33m(\u001b[0m\u001b[0mX\u001b[0m\u001b[1;33m,\u001b[0m \u001b[0my\u001b[0m\u001b[1;33m,\u001b[0m \u001b[0msample_weight\u001b[0m\u001b[1;33m,\u001b[0m \u001b[0msolver_type\u001b[0m\u001b[1;33m,\u001b[0m \u001b[0mkernel\u001b[0m\u001b[1;33m,\u001b[0m \u001b[0mrandom_seed\u001b[0m\u001b[1;33m=\u001b[0m\u001b[0mseed\u001b[0m\u001b[1;33m)\u001b[0m\u001b[1;33m\u001b[0m\u001b[1;33m\u001b[0m\u001b[0m\n\u001b[0m\u001b[0;32m    256\u001b[0m         \u001b[1;31m# see comment on the other call to np.iinfo in this file\u001b[0m\u001b[1;33m\u001b[0m\u001b[1;33m\u001b[0m\u001b[0m\n\u001b[0;32m    257\u001b[0m \u001b[1;33m\u001b[0m\u001b[0m\n",
      "\u001b[1;32m~\\anaconda3\\lib\\site-packages\\sklearn\\svm\\_base.py\u001b[0m in \u001b[0;36m_dense_fit\u001b[1;34m(self, X, y, sample_weight, solver_type, kernel, random_seed)\u001b[0m\n\u001b[0;32m    313\u001b[0m             \u001b[0mself\u001b[0m\u001b[1;33m.\u001b[0m\u001b[0m_probB\u001b[0m\u001b[1;33m,\u001b[0m\u001b[1;33m\u001b[0m\u001b[1;33m\u001b[0m\u001b[0m\n\u001b[0;32m    314\u001b[0m             \u001b[0mself\u001b[0m\u001b[1;33m.\u001b[0m\u001b[0mfit_status_\u001b[0m\u001b[1;33m,\u001b[0m\u001b[1;33m\u001b[0m\u001b[1;33m\u001b[0m\u001b[0m\n\u001b[1;32m--> 315\u001b[1;33m         \u001b[1;33m)\u001b[0m \u001b[1;33m=\u001b[0m \u001b[0mlibsvm\u001b[0m\u001b[1;33m.\u001b[0m\u001b[0mfit\u001b[0m\u001b[1;33m(\u001b[0m\u001b[1;33m\u001b[0m\u001b[1;33m\u001b[0m\u001b[0m\n\u001b[0m\u001b[0;32m    316\u001b[0m             \u001b[0mX\u001b[0m\u001b[1;33m,\u001b[0m\u001b[1;33m\u001b[0m\u001b[1;33m\u001b[0m\u001b[0m\n\u001b[0;32m    317\u001b[0m             \u001b[0my\u001b[0m\u001b[1;33m,\u001b[0m\u001b[1;33m\u001b[0m\u001b[1;33m\u001b[0m\u001b[0m\n",
      "\u001b[1;31mKeyboardInterrupt\u001b[0m: "
     ]
    }
   ],
   "source": [
    "# Define the batch size\n",
    "batch_size = 10000\n",
    "\n",
    "# Train the SVM model in batches\n",
    "svm = SVC(kernel='linear', C=2, random_state=2023)\n",
    "\n",
    "for i in range(0, len(X_train2), batch_size):\n",
    "    X_batch = X_train2[i:i+batch_size]\n",
    "    y_batch = y_train2[i:i+batch_size]\n",
    "    \n",
    "    # Fit the SVM model on the current batch\n",
    "    svm.fit(X_batch, y_batch)\n",
    "\n",
    "# Make predictions on the test set in batches\n",
    "y_pred_all = []\n",
    "\n",
    "for i in range(0, len(X_test2), batch_size):\n",
    "    X_batch = X_test2[i:i+batch_size]\n",
    "    y_pred_batch = svm.predict(X_batch)\n",
    "    y_pred_all.extend(y_pred_batch)\n"
   ]
  },
  {
   "cell_type": "code",
   "execution_count": 101,
   "id": "c9662852",
   "metadata": {},
   "outputs": [
    {
     "name": "stdout",
     "output_type": "stream",
     "text": [
      "Accuracy: 0.8901976395653803\n",
      "Confusion matrix: [[17806  2194]\n",
      " [ 2495 20209]]\n"
     ]
    }
   ],
   "source": [
    "# Calculate the final accuracy score and confusion matrix\n",
    "accuracy = accuracy_score(y_test2, y_pred_all)\n",
    "cm = confusion_matrix(y_test2, y_pred_all)\n",
    "print('Accuracy:', accuracy)\n",
    "print('Confusion matrix:', cm)"
   ]
  },
  {
   "cell_type": "code",
   "execution_count": 102,
   "id": "72d9a7b1",
   "metadata": {},
   "outputs": [
    {
     "name": "stdout",
     "output_type": "stream",
     "text": [
      "              precision    recall  f1-score   support\n",
      "\n",
      "           0       0.88      0.89      0.88     20000\n",
      "           1       0.90      0.89      0.90     22704\n",
      "\n",
      "    accuracy                           0.89     42704\n",
      "   macro avg       0.89      0.89      0.89     42704\n",
      "weighted avg       0.89      0.89      0.89     42704\n",
      "\n",
      "ROC AUC score: 0.958054957276251\n"
     ]
    }
   ],
   "source": [
    "# Calculate and print the classification report and ROC AUC score\n",
    "print(classification_report(y_test2, y_pred_all))\n",
    "y_pred_prob = svm.decision_function(X_test2)\n",
    "print('ROC AUC score:', roc_auc_score(y_test2, y_pred_prob))"
   ]
  },
  {
   "cell_type": "code",
   "execution_count": null,
   "id": "44bfb6dd",
   "metadata": {},
   "outputs": [],
   "source": [
    "# save the trained XGBoost model to a file\n",
    "with open('svm_model.pkl', 'wb') as file:\n",
    "    pickle.dump(svm, file)"
   ]
  },
  {
   "cell_type": "markdown",
   "id": "d92f2814",
   "metadata": {},
   "source": [
    "## Logistic Regression"
   ]
  },
  {
   "cell_type": "code",
   "execution_count": 80,
   "id": "714c9aec",
   "metadata": {},
   "outputs": [],
   "source": [
    "from sklearn.linear_model import LogisticRegression\n",
    "from sklearn.metrics import confusion_matrix\n",
    "from sklearn.metrics import confusion_matrix, classification_report,accuracy_score,roc_auc_score\n"
   ]
  },
  {
   "cell_type": "code",
   "execution_count": 81,
   "id": "0a9b90c1",
   "metadata": {},
   "outputs": [],
   "source": [
    "import warnings\n",
    "warnings.filterwarnings(\"ignore\")\n",
    "\n",
    "# Fitting Logistic regression to the training set\n",
    "lr=LogisticRegression(random_state=2023)\n",
    "lr.fit(X_train2, y_train2)\n",
    "y_pred_lr=lr.predict(X_test2)\n",
    "y_pred_prob_lr = lr.predict_proba(X_test2)[:,1]\n"
   ]
  },
  {
   "cell_type": "code",
   "execution_count": 82,
   "id": "0998df13",
   "metadata": {},
   "outputs": [
    {
     "name": "stdout",
     "output_type": "stream",
     "text": [
      "[[18964  1036]\n",
      " [ 1059 21645]]\n",
      "              precision    recall  f1-score   support\n",
      "\n",
      "           0       0.95      0.95      0.95     20000\n",
      "           1       0.95      0.95      0.95     22704\n",
      "\n",
      "    accuracy                           0.95     42704\n",
      "   macro avg       0.95      0.95      0.95     42704\n",
      "weighted avg       0.95      0.95      0.95     42704\n",
      "\n",
      "0.9509413638066692\n",
      "0.9895255582716703\n"
     ]
    }
   ],
   "source": [
    "print(confusion_matrix(y_test2, y_pred_lr))\n",
    "print(classification_report(y_test2, y_pred_lr))\n",
    "print(accuracy_score(y_test2, y_pred_lr))\n",
    "print(roc_auc_score(y_test2, y_pred_prob_lr))"
   ]
  },
  {
   "cell_type": "markdown",
   "id": "dc8b3421",
   "metadata": {},
   "source": [
    "## Pickeling the Machine learning Model"
   ]
  },
  {
   "cell_type": "code",
   "execution_count": 75,
   "id": "ee0b8e90",
   "metadata": {},
   "outputs": [],
   "source": [
    "import pickle"
   ]
  },
  {
   "cell_type": "code",
   "execution_count": 76,
   "id": "2737767b",
   "metadata": {},
   "outputs": [],
   "source": [
    "# save the trained logistic regression model to a file\n",
    "with open('lr_model.pkl', 'wb') as file:\n",
    "    pickle.dump(lr, file)\n"
   ]
  },
  {
   "cell_type": "code",
   "execution_count": null,
   "id": "f641cc03",
   "metadata": {},
   "outputs": [],
   "source": [
    "\n",
    "# load the saved logistic regression model in a Streamlit app\n",
    "with open('lr_model.pkl','rb') as file:\n",
    "    lr_model = pickle.load(file)"
   ]
  },
  {
   "cell_type": "markdown",
   "id": "85f160f1",
   "metadata": {},
   "source": [
    "## Appliying the Voting"
   ]
  },
  {
   "cell_type": "code",
   "execution_count": 171,
   "id": "995e56e2",
   "metadata": {},
   "outputs": [],
   "source": [
    "Voting_sample=df_final.sample(50000)"
   ]
  },
  {
   "cell_type": "code",
   "execution_count": 172,
   "id": "a77f324c",
   "metadata": {},
   "outputs": [
    {
     "data": {
      "text/html": [
       "<div>\n",
       "<style scoped>\n",
       "    .dataframe tbody tr th:only-of-type {\n",
       "        vertical-align: middle;\n",
       "    }\n",
       "\n",
       "    .dataframe tbody tr th {\n",
       "        vertical-align: top;\n",
       "    }\n",
       "\n",
       "    .dataframe thead th {\n",
       "        text-align: right;\n",
       "    }\n",
       "</style>\n",
       "<table border=\"1\" class=\"dataframe\">\n",
       "  <thead>\n",
       "    <tr style=\"text-align: right;\">\n",
       "      <th></th>\n",
       "      <th>removed_punct_text</th>\n",
       "      <th>Target</th>\n",
       "    </tr>\n",
       "  </thead>\n",
       "  <tbody>\n",
       "    <tr>\n",
       "      <th>96521</th>\n",
       "      <td>great local spot with good drinks and food lov...</td>\n",
       "      <td>1</td>\n",
       "    </tr>\n",
       "    <tr>\n",
       "      <th>417321</th>\n",
       "      <td>we love the brunch it's definately worth waiti...</td>\n",
       "      <td>1</td>\n",
       "    </tr>\n",
       "    <tr>\n",
       "      <th>256797</th>\n",
       "      <td>a year ago i would have given this place five ...</td>\n",
       "      <td>0</td>\n",
       "    </tr>\n",
       "    <tr>\n",
       "      <th>63482</th>\n",
       "      <td>my husband and i went to madfish tonight for t...</td>\n",
       "      <td>0</td>\n",
       "    </tr>\n",
       "    <tr>\n",
       "      <th>414601</th>\n",
       "      <td>the food is good but the service is absolutely...</td>\n",
       "      <td>0</td>\n",
       "    </tr>\n",
       "    <tr>\n",
       "      <th>...</th>\n",
       "      <td>...</td>\n",
       "      <td>...</td>\n",
       "    </tr>\n",
       "    <tr>\n",
       "      <th>17962</th>\n",
       "      <td>i am only giving this place  stars because it ...</td>\n",
       "      <td>0</td>\n",
       "    </tr>\n",
       "    <tr>\n",
       "      <th>180664</th>\n",
       "      <td>me and my lunch companion visited sea salt tod...</td>\n",
       "      <td>1</td>\n",
       "    </tr>\n",
       "    <tr>\n",
       "      <th>154974</th>\n",
       "      <td>wings and wedges are delicious if you like swe...</td>\n",
       "      <td>1</td>\n",
       "    </tr>\n",
       "    <tr>\n",
       "      <th>30304</th>\n",
       "      <td>fantastic experience fun and lively ambiance w...</td>\n",
       "      <td>1</td>\n",
       "    </tr>\n",
       "    <tr>\n",
       "      <th>403688</th>\n",
       "      <td>this is the best place no questions about we'v...</td>\n",
       "      <td>1</td>\n",
       "    </tr>\n",
       "  </tbody>\n",
       "</table>\n",
       "<p>50000 rows × 2 columns</p>\n",
       "</div>"
      ],
      "text/plain": [
       "                                       removed_punct_text  Target\n",
       "96521   great local spot with good drinks and food lov...       1\n",
       "417321  we love the brunch it's definately worth waiti...       1\n",
       "256797  a year ago i would have given this place five ...       0\n",
       "63482   my husband and i went to madfish tonight for t...       0\n",
       "414601  the food is good but the service is absolutely...       0\n",
       "...                                                   ...     ...\n",
       "17962   i am only giving this place  stars because it ...       0\n",
       "180664  me and my lunch companion visited sea salt tod...       1\n",
       "154974  wings and wedges are delicious if you like swe...       1\n",
       "30304   fantastic experience fun and lively ambiance w...       1\n",
       "403688  this is the best place no questions about we'v...       1\n",
       "\n",
       "[50000 rows x 2 columns]"
      ]
     },
     "execution_count": 172,
     "metadata": {},
     "output_type": "execute_result"
    }
   ],
   "source": [
    "Voting_sample"
   ]
  },
  {
   "cell_type": "code",
   "execution_count": 174,
   "id": "d43c1aba",
   "metadata": {},
   "outputs": [],
   "source": [
    "Voting_sample=Voting_sample.reset_index()"
   ]
  },
  {
   "cell_type": "code",
   "execution_count": 175,
   "id": "db914933",
   "metadata": {},
   "outputs": [
    {
     "data": {
      "text/html": [
       "<div>\n",
       "<style scoped>\n",
       "    .dataframe tbody tr th:only-of-type {\n",
       "        vertical-align: middle;\n",
       "    }\n",
       "\n",
       "    .dataframe tbody tr th {\n",
       "        vertical-align: top;\n",
       "    }\n",
       "\n",
       "    .dataframe thead th {\n",
       "        text-align: right;\n",
       "    }\n",
       "</style>\n",
       "<table border=\"1\" class=\"dataframe\">\n",
       "  <thead>\n",
       "    <tr style=\"text-align: right;\">\n",
       "      <th></th>\n",
       "      <th>index</th>\n",
       "      <th>removed_punct_text</th>\n",
       "      <th>Target</th>\n",
       "    </tr>\n",
       "  </thead>\n",
       "  <tbody>\n",
       "    <tr>\n",
       "      <th>0</th>\n",
       "      <td>96521</td>\n",
       "      <td>great local spot with good drinks and food lov...</td>\n",
       "      <td>1</td>\n",
       "    </tr>\n",
       "    <tr>\n",
       "      <th>1</th>\n",
       "      <td>417321</td>\n",
       "      <td>we love the brunch it's definately worth waiti...</td>\n",
       "      <td>1</td>\n",
       "    </tr>\n",
       "    <tr>\n",
       "      <th>2</th>\n",
       "      <td>256797</td>\n",
       "      <td>a year ago i would have given this place five ...</td>\n",
       "      <td>0</td>\n",
       "    </tr>\n",
       "    <tr>\n",
       "      <th>3</th>\n",
       "      <td>63482</td>\n",
       "      <td>my husband and i went to madfish tonight for t...</td>\n",
       "      <td>0</td>\n",
       "    </tr>\n",
       "    <tr>\n",
       "      <th>4</th>\n",
       "      <td>414601</td>\n",
       "      <td>the food is good but the service is absolutely...</td>\n",
       "      <td>0</td>\n",
       "    </tr>\n",
       "    <tr>\n",
       "      <th>...</th>\n",
       "      <td>...</td>\n",
       "      <td>...</td>\n",
       "      <td>...</td>\n",
       "    </tr>\n",
       "    <tr>\n",
       "      <th>49995</th>\n",
       "      <td>17962</td>\n",
       "      <td>i am only giving this place  stars because it ...</td>\n",
       "      <td>0</td>\n",
       "    </tr>\n",
       "    <tr>\n",
       "      <th>49996</th>\n",
       "      <td>180664</td>\n",
       "      <td>me and my lunch companion visited sea salt tod...</td>\n",
       "      <td>1</td>\n",
       "    </tr>\n",
       "    <tr>\n",
       "      <th>49997</th>\n",
       "      <td>154974</td>\n",
       "      <td>wings and wedges are delicious if you like swe...</td>\n",
       "      <td>1</td>\n",
       "    </tr>\n",
       "    <tr>\n",
       "      <th>49998</th>\n",
       "      <td>30304</td>\n",
       "      <td>fantastic experience fun and lively ambiance w...</td>\n",
       "      <td>1</td>\n",
       "    </tr>\n",
       "    <tr>\n",
       "      <th>49999</th>\n",
       "      <td>403688</td>\n",
       "      <td>this is the best place no questions about we'v...</td>\n",
       "      <td>1</td>\n",
       "    </tr>\n",
       "  </tbody>\n",
       "</table>\n",
       "<p>50000 rows × 3 columns</p>\n",
       "</div>"
      ],
      "text/plain": [
       "        index                                 removed_punct_text  Target\n",
       "0       96521  great local spot with good drinks and food lov...       1\n",
       "1      417321  we love the brunch it's definately worth waiti...       1\n",
       "2      256797  a year ago i would have given this place five ...       0\n",
       "3       63482  my husband and i went to madfish tonight for t...       0\n",
       "4      414601  the food is good but the service is absolutely...       0\n",
       "...       ...                                                ...     ...\n",
       "49995   17962  i am only giving this place  stars because it ...       0\n",
       "49996  180664  me and my lunch companion visited sea salt tod...       1\n",
       "49997  154974  wings and wedges are delicious if you like swe...       1\n",
       "49998   30304  fantastic experience fun and lively ambiance w...       1\n",
       "49999  403688  this is the best place no questions about we'v...       1\n",
       "\n",
       "[50000 rows x 3 columns]"
      ]
     },
     "execution_count": 175,
     "metadata": {},
     "output_type": "execute_result"
    }
   ],
   "source": [
    "Voting_sample"
   ]
  },
  {
   "cell_type": "code",
   "execution_count": 176,
   "id": "c4966ff2",
   "metadata": {},
   "outputs": [
    {
     "data": {
      "text/html": [
       "<div>\n",
       "<style scoped>\n",
       "    .dataframe tbody tr th:only-of-type {\n",
       "        vertical-align: middle;\n",
       "    }\n",
       "\n",
       "    .dataframe tbody tr th {\n",
       "        vertical-align: top;\n",
       "    }\n",
       "\n",
       "    .dataframe thead th {\n",
       "        text-align: right;\n",
       "    }\n",
       "</style>\n",
       "<table border=\"1\" class=\"dataframe\">\n",
       "  <thead>\n",
       "    <tr style=\"text-align: right;\">\n",
       "      <th></th>\n",
       "      <th>rem</th>\n",
       "      <th>removed_punct_text</th>\n",
       "      <th>Target</th>\n",
       "    </tr>\n",
       "  </thead>\n",
       "  <tbody>\n",
       "    <tr>\n",
       "      <th>0</th>\n",
       "      <td>96521</td>\n",
       "      <td>great local spot with good drinks and food lov...</td>\n",
       "      <td>1</td>\n",
       "    </tr>\n",
       "    <tr>\n",
       "      <th>1</th>\n",
       "      <td>417321</td>\n",
       "      <td>we love the brunch it's definately worth waiti...</td>\n",
       "      <td>1</td>\n",
       "    </tr>\n",
       "    <tr>\n",
       "      <th>2</th>\n",
       "      <td>256797</td>\n",
       "      <td>a year ago i would have given this place five ...</td>\n",
       "      <td>0</td>\n",
       "    </tr>\n",
       "    <tr>\n",
       "      <th>3</th>\n",
       "      <td>63482</td>\n",
       "      <td>my husband and i went to madfish tonight for t...</td>\n",
       "      <td>0</td>\n",
       "    </tr>\n",
       "    <tr>\n",
       "      <th>4</th>\n",
       "      <td>414601</td>\n",
       "      <td>the food is good but the service is absolutely...</td>\n",
       "      <td>0</td>\n",
       "    </tr>\n",
       "    <tr>\n",
       "      <th>...</th>\n",
       "      <td>...</td>\n",
       "      <td>...</td>\n",
       "      <td>...</td>\n",
       "    </tr>\n",
       "    <tr>\n",
       "      <th>49995</th>\n",
       "      <td>17962</td>\n",
       "      <td>i am only giving this place  stars because it ...</td>\n",
       "      <td>0</td>\n",
       "    </tr>\n",
       "    <tr>\n",
       "      <th>49996</th>\n",
       "      <td>180664</td>\n",
       "      <td>me and my lunch companion visited sea salt tod...</td>\n",
       "      <td>1</td>\n",
       "    </tr>\n",
       "    <tr>\n",
       "      <th>49997</th>\n",
       "      <td>154974</td>\n",
       "      <td>wings and wedges are delicious if you like swe...</td>\n",
       "      <td>1</td>\n",
       "    </tr>\n",
       "    <tr>\n",
       "      <th>49998</th>\n",
       "      <td>30304</td>\n",
       "      <td>fantastic experience fun and lively ambiance w...</td>\n",
       "      <td>1</td>\n",
       "    </tr>\n",
       "    <tr>\n",
       "      <th>49999</th>\n",
       "      <td>403688</td>\n",
       "      <td>this is the best place no questions about we'v...</td>\n",
       "      <td>1</td>\n",
       "    </tr>\n",
       "  </tbody>\n",
       "</table>\n",
       "<p>50000 rows × 3 columns</p>\n",
       "</div>"
      ],
      "text/plain": [
       "          rem                                 removed_punct_text  Target\n",
       "0       96521  great local spot with good drinks and food lov...       1\n",
       "1      417321  we love the brunch it's definately worth waiti...       1\n",
       "2      256797  a year ago i would have given this place five ...       0\n",
       "3       63482  my husband and i went to madfish tonight for t...       0\n",
       "4      414601  the food is good but the service is absolutely...       0\n",
       "...       ...                                                ...     ...\n",
       "49995   17962  i am only giving this place  stars because it ...       0\n",
       "49996  180664  me and my lunch companion visited sea salt tod...       1\n",
       "49997  154974  wings and wedges are delicious if you like swe...       1\n",
       "49998   30304  fantastic experience fun and lively ambiance w...       1\n",
       "49999  403688  this is the best place no questions about we'v...       1\n",
       "\n",
       "[50000 rows x 3 columns]"
      ]
     },
     "execution_count": 176,
     "metadata": {},
     "output_type": "execute_result"
    }
   ],
   "source": [
    "Voting_sample.rename(columns = {'index':'rem'}, inplace = True)\n",
    "Voting_sample"
   ]
  },
  {
   "cell_type": "code",
   "execution_count": 177,
   "id": "99c8389b",
   "metadata": {},
   "outputs": [],
   "source": [
    "Voting_sample.drop('rem',axis=1,inplace=True)"
   ]
  },
  {
   "cell_type": "code",
   "execution_count": 178,
   "id": "969890fa",
   "metadata": {},
   "outputs": [
    {
     "data": {
      "text/html": [
       "<div>\n",
       "<style scoped>\n",
       "    .dataframe tbody tr th:only-of-type {\n",
       "        vertical-align: middle;\n",
       "    }\n",
       "\n",
       "    .dataframe tbody tr th {\n",
       "        vertical-align: top;\n",
       "    }\n",
       "\n",
       "    .dataframe thead th {\n",
       "        text-align: right;\n",
       "    }\n",
       "</style>\n",
       "<table border=\"1\" class=\"dataframe\">\n",
       "  <thead>\n",
       "    <tr style=\"text-align: right;\">\n",
       "      <th></th>\n",
       "      <th>removed_punct_text</th>\n",
       "      <th>Target</th>\n",
       "    </tr>\n",
       "  </thead>\n",
       "  <tbody>\n",
       "    <tr>\n",
       "      <th>0</th>\n",
       "      <td>great local spot with good drinks and food lov...</td>\n",
       "      <td>1</td>\n",
       "    </tr>\n",
       "    <tr>\n",
       "      <th>1</th>\n",
       "      <td>we love the brunch it's definately worth waiti...</td>\n",
       "      <td>1</td>\n",
       "    </tr>\n",
       "    <tr>\n",
       "      <th>2</th>\n",
       "      <td>a year ago i would have given this place five ...</td>\n",
       "      <td>0</td>\n",
       "    </tr>\n",
       "    <tr>\n",
       "      <th>3</th>\n",
       "      <td>my husband and i went to madfish tonight for t...</td>\n",
       "      <td>0</td>\n",
       "    </tr>\n",
       "    <tr>\n",
       "      <th>4</th>\n",
       "      <td>the food is good but the service is absolutely...</td>\n",
       "      <td>0</td>\n",
       "    </tr>\n",
       "    <tr>\n",
       "      <th>...</th>\n",
       "      <td>...</td>\n",
       "      <td>...</td>\n",
       "    </tr>\n",
       "    <tr>\n",
       "      <th>49995</th>\n",
       "      <td>i am only giving this place  stars because it ...</td>\n",
       "      <td>0</td>\n",
       "    </tr>\n",
       "    <tr>\n",
       "      <th>49996</th>\n",
       "      <td>me and my lunch companion visited sea salt tod...</td>\n",
       "      <td>1</td>\n",
       "    </tr>\n",
       "    <tr>\n",
       "      <th>49997</th>\n",
       "      <td>wings and wedges are delicious if you like swe...</td>\n",
       "      <td>1</td>\n",
       "    </tr>\n",
       "    <tr>\n",
       "      <th>49998</th>\n",
       "      <td>fantastic experience fun and lively ambiance w...</td>\n",
       "      <td>1</td>\n",
       "    </tr>\n",
       "    <tr>\n",
       "      <th>49999</th>\n",
       "      <td>this is the best place no questions about we'v...</td>\n",
       "      <td>1</td>\n",
       "    </tr>\n",
       "  </tbody>\n",
       "</table>\n",
       "<p>50000 rows × 2 columns</p>\n",
       "</div>"
      ],
      "text/plain": [
       "                                      removed_punct_text  Target\n",
       "0      great local spot with good drinks and food lov...       1\n",
       "1      we love the brunch it's definately worth waiti...       1\n",
       "2      a year ago i would have given this place five ...       0\n",
       "3      my husband and i went to madfish tonight for t...       0\n",
       "4      the food is good but the service is absolutely...       0\n",
       "...                                                  ...     ...\n",
       "49995  i am only giving this place  stars because it ...       0\n",
       "49996  me and my lunch companion visited sea salt tod...       1\n",
       "49997  wings and wedges are delicious if you like swe...       1\n",
       "49998  fantastic experience fun and lively ambiance w...       1\n",
       "49999  this is the best place no questions about we'v...       1\n",
       "\n",
       "[50000 rows x 2 columns]"
      ]
     },
     "execution_count": 178,
     "metadata": {},
     "output_type": "execute_result"
    }
   ],
   "source": [
    "Voting_sample"
   ]
  },
  {
   "cell_type": "code",
   "execution_count": 180,
   "id": "512d6b4b",
   "metadata": {},
   "outputs": [
    {
     "name": "stderr",
     "output_type": "stream",
     "text": [
      "[nltk_data] Downloading package stopwords to\n",
      "[nltk_data]     C:\\Users\\SOURABH_JAMDADE\\AppData\\Roaming\\nltk_data...\n",
      "[nltk_data]   Package stopwords is already up-to-date!\n"
     ]
    }
   ],
   "source": [
    "import re\n",
    "import nltk\n",
    "nltk.download('stopwords')\n",
    "from nltk.corpus import stopwords\n",
    "stops = stopwords.words('english')\n",
    "\n",
    "from nltk.stem.porter import PorterStemmer\n",
    "corpus_Voting_sample = []\n",
    "for i in range(0, Voting_sample.shape[0]):\n",
    "    review = Voting_sample['removed_punct_text'][i]\n",
    "    review = review.lower()\n",
    "    review = review.strip().split()\n",
    "    ps = PorterStemmer()\n",
    "    review = [ps.stem(word) for word in review if not word in set(stops)]\n",
    "    review = ' '.join(review)\n",
    "    corpus_Voting_sample.append(review)"
   ]
  },
  {
   "cell_type": "code",
   "execution_count": 183,
   "id": "3b8b9f53",
   "metadata": {},
   "outputs": [],
   "source": [
    "from sklearn.feature_extraction.text import TfidfVectorizer\n",
    "cv = TfidfVectorizer(max_features = 3000)\n",
    "X_test_vote = cv.fit_transform(corpus_Voting_sample).toarray()\n",
    "#X = pd.DataFrame(X,columns=cv.get_feature_names_out())\n",
    "y_test_vote= df_test.iloc[:, 1]"
   ]
  },
  {
   "cell_type": "code",
   "execution_count": 100,
   "id": "0073e50d",
   "metadata": {},
   "outputs": [
    {
     "data": {
      "text/plain": [
       "156380    1\n",
       "148139    0\n",
       "30829     1\n",
       "42030     1\n",
       "128510    0\n",
       "         ..\n",
       "170468    1\n",
       "102693    1\n",
       "322413    0\n",
       "239294    1\n",
       "13639     1\n",
       "Name: Target, Length: 50000, dtype: int32"
      ]
     },
     "execution_count": 100,
     "metadata": {},
     "output_type": "execute_result"
    }
   ],
   "source": [
    "Ytest_voting=Voting_sample['Target']\n",
    "Ytest_voting"
   ]
  },
  {
   "cell_type": "code",
   "execution_count": 187,
   "id": "5c0112be",
   "metadata": {},
   "outputs": [],
   "source": [
    "def voting(x_test,mod1,mod2,mod3):\n",
    "    ypred_mod1=mod1.predict(x_test)\n",
    "    ypred_mod2=mod2.predict(x_test)\n",
    "    ypred_mod3=mod3.predict(x_test)\n",
    "    return pd.DataFrame([ypred_mod1, ypred_mod2, ypred_mod3]).T\n"
   ]
  },
  {
   "cell_type": "code",
   "execution_count": 197,
   "id": "dbed7990",
   "metadata": {},
   "outputs": [],
   "source": [
    "a=classifier.predict(X_test_vote)"
   ]
  },
  {
   "cell_type": "code",
   "execution_count": 198,
   "id": "8555762b",
   "metadata": {},
   "outputs": [
    {
     "data": {
      "text/plain": [
       "array([1, 1, 1, ..., 0, 0, 1])"
      ]
     },
     "execution_count": 198,
     "metadata": {},
     "output_type": "execute_result"
    }
   ],
   "source": [
    "a"
   ]
  },
  {
   "cell_type": "code",
   "execution_count": 205,
   "id": "97b41deb",
   "metadata": {},
   "outputs": [
    {
     "name": "stdout",
     "output_type": "stream",
     "text": [
      "0.52062\n"
     ]
    }
   ],
   "source": [
    "print(accuracy_score(Ytest_voting,a))"
   ]
  },
  {
   "cell_type": "code",
   "execution_count": 200,
   "id": "63c96efb",
   "metadata": {},
   "outputs": [],
   "source": [
    "b=XGB_model.predict(X_test_vote)"
   ]
  },
  {
   "cell_type": "code",
   "execution_count": 201,
   "id": "bbe8b0a7",
   "metadata": {},
   "outputs": [
    {
     "name": "stdout",
     "output_type": "stream",
     "text": [
      "0.90598\n"
     ]
    }
   ],
   "source": [
    "print(accuracy_score(b,temp_pred))"
   ]
  },
  {
   "cell_type": "code",
   "execution_count": 206,
   "id": "a4a4375c",
   "metadata": {},
   "outputs": [
    {
     "name": "stdout",
     "output_type": "stream",
     "text": [
      "0.42158\n"
     ]
    }
   ],
   "source": [
    "print(accuracy_score(Ytest_voting,b))"
   ]
  },
  {
   "cell_type": "code",
   "execution_count": 207,
   "id": "6dd461c7",
   "metadata": {},
   "outputs": [],
   "source": [
    "c=lgbm.predict(X_test_vote)"
   ]
  },
  {
   "cell_type": "code",
   "execution_count": 208,
   "id": "145440f2",
   "metadata": {},
   "outputs": [
    {
     "name": "stdout",
     "output_type": "stream",
     "text": [
      "0.96296\n"
     ]
    }
   ],
   "source": [
    "print(accuracy_score(c,temp_pred))"
   ]
  },
  {
   "cell_type": "code",
   "execution_count": 209,
   "id": "68262b22",
   "metadata": {},
   "outputs": [
    {
     "name": "stdout",
     "output_type": "stream",
     "text": [
      "0.42158\n"
     ]
    }
   ],
   "source": [
    "print(accuracy_score(Ytest_voting,c))"
   ]
  },
  {
   "cell_type": "code",
   "execution_count": 190,
   "id": "5189f6c6",
   "metadata": {},
   "outputs": [],
   "source": [
    "temp=voting(X_test_vote,classifier,XGB_model,lgbm)"
   ]
  },
  {
   "cell_type": "code",
   "execution_count": 191,
   "id": "4f92d8f3",
   "metadata": {},
   "outputs": [],
   "source": [
    "temp.columns=['R_forest','XGBoost','lightGBM']"
   ]
  },
  {
   "cell_type": "code",
   "execution_count": 192,
   "id": "e7e653ba",
   "metadata": {},
   "outputs": [
    {
     "data": {
      "text/html": [
       "<div>\n",
       "<style scoped>\n",
       "    .dataframe tbody tr th:only-of-type {\n",
       "        vertical-align: middle;\n",
       "    }\n",
       "\n",
       "    .dataframe tbody tr th {\n",
       "        vertical-align: top;\n",
       "    }\n",
       "\n",
       "    .dataframe thead th {\n",
       "        text-align: right;\n",
       "    }\n",
       "</style>\n",
       "<table border=\"1\" class=\"dataframe\">\n",
       "  <thead>\n",
       "    <tr style=\"text-align: right;\">\n",
       "      <th></th>\n",
       "      <th>R_forest</th>\n",
       "      <th>XGBoost</th>\n",
       "      <th>lightGBM</th>\n",
       "    </tr>\n",
       "  </thead>\n",
       "  <tbody>\n",
       "    <tr>\n",
       "      <th>0</th>\n",
       "      <td>1</td>\n",
       "      <td>0</td>\n",
       "      <td>0</td>\n",
       "    </tr>\n",
       "    <tr>\n",
       "      <th>1</th>\n",
       "      <td>1</td>\n",
       "      <td>1</td>\n",
       "      <td>1</td>\n",
       "    </tr>\n",
       "    <tr>\n",
       "      <th>2</th>\n",
       "      <td>1</td>\n",
       "      <td>1</td>\n",
       "      <td>1</td>\n",
       "    </tr>\n",
       "    <tr>\n",
       "      <th>3</th>\n",
       "      <td>0</td>\n",
       "      <td>0</td>\n",
       "      <td>0</td>\n",
       "    </tr>\n",
       "    <tr>\n",
       "      <th>4</th>\n",
       "      <td>0</td>\n",
       "      <td>0</td>\n",
       "      <td>0</td>\n",
       "    </tr>\n",
       "    <tr>\n",
       "      <th>...</th>\n",
       "      <td>...</td>\n",
       "      <td>...</td>\n",
       "      <td>...</td>\n",
       "    </tr>\n",
       "    <tr>\n",
       "      <th>49995</th>\n",
       "      <td>0</td>\n",
       "      <td>0</td>\n",
       "      <td>0</td>\n",
       "    </tr>\n",
       "    <tr>\n",
       "      <th>49996</th>\n",
       "      <td>0</td>\n",
       "      <td>0</td>\n",
       "      <td>0</td>\n",
       "    </tr>\n",
       "    <tr>\n",
       "      <th>49997</th>\n",
       "      <td>0</td>\n",
       "      <td>0</td>\n",
       "      <td>0</td>\n",
       "    </tr>\n",
       "    <tr>\n",
       "      <th>49998</th>\n",
       "      <td>0</td>\n",
       "      <td>0</td>\n",
       "      <td>0</td>\n",
       "    </tr>\n",
       "    <tr>\n",
       "      <th>49999</th>\n",
       "      <td>1</td>\n",
       "      <td>1</td>\n",
       "      <td>1</td>\n",
       "    </tr>\n",
       "  </tbody>\n",
       "</table>\n",
       "<p>50000 rows × 3 columns</p>\n",
       "</div>"
      ],
      "text/plain": [
       "       R_forest  XGBoost  lightGBM\n",
       "0             1        0         0\n",
       "1             1        1         1\n",
       "2             1        1         1\n",
       "3             0        0         0\n",
       "4             0        0         0\n",
       "...         ...      ...       ...\n",
       "49995         0        0         0\n",
       "49996         0        0         0\n",
       "49997         0        0         0\n",
       "49998         0        0         0\n",
       "49999         1        1         1\n",
       "\n",
       "[50000 rows x 3 columns]"
      ]
     },
     "execution_count": 192,
     "metadata": {},
     "output_type": "execute_result"
    }
   ],
   "source": [
    "temp"
   ]
  },
  {
   "cell_type": "code",
   "execution_count": 193,
   "id": "adcdacd3",
   "metadata": {},
   "outputs": [],
   "source": [
    "temp['Final']=temp.sum(axis=1)"
   ]
  },
  {
   "cell_type": "code",
   "execution_count": 194,
   "id": "1070c815",
   "metadata": {},
   "outputs": [
    {
     "data": {
      "text/html": [
       "<div>\n",
       "<style scoped>\n",
       "    .dataframe tbody tr th:only-of-type {\n",
       "        vertical-align: middle;\n",
       "    }\n",
       "\n",
       "    .dataframe tbody tr th {\n",
       "        vertical-align: top;\n",
       "    }\n",
       "\n",
       "    .dataframe thead th {\n",
       "        text-align: right;\n",
       "    }\n",
       "</style>\n",
       "<table border=\"1\" class=\"dataframe\">\n",
       "  <thead>\n",
       "    <tr style=\"text-align: right;\">\n",
       "      <th></th>\n",
       "      <th>R_forest</th>\n",
       "      <th>XGBoost</th>\n",
       "      <th>lightGBM</th>\n",
       "      <th>Final</th>\n",
       "      <th>pred</th>\n",
       "    </tr>\n",
       "  </thead>\n",
       "  <tbody>\n",
       "    <tr>\n",
       "      <th>0</th>\n",
       "      <td>1</td>\n",
       "      <td>0</td>\n",
       "      <td>0</td>\n",
       "      <td>1</td>\n",
       "      <td>0</td>\n",
       "    </tr>\n",
       "    <tr>\n",
       "      <th>1</th>\n",
       "      <td>1</td>\n",
       "      <td>1</td>\n",
       "      <td>1</td>\n",
       "      <td>3</td>\n",
       "      <td>1</td>\n",
       "    </tr>\n",
       "    <tr>\n",
       "      <th>2</th>\n",
       "      <td>1</td>\n",
       "      <td>1</td>\n",
       "      <td>1</td>\n",
       "      <td>3</td>\n",
       "      <td>1</td>\n",
       "    </tr>\n",
       "    <tr>\n",
       "      <th>3</th>\n",
       "      <td>0</td>\n",
       "      <td>0</td>\n",
       "      <td>0</td>\n",
       "      <td>0</td>\n",
       "      <td>0</td>\n",
       "    </tr>\n",
       "    <tr>\n",
       "      <th>4</th>\n",
       "      <td>0</td>\n",
       "      <td>0</td>\n",
       "      <td>0</td>\n",
       "      <td>0</td>\n",
       "      <td>0</td>\n",
       "    </tr>\n",
       "    <tr>\n",
       "      <th>...</th>\n",
       "      <td>...</td>\n",
       "      <td>...</td>\n",
       "      <td>...</td>\n",
       "      <td>...</td>\n",
       "      <td>...</td>\n",
       "    </tr>\n",
       "    <tr>\n",
       "      <th>49995</th>\n",
       "      <td>0</td>\n",
       "      <td>0</td>\n",
       "      <td>0</td>\n",
       "      <td>0</td>\n",
       "      <td>0</td>\n",
       "    </tr>\n",
       "    <tr>\n",
       "      <th>49996</th>\n",
       "      <td>0</td>\n",
       "      <td>0</td>\n",
       "      <td>0</td>\n",
       "      <td>0</td>\n",
       "      <td>0</td>\n",
       "    </tr>\n",
       "    <tr>\n",
       "      <th>49997</th>\n",
       "      <td>0</td>\n",
       "      <td>0</td>\n",
       "      <td>0</td>\n",
       "      <td>0</td>\n",
       "      <td>0</td>\n",
       "    </tr>\n",
       "    <tr>\n",
       "      <th>49998</th>\n",
       "      <td>0</td>\n",
       "      <td>0</td>\n",
       "      <td>0</td>\n",
       "      <td>0</td>\n",
       "      <td>0</td>\n",
       "    </tr>\n",
       "    <tr>\n",
       "      <th>49999</th>\n",
       "      <td>1</td>\n",
       "      <td>1</td>\n",
       "      <td>1</td>\n",
       "      <td>3</td>\n",
       "      <td>1</td>\n",
       "    </tr>\n",
       "  </tbody>\n",
       "</table>\n",
       "<p>50000 rows × 5 columns</p>\n",
       "</div>"
      ],
      "text/plain": [
       "       R_forest  XGBoost  lightGBM  Final  pred\n",
       "0             1        0         0      1     0\n",
       "1             1        1         1      3     1\n",
       "2             1        1         1      3     1\n",
       "3             0        0         0      0     0\n",
       "4             0        0         0      0     0\n",
       "...         ...      ...       ...    ...   ...\n",
       "49995         0        0         0      0     0\n",
       "49996         0        0         0      0     0\n",
       "49997         0        0         0      0     0\n",
       "49998         0        0         0      0     0\n",
       "49999         1        1         1      3     1\n",
       "\n",
       "[50000 rows x 5 columns]"
      ]
     },
     "execution_count": 194,
     "metadata": {},
     "output_type": "execute_result"
    }
   ],
   "source": [
    "temp['pred']=np.where(temp['Final']<2,0,1)\n",
    "temp"
   ]
  },
  {
   "cell_type": "code",
   "execution_count": 195,
   "id": "eda3cc13",
   "metadata": {},
   "outputs": [],
   "source": [
    "temp_pred=temp['pred']"
   ]
  },
  {
   "cell_type": "code",
   "execution_count": 196,
   "id": "7e4549c6",
   "metadata": {},
   "outputs": [
    {
     "name": "stdout",
     "output_type": "stream",
     "text": [
      "0.42598\n"
     ]
    }
   ],
   "source": [
    "## Accuracy score\n",
    "print(accuracy_score(Ytest_voting,temp_pred))"
   ]
  },
  {
   "cell_type": "code",
   "execution_count": null,
   "id": "bb842668",
   "metadata": {},
   "outputs": [],
   "source": []
  },
  {
   "cell_type": "code",
   "execution_count": null,
   "id": "af8f099c",
   "metadata": {},
   "outputs": [],
   "source": []
  },
  {
   "cell_type": "code",
   "execution_count": null,
   "id": "e790c42c",
   "metadata": {},
   "outputs": [],
   "source": []
  },
  {
   "cell_type": "code",
   "execution_count": 185,
   "id": "79666edd",
   "metadata": {},
   "outputs": [
    {
     "data": {
      "text/plain": [
       "array([1, 1, 1, ..., 0, 0, 1])"
      ]
     },
     "execution_count": 185,
     "metadata": {},
     "output_type": "execute_result"
    }
   ],
   "source": [
    "ypred_1"
   ]
  },
  {
   "cell_type": "code",
   "execution_count": 89,
   "id": "6ca575b3",
   "metadata": {},
   "outputs": [],
   "source": [
    "import numpy as np\n",
    "y_lgbm = np.random.randint(0,2,25)\n",
    "y_xg = np.random.randint(0,2,25)\n",
    "y_rf = np.random.randint(0,2,25)"
   ]
  },
  {
   "cell_type": "code",
   "execution_count": 90,
   "id": "b708a962",
   "metadata": {},
   "outputs": [],
   "source": [
    "temp = pd.DataFrame([y_lgbm,y_xg,y_rf]).T"
   ]
  },
  {
   "cell_type": "code",
   "execution_count": 104,
   "id": "684c0295",
   "metadata": {},
   "outputs": [],
   "source": [
    "temp.columns=['LGBM','XG','RF']"
   ]
  },
  {
   "cell_type": "code",
   "execution_count": 115,
   "id": "7ba6b479",
   "metadata": {},
   "outputs": [],
   "source": [
    "temp['Final']=temp.sum(axis=1)"
   ]
  },
  {
   "cell_type": "code",
   "execution_count": 117,
   "id": "c0684358",
   "metadata": {},
   "outputs": [
    {
     "data": {
      "text/html": [
       "<div>\n",
       "<style scoped>\n",
       "    .dataframe tbody tr th:only-of-type {\n",
       "        vertical-align: middle;\n",
       "    }\n",
       "\n",
       "    .dataframe tbody tr th {\n",
       "        vertical-align: top;\n",
       "    }\n",
       "\n",
       "    .dataframe thead th {\n",
       "        text-align: right;\n",
       "    }\n",
       "</style>\n",
       "<table border=\"1\" class=\"dataframe\">\n",
       "  <thead>\n",
       "    <tr style=\"text-align: right;\">\n",
       "      <th></th>\n",
       "      <th>LGBM</th>\n",
       "      <th>XG</th>\n",
       "      <th>RF</th>\n",
       "      <th>Final</th>\n",
       "      <th>pred</th>\n",
       "    </tr>\n",
       "  </thead>\n",
       "  <tbody>\n",
       "    <tr>\n",
       "      <th>0</th>\n",
       "      <td>1</td>\n",
       "      <td>0</td>\n",
       "      <td>0</td>\n",
       "      <td>1.0</td>\n",
       "      <td>0</td>\n",
       "    </tr>\n",
       "    <tr>\n",
       "      <th>1</th>\n",
       "      <td>1</td>\n",
       "      <td>1</td>\n",
       "      <td>0</td>\n",
       "      <td>2.0</td>\n",
       "      <td>1</td>\n",
       "    </tr>\n",
       "    <tr>\n",
       "      <th>2</th>\n",
       "      <td>0</td>\n",
       "      <td>1</td>\n",
       "      <td>0</td>\n",
       "      <td>1.0</td>\n",
       "      <td>0</td>\n",
       "    </tr>\n",
       "    <tr>\n",
       "      <th>3</th>\n",
       "      <td>1</td>\n",
       "      <td>0</td>\n",
       "      <td>1</td>\n",
       "      <td>2.0</td>\n",
       "      <td>1</td>\n",
       "    </tr>\n",
       "    <tr>\n",
       "      <th>4</th>\n",
       "      <td>0</td>\n",
       "      <td>0</td>\n",
       "      <td>1</td>\n",
       "      <td>1.0</td>\n",
       "      <td>0</td>\n",
       "    </tr>\n",
       "    <tr>\n",
       "      <th>5</th>\n",
       "      <td>1</td>\n",
       "      <td>0</td>\n",
       "      <td>0</td>\n",
       "      <td>1.0</td>\n",
       "      <td>0</td>\n",
       "    </tr>\n",
       "    <tr>\n",
       "      <th>6</th>\n",
       "      <td>1</td>\n",
       "      <td>1</td>\n",
       "      <td>0</td>\n",
       "      <td>2.0</td>\n",
       "      <td>1</td>\n",
       "    </tr>\n",
       "    <tr>\n",
       "      <th>7</th>\n",
       "      <td>1</td>\n",
       "      <td>0</td>\n",
       "      <td>1</td>\n",
       "      <td>2.0</td>\n",
       "      <td>1</td>\n",
       "    </tr>\n",
       "    <tr>\n",
       "      <th>8</th>\n",
       "      <td>1</td>\n",
       "      <td>0</td>\n",
       "      <td>1</td>\n",
       "      <td>2.0</td>\n",
       "      <td>1</td>\n",
       "    </tr>\n",
       "    <tr>\n",
       "      <th>9</th>\n",
       "      <td>1</td>\n",
       "      <td>0</td>\n",
       "      <td>0</td>\n",
       "      <td>1.0</td>\n",
       "      <td>0</td>\n",
       "    </tr>\n",
       "    <tr>\n",
       "      <th>10</th>\n",
       "      <td>1</td>\n",
       "      <td>1</td>\n",
       "      <td>0</td>\n",
       "      <td>2.0</td>\n",
       "      <td>1</td>\n",
       "    </tr>\n",
       "    <tr>\n",
       "      <th>11</th>\n",
       "      <td>1</td>\n",
       "      <td>1</td>\n",
       "      <td>1</td>\n",
       "      <td>3.0</td>\n",
       "      <td>1</td>\n",
       "    </tr>\n",
       "    <tr>\n",
       "      <th>12</th>\n",
       "      <td>1</td>\n",
       "      <td>1</td>\n",
       "      <td>0</td>\n",
       "      <td>2.0</td>\n",
       "      <td>1</td>\n",
       "    </tr>\n",
       "    <tr>\n",
       "      <th>13</th>\n",
       "      <td>1</td>\n",
       "      <td>1</td>\n",
       "      <td>0</td>\n",
       "      <td>2.0</td>\n",
       "      <td>1</td>\n",
       "    </tr>\n",
       "    <tr>\n",
       "      <th>14</th>\n",
       "      <td>1</td>\n",
       "      <td>0</td>\n",
       "      <td>1</td>\n",
       "      <td>2.0</td>\n",
       "      <td>1</td>\n",
       "    </tr>\n",
       "    <tr>\n",
       "      <th>15</th>\n",
       "      <td>1</td>\n",
       "      <td>1</td>\n",
       "      <td>0</td>\n",
       "      <td>2.0</td>\n",
       "      <td>1</td>\n",
       "    </tr>\n",
       "    <tr>\n",
       "      <th>16</th>\n",
       "      <td>0</td>\n",
       "      <td>0</td>\n",
       "      <td>0</td>\n",
       "      <td>0.0</td>\n",
       "      <td>0</td>\n",
       "    </tr>\n",
       "    <tr>\n",
       "      <th>17</th>\n",
       "      <td>0</td>\n",
       "      <td>0</td>\n",
       "      <td>1</td>\n",
       "      <td>1.0</td>\n",
       "      <td>0</td>\n",
       "    </tr>\n",
       "    <tr>\n",
       "      <th>18</th>\n",
       "      <td>0</td>\n",
       "      <td>0</td>\n",
       "      <td>0</td>\n",
       "      <td>0.0</td>\n",
       "      <td>0</td>\n",
       "    </tr>\n",
       "    <tr>\n",
       "      <th>19</th>\n",
       "      <td>1</td>\n",
       "      <td>0</td>\n",
       "      <td>0</td>\n",
       "      <td>1.0</td>\n",
       "      <td>0</td>\n",
       "    </tr>\n",
       "    <tr>\n",
       "      <th>20</th>\n",
       "      <td>1</td>\n",
       "      <td>1</td>\n",
       "      <td>1</td>\n",
       "      <td>3.0</td>\n",
       "      <td>1</td>\n",
       "    </tr>\n",
       "    <tr>\n",
       "      <th>21</th>\n",
       "      <td>1</td>\n",
       "      <td>1</td>\n",
       "      <td>1</td>\n",
       "      <td>3.0</td>\n",
       "      <td>1</td>\n",
       "    </tr>\n",
       "    <tr>\n",
       "      <th>22</th>\n",
       "      <td>0</td>\n",
       "      <td>0</td>\n",
       "      <td>0</td>\n",
       "      <td>0.0</td>\n",
       "      <td>0</td>\n",
       "    </tr>\n",
       "    <tr>\n",
       "      <th>23</th>\n",
       "      <td>0</td>\n",
       "      <td>0</td>\n",
       "      <td>0</td>\n",
       "      <td>0.0</td>\n",
       "      <td>0</td>\n",
       "    </tr>\n",
       "    <tr>\n",
       "      <th>24</th>\n",
       "      <td>0</td>\n",
       "      <td>0</td>\n",
       "      <td>0</td>\n",
       "      <td>0.0</td>\n",
       "      <td>0</td>\n",
       "    </tr>\n",
       "  </tbody>\n",
       "</table>\n",
       "</div>"
      ],
      "text/plain": [
       "    LGBM  XG  RF  Final  pred\n",
       "0      1   0   0    1.0     0\n",
       "1      1   1   0    2.0     1\n",
       "2      0   1   0    1.0     0\n",
       "3      1   0   1    2.0     1\n",
       "4      0   0   1    1.0     0\n",
       "5      1   0   0    1.0     0\n",
       "6      1   1   0    2.0     1\n",
       "7      1   0   1    2.0     1\n",
       "8      1   0   1    2.0     1\n",
       "9      1   0   0    1.0     0\n",
       "10     1   1   0    2.0     1\n",
       "11     1   1   1    3.0     1\n",
       "12     1   1   0    2.0     1\n",
       "13     1   1   0    2.0     1\n",
       "14     1   0   1    2.0     1\n",
       "15     1   1   0    2.0     1\n",
       "16     0   0   0    0.0     0\n",
       "17     0   0   1    1.0     0\n",
       "18     0   0   0    0.0     0\n",
       "19     1   0   0    1.0     0\n",
       "20     1   1   1    3.0     1\n",
       "21     1   1   1    3.0     1\n",
       "22     0   0   0    0.0     0\n",
       "23     0   0   0    0.0     0\n",
       "24     0   0   0    0.0     0"
      ]
     },
     "execution_count": 117,
     "metadata": {},
     "output_type": "execute_result"
    }
   ],
   "source": [
    "temp['pred']=np.where(temp['Final']<2,0,1)\n",
    "temp"
   ]
  },
  {
   "cell_type": "code",
   "execution_count": null,
   "id": "1260e4cc",
   "metadata": {},
   "outputs": [],
   "source": []
  },
  {
   "cell_type": "code",
   "execution_count": null,
   "id": "ad1aca7c",
   "metadata": {},
   "outputs": [],
   "source": []
  }
 ],
 "metadata": {
  "kernelspec": {
   "display_name": "Python 3 (ipykernel)",
   "language": "python",
   "name": "python3"
  },
  "language_info": {
   "codemirror_mode": {
    "name": "ipython",
    "version": 3
   },
   "file_extension": ".py",
   "mimetype": "text/x-python",
   "name": "python",
   "nbconvert_exporter": "python",
   "pygments_lexer": "ipython3",
   "version": "3.9.13"
  }
 },
 "nbformat": 4,
 "nbformat_minor": 5
}
